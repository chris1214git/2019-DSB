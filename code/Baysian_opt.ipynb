{
 "cells": [
  {
   "cell_type": "code",
   "execution_count": 1,
   "metadata": {},
   "outputs": [],
   "source": [
    "import pandas as pd\n",
    "import os\n",
    "import numpy as np\n",
    "from bayes_opt import BayesianOptimization\n",
    "from sklearn.model_selection import train_test_split\n",
    "from catboost import CatBoostRegressor, Pool\n",
    "import lightgbm as lgb\n",
    "import xgboost as xgb\n",
    "\n",
    "import gc\n",
    "from numba import jit\n",
    "\n",
    "random_seed = 33\n",
    "\n",
    "train_file = 'train_0102_filter.csv'    \n",
    "write_path = './BayesOpt_result/'\n",
    "\n",
    "# model_type = 'catboost'\n",
    "model_type = 'lgb'\n",
    "# model_type = 'xgb'\n",
    "\n",
    "if model_type == 'catboost':\n",
    "    record_file = 'catboost_result.txt'\n",
    "elif model_type == 'lgb':\n",
    "    record_file = 'lgb_result.txt'\n",
    "elif model_type == 'xgb':\n",
    "    record_file = 'xgb_result.txt'\n",
    "else:\n",
    "    pass\n",
    "\n",
    "iteration = 150\n",
    "init_it = 50\n",
    "category_list = []\n"
   ]
  },
  {
   "cell_type": "code",
   "execution_count": 2,
   "metadata": {},
   "outputs": [],
   "source": [
    "@jit\n",
    "def qwk(a1, a2):\n",
    "    \"\"\"\n",
    "    Source: https://www.kaggle.com/c/data-science-bowl-2019/discussion/114133#latest-660168\n",
    "\n",
    "    :param a1:\n",
    "    :param a2:\n",
    "    :param max_rat:\n",
    "    :return:\n",
    "    \"\"\"\n",
    "    max_rat = 3\n",
    "    a1 = np.asarray(a1, dtype=int)\n",
    "    a2 = np.asarray(a2, dtype=int)\n",
    "\n",
    "    hist1 = np.zeros((max_rat + 1, ))\n",
    "    hist2 = np.zeros((max_rat + 1, ))\n",
    "\n",
    "    o = 0\n",
    "    for k in range(a1.shape[0]):\n",
    "        i, j = a1[k], a2[k]\n",
    "        hist1[i] += 1\n",
    "        hist2[j] += 1\n",
    "        o +=  (i - j) * (i - j)\n",
    "\n",
    "    e = 0\n",
    "    for i in range(max_rat + 1):\n",
    "        for j in range(max_rat + 1):\n",
    "            e += hist1[i] * hist2[j] * (i - j) * (i - j)\n",
    "\n",
    "    e = e / a1.shape[0]\n",
    "\n",
    "    return 1 - o / e\n",
    "\n",
    "def eval_qwk_lgb_regr(y_true, y_pred):\n",
    "    \"\"\"\n",
    "    Fast cappa eval function for lgb.\n",
    "    \"\"\"\n",
    "    y_pred[y_pred <= 1.12232214] = 0\n",
    "    y_pred[np.where(np.logical_and(y_pred > 1.12232214, y_pred <= 1.73925866))] = 1\n",
    "    y_pred[np.where(np.logical_and(y_pred > 1.73925866, y_pred <= 2.22506454))] = 2\n",
    "    y_pred[y_pred > 2.22506454] = 3\n",
    "\n",
    "    # y_pred = y_pred.reshape(len(np.unique(y_true)), -1).argmax(axis=0)\n",
    "\n",
    "    return 'cappa', qwk(y_true, y_pred), True\n"
   ]
  },
  {
   "cell_type": "code",
   "execution_count": 3,
   "metadata": {},
   "outputs": [
    {
     "name": "stdout",
     "output_type": "stream",
     "text": [
      "Series([], dtype: object)\n",
      "150\n",
      "|   iter    |  target   | featur... | lambda_l1 | lambda_l2 | max_depth | num_le... | subsample | subsam... |\n",
      "-------------------------------------------------------------------------------------------------------------\n"
     ]
    },
    {
     "name": "stderr",
     "output_type": "stream",
     "text": [
      "/home/jupyter-shliu/.local/lib/python3.6/site-packages/lightgbm/engine.py:153: UserWarning: Found `early_stopping_rounds` in params. Will use it instead of argument\n",
      "  warnings.warn(\"Found `{}` in params. Will use it instead of argument\".format(alias))\n",
      "/home/jupyter-shliu/.local/lib/python3.6/site-packages/lightgbm/basic.py:1236: FutureWarning: elementwise comparison failed; returning scalar instead, but in the future will perform elementwise comparison\n",
      "  if self.categorical_feature == categorical_feature:\n",
      "/home/jupyter-shliu/.local/lib/python3.6/site-packages/lightgbm/basic.py:1242: FutureWarning: elementwise comparison failed; returning scalar instead, but in the future will perform elementwise comparison\n",
      "  elif categorical_feature == 'auto':\n",
      "/home/jupyter-shliu/.local/lib/python3.6/site-packages/lightgbm/basic.py:1247: UserWarning: categorical_feature in Dataset is overridden.\n",
      "New categorical_feature is []\n",
      "  'New categorical_feature is {}'.format(sorted(list(categorical_feature))))\n",
      "/home/jupyter-shliu/.local/lib/python3.6/site-packages/lightgbm/basic.py:285: FutureWarning: elementwise comparison failed; returning scalar instead, but in the future will perform elementwise comparison\n",
      "  if categorical_feature == 'auto':  # use cat cols from DataFrame\n",
      "<ipython-input-2-8292d78451f9>:1: NumbaWarning: \n",
      "Compilation is falling back to object mode WITH looplifting enabled because Function \"qwk\" failed type inference due to: Invalid use of Function(<function asarray at 0x7f335c2512f0>) with argument(s) of type(s): (array(float32, 1d, C), dtype=Function(<class 'int'>))\n",
      " * parameterized\n",
      "In definition 0:\n",
      "    AttributeError: 'Function' object has no attribute 'dtype'\n",
      "    raised from /home/jupyter-shliu/.local/lib/python3.6/site-packages/numba/targets/arraymath.py:3845\n",
      "In definition 1:\n",
      "    AttributeError: 'Function' object has no attribute 'dtype'\n",
      "    raised from /home/jupyter-shliu/.local/lib/python3.6/site-packages/numba/targets/arraymath.py:3845\n",
      "This error is usually caused by passing an argument of a type that is unsupported by the named function.\n",
      "[1] During: resolving callee type: Function(<function asarray at 0x7f335c2512f0>)\n",
      "[2] During: typing of call at <ipython-input-2-8292d78451f9> (12)\n",
      "\n",
      "\n",
      "File \"<ipython-input-2-8292d78451f9>\", line 12:\n",
      "def qwk(a1, a2):\n",
      "    <source elided>\n",
      "    max_rat = 3\n",
      "    a1 = np.asarray(a1, dtype=int)\n",
      "    ^\n",
      "\n",
      "  @jit\n",
      "<ipython-input-2-8292d78451f9>:1: NumbaWarning: \n",
      "Compilation is falling back to object mode WITHOUT looplifting enabled because Function \"qwk\" failed type inference due to: cannot determine Numba type of <class 'numba.dispatcher.LiftedLoop'>\n",
      "\n",
      "File \"<ipython-input-2-8292d78451f9>\", line 19:\n",
      "def qwk(a1, a2):\n",
      "    <source elided>\n",
      "    o = 0\n",
      "    for k in range(a1.shape[0]):\n",
      "    ^\n",
      "\n",
      "  @jit\n",
      "/home/jupyter-shliu/.local/lib/python3.6/site-packages/numba/object_mode_passes.py:178: NumbaWarning: Function \"qwk\" was compiled in object mode without forceobj=True, but has lifted loops.\n",
      "\n",
      "File \"<ipython-input-2-8292d78451f9>\", line 2:\n",
      "@jit\n",
      "def qwk(a1, a2):\n",
      "^\n",
      "\n",
      "  state.func_ir.loc))\n",
      "/home/jupyter-shliu/.local/lib/python3.6/site-packages/numba/object_mode_passes.py:187: NumbaDeprecationWarning: \n",
      "Fall-back from the nopython compilation path to the object mode compilation path has been detected, this is deprecated behaviour.\n",
      "\n",
      "For more information visit http://numba.pydata.org/numba-doc/latest/reference/deprecation.html#deprecation-of-object-mode-fall-back-behaviour-when-using-jit\n",
      "\n",
      "File \"<ipython-input-2-8292d78451f9>\", line 2:\n",
      "@jit\n",
      "def qwk(a1, a2):\n",
      "^\n",
      "\n",
      "  warnings.warn(errors.NumbaDeprecationWarning(msg, state.func_ir.loc))\n"
     ]
    },
    {
     "name": "stdout",
     "output_type": "stream",
     "text": [
      "Training until validation scores don't improve for 100 rounds\n",
      "[100]\ttraining's rmse: 1.00672\ttraining's cappa: 0.576136\tvalid_1's rmse: 1.03153\tvalid_1's cappa: 0.546042\n",
      "[200]\ttraining's rmse: 0.970168\ttraining's cappa: 0.609252\tvalid_1's rmse: 1.00979\tvalid_1's cappa: 0.576004\n",
      "[300]\ttraining's rmse: 0.953562\ttraining's cappa: 0.626079\tvalid_1's rmse: 1.00532\tvalid_1's cappa: 0.571575\n",
      "Early stopping, best iteration is:\n",
      "[200]\ttraining's rmse: 0.970168\ttraining's cappa: 0.609252\tvalid_1's rmse: 1.00979\tvalid_1's cappa: 0.576004\n",
      "parameter 7 31 0.39875586863841606 0.20261045664943975 2 30.383146004164576 31.10485162007598\n",
      "score 1.0097852578460367\n",
      "| \u001b[0m 1       \u001b[0m | \u001b[0m-1.01    \u001b[0m | \u001b[0m 0.3988  \u001b[0m | \u001b[0m 30.38   \u001b[0m | \u001b[0m 31.1    \u001b[0m | \u001b[0m 7.757   \u001b[0m | \u001b[0m 31.46   \u001b[0m | \u001b[0m 0.2026  \u001b[0m | \u001b[0m 2.789   \u001b[0m |\n"
     ]
    },
    {
     "name": "stderr",
     "output_type": "stream",
     "text": [
      "/home/jupyter-shliu/.local/lib/python3.6/site-packages/lightgbm/engine.py:153: UserWarning: Found `early_stopping_rounds` in params. Will use it instead of argument\n",
      "  warnings.warn(\"Found `{}` in params. Will use it instead of argument\".format(alias))\n",
      "/home/jupyter-shliu/.local/lib/python3.6/site-packages/lightgbm/basic.py:1236: FutureWarning: elementwise comparison failed; returning scalar instead, but in the future will perform elementwise comparison\n",
      "  if self.categorical_feature == categorical_feature:\n",
      "/home/jupyter-shliu/.local/lib/python3.6/site-packages/lightgbm/basic.py:1242: FutureWarning: elementwise comparison failed; returning scalar instead, but in the future will perform elementwise comparison\n",
      "  elif categorical_feature == 'auto':\n",
      "/home/jupyter-shliu/.local/lib/python3.6/site-packages/lightgbm/basic.py:1247: UserWarning: categorical_feature in Dataset is overridden.\n",
      "New categorical_feature is []\n",
      "  'New categorical_feature is {}'.format(sorted(list(categorical_feature))))\n"
     ]
    },
    {
     "name": "stdout",
     "output_type": "stream",
     "text": [
      "Training until validation scores don't improve for 100 rounds\n",
      "[100]\ttraining's rmse: 0.87892\ttraining's cappa: 0.702592\tvalid_1's rmse: 0.995021\tvalid_1's cappa: 0.579922\n",
      "[200]\ttraining's rmse: 0.795531\ttraining's cappa: 0.768347\tvalid_1's rmse: 0.991196\tvalid_1's cappa: 0.574621\n",
      "Early stopping, best iteration is:\n",
      "[106]\ttraining's rmse: 0.872242\ttraining's cappa: 0.706366\tvalid_1's rmse: 0.994548\tvalid_1's cappa: 0.583846\n",
      "parameter 12 62 0.5427973204105535 0.5480450734352034 2 6.689119978504311 20.936995584523917\n",
      "score 0.9945479655539644\n",
      "| \u001b[95m 2       \u001b[0m | \u001b[95m-0.9945  \u001b[0m | \u001b[95m 0.5428  \u001b[0m | \u001b[95m 6.689   \u001b[0m | \u001b[95m 20.94   \u001b[0m | \u001b[95m 12.25   \u001b[0m | \u001b[95m 62.34   \u001b[0m | \u001b[95m 0.548   \u001b[0m | \u001b[95m 2.436   \u001b[0m |\n",
      "Training until validation scores don't improve for 100 rounds\n",
      "[100]\ttraining's rmse: 0.97243\ttraining's cappa: 0.609855\tvalid_1's rmse: 1.01062\tvalid_1's cappa: 0.565982\n",
      "[200]\ttraining's rmse: 0.934723\ttraining's cappa: 0.646126\tvalid_1's rmse: 1.00147\tvalid_1's cappa: 0.57125\n",
      "[300]\ttraining's rmse: 0.912785\ttraining's cappa: 0.667863\tvalid_1's rmse: 0.99869\tvalid_1's cappa: 0.575857\n",
      "[400]\ttraining's rmse: 0.895045\ttraining's cappa: 0.684311\tvalid_1's rmse: 0.997946\tvalid_1's cappa: 0.579016\n",
      "Early stopping, best iteration is:\n",
      "[360]\ttraining's rmse: 0.901967\ttraining's cappa: 0.678221\tvalid_1's rmse: 0.997832\tvalid_1's cappa: 0.582892\n",
      "parameter 15 65 0.8114993318739725 0.350507262238079 1 38.518295357235736 20.433000707082346\n",
      "score 0.9978319765094403\n",
      "| \u001b[0m 3       \u001b[0m | \u001b[0m-0.9978  \u001b[0m | \u001b[0m 0.8115  \u001b[0m | \u001b[0m 38.52   \u001b[0m | \u001b[0m 20.43   \u001b[0m | \u001b[0m 15.14   \u001b[0m | \u001b[0m 65.98   \u001b[0m | \u001b[0m 0.3505  \u001b[0m | \u001b[0m 1.498   \u001b[0m |\n",
      "Training until validation scores don't improve for 100 rounds\n",
      "[100]\ttraining's rmse: 0.932182\ttraining's cappa: 0.648828\tvalid_1's rmse: 0.997814\tvalid_1's cappa: 0.571587\n",
      "[200]\ttraining's rmse: 0.878967\ttraining's cappa: 0.696715\tvalid_1's rmse: 0.990801\tvalid_1's cappa: 0.582809\n",
      "[300]\ttraining's rmse: 0.842836\ttraining's cappa: 0.725904\tvalid_1's rmse: 0.990107\tvalid_1's cappa: 0.581959\n",
      "Early stopping, best iteration is:\n",
      "[254]\ttraining's rmse: 0.858435\ttraining's cappa: 0.713068\tvalid_1's rmse: 0.990421\tvalid_1's cappa: 0.585652\n",
      "parameter 11 31 0.843934864300476 0.9724859886307653 1 21.970372882553466 42.03761272799577\n",
      "score 0.9904205309060603\n",
      "| \u001b[95m 4       \u001b[0m | \u001b[95m-0.9904  \u001b[0m | \u001b[95m 0.8439  \u001b[0m | \u001b[95m 21.97   \u001b[0m | \u001b[95m 42.04   \u001b[0m | \u001b[95m 11.87   \u001b[0m | \u001b[95m 31.18   \u001b[0m | \u001b[95m 0.9725  \u001b[0m | \u001b[95m 1.055   \u001b[0m |\n",
      "Training until validation scores don't improve for 100 rounds\n",
      "[100]\ttraining's rmse: 0.949615\ttraining's cappa: 0.631946\tvalid_1's rmse: 1.00006\tvalid_1's cappa: 0.574255\n",
      "[200]\ttraining's rmse: 0.907183\ttraining's cappa: 0.666715\tvalid_1's rmse: 0.991137\tvalid_1's cappa: 0.583031\n",
      "[300]\ttraining's rmse: 0.884764\ttraining's cappa: 0.68966\tvalid_1's rmse: 0.99007\tvalid_1's cappa: 0.582713\n",
      "[400]\ttraining's rmse: 0.867652\ttraining's cappa: 0.705824\tvalid_1's rmse: 0.989667\tvalid_1's cappa: 0.585061\n",
      "[500]\ttraining's rmse: 0.855156\ttraining's cappa: 0.715836\tvalid_1's rmse: 0.989466\tvalid_1's cappa: 0.586423\n",
      "Early stopping, best iteration is:\n",
      "[479]\ttraining's rmse: 0.857724\ttraining's cappa: 0.713196\tvalid_1's rmse: 0.989379\tvalid_1's cappa: 0.585434\n",
      "parameter 7 36 0.7934210078427129 0.8773088425741422 1 44.3517534513831 8.713147046350148\n",
      "score 0.989378607224694\n",
      "| \u001b[95m 5       \u001b[0m | \u001b[95m-0.9894  \u001b[0m | \u001b[95m 0.7934  \u001b[0m | \u001b[95m 44.35   \u001b[0m | \u001b[95m 8.713   \u001b[0m | \u001b[95m 7.323   \u001b[0m | \u001b[95m 36.87   \u001b[0m | \u001b[95m 0.8773  \u001b[0m | \u001b[95m 1.622   \u001b[0m |\n",
      "Training until validation scores don't improve for 100 rounds\n",
      "[100]\ttraining's rmse: 0.950618\ttraining's cappa: 0.638953\tvalid_1's rmse: 1.01124\tvalid_1's cappa: 0.561792\n",
      "[200]\ttraining's rmse: 0.904672\ttraining's cappa: 0.672678\tvalid_1's rmse: 0.997524\tvalid_1's cappa: 0.570953\n",
      "[300]\ttraining's rmse: 0.876441\ttraining's cappa: 0.697451\tvalid_1's rmse: 0.99488\tvalid_1's cappa: 0.577855\n",
      "[400]\ttraining's rmse: 0.85633\ttraining's cappa: 0.716931\tvalid_1's rmse: 0.9941\tvalid_1's cappa: 0.580015\n",
      "[500]\ttraining's rmse: 0.83905\ttraining's cappa: 0.731326\tvalid_1's rmse: 0.993914\tvalid_1's cappa: 0.58212\n",
      "[600]\ttraining's rmse: 0.824853\ttraining's cappa: 0.743481\tvalid_1's rmse: 0.993519\tvalid_1's cappa: 0.583028\n",
      "Early stopping, best iteration is:\n",
      "[525]\ttraining's rmse: 0.835467\ttraining's cappa: 0.734687\tvalid_1's rmse: 0.993704\tvalid_1's cappa: 0.58513\n",
      "parameter 15 63 0.3839534679862101 0.722576099670315 1 40.008804839780204 28.53559655268292\n",
      "score 0.9937043352530688\n",
      "| \u001b[0m 6       \u001b[0m | \u001b[0m-0.9937  \u001b[0m | \u001b[0m 0.384   \u001b[0m | \u001b[0m 40.01   \u001b[0m | \u001b[0m 28.54   \u001b[0m | \u001b[0m 15.66   \u001b[0m | \u001b[0m 63.51   \u001b[0m | \u001b[0m 0.7226  \u001b[0m | \u001b[0m 1.168   \u001b[0m |\n",
      "Training until validation scores don't improve for 100 rounds\n",
      "[100]\ttraining's rmse: 0.988437\ttraining's cappa: 0.59356\tvalid_1's rmse: 1.01443\tvalid_1's cappa: 0.563913\n",
      "[200]\ttraining's rmse: 0.956946\ttraining's cappa: 0.622515\tvalid_1's rmse: 0.999158\tvalid_1's cappa: 0.575295\n",
      "[300]\ttraining's rmse: 0.941319\ttraining's cappa: 0.635714\tvalid_1's rmse: 0.995175\tvalid_1's cappa: 0.574378\n",
      "Early stopping, best iteration is:\n",
      "[249]\ttraining's rmse: 0.948415\ttraining's cappa: 0.629935\tvalid_1's rmse: 0.997185\tvalid_1's cappa: 0.579856\n",
      "parameter 5 63 0.5779466826905125 0.4599922437952055 1 44.1096479144122 17.226286332730307\n",
      "score 0.9971847610855826\n",
      "| \u001b[0m 7       \u001b[0m | \u001b[0m-0.9972  \u001b[0m | \u001b[0m 0.5779  \u001b[0m | \u001b[0m 44.11   \u001b[0m | \u001b[0m 17.23   \u001b[0m | \u001b[0m 5.582   \u001b[0m | \u001b[0m 63.13   \u001b[0m | \u001b[0m 0.46    \u001b[0m | \u001b[0m 1.846   \u001b[0m |\n",
      "Training until validation scores don't improve for 100 rounds\n",
      "[100]\ttraining's rmse: 0.963417\ttraining's cappa: 0.616268\tvalid_1's rmse: 1.00066\tvalid_1's cappa: 0.576399\n",
      "[200]\ttraining's rmse: 0.924626\ttraining's cappa: 0.652051\tvalid_1's rmse: 0.991897\tvalid_1's cappa: 0.579843\n",
      "[300]\ttraining's rmse: 0.900284\ttraining's cappa: 0.675118\tvalid_1's rmse: 0.989947\tvalid_1's cappa: 0.587838\n",
      "[400]\ttraining's rmse: 0.88047\ttraining's cappa: 0.693062\tvalid_1's rmse: 0.989543\tvalid_1's cappa: 0.587321\n",
      "Early stopping, best iteration is:\n",
      "[322]\ttraining's rmse: 0.895635\ttraining's cappa: 0.680527\tvalid_1's rmse: 0.989552\tvalid_1's cappa: 0.590545\n",
      "parameter 13 18 0.6629724135045254 0.8912404878781037 1 28.820118343012254 35.231227543175564\n",
      "score 0.9895522166627684\n",
      "| \u001b[0m 8       \u001b[0m | \u001b[0m-0.9896  \u001b[0m | \u001b[0m 0.663   \u001b[0m | \u001b[0m 28.82   \u001b[0m | \u001b[0m 35.23   \u001b[0m | \u001b[0m 13.17   \u001b[0m | \u001b[0m 18.25   \u001b[0m | \u001b[0m 0.8912  \u001b[0m | \u001b[0m 1.306   \u001b[0m |\n",
      "Training until validation scores don't improve for 100 rounds\n",
      "[100]\ttraining's rmse: 0.975359\ttraining's cappa: 0.608902\tvalid_1's rmse: 1.00922\tvalid_1's cappa: 0.569197\n",
      "[200]\ttraining's rmse: 0.935059\ttraining's cappa: 0.643908\tvalid_1's rmse: 0.99785\tvalid_1's cappa: 0.580098\n",
      "[300]\ttraining's rmse: 0.909764\ttraining's cappa: 0.664508\tvalid_1's rmse: 0.996513\tvalid_1's cappa: 0.580431\n",
      "Early stopping, best iteration is:\n",
      "[280]\ttraining's rmse: 0.914121\ttraining's cappa: 0.660408\tvalid_1's rmse: 0.996624\tvalid_1's cappa: 0.584631\n",
      "parameter 12 26 0.8847049890060412 0.33551020956981914 2 28.441310499213976 48.35289808666603\n",
      "score 0.9966238717264385\n",
      "| \u001b[0m 9       \u001b[0m | \u001b[0m-0.9966  \u001b[0m | \u001b[0m 0.8847  \u001b[0m | \u001b[0m 28.44   \u001b[0m | \u001b[0m 48.35   \u001b[0m | \u001b[0m 12.46   \u001b[0m | \u001b[0m 26.09   \u001b[0m | \u001b[0m 0.3355  \u001b[0m | \u001b[0m 2.739   \u001b[0m |\n",
      "Training until validation scores don't improve for 100 rounds\n",
      "[100]\ttraining's rmse: 0.930792\ttraining's cappa: 0.654913\tvalid_1's rmse: 0.997459\tvalid_1's cappa: 0.581399\n",
      "[200]\ttraining's rmse: 0.876562\ttraining's cappa: 0.695793\tvalid_1's rmse: 0.989554\tvalid_1's cappa: 0.583534\n",
      "[300]\ttraining's rmse: 0.83982\ttraining's cappa: 0.728959\tvalid_1's rmse: 0.988046\tvalid_1's cappa: 0.58928\n",
      "Early stopping, best iteration is:\n",
      "[296]\ttraining's rmse: 0.840973\ttraining's cappa: 0.728046\tvalid_1's rmse: 0.987998\tvalid_1's cappa: 0.588783\n",
      "parameter 7 57 0.4836855684692435 0.9979642487352647 2 28.295773283219162 18.491272625775732\n",
      "score 0.9879975334523403\n",
      "| \u001b[95m 10      \u001b[0m | \u001b[95m-0.988   \u001b[0m | \u001b[95m 0.4837  \u001b[0m | \u001b[95m 28.3    \u001b[0m | \u001b[95m 18.49   \u001b[0m | \u001b[95m 7.705   \u001b[0m | \u001b[95m 57.21   \u001b[0m | \u001b[95m 0.998   \u001b[0m | \u001b[95m 2.784   \u001b[0m |\n"
     ]
    },
    {
     "name": "stdout",
     "output_type": "stream",
     "text": [
      "Training until validation scores don't improve for 100 rounds\n",
      "[100]\ttraining's rmse: 0.959923\ttraining's cappa: 0.623489\tvalid_1's rmse: 1.00716\tvalid_1's cappa: 0.575918\n",
      "[200]\ttraining's rmse: 0.919181\ttraining's cappa: 0.660145\tvalid_1's rmse: 0.997938\tvalid_1's cappa: 0.575362\n",
      "Early stopping, best iteration is:\n",
      "[128]\ttraining's rmse: 0.945142\ttraining's cappa: 0.635736\tvalid_1's rmse: 1.0018\tvalid_1's cappa: 0.577203\n",
      "parameter 15 63 0.5841645411744132 0.3650428920850255 2 31.129428922160283 6.272610683123256\n",
      "score 1.0018020108552923\n",
      "| \u001b[0m 11      \u001b[0m | \u001b[0m-1.002   \u001b[0m | \u001b[0m 0.5842  \u001b[0m | \u001b[0m 31.13   \u001b[0m | \u001b[0m 6.273   \u001b[0m | \u001b[0m 15.41   \u001b[0m | \u001b[0m 63.77   \u001b[0m | \u001b[0m 0.365   \u001b[0m | \u001b[0m 2.872   \u001b[0m |\n",
      "Training until validation scores don't improve for 100 rounds\n",
      "[100]\ttraining's rmse: 0.986441\ttraining's cappa: 0.595908\tvalid_1's rmse: 1.01319\tvalid_1's cappa: 0.566695\n",
      "[200]\ttraining's rmse: 0.954419\ttraining's cappa: 0.622959\tvalid_1's rmse: 0.999706\tvalid_1's cappa: 0.57801\n",
      "[300]\ttraining's rmse: 0.935775\ttraining's cappa: 0.642948\tvalid_1's rmse: 0.996779\tvalid_1's cappa: 0.574722\n",
      "Early stopping, best iteration is:\n",
      "[201]\ttraining's rmse: 0.954091\ttraining's cappa: 0.623169\tvalid_1's rmse: 0.999725\tvalid_1's cappa: 0.578388\n",
      "parameter 6 19 0.6071317328294588 0.31171927151546774 2 33.76336266175205 25.959017661294197\n",
      "score 0.9997251801414098\n",
      "| \u001b[0m 12      \u001b[0m | \u001b[0m-0.9997  \u001b[0m | \u001b[0m 0.6071  \u001b[0m | \u001b[0m 33.76   \u001b[0m | \u001b[0m 25.96   \u001b[0m | \u001b[0m 6.098   \u001b[0m | \u001b[0m 19.48   \u001b[0m | \u001b[0m 0.3117  \u001b[0m | \u001b[0m 2.682   \u001b[0m |\n",
      "Training until validation scores don't improve for 100 rounds\n",
      "[100]\ttraining's rmse: 0.975365\ttraining's cappa: 0.610336\tvalid_1's rmse: 1.01672\tvalid_1's cappa: 0.565233\n",
      "[200]\ttraining's rmse: 0.933914\ttraining's cappa: 0.646817\tvalid_1's rmse: 0.999008\tvalid_1's cappa: 0.581165\n",
      "[300]\ttraining's rmse: 0.912719\ttraining's cappa: 0.663874\tvalid_1's rmse: 0.996294\tvalid_1's cappa: 0.578844\n",
      "Early stopping, best iteration is:\n",
      "[232]\ttraining's rmse: 0.925995\ttraining's cappa: 0.652204\tvalid_1's rmse: 0.997086\tvalid_1's cappa: 0.583217\n",
      "parameter 7 34 0.31411847019562056 0.5538971816589426 2 38.50423849664437 8.483273468550047\n",
      "score 0.9970855779411276\n",
      "| \u001b[0m 13      \u001b[0m | \u001b[0m-0.9971  \u001b[0m | \u001b[0m 0.3141  \u001b[0m | \u001b[0m 38.5    \u001b[0m | \u001b[0m 8.483   \u001b[0m | \u001b[0m 7.037   \u001b[0m | \u001b[0m 34.26   \u001b[0m | \u001b[0m 0.5539  \u001b[0m | \u001b[0m 2.725   \u001b[0m |\n",
      "Training until validation scores don't improve for 100 rounds\n",
      "[100]\ttraining's rmse: 0.919023\ttraining's cappa: 0.664395\tvalid_1's rmse: 0.998133\tvalid_1's cappa: 0.576669\n",
      "[200]\ttraining's rmse: 0.853411\ttraining's cappa: 0.717069\tvalid_1's rmse: 0.992962\tvalid_1's cappa: 0.582214\n",
      "Early stopping, best iteration is:\n",
      "[172]\ttraining's rmse: 0.868535\ttraining's cappa: 0.705319\tvalid_1's rmse: 0.992204\tvalid_1's cappa: 0.579375\n",
      "parameter 7 53 0.9296051167976294 0.5068917313370049 1 12.0943211577832 22.31183555916344\n",
      "score 0.9922040479292241\n",
      "| \u001b[0m 14      \u001b[0m | \u001b[0m-0.9922  \u001b[0m | \u001b[0m 0.9296  \u001b[0m | \u001b[0m 12.09   \u001b[0m | \u001b[0m 22.31   \u001b[0m | \u001b[0m 7.876   \u001b[0m | \u001b[0m 53.05   \u001b[0m | \u001b[0m 0.5069  \u001b[0m | \u001b[0m 1.083   \u001b[0m |\n",
      "Training until validation scores don't improve for 100 rounds\n",
      "[100]\ttraining's rmse: 0.900596\ttraining's cappa: 0.681587\tvalid_1's rmse: 0.998005\tvalid_1's cappa: 0.574307\n",
      "[200]\ttraining's rmse: 0.819006\ttraining's cappa: 0.747579\tvalid_1's rmse: 0.993521\tvalid_1's cappa: 0.58463\n",
      "Early stopping, best iteration is:\n",
      "[157]\ttraining's rmse: 0.84964\ttraining's cappa: 0.720753\tvalid_1's rmse: 0.993563\tvalid_1's cappa: 0.590935\n",
      "parameter 15 89 0.8407938641019408 0.42066333723012345 2 10.06364681479186 28.303866956489728\n",
      "score 0.9935630867037284\n",
      "| \u001b[0m 15      \u001b[0m | \u001b[0m-0.9936  \u001b[0m | \u001b[0m 0.8408  \u001b[0m | \u001b[0m 10.06   \u001b[0m | \u001b[0m 28.3    \u001b[0m | \u001b[0m 15.4    \u001b[0m | \u001b[0m 89.95   \u001b[0m | \u001b[0m 0.4207  \u001b[0m | \u001b[0m 2.853   \u001b[0m |\n",
      "Training until validation scores don't improve for 100 rounds\n",
      "[100]\ttraining's rmse: 1.00591\ttraining's cappa: 0.577103\tvalid_1's rmse: 1.03132\tvalid_1's cappa: 0.543664\n",
      "[200]\ttraining's rmse: 0.969261\ttraining's cappa: 0.609253\tvalid_1's rmse: 1.01014\tvalid_1's cappa: 0.570236\n",
      "[300]\ttraining's rmse: 0.952302\ttraining's cappa: 0.625827\tvalid_1's rmse: 1.00564\tvalid_1's cappa: 0.570538\n",
      "[400]\ttraining's rmse: 0.937967\ttraining's cappa: 0.642356\tvalid_1's rmse: 1.0027\tvalid_1's cappa: 0.571243\n",
      "[500]\ttraining's rmse: 0.926581\ttraining's cappa: 0.653506\tvalid_1's rmse: 1.00198\tvalid_1's cappa: 0.571385\n",
      "Early stopping, best iteration is:\n",
      "[442]\ttraining's rmse: 0.932884\ttraining's cappa: 0.647466\tvalid_1's rmse: 1.00243\tvalid_1's cappa: 0.575051\n",
      "parameter 15 44 0.39622504825003224 0.2283348525871336 2 34.1388304413074 42.1847641022031\n",
      "score 1.0024319806106483\n",
      "| \u001b[0m 16      \u001b[0m | \u001b[0m-1.002   \u001b[0m | \u001b[0m 0.3962  \u001b[0m | \u001b[0m 34.14   \u001b[0m | \u001b[0m 42.18   \u001b[0m | \u001b[0m 15.95   \u001b[0m | \u001b[0m 44.51   \u001b[0m | \u001b[0m 0.2283  \u001b[0m | \u001b[0m 2.945   \u001b[0m |\n",
      "Training until validation scores don't improve for 100 rounds\n",
      "[100]\ttraining's rmse: 0.943238\ttraining's cappa: 0.643861\tvalid_1's rmse: 1.00235\tvalid_1's cappa: 0.574688\n",
      "[200]\ttraining's rmse: 0.900429\ttraining's cappa: 0.679076\tvalid_1's rmse: 0.992716\tvalid_1's cappa: 0.580215\n",
      "[300]\ttraining's rmse: 0.876873\ttraining's cappa: 0.699958\tvalid_1's rmse: 0.991419\tvalid_1's cappa: 0.587164\n",
      "[400]\ttraining's rmse: 0.860288\ttraining's cappa: 0.714464\tvalid_1's rmse: 0.991153\tvalid_1's cappa: 0.59079\n",
      "[500]\ttraining's rmse: 0.849117\ttraining's cappa: 0.722611\tvalid_1's rmse: 0.990796\tvalid_1's cappa: 0.591383\n",
      "Early stopping, best iteration is:\n",
      "[410]\ttraining's rmse: 0.859269\ttraining's cappa: 0.715855\tvalid_1's rmse: 0.991066\tvalid_1's cappa: 0.593195\n",
      "parameter 14 96 0.5685940518364305 0.8705774427440509 2 48.04634955156396 42.659229804654984\n",
      "score 0.991066045476482\n",
      "| \u001b[0m 17      \u001b[0m | \u001b[0m-0.9911  \u001b[0m | \u001b[0m 0.5686  \u001b[0m | \u001b[0m 48.05   \u001b[0m | \u001b[0m 42.66   \u001b[0m | \u001b[0m 14.91   \u001b[0m | \u001b[0m 96.23   \u001b[0m | \u001b[0m 0.8706  \u001b[0m | \u001b[0m 2.64    \u001b[0m |\n",
      "Training until validation scores don't improve for 100 rounds\n",
      "[100]\ttraining's rmse: 0.980237\ttraining's cappa: 0.600849\tvalid_1's rmse: 1.0111\tvalid_1's cappa: 0.566702\n",
      "[200]\ttraining's rmse: 0.944416\ttraining's cappa: 0.633409\tvalid_1's rmse: 0.997999\tvalid_1's cappa: 0.573744\n",
      "[300]\ttraining's rmse: 0.923809\ttraining's cappa: 0.654864\tvalid_1's rmse: 0.99453\tvalid_1's cappa: 0.576685\n",
      "Early stopping, best iteration is:\n",
      "[257]\ttraining's rmse: 0.931608\ttraining's cappa: 0.647543\tvalid_1's rmse: 0.995605\tvalid_1's cappa: 0.580425\n",
      "parameter 5 84 0.6355491624477253 0.4915287243223676 1 31.891858548008962 41.788188693672815\n",
      "score 0.995604613731701\n",
      "| \u001b[0m 18      \u001b[0m | \u001b[0m-0.9956  \u001b[0m | \u001b[0m 0.6355  \u001b[0m | \u001b[0m 31.89   \u001b[0m | \u001b[0m 41.79   \u001b[0m | \u001b[0m 5.979   \u001b[0m | \u001b[0m 84.46   \u001b[0m | \u001b[0m 0.4915  \u001b[0m | \u001b[0m 1.608   \u001b[0m |\n",
      "Training until validation scores don't improve for 100 rounds\n",
      "[100]\ttraining's rmse: 0.904698\ttraining's cappa: 0.68003\tvalid_1's rmse: 0.995733\tvalid_1's cappa: 0.57658\n",
      "[200]\ttraining's rmse: 0.834832\ttraining's cappa: 0.733549\tvalid_1's rmse: 0.990491\tvalid_1's cappa: 0.583743\n",
      "[300]\ttraining's rmse: 0.785221\ttraining's cappa: 0.775291\tvalid_1's rmse: 0.990618\tvalid_1's cappa: 0.587281\n",
      "Early stopping, best iteration is:\n",
      "[263]\ttraining's rmse: 0.801781\ttraining's cappa: 0.761501\tvalid_1's rmse: 0.989964\tvalid_1's cappa: 0.584743\n",
      "parameter 8 57 0.46333849968403445 0.9113874313414458 2 16.717883455312748 25.78126626485598\n",
      "score 0.9899640051146167\n",
      "| \u001b[0m 19      \u001b[0m | \u001b[0m-0.99    \u001b[0m | \u001b[0m 0.4633  \u001b[0m | \u001b[0m 16.72   \u001b[0m | \u001b[0m 25.78   \u001b[0m | \u001b[0m 8.958   \u001b[0m | \u001b[0m 57.59   \u001b[0m | \u001b[0m 0.9114  \u001b[0m | \u001b[0m 2.39    \u001b[0m |\n",
      "Training until validation scores don't improve for 100 rounds\n",
      "[100]\ttraining's rmse: 0.956626\ttraining's cappa: 0.633524\tvalid_1's rmse: 1.01524\tvalid_1's cappa: 0.566215\n",
      "[200]\ttraining's rmse: 0.904354\ttraining's cappa: 0.674905\tvalid_1's rmse: 0.999619\tvalid_1's cappa: 0.574568\n",
      "[300]\ttraining's rmse: 0.871968\ttraining's cappa: 0.69979\tvalid_1's rmse: 0.996239\tvalid_1's cappa: 0.577039\n",
      "[400]\ttraining's rmse: 0.84616\ttraining's cappa: 0.724494\tvalid_1's rmse: 0.994671\tvalid_1's cappa: 0.57738\n",
      "[500]\ttraining's rmse: 0.824865\ttraining's cappa: 0.741888\tvalid_1's rmse: 0.994226\tvalid_1's cappa: 0.581442\n"
     ]
    },
    {
     "name": "stdout",
     "output_type": "stream",
     "text": [
      "Early stopping, best iteration is:\n",
      "[499]\ttraining's rmse: 0.824959\ttraining's cappa: 0.741716\tvalid_1's rmse: 0.994264\tvalid_1's cappa: 0.581664\n",
      "parameter 11 90 0.31900983349820133 0.5396281308056108 1 26.610693460789104 39.1329721376237\n",
      "score 0.9942644288708112\n",
      "| \u001b[0m 20      \u001b[0m | \u001b[0m-0.9943  \u001b[0m | \u001b[0m 0.319   \u001b[0m | \u001b[0m 26.61   \u001b[0m | \u001b[0m 39.13   \u001b[0m | \u001b[0m 11.56   \u001b[0m | \u001b[0m 90.2    \u001b[0m | \u001b[0m 0.5396  \u001b[0m | \u001b[0m 1.79    \u001b[0m |\n",
      "Training until validation scores don't improve for 100 rounds\n",
      "[100]\ttraining's rmse: 0.947641\ttraining's cappa: 0.632911\tvalid_1's rmse: 0.998049\tvalid_1's cappa: 0.571967\n",
      "[200]\ttraining's rmse: 0.899661\ttraining's cappa: 0.676717\tvalid_1's rmse: 0.99046\tvalid_1's cappa: 0.577356\n",
      "Early stopping, best iteration is:\n",
      "[166]\ttraining's rmse: 0.913075\ttraining's cappa: 0.665456\tvalid_1's rmse: 0.990951\tvalid_1's cappa: 0.580193\n",
      "parameter 5 88 0.7971699250489358 0.9918141866437533 2 20.252354236869735 7.843610925084299\n",
      "score 0.9909514458332265\n",
      "| \u001b[0m 21      \u001b[0m | \u001b[0m-0.991   \u001b[0m | \u001b[0m 0.7972  \u001b[0m | \u001b[0m 20.25   \u001b[0m | \u001b[0m 7.844   \u001b[0m | \u001b[0m 5.709   \u001b[0m | \u001b[0m 88.87   \u001b[0m | \u001b[0m 0.9918  \u001b[0m | \u001b[0m 2.364   \u001b[0m |\n",
      "Training until validation scores don't improve for 100 rounds\n",
      "[100]\ttraining's rmse: 0.898024\ttraining's cappa: 0.687518\tvalid_1's rmse: 0.999607\tvalid_1's cappa: 0.576426\n",
      "[200]\ttraining's rmse: 0.814146\ttraining's cappa: 0.754004\tvalid_1's rmse: 0.996086\tvalid_1's cappa: 0.572474\n",
      "Early stopping, best iteration is:\n",
      "[132]\ttraining's rmse: 0.866278\ttraining's cappa: 0.708053\tvalid_1's rmse: 0.995965\tvalid_1's cappa: 0.58293\n",
      "parameter 10 83 0.47957758743616385 0.3838158983653237 2 2.8612821003044937 33.69514358876472\n",
      "score 0.9959646959070684\n",
      "| \u001b[0m 22      \u001b[0m | \u001b[0m-0.996   \u001b[0m | \u001b[0m 0.4796  \u001b[0m | \u001b[0m 2.861   \u001b[0m | \u001b[0m 33.7    \u001b[0m | \u001b[0m 10.93   \u001b[0m | \u001b[0m 83.65   \u001b[0m | \u001b[0m 0.3838  \u001b[0m | \u001b[0m 2.201   \u001b[0m |\n",
      "Training until validation scores don't improve for 100 rounds\n",
      "[100]\ttraining's rmse: 0.95691\ttraining's cappa: 0.622708\tvalid_1's rmse: 0.99838\tvalid_1's cappa: 0.580927\n",
      "[200]\ttraining's rmse: 0.914836\ttraining's cappa: 0.660283\tvalid_1's rmse: 0.990577\tvalid_1's cappa: 0.576864\n",
      "Early stopping, best iteration is:\n",
      "[111]\ttraining's rmse: 0.950938\ttraining's cappa: 0.625529\tvalid_1's rmse: 0.995959\tvalid_1's cappa: 0.583087\n",
      "parameter 14 15 0.8718006219258392 0.7647852340598627 1 11.408797929748022 8.61723040904478\n",
      "score 0.9959590380286539\n",
      "| \u001b[0m 23      \u001b[0m | \u001b[0m-0.996   \u001b[0m | \u001b[0m 0.8718  \u001b[0m | \u001b[0m 11.41   \u001b[0m | \u001b[0m 8.617   \u001b[0m | \u001b[0m 14.63   \u001b[0m | \u001b[0m 15.97   \u001b[0m | \u001b[0m 0.7648  \u001b[0m | \u001b[0m 1.427   \u001b[0m |\n",
      "Training until validation scores don't improve for 100 rounds\n",
      "[100]\ttraining's rmse: 0.933765\ttraining's cappa: 0.650128\tvalid_1's rmse: 0.997164\tvalid_1's cappa: 0.575005\n",
      "[200]\ttraining's rmse: 0.881456\ttraining's cappa: 0.692612\tvalid_1's rmse: 0.990972\tvalid_1's cappa: 0.58343\n",
      "Early stopping, best iteration is:\n",
      "[193]\ttraining's rmse: 0.884629\ttraining's cappa: 0.689562\tvalid_1's rmse: 0.990591\tvalid_1's cappa: 0.582812\n",
      "parameter 11 32 0.6484301452365493 0.6017680404957719 2 17.415216948160676 24.599625172393512\n",
      "score 0.9905911080110283\n",
      "| \u001b[0m 24      \u001b[0m | \u001b[0m-0.9906  \u001b[0m | \u001b[0m 0.6484  \u001b[0m | \u001b[0m 17.42   \u001b[0m | \u001b[0m 24.6    \u001b[0m | \u001b[0m 11.06   \u001b[0m | \u001b[0m 32.21   \u001b[0m | \u001b[0m 0.6018  \u001b[0m | \u001b[0m 2.062   \u001b[0m |\n",
      "Training until validation scores don't improve for 100 rounds\n",
      "[100]\ttraining's rmse: 0.987636\ttraining's cappa: 0.599495\tvalid_1's rmse: 1.01815\tvalid_1's cappa: 0.557398\n",
      "[200]\ttraining's rmse: 0.951789\ttraining's cappa: 0.626358\tvalid_1's rmse: 1.00519\tvalid_1's cappa: 0.576034\n",
      "[300]\ttraining's rmse: 0.929566\ttraining's cappa: 0.650447\tvalid_1's rmse: 1.00078\tvalid_1's cappa: 0.577915\n",
      "[400]\ttraining's rmse: 0.910807\ttraining's cappa: 0.66828\tvalid_1's rmse: 0.997979\tvalid_1's cappa: 0.577916\n",
      "Early stopping, best iteration is:\n",
      "[345]\ttraining's rmse: 0.920794\ttraining's cappa: 0.657029\tvalid_1's rmse: 0.999105\tvalid_1's cappa: 0.580726\n",
      "parameter 15 21 0.8490502024827082 0.2070169129128841 1 23.210160965104205 45.96502672327783\n",
      "score 0.9991047155428143\n",
      "| \u001b[0m 25      \u001b[0m | \u001b[0m-0.9991  \u001b[0m | \u001b[0m 0.8491  \u001b[0m | \u001b[0m 23.21   \u001b[0m | \u001b[0m 45.97   \u001b[0m | \u001b[0m 15.09   \u001b[0m | \u001b[0m 21.16   \u001b[0m | \u001b[0m 0.207   \u001b[0m | \u001b[0m 1.122   \u001b[0m |\n",
      "Training until validation scores don't improve for 100 rounds\n",
      "[100]\ttraining's rmse: 0.94957\ttraining's cappa: 0.634396\tvalid_1's rmse: 1.00036\tvalid_1's cappa: 0.575662\n",
      "[200]\ttraining's rmse: 0.90282\ttraining's cappa: 0.673954\tvalid_1's rmse: 0.991359\tvalid_1's cappa: 0.580703\n",
      "[300]\ttraining's rmse: 0.872246\ttraining's cappa: 0.702172\tvalid_1's rmse: 0.99066\tvalid_1's cappa: 0.582443\n",
      "Early stopping, best iteration is:\n",
      "[235]\ttraining's rmse: 0.890796\ttraining's cappa: 0.683407\tvalid_1's rmse: 0.991044\tvalid_1's cappa: 0.586376\n",
      "parameter 7 60 0.8329255855012991 0.5586074134075416 2 27.635643742698342 35.9906323099665\n",
      "score 0.9910443540472224\n",
      "| \u001b[0m 26      \u001b[0m | \u001b[0m-0.991   \u001b[0m | \u001b[0m 0.8329  \u001b[0m | \u001b[0m 27.64   \u001b[0m | \u001b[0m 35.99   \u001b[0m | \u001b[0m 7.768   \u001b[0m | \u001b[0m 60.9    \u001b[0m | \u001b[0m 0.5586  \u001b[0m | \u001b[0m 2.939   \u001b[0m |\n",
      "Training until validation scores don't improve for 100 rounds\n",
      "[100]\ttraining's rmse: 1.00387\ttraining's cappa: 0.579495\tvalid_1's rmse: 1.02259\tvalid_1's cappa: 0.555663\n",
      "[200]\ttraining's rmse: 0.973852\ttraining's cappa: 0.605891\tvalid_1's rmse: 1.00566\tvalid_1's cappa: 0.569411\n",
      "[300]\ttraining's rmse: 0.958771\ttraining's cappa: 0.619877\tvalid_1's rmse: 1.00039\tvalid_1's cappa: 0.577342\n",
      "Early stopping, best iteration is:\n",
      "[278]\ttraining's rmse: 0.961361\ttraining's cappa: 0.617104\tvalid_1's rmse: 1.00074\tvalid_1's cappa: 0.578589\n",
      "parameter 5 79 0.9004823708692438 0.21609020484458785 1 37.59580810244221 16.716731592615137\n",
      "score 1.0007401866506842\n",
      "| \u001b[0m 27      \u001b[0m | \u001b[0m-1.001   \u001b[0m | \u001b[0m 0.9005  \u001b[0m | \u001b[0m 37.6    \u001b[0m | \u001b[0m 16.72   \u001b[0m | \u001b[0m 5.192   \u001b[0m | \u001b[0m 79.21   \u001b[0m | \u001b[0m 0.2161  \u001b[0m | \u001b[0m 1.191   \u001b[0m |\n",
      "Training until validation scores don't improve for 100 rounds\n",
      "[100]\ttraining's rmse: 0.955033\ttraining's cappa: 0.627179\tvalid_1's rmse: 1.00072\tvalid_1's cappa: 0.577316\n",
      "[200]\ttraining's rmse: 0.914535\ttraining's cappa: 0.659539\tvalid_1's rmse: 0.991451\tvalid_1's cappa: 0.584373\n",
      "[300]\ttraining's rmse: 0.887137\ttraining's cappa: 0.687145\tvalid_1's rmse: 0.990101\tvalid_1's cappa: 0.587807\n",
      "[400]\ttraining's rmse: 0.864897\ttraining's cappa: 0.706457\tvalid_1's rmse: 0.989489\tvalid_1's cappa: 0.587184\n",
      "Early stopping, best iteration is:\n",
      "[363]\ttraining's rmse: 0.872766\ttraining's cappa: 0.701681\tvalid_1's rmse: 0.989518\tvalid_1's cappa: 0.591595\n",
      "parameter 7 21 0.5221199542310333 0.8458724111537537 2 26.663591072337518 8.427367350761614\n",
      "score 0.9895175706024409\n",
      "| \u001b[0m 28      \u001b[0m | \u001b[0m-0.9895  \u001b[0m | \u001b[0m 0.5221  \u001b[0m | \u001b[0m 26.66   \u001b[0m | \u001b[0m 8.427   \u001b[0m | \u001b[0m 7.037   \u001b[0m | \u001b[0m 21.31   \u001b[0m | \u001b[0m 0.8459  \u001b[0m | \u001b[0m 2.943   \u001b[0m |\n",
      "Training until validation scores don't improve for 100 rounds\n",
      "[100]\ttraining's rmse: 0.947916\ttraining's cappa: 0.633411\tvalid_1's rmse: 1.0016\tvalid_1's cappa: 0.569194\n",
      "[200]\ttraining's rmse: 0.899798\ttraining's cappa: 0.677023\tvalid_1's rmse: 0.992923\tvalid_1's cappa: 0.580031\n",
      "[300]\ttraining's rmse: 0.866303\ttraining's cappa: 0.706444\tvalid_1's rmse: 0.9922\tvalid_1's cappa: 0.585124\n",
      "[400]\ttraining's rmse: 0.840353\ttraining's cappa: 0.727853\tvalid_1's rmse: 0.991703\tvalid_1's cappa: 0.588865\n",
      "Early stopping, best iteration is:\n",
      "[338]\ttraining's rmse: 0.85647\ttraining's cappa: 0.71413\tvalid_1's rmse: 0.991588\tvalid_1's cappa: 0.587233\n",
      "parameter 6 64 0.924615865809155 0.7154092283184594 2 25.69672465923505 28.908551891611626\n",
      "score 0.9915875560366666\n",
      "| \u001b[0m 29      \u001b[0m | \u001b[0m-0.9916  \u001b[0m | \u001b[0m 0.9246  \u001b[0m | \u001b[0m 25.7    \u001b[0m | \u001b[0m 28.91   \u001b[0m | \u001b[0m 6.867   \u001b[0m | \u001b[0m 64.73   \u001b[0m | \u001b[0m 0.7154  \u001b[0m | \u001b[0m 2.202   \u001b[0m |\n",
      "Training until validation scores don't improve for 100 rounds\n",
      "[100]\ttraining's rmse: 0.926894\ttraining's cappa: 0.656964\tvalid_1's rmse: 0.999185\tvalid_1's cappa: 0.575335\n",
      "[200]\ttraining's rmse: 0.86638\ttraining's cappa: 0.707446\tvalid_1's rmse: 0.99358\tvalid_1's cappa: 0.582998\n",
      "Early stopping, best iteration is:\n",
      "[174]\ttraining's rmse: 0.879561\ttraining's cappa: 0.696057\tvalid_1's rmse: 0.992227\tvalid_1's cappa: 0.582833\n",
      "parameter 13 61 0.9036454952661237 0.4540831790904382 2 21.47387475039495 14.805336462618268\n",
      "score 0.9922271761749516\n",
      "| \u001b[0m 30      \u001b[0m | \u001b[0m-0.9922  \u001b[0m | \u001b[0m 0.9036  \u001b[0m | \u001b[0m 21.47   \u001b[0m | \u001b[0m 14.81   \u001b[0m | \u001b[0m 13.07   \u001b[0m | \u001b[0m 61.13   \u001b[0m | \u001b[0m 0.4541  \u001b[0m | \u001b[0m 2.336   \u001b[0m |\n"
     ]
    },
    {
     "name": "stdout",
     "output_type": "stream",
     "text": [
      "Training until validation scores don't improve for 100 rounds\n",
      "[100]\ttraining's rmse: 0.919522\ttraining's cappa: 0.664562\tvalid_1's rmse: 0.998339\tvalid_1's cappa: 0.579538\n",
      "[200]\ttraining's rmse: 0.861792\ttraining's cappa: 0.712692\tvalid_1's rmse: 0.991972\tvalid_1's cappa: 0.582746\n",
      "[300]\ttraining's rmse: 0.826246\ttraining's cappa: 0.743421\tvalid_1's rmse: 0.991487\tvalid_1's cappa: 0.586591\n",
      "Early stopping, best iteration is:\n",
      "[247]\ttraining's rmse: 0.84336\ttraining's cappa: 0.726466\tvalid_1's rmse: 0.991324\tvalid_1's cappa: 0.583869\n",
      "parameter 10 55 0.8507823869111497 0.9707626013838613 1 34.870409915156046 28.995387706973634\n",
      "score 0.9913242430485933\n",
      "| \u001b[0m 31      \u001b[0m | \u001b[0m-0.9913  \u001b[0m | \u001b[0m 0.8508  \u001b[0m | \u001b[0m 34.87   \u001b[0m | \u001b[0m 29.0    \u001b[0m | \u001b[0m 10.13   \u001b[0m | \u001b[0m 55.33   \u001b[0m | \u001b[0m 0.9708  \u001b[0m | \u001b[0m 1.728   \u001b[0m |\n",
      "Training until validation scores don't improve for 100 rounds\n",
      "[100]\ttraining's rmse: 0.952158\ttraining's cappa: 0.633149\tvalid_1's rmse: 1.00169\tvalid_1's cappa: 0.575961\n",
      "[200]\ttraining's rmse: 0.913979\ttraining's cappa: 0.661135\tvalid_1's rmse: 0.992665\tvalid_1's cappa: 0.581111\n",
      "[300]\ttraining's rmse: 0.892179\ttraining's cappa: 0.680994\tvalid_1's rmse: 0.990733\tvalid_1's cappa: 0.582952\n",
      "[400]\ttraining's rmse: 0.876236\ttraining's cappa: 0.697604\tvalid_1's rmse: 0.989731\tvalid_1's cappa: 0.584699\n",
      "Early stopping, best iteration is:\n",
      "[342]\ttraining's rmse: 0.884766\ttraining's cappa: 0.68785\tvalid_1's rmse: 0.990137\tvalid_1's cappa: 0.586336\n",
      "parameter 7 46 0.5382661165395958 0.8446516262757644 2 44.510110842393836 6.5433998585613296\n",
      "score 0.990136756411341\n",
      "| \u001b[0m 32      \u001b[0m | \u001b[0m-0.9901  \u001b[0m | \u001b[0m 0.5383  \u001b[0m | \u001b[0m 44.51   \u001b[0m | \u001b[0m 6.543   \u001b[0m | \u001b[0m 7.411   \u001b[0m | \u001b[0m 46.15   \u001b[0m | \u001b[0m 0.8447  \u001b[0m | \u001b[0m 2.277   \u001b[0m |\n",
      "Training until validation scores don't improve for 100 rounds\n",
      "[100]\ttraining's rmse: 0.978428\ttraining's cappa: 0.603828\tvalid_1's rmse: 1.0138\tvalid_1's cappa: 0.565664\n",
      "[200]\ttraining's rmse: 0.942132\ttraining's cappa: 0.638011\tvalid_1's rmse: 1.00157\tvalid_1's cappa: 0.574332\n",
      "Early stopping, best iteration is:\n",
      "[183]\ttraining's rmse: 0.946439\ttraining's cappa: 0.633269\tvalid_1's rmse: 1.00211\tvalid_1's cappa: 0.577232\n",
      "parameter 11 54 0.6468292081415585 0.3738150962769418 1 41.676889007265075 35.58958444821389\n",
      "score 1.0021088416775823\n",
      "| \u001b[0m 33      \u001b[0m | \u001b[0m-1.002   \u001b[0m | \u001b[0m 0.6468  \u001b[0m | \u001b[0m 41.68   \u001b[0m | \u001b[0m 35.59   \u001b[0m | \u001b[0m 11.09   \u001b[0m | \u001b[0m 54.78   \u001b[0m | \u001b[0m 0.3738  \u001b[0m | \u001b[0m 1.937   \u001b[0m |\n",
      "Training until validation scores don't improve for 100 rounds\n",
      "[100]\ttraining's rmse: 0.962598\ttraining's cappa: 0.619744\tvalid_1's rmse: 1.00601\tvalid_1's cappa: 0.575304\n",
      "[200]\ttraining's rmse: 0.917881\ttraining's cappa: 0.658752\tvalid_1's rmse: 1.00282\tvalid_1's cappa: 0.570184\n",
      "Early stopping, best iteration is:\n",
      "[116]\ttraining's rmse: 0.953092\ttraining's cappa: 0.628186\tvalid_1's rmse: 1.00405\tvalid_1's cappa: 0.580153\n",
      "parameter 5 62 0.991218481929907 0.20459190720174086 2 7.2415281120586865 6.685142107587737\n",
      "score 1.0040474829606298\n",
      "| \u001b[0m 34      \u001b[0m | \u001b[0m-1.004   \u001b[0m | \u001b[0m 0.9912  \u001b[0m | \u001b[0m 7.242   \u001b[0m | \u001b[0m 6.685   \u001b[0m | \u001b[0m 5.818   \u001b[0m | \u001b[0m 62.17   \u001b[0m | \u001b[0m 0.2046  \u001b[0m | \u001b[0m 2.904   \u001b[0m |\n",
      "Training until validation scores don't improve for 100 rounds\n",
      "[100]\ttraining's rmse: 0.942072\ttraining's cappa: 0.641653\tvalid_1's rmse: 0.998994\tvalid_1's cappa: 0.578365\n",
      "[200]\ttraining's rmse: 0.894137\ttraining's cappa: 0.680947\tvalid_1's rmse: 0.993861\tvalid_1's cappa: 0.57814\n",
      "Early stopping, best iteration is:\n",
      "[166]\ttraining's rmse: 0.907995\ttraining's cappa: 0.668523\tvalid_1's rmse: 0.994041\tvalid_1's cappa: 0.584728\n",
      "parameter 6 19 0.5795989528459404 0.47301290172976485 1 0.5188325311707829 16.42909412349113\n",
      "score 0.9940410549568119\n",
      "| \u001b[0m 35      \u001b[0m | \u001b[0m-0.994   \u001b[0m | \u001b[0m 0.5796  \u001b[0m | \u001b[0m 0.5188  \u001b[0m | \u001b[0m 16.43   \u001b[0m | \u001b[0m 6.267   \u001b[0m | \u001b[0m 19.81   \u001b[0m | \u001b[0m 0.473   \u001b[0m | \u001b[0m 1.468   \u001b[0m |\n",
      "Training until validation scores don't improve for 100 rounds\n",
      "[100]\ttraining's rmse: 0.918482\ttraining's cappa: 0.661581\tvalid_1's rmse: 0.996067\tvalid_1's cappa: 0.577551\n",
      "[200]\ttraining's rmse: 0.857048\ttraining's cappa: 0.714586\tvalid_1's rmse: 0.992793\tvalid_1's cappa: 0.579315\n",
      "Early stopping, best iteration is:\n",
      "[178]\ttraining's rmse: 0.868822\ttraining's cappa: 0.705828\tvalid_1's rmse: 0.992146\tvalid_1's cappa: 0.579247\n",
      "parameter 6 38 0.6763175990995178 0.6241585793631574 2 11.443381029511771 2.7248429761894015\n",
      "score 0.9921459061681928\n",
      "| \u001b[0m 36      \u001b[0m | \u001b[0m-0.9921  \u001b[0m | \u001b[0m 0.6763  \u001b[0m | \u001b[0m 11.44   \u001b[0m | \u001b[0m 2.725   \u001b[0m | \u001b[0m 6.279   \u001b[0m | \u001b[0m 38.02   \u001b[0m | \u001b[0m 0.6242  \u001b[0m | \u001b[0m 2.502   \u001b[0m |\n",
      "Training until validation scores don't improve for 100 rounds\n",
      "[100]\ttraining's rmse: 0.973251\ttraining's cappa: 0.60705\tvalid_1's rmse: 1.00569\tvalid_1's cappa: 0.572324\n",
      "[200]\ttraining's rmse: 0.938543\ttraining's cappa: 0.641573\tvalid_1's rmse: 0.995619\tvalid_1's cappa: 0.577605\n",
      "[300]\ttraining's rmse: 0.919027\ttraining's cappa: 0.659418\tvalid_1's rmse: 0.992153\tvalid_1's cappa: 0.580833\n",
      "[400]\ttraining's rmse: 0.903238\ttraining's cappa: 0.672137\tvalid_1's rmse: 0.990748\tvalid_1's cappa: 0.584253\n",
      "Early stopping, best iteration is:\n",
      "[377]\ttraining's rmse: 0.906374\ttraining's cappa: 0.670899\tvalid_1's rmse: 0.990941\tvalid_1's cappa: 0.585878\n",
      "parameter 9 18 0.8938630651790904 0.7067288595708612 2 47.452662752637046 24.29498662948673\n",
      "score 0.9909408035865854\n",
      "| \u001b[0m 37      \u001b[0m | \u001b[0m-0.9909  \u001b[0m | \u001b[0m 0.8939  \u001b[0m | \u001b[0m 47.45   \u001b[0m | \u001b[0m 24.29   \u001b[0m | \u001b[0m 9.631   \u001b[0m | \u001b[0m 18.75   \u001b[0m | \u001b[0m 0.7067  \u001b[0m | \u001b[0m 2.913   \u001b[0m |\n",
      "Training until validation scores don't improve for 100 rounds\n",
      "[100]\ttraining's rmse: 0.960766\ttraining's cappa: 0.619055\tvalid_1's rmse: 1.00061\tvalid_1's cappa: 0.573316\n",
      "[200]\ttraining's rmse: 0.920664\ttraining's cappa: 0.652715\tvalid_1's rmse: 0.991085\tvalid_1's cappa: 0.580656\n",
      "[300]\ttraining's rmse: 0.895356\ttraining's cappa: 0.678402\tvalid_1's rmse: 0.988938\tvalid_1's cappa: 0.587546\n",
      "Early stopping, best iteration is:\n",
      "[263]\ttraining's rmse: 0.903874\ttraining's cappa: 0.670474\tvalid_1's rmse: 0.989281\tvalid_1's cappa: 0.590224\n",
      "parameter 14 19 0.6910786641997206 0.8685108777640382 2 26.659639664782375 44.1479696085162\n",
      "score 0.9892810647443919\n",
      "| \u001b[0m 38      \u001b[0m | \u001b[0m-0.9893  \u001b[0m | \u001b[0m 0.6911  \u001b[0m | \u001b[0m 26.66   \u001b[0m | \u001b[0m 44.15   \u001b[0m | \u001b[0m 14.6    \u001b[0m | \u001b[0m 19.75   \u001b[0m | \u001b[0m 0.8685  \u001b[0m | \u001b[0m 2.184   \u001b[0m |\n",
      "Training until validation scores don't improve for 100 rounds\n",
      "[100]\ttraining's rmse: 0.92873\ttraining's cappa: 0.655763\tvalid_1's rmse: 0.997573\tvalid_1's cappa: 0.578482\n",
      "[200]\ttraining's rmse: 0.876724\ttraining's cappa: 0.698804\tvalid_1's rmse: 0.991445\tvalid_1's cappa: 0.583123\n",
      "[300]\ttraining's rmse: 0.848061\ttraining's cappa: 0.723551\tvalid_1's rmse: 0.989843\tvalid_1's cappa: 0.583302\n",
      "[400]\ttraining's rmse: 0.827754\ttraining's cappa: 0.740474\tvalid_1's rmse: 0.9895\tvalid_1's cappa: 0.584842\n",
      "Early stopping, best iteration is:\n",
      "[396]\ttraining's rmse: 0.828504\ttraining's cappa: 0.739902\tvalid_1's rmse: 0.989398\tvalid_1's cappa: 0.587161\n",
      "parameter 10 69 0.8335197680693862 0.927353151014972 2 39.44103914456568 35.70773795874751\n",
      "score 0.989397624383835\n",
      "| \u001b[0m 39      \u001b[0m | \u001b[0m-0.9894  \u001b[0m | \u001b[0m 0.8335  \u001b[0m | \u001b[0m 39.44   \u001b[0m | \u001b[0m 35.71   \u001b[0m | \u001b[0m 10.35   \u001b[0m | \u001b[0m 69.47   \u001b[0m | \u001b[0m 0.9274  \u001b[0m | \u001b[0m 2.887   \u001b[0m |\n",
      "Training until validation scores don't improve for 100 rounds\n",
      "[100]\ttraining's rmse: 0.929739\ttraining's cappa: 0.652612\tvalid_1's rmse: 0.996132\tvalid_1's cappa: 0.576597\n",
      "[200]\ttraining's rmse: 0.87159\ttraining's cappa: 0.702217\tvalid_1's rmse: 0.988984\tvalid_1's cappa: 0.581348\n",
      "[300]\ttraining's rmse: 0.832507\ttraining's cappa: 0.734082\tvalid_1's rmse: 0.988074\tvalid_1's cappa: 0.583628\n",
      "Early stopping, best iteration is:\n",
      "[244]\ttraining's rmse: 0.853426\ttraining's cappa: 0.716658\tvalid_1's rmse: 0.987692\tvalid_1's cappa: 0.58583\n",
      "parameter 7 45 0.6844382530296147 0.8943836637488982 1 22.27558099874439 49.79350177545364\n",
      "score 0.9876917234760924\n",
      "| \u001b[95m 40      \u001b[0m | \u001b[95m-0.9877  \u001b[0m | \u001b[95m 0.6844  \u001b[0m | \u001b[95m 22.28   \u001b[0m | \u001b[95m 49.79   \u001b[0m | \u001b[95m 7.016   \u001b[0m | \u001b[95m 45.73   \u001b[0m | \u001b[95m 0.8944  \u001b[0m | \u001b[95m 1.241   \u001b[0m |\n"
     ]
    },
    {
     "name": "stdout",
     "output_type": "stream",
     "text": [
      "Training until validation scores don't improve for 100 rounds\n",
      "[100]\ttraining's rmse: 0.978526\ttraining's cappa: 0.605492\tvalid_1's rmse: 1.01355\tvalid_1's cappa: 0.563713\n",
      "[200]\ttraining's rmse: 0.939455\ttraining's cappa: 0.636256\tvalid_1's rmse: 0.998347\tvalid_1's cappa: 0.575546\n",
      "Early stopping, best iteration is:\n",
      "[138]\ttraining's rmse: 0.9586\ttraining's cappa: 0.622841\tvalid_1's rmse: 1.00243\tvalid_1's cappa: 0.575707\n",
      "parameter 5 91 0.4588796185872247 0.43174066862408705 1 22.539880113618434 35.13032679705348\n",
      "score 1.0024291256230988\n",
      "| \u001b[0m 41      \u001b[0m | \u001b[0m-1.002   \u001b[0m | \u001b[0m 0.4589  \u001b[0m | \u001b[0m 22.54   \u001b[0m | \u001b[0m 35.13   \u001b[0m | \u001b[0m 5.282   \u001b[0m | \u001b[0m 91.67   \u001b[0m | \u001b[0m 0.4317  \u001b[0m | \u001b[0m 1.148   \u001b[0m |\n",
      "Training until validation scores don't improve for 100 rounds\n",
      "[100]\ttraining's rmse: 0.973859\ttraining's cappa: 0.6077\tvalid_1's rmse: 1.01023\tvalid_1's cappa: 0.565739\n",
      "[200]\ttraining's rmse: 0.935298\ttraining's cappa: 0.644391\tvalid_1's rmse: 0.998206\tvalid_1's cappa: 0.57423\n",
      "[300]\ttraining's rmse: 0.911896\ttraining's cappa: 0.668385\tvalid_1's rmse: 0.996456\tvalid_1's cappa: 0.582118\n",
      "[400]\ttraining's rmse: 0.892988\ttraining's cappa: 0.684182\tvalid_1's rmse: 0.996054\tvalid_1's cappa: 0.579776\n",
      "Early stopping, best iteration is:\n",
      "[376]\ttraining's rmse: 0.897277\ttraining's cappa: 0.679382\tvalid_1's rmse: 0.996245\tvalid_1's cappa: 0.584026\n",
      "parameter 13 88 0.7230022006745482 0.3792908759442817 2 35.911061401535896 49.408299812647755\n",
      "score 0.9962450757843812\n",
      "| \u001b[0m 42      \u001b[0m | \u001b[0m-0.9962  \u001b[0m | \u001b[0m 0.723   \u001b[0m | \u001b[0m 35.91   \u001b[0m | \u001b[0m 49.41   \u001b[0m | \u001b[0m 13.19   \u001b[0m | \u001b[0m 88.66   \u001b[0m | \u001b[0m 0.3793  \u001b[0m | \u001b[0m 2.755   \u001b[0m |\n",
      "Training until validation scores don't improve for 100 rounds\n",
      "[100]\ttraining's rmse: 0.970218\ttraining's cappa: 0.611975\tvalid_1's rmse: 1.00779\tvalid_1's cappa: 0.567695\n",
      "[200]\ttraining's rmse: 0.935086\ttraining's cappa: 0.638226\tvalid_1's rmse: 0.99536\tvalid_1's cappa: 0.577481\n",
      "[300]\ttraining's rmse: 0.91493\ttraining's cappa: 0.662274\tvalid_1's rmse: 0.992796\tvalid_1's cappa: 0.577581\n",
      "[400]\ttraining's rmse: 0.899401\ttraining's cappa: 0.676309\tvalid_1's rmse: 0.991469\tvalid_1's cappa: 0.581552\n",
      "[500]\ttraining's rmse: 0.886386\ttraining's cappa: 0.687511\tvalid_1's rmse: 0.99096\tvalid_1's cappa: 0.583619\n",
      "[600]\ttraining's rmse: 0.875073\ttraining's cappa: 0.69825\tvalid_1's rmse: 0.990583\tvalid_1's cappa: 0.584401\n",
      "Early stopping, best iteration is:\n",
      "[578]\ttraining's rmse: 0.877376\ttraining's cappa: 0.695842\tvalid_1's rmse: 0.990405\tvalid_1's cappa: 0.584165\n",
      "parameter 6 57 0.5619533525446602 0.6064954360107078 1 41.20240564467767 23.353525887818435\n",
      "score 0.9904047049572005\n",
      "| \u001b[0m 43      \u001b[0m | \u001b[0m-0.9904  \u001b[0m | \u001b[0m 0.562   \u001b[0m | \u001b[0m 41.2    \u001b[0m | \u001b[0m 23.35   \u001b[0m | \u001b[0m 6.767   \u001b[0m | \u001b[0m 57.24   \u001b[0m | \u001b[0m 0.6065  \u001b[0m | \u001b[0m 1.649   \u001b[0m |\n",
      "Training until validation scores don't improve for 100 rounds\n",
      "[100]\ttraining's rmse: 0.950349\ttraining's cappa: 0.637773\tvalid_1's rmse: 1.01006\tvalid_1's cappa: 0.567654\n",
      "[200]\ttraining's rmse: 0.904254\ttraining's cappa: 0.673214\tvalid_1's rmse: 0.996503\tvalid_1's cappa: 0.57214\n",
      "[300]\ttraining's rmse: 0.87922\ttraining's cappa: 0.694592\tvalid_1's rmse: 0.994273\tvalid_1's cappa: 0.576512\n",
      "Early stopping, best iteration is:\n",
      "[294]\ttraining's rmse: 0.880557\ttraining's cappa: 0.693173\tvalid_1's rmse: 0.994298\tvalid_1's cappa: 0.578672\n",
      "parameter 13 92 0.36054872278328737 0.7987239301716516 1 43.40514921376955 17.138502334316836\n",
      "score 0.9942982331007391\n",
      "| \u001b[0m 44      \u001b[0m | \u001b[0m-0.9943  \u001b[0m | \u001b[0m 0.3605  \u001b[0m | \u001b[0m 43.41   \u001b[0m | \u001b[0m 17.14   \u001b[0m | \u001b[0m 13.69   \u001b[0m | \u001b[0m 92.04   \u001b[0m | \u001b[0m 0.7987  \u001b[0m | \u001b[0m 1.407   \u001b[0m |\n",
      "Training until validation scores don't improve for 100 rounds\n",
      "[100]\ttraining's rmse: 0.87231\ttraining's cappa: 0.714535\tvalid_1's rmse: 1.01057\tvalid_1's cappa: 0.558159\n",
      "[200]\ttraining's rmse: 0.765897\ttraining's cappa: 0.79336\tvalid_1's rmse: 1.00299\tvalid_1's cappa: 0.565154\n",
      "Early stopping, best iteration is:\n",
      "[155]\ttraining's rmse: 0.806349\ttraining's cappa: 0.762129\tvalid_1's rmse: 1.00219\tvalid_1's cappa: 0.564607\n",
      "parameter 12 85 0.30213772073476447 0.5294080287065293 1 1.1161765457046624 34.05951693747008\n",
      "score 1.0021918624194746\n",
      "| \u001b[0m 45      \u001b[0m | \u001b[0m-1.002   \u001b[0m | \u001b[0m 0.3021  \u001b[0m | \u001b[0m 1.116   \u001b[0m | \u001b[0m 34.06   \u001b[0m | \u001b[0m 12.12   \u001b[0m | \u001b[0m 85.26   \u001b[0m | \u001b[0m 0.5294  \u001b[0m | \u001b[0m 1.247   \u001b[0m |\n",
      "Training until validation scores don't improve for 100 rounds\n",
      "[100]\ttraining's rmse: 0.976098\ttraining's cappa: 0.604246\tvalid_1's rmse: 1.0042\tvalid_1's cappa: 0.576758\n",
      "[200]\ttraining's rmse: 0.942768\ttraining's cappa: 0.632963\tvalid_1's rmse: 0.993318\tvalid_1's cappa: 0.574515\n",
      "Early stopping, best iteration is:\n",
      "[121]\ttraining's rmse: 0.966898\ttraining's cappa: 0.612933\tvalid_1's rmse: 1.00004\tvalid_1's cappa: 0.579477\n",
      "parameter 12 15 0.9292094198633061 0.7886332388201778 1 41.76633003563537 35.39668519275507\n",
      "score 1.000042187776001\n",
      "| \u001b[0m 46      \u001b[0m | \u001b[0m-1.0     \u001b[0m | \u001b[0m 0.9292  \u001b[0m | \u001b[0m 41.77   \u001b[0m | \u001b[0m 35.4    \u001b[0m | \u001b[0m 12.71   \u001b[0m | \u001b[0m 15.53   \u001b[0m | \u001b[0m 0.7886  \u001b[0m | \u001b[0m 1.393   \u001b[0m |\n",
      "Training until validation scores don't improve for 100 rounds\n",
      "[100]\ttraining's rmse: 0.942993\ttraining's cappa: 0.643364\tvalid_1's rmse: 0.99918\tvalid_1's cappa: 0.578353\n",
      "[200]\ttraining's rmse: 0.890819\ttraining's cappa: 0.685766\tvalid_1's rmse: 0.991675\tvalid_1's cappa: 0.578206\n",
      "Early stopping, best iteration is:\n",
      "[181]\ttraining's rmse: 0.899179\ttraining's cappa: 0.677307\tvalid_1's rmse: 0.991997\tvalid_1's cappa: 0.581647\n",
      "parameter 7 24 0.5679647418464746 0.48796999692010656 1 3.4473326301964597 45.64387429043037\n",
      "score 0.9919969203055637\n",
      "| \u001b[0m 47      \u001b[0m | \u001b[0m-0.992   \u001b[0m | \u001b[0m 0.568   \u001b[0m | \u001b[0m 3.447   \u001b[0m | \u001b[0m 45.64   \u001b[0m | \u001b[0m 7.308   \u001b[0m | \u001b[0m 24.9    \u001b[0m | \u001b[0m 0.488   \u001b[0m | \u001b[0m 1.47    \u001b[0m |\n",
      "Training until validation scores don't improve for 100 rounds\n",
      "[100]\ttraining's rmse: 0.985606\ttraining's cappa: 0.598015\tvalid_1's rmse: 1.02302\tvalid_1's cappa: 0.557137\n",
      "[200]\ttraining's rmse: 0.94153\ttraining's cappa: 0.638932\tvalid_1's rmse: 1.00417\tvalid_1's cappa: 0.567344\n",
      "[300]\ttraining's rmse: 0.916975\ttraining's cappa: 0.661526\tvalid_1's rmse: 1.00115\tvalid_1's cappa: 0.570885\n",
      "Early stopping, best iteration is:\n",
      "[234]\ttraining's rmse: 0.932428\ttraining's cappa: 0.64925\tvalid_1's rmse: 1.00241\tvalid_1's cappa: 0.574777\n",
      "parameter 11 62 0.33605169062974294 0.25492148873327036 2 23.0257016325751 24.551754234775636\n",
      "score 1.0024142997389962\n",
      "| \u001b[0m 48      \u001b[0m | \u001b[0m-1.002   \u001b[0m | \u001b[0m 0.3361  \u001b[0m | \u001b[0m 23.03   \u001b[0m | \u001b[0m 24.55   \u001b[0m | \u001b[0m 11.11   \u001b[0m | \u001b[0m 62.21   \u001b[0m | \u001b[0m 0.2549  \u001b[0m | \u001b[0m 2.816   \u001b[0m |\n",
      "Training until validation scores don't improve for 100 rounds\n",
      "[100]\ttraining's rmse: 0.953857\ttraining's cappa: 0.628658\tvalid_1's rmse: 0.999806\tvalid_1's cappa: 0.572985\n",
      "[200]\ttraining's rmse: 0.908633\ttraining's cappa: 0.666203\tvalid_1's rmse: 0.991892\tvalid_1's cappa: 0.583083\n",
      "[300]\ttraining's rmse: 0.877289\ttraining's cappa: 0.696845\tvalid_1's rmse: 0.990676\tvalid_1's cappa: 0.578808\n",
      "Early stopping, best iteration is:\n",
      "[205]\ttraining's rmse: 0.906928\ttraining's cappa: 0.668804\tvalid_1's rmse: 0.992359\tvalid_1's cappa: 0.58445\n",
      "parameter 12 20 0.8254793025806912 0.6600091751751669 2 14.29115979278079 36.99737647951849\n",
      "score 0.9923590755878534\n",
      "| \u001b[0m 49      \u001b[0m | \u001b[0m-0.9924  \u001b[0m | \u001b[0m 0.8255  \u001b[0m | \u001b[0m 14.29   \u001b[0m | \u001b[0m 37.0    \u001b[0m | \u001b[0m 12.12   \u001b[0m | \u001b[0m 20.23   \u001b[0m | \u001b[0m 0.66    \u001b[0m | \u001b[0m 2.353   \u001b[0m |\n",
      "Training until validation scores don't improve for 100 rounds\n",
      "[100]\ttraining's rmse: 0.880092\ttraining's cappa: 0.699036\tvalid_1's rmse: 0.993654\tvalid_1's cappa: 0.575941\n",
      "[200]\ttraining's rmse: 0.802189\ttraining's cappa: 0.761835\tvalid_1's rmse: 0.995409\tvalid_1's cappa: 0.577384\n",
      "Early stopping, best iteration is:\n",
      "[120]\ttraining's rmse: 0.862219\ttraining's cappa: 0.712431\tvalid_1's rmse: 0.991286\tvalid_1's cappa: 0.580979\n",
      "parameter 7 59 0.9767945864591154 0.45380315334742466 2 2.4858292398590898 8.775187102480196\n",
      "score 0.9912862867695296\n",
      "| \u001b[0m 50      \u001b[0m | \u001b[0m-0.9913  \u001b[0m | \u001b[0m 0.9768  \u001b[0m | \u001b[0m 2.486   \u001b[0m | \u001b[0m 8.775   \u001b[0m | \u001b[0m 7.579   \u001b[0m | \u001b[0m 59.61   \u001b[0m | \u001b[0m 0.4538  \u001b[0m | \u001b[0m 2.561   \u001b[0m |\n"
     ]
    },
    {
     "name": "stderr",
     "output_type": "stream",
     "text": [
      "/home/jupyter-shliu/.local/lib/python3.6/site-packages/lightgbm/basic.py:285: FutureWarning: elementwise comparison failed; returning scalar instead, but in the future will perform elementwise comparison\n",
      "  if categorical_feature == 'auto':  # use cat cols from DataFrame\n",
      "/home/jupyter-shliu/.local/lib/python3.6/site-packages/lightgbm/engine.py:153: UserWarning: Found `early_stopping_rounds` in params. Will use it instead of argument\n",
      "  warnings.warn(\"Found `{}` in params. Will use it instead of argument\".format(alias))\n",
      "/home/jupyter-shliu/.local/lib/python3.6/site-packages/lightgbm/basic.py:1236: FutureWarning: elementwise comparison failed; returning scalar instead, but in the future will perform elementwise comparison\n",
      "  if self.categorical_feature == categorical_feature:\n",
      "/home/jupyter-shliu/.local/lib/python3.6/site-packages/lightgbm/basic.py:1242: FutureWarning: elementwise comparison failed; returning scalar instead, but in the future will perform elementwise comparison\n",
      "  elif categorical_feature == 'auto':\n",
      "/home/jupyter-shliu/.local/lib/python3.6/site-packages/lightgbm/basic.py:1247: UserWarning: categorical_feature in Dataset is overridden.\n",
      "New categorical_feature is []\n",
      "  'New categorical_feature is {}'.format(sorted(list(categorical_feature))))\n",
      "/home/jupyter-shliu/.local/lib/python3.6/site-packages/lightgbm/basic.py:285: FutureWarning: elementwise comparison failed; returning scalar instead, but in the future will perform elementwise comparison\n",
      "  if categorical_feature == 'auto':  # use cat cols from DataFrame\n"
     ]
    },
    {
     "name": "stdout",
     "output_type": "stream",
     "text": [
      "Training until validation scores don't improve for 100 rounds\n",
      "[100]\ttraining's rmse: 0.903203\ttraining's cappa: 0.677535\tvalid_1's rmse: 0.993866\tvalid_1's cappa: 0.58059\n",
      "[200]\ttraining's rmse: 0.837974\ttraining's cappa: 0.7308\tvalid_1's rmse: 0.988769\tvalid_1's cappa: 0.583957\n",
      "[300]\ttraining's rmse: 0.788741\ttraining's cappa: 0.771247\tvalid_1's rmse: 0.988609\tvalid_1's cappa: 0.583449\n",
      "Early stopping, best iteration is:\n",
      "[234]\ttraining's rmse: 0.821976\ttraining's cappa: 0.744387\tvalid_1's rmse: 0.987809\tvalid_1's cappa: 0.585201\n",
      "parameter 6 69 0.9896652974630027 0.9024131180066999 2 0.36318253960870817 49.96644807584781\n",
      "score 0.9878093697995112\n",
      "| \u001b[0m 51      \u001b[0m | \u001b[0m-0.9878  \u001b[0m | \u001b[0m 0.9897  \u001b[0m | \u001b[0m 0.3632  \u001b[0m | \u001b[0m 49.97   \u001b[0m | \u001b[0m 6.651   \u001b[0m | \u001b[0m 69.54   \u001b[0m | \u001b[0m 0.9024  \u001b[0m | \u001b[0m 2.937   \u001b[0m |\n"
     ]
    },
    {
     "name": "stderr",
     "output_type": "stream",
     "text": [
      "/home/jupyter-shliu/.local/lib/python3.6/site-packages/lightgbm/engine.py:153: UserWarning: Found `early_stopping_rounds` in params. Will use it instead of argument\n",
      "  warnings.warn(\"Found `{}` in params. Will use it instead of argument\".format(alias))\n",
      "/home/jupyter-shliu/.local/lib/python3.6/site-packages/lightgbm/basic.py:1236: FutureWarning: elementwise comparison failed; returning scalar instead, but in the future will perform elementwise comparison\n",
      "  if self.categorical_feature == categorical_feature:\n",
      "/home/jupyter-shliu/.local/lib/python3.6/site-packages/lightgbm/basic.py:1242: FutureWarning: elementwise comparison failed; returning scalar instead, but in the future will perform elementwise comparison\n",
      "  elif categorical_feature == 'auto':\n",
      "/home/jupyter-shliu/.local/lib/python3.6/site-packages/lightgbm/basic.py:1247: UserWarning: categorical_feature in Dataset is overridden.\n",
      "New categorical_feature is []\n",
      "  'New categorical_feature is {}'.format(sorted(list(categorical_feature))))\n",
      "/home/jupyter-shliu/.local/lib/python3.6/site-packages/lightgbm/basic.py:285: FutureWarning: elementwise comparison failed; returning scalar instead, but in the future will perform elementwise comparison\n",
      "  if categorical_feature == 'auto':  # use cat cols from DataFrame\n"
     ]
    },
    {
     "name": "stdout",
     "output_type": "stream",
     "text": [
      "Training until validation scores don't improve for 100 rounds\n",
      "[100]\ttraining's rmse: 0.97613\ttraining's cappa: 0.604241\tvalid_1's rmse: 1.00361\tvalid_1's cappa: 0.573646\n",
      "[200]\ttraining's rmse: 0.9435\ttraining's cappa: 0.633037\tvalid_1's rmse: 0.993327\tvalid_1's cappa: 0.579403\n",
      "[300]\ttraining's rmse: 0.92496\ttraining's cappa: 0.650527\tvalid_1's rmse: 0.990792\tvalid_1's cappa: 0.584353\n",
      "Early stopping, best iteration is:\n",
      "[260]\ttraining's rmse: 0.93178\ttraining's cappa: 0.644123\tvalid_1's rmse: 0.99142\tvalid_1's cappa: 0.587543\n",
      "parameter 15 15 0.8303513689026862 0.7995371425358297 2 47.93608254857949 1.7850028735136994\n",
      "score 0.9914198436390008\n",
      "| \u001b[0m 52      \u001b[0m | \u001b[0m-0.9914  \u001b[0m | \u001b[0m 0.8304  \u001b[0m | \u001b[0m 47.94   \u001b[0m | \u001b[0m 1.785   \u001b[0m | \u001b[0m 15.49   \u001b[0m | \u001b[0m 15.26   \u001b[0m | \u001b[0m 0.7995  \u001b[0m | \u001b[0m 2.997   \u001b[0m |\n"
     ]
    },
    {
     "name": "stderr",
     "output_type": "stream",
     "text": [
      "/home/jupyter-shliu/.local/lib/python3.6/site-packages/lightgbm/engine.py:153: UserWarning: Found `early_stopping_rounds` in params. Will use it instead of argument\n",
      "  warnings.warn(\"Found `{}` in params. Will use it instead of argument\".format(alias))\n",
      "/home/jupyter-shliu/.local/lib/python3.6/site-packages/lightgbm/basic.py:1236: FutureWarning: elementwise comparison failed; returning scalar instead, but in the future will perform elementwise comparison\n",
      "  if self.categorical_feature == categorical_feature:\n",
      "/home/jupyter-shliu/.local/lib/python3.6/site-packages/lightgbm/basic.py:1242: FutureWarning: elementwise comparison failed; returning scalar instead, but in the future will perform elementwise comparison\n",
      "  elif categorical_feature == 'auto':\n",
      "/home/jupyter-shliu/.local/lib/python3.6/site-packages/lightgbm/basic.py:1247: UserWarning: categorical_feature in Dataset is overridden.\n",
      "New categorical_feature is []\n",
      "  'New categorical_feature is {}'.format(sorted(list(categorical_feature))))\n",
      "/home/jupyter-shliu/.local/lib/python3.6/site-packages/lightgbm/basic.py:285: FutureWarning: elementwise comparison failed; returning scalar instead, but in the future will perform elementwise comparison\n",
      "  if categorical_feature == 'auto':  # use cat cols from DataFrame\n"
     ]
    },
    {
     "name": "stdout",
     "output_type": "stream",
     "text": [
      "Training until validation scores don't improve for 100 rounds\n",
      "[100]\ttraining's rmse: 0.731621\ttraining's cappa: 0.818031\tvalid_1's rmse: 0.993724\tvalid_1's cappa: 0.576095\n",
      "Early stopping, best iteration is:\n",
      "[78]\ttraining's rmse: 0.77378\ttraining's cappa: 0.795804\tvalid_1's rmse: 0.993588\tvalid_1's cappa: 0.579874\n",
      "parameter 10 99 0.5700396916964394 0.9000672183501257 2 0.5376684115660048 0.6492977432894768\n",
      "score 0.9935878623040706\n",
      "| \u001b[0m 53      \u001b[0m | \u001b[0m-0.9936  \u001b[0m | \u001b[0m 0.57    \u001b[0m | \u001b[0m 0.5377  \u001b[0m | \u001b[0m 0.6493  \u001b[0m | \u001b[0m 10.53   \u001b[0m | \u001b[0m 99.05   \u001b[0m | \u001b[0m 0.9001  \u001b[0m | \u001b[0m 2.3     \u001b[0m |\n"
     ]
    },
    {
     "name": "stderr",
     "output_type": "stream",
     "text": [
      "/home/jupyter-shliu/.local/lib/python3.6/site-packages/lightgbm/engine.py:153: UserWarning: Found `early_stopping_rounds` in params. Will use it instead of argument\n",
      "  warnings.warn(\"Found `{}` in params. Will use it instead of argument\".format(alias))\n",
      "/home/jupyter-shliu/.local/lib/python3.6/site-packages/lightgbm/basic.py:1236: FutureWarning: elementwise comparison failed; returning scalar instead, but in the future will perform elementwise comparison\n",
      "  if self.categorical_feature == categorical_feature:\n",
      "/home/jupyter-shliu/.local/lib/python3.6/site-packages/lightgbm/basic.py:1242: FutureWarning: elementwise comparison failed; returning scalar instead, but in the future will perform elementwise comparison\n",
      "  elif categorical_feature == 'auto':\n",
      "/home/jupyter-shliu/.local/lib/python3.6/site-packages/lightgbm/basic.py:1247: UserWarning: categorical_feature in Dataset is overridden.\n",
      "New categorical_feature is []\n",
      "  'New categorical_feature is {}'.format(sorted(list(categorical_feature))))\n",
      "/home/jupyter-shliu/.local/lib/python3.6/site-packages/lightgbm/basic.py:285: FutureWarning: elementwise comparison failed; returning scalar instead, but in the future will perform elementwise comparison\n",
      "  if categorical_feature == 'auto':  # use cat cols from DataFrame\n"
     ]
    },
    {
     "name": "stdout",
     "output_type": "stream",
     "text": [
      "Training until validation scores don't improve for 100 rounds\n",
      "[100]\ttraining's rmse: 0.964904\ttraining's cappa: 0.615733\tvalid_1's rmse: 1.00359\tvalid_1's cappa: 0.574968\n",
      "[200]\ttraining's rmse: 0.929855\ttraining's cappa: 0.644997\tvalid_1's rmse: 0.995035\tvalid_1's cappa: 0.574349\n",
      "[300]\ttraining's rmse: 0.911143\ttraining's cappa: 0.663301\tvalid_1's rmse: 0.992801\tvalid_1's cappa: 0.578055\n",
      "[400]\ttraining's rmse: 0.897638\ttraining's cappa: 0.676203\tvalid_1's rmse: 0.991723\tvalid_1's cappa: 0.579356\n",
      "Early stopping, best iteration is:\n",
      "[346]\ttraining's rmse: 0.904683\ttraining's cappa: 0.668961\tvalid_1's rmse: 0.992288\tvalid_1's cappa: 0.581123\n",
      "parameter 6 98 0.715596166967537 0.7965930064395683 2 49.87991842100185 2.3049595123688067\n",
      "score 0.9922881763284561\n",
      "| \u001b[0m 54      \u001b[0m | \u001b[0m-0.9923  \u001b[0m | \u001b[0m 0.7156  \u001b[0m | \u001b[0m 49.88   \u001b[0m | \u001b[0m 2.305   \u001b[0m | \u001b[0m 6.765   \u001b[0m | \u001b[0m 98.44   \u001b[0m | \u001b[0m 0.7966  \u001b[0m | \u001b[0m 2.616   \u001b[0m |\n"
     ]
    },
    {
     "name": "stderr",
     "output_type": "stream",
     "text": [
      "/home/jupyter-shliu/.local/lib/python3.6/site-packages/lightgbm/engine.py:153: UserWarning: Found `early_stopping_rounds` in params. Will use it instead of argument\n",
      "  warnings.warn(\"Found `{}` in params. Will use it instead of argument\".format(alias))\n",
      "/home/jupyter-shliu/.local/lib/python3.6/site-packages/lightgbm/basic.py:1236: FutureWarning: elementwise comparison failed; returning scalar instead, but in the future will perform elementwise comparison\n",
      "  if self.categorical_feature == categorical_feature:\n",
      "/home/jupyter-shliu/.local/lib/python3.6/site-packages/lightgbm/basic.py:1242: FutureWarning: elementwise comparison failed; returning scalar instead, but in the future will perform elementwise comparison\n",
      "  elif categorical_feature == 'auto':\n",
      "/home/jupyter-shliu/.local/lib/python3.6/site-packages/lightgbm/basic.py:1247: UserWarning: categorical_feature in Dataset is overridden.\n",
      "New categorical_feature is []\n",
      "  'New categorical_feature is {}'.format(sorted(list(categorical_feature))))\n"
     ]
    },
    {
     "name": "stdout",
     "output_type": "stream",
     "text": [
      "Training until validation scores don't improve for 100 rounds\n",
      "[100]\ttraining's rmse: 0.885951\ttraining's cappa: 0.693477\tvalid_1's rmse: 0.99097\tvalid_1's cappa: 0.586008\n",
      "[200]\ttraining's rmse: 0.809103\ttraining's cappa: 0.754158\tvalid_1's rmse: 0.988957\tvalid_1's cappa: 0.580728\n",
      "Early stopping, best iteration is:\n",
      "[113]\ttraining's rmse: 0.873612\ttraining's cappa: 0.703464\tvalid_1's rmse: 0.989905\tvalid_1's cappa: 0.589768\n",
      "parameter 15 34 0.7508800811812533 0.9835969087060015 2 2.1299546090018646 12.446706511255645\n",
      "score 0.9899053065919561\n",
      "| \u001b[0m 55      \u001b[0m | \u001b[0m-0.9899  \u001b[0m | \u001b[0m 0.7509  \u001b[0m | \u001b[0m 2.13    \u001b[0m | \u001b[0m 12.45   \u001b[0m | \u001b[0m 15.95   \u001b[0m | \u001b[0m 34.17   \u001b[0m | \u001b[0m 0.9836  \u001b[0m | \u001b[0m 2.891   \u001b[0m |\n"
     ]
    },
    {
     "name": "stderr",
     "output_type": "stream",
     "text": [
      "/home/jupyter-shliu/.local/lib/python3.6/site-packages/lightgbm/basic.py:285: FutureWarning: elementwise comparison failed; returning scalar instead, but in the future will perform elementwise comparison\n",
      "  if categorical_feature == 'auto':  # use cat cols from DataFrame\n",
      "/home/jupyter-shliu/.local/lib/python3.6/site-packages/lightgbm/engine.py:153: UserWarning: Found `early_stopping_rounds` in params. Will use it instead of argument\n",
      "  warnings.warn(\"Found `{}` in params. Will use it instead of argument\".format(alias))\n",
      "/home/jupyter-shliu/.local/lib/python3.6/site-packages/lightgbm/basic.py:1236: FutureWarning: elementwise comparison failed; returning scalar instead, but in the future will perform elementwise comparison\n",
      "  if self.categorical_feature == categorical_feature:\n",
      "/home/jupyter-shliu/.local/lib/python3.6/site-packages/lightgbm/basic.py:1242: FutureWarning: elementwise comparison failed; returning scalar instead, but in the future will perform elementwise comparison\n",
      "  elif categorical_feature == 'auto':\n",
      "/home/jupyter-shliu/.local/lib/python3.6/site-packages/lightgbm/basic.py:1247: UserWarning: categorical_feature in Dataset is overridden.\n",
      "New categorical_feature is []\n",
      "  'New categorical_feature is {}'.format(sorted(list(categorical_feature))))\n",
      "/home/jupyter-shliu/.local/lib/python3.6/site-packages/lightgbm/basic.py:285: FutureWarning: elementwise comparison failed; returning scalar instead, but in the future will perform elementwise comparison\n",
      "  if categorical_feature == 'auto':  # use cat cols from DataFrame\n"
     ]
    },
    {
     "name": "stdout",
     "output_type": "stream",
     "text": [
      "Training until validation scores don't improve for 100 rounds\n",
      "[100]\ttraining's rmse: 0.863581\ttraining's cappa: 0.718654\tvalid_1's rmse: 0.996208\tvalid_1's cappa: 0.579046\n",
      "[200]\ttraining's rmse: 0.774386\ttraining's cappa: 0.782491\tvalid_1's rmse: 0.994708\tvalid_1's cappa: 0.578352\n",
      "Early stopping, best iteration is:\n",
      "[152]\ttraining's rmse: 0.811818\ttraining's cappa: 0.755879\tvalid_1's rmse: 0.994008\tvalid_1's cappa: 0.582181\n",
      "parameter 14 98 0.9885668978402709 0.9855379958197792 1 23.91962332984926 0.3384657122492253\n",
      "score 0.9940078415443789\n",
      "| \u001b[0m 56      \u001b[0m | \u001b[0m-0.994   \u001b[0m | \u001b[0m 0.9886  \u001b[0m | \u001b[0m 23.92   \u001b[0m | \u001b[0m 0.3385  \u001b[0m | \u001b[0m 14.53   \u001b[0m | \u001b[0m 98.51   \u001b[0m | \u001b[0m 0.9855  \u001b[0m | \u001b[0m 1.313   \u001b[0m |\n"
     ]
    },
    {
     "name": "stderr",
     "output_type": "stream",
     "text": [
      "/home/jupyter-shliu/.local/lib/python3.6/site-packages/lightgbm/engine.py:153: UserWarning: Found `early_stopping_rounds` in params. Will use it instead of argument\n",
      "  warnings.warn(\"Found `{}` in params. Will use it instead of argument\".format(alias))\n",
      "/home/jupyter-shliu/.local/lib/python3.6/site-packages/lightgbm/basic.py:1236: FutureWarning: elementwise comparison failed; returning scalar instead, but in the future will perform elementwise comparison\n",
      "  if self.categorical_feature == categorical_feature:\n",
      "/home/jupyter-shliu/.local/lib/python3.6/site-packages/lightgbm/basic.py:1242: FutureWarning: elementwise comparison failed; returning scalar instead, but in the future will perform elementwise comparison\n",
      "  elif categorical_feature == 'auto':\n",
      "/home/jupyter-shliu/.local/lib/python3.6/site-packages/lightgbm/basic.py:1247: UserWarning: categorical_feature in Dataset is overridden.\n",
      "New categorical_feature is []\n",
      "  'New categorical_feature is {}'.format(sorted(list(categorical_feature))))\n",
      "/home/jupyter-shliu/.local/lib/python3.6/site-packages/lightgbm/basic.py:285: FutureWarning: elementwise comparison failed; returning scalar instead, but in the future will perform elementwise comparison\n",
      "  if categorical_feature == 'auto':  # use cat cols from DataFrame\n"
     ]
    },
    {
     "name": "stdout",
     "output_type": "stream",
     "text": [
      "Training until validation scores don't improve for 100 rounds\n",
      "[100]\ttraining's rmse: 0.983691\ttraining's cappa: 0.596653\tvalid_1's rmse: 1.00896\tvalid_1's cappa: 0.573659\n",
      "[200]\ttraining's rmse: 0.951967\ttraining's cappa: 0.627144\tvalid_1's rmse: 0.997498\tvalid_1's cappa: 0.574747\n",
      "[300]\ttraining's rmse: 0.935458\ttraining's cappa: 0.641733\tvalid_1's rmse: 0.994328\tvalid_1's cappa: 0.579627\n",
      "[400]\ttraining's rmse: 0.923016\ttraining's cappa: 0.656394\tvalid_1's rmse: 0.992307\tvalid_1's cappa: 0.582715\n",
      "Early stopping, best iteration is:\n",
      "[330]\ttraining's rmse: 0.931488\ttraining's cappa: 0.646602\tvalid_1's rmse: 0.993244\tvalid_1's cappa: 0.585605\n",
      "parameter 5 15 0.6571614401669488 0.703795546455497 1 49.909251963167264 6.452509964436969\n",
      "score 0.9932440870386876\n",
      "| \u001b[0m 57      \u001b[0m | \u001b[0m-0.9932  \u001b[0m | \u001b[0m 0.6572  \u001b[0m | \u001b[0m 49.91   \u001b[0m | \u001b[0m 6.453   \u001b[0m | \u001b[0m 5.353   \u001b[0m | \u001b[0m 15.49   \u001b[0m | \u001b[0m 0.7038  \u001b[0m | \u001b[0m 1.201   \u001b[0m |\n"
     ]
    },
    {
     "name": "stderr",
     "output_type": "stream",
     "text": [
      "/home/jupyter-shliu/.local/lib/python3.6/site-packages/lightgbm/engine.py:153: UserWarning: Found `early_stopping_rounds` in params. Will use it instead of argument\n",
      "  warnings.warn(\"Found `{}` in params. Will use it instead of argument\".format(alias))\n",
      "/home/jupyter-shliu/.local/lib/python3.6/site-packages/lightgbm/basic.py:1236: FutureWarning: elementwise comparison failed; returning scalar instead, but in the future will perform elementwise comparison\n",
      "  if self.categorical_feature == categorical_feature:\n",
      "/home/jupyter-shliu/.local/lib/python3.6/site-packages/lightgbm/basic.py:1242: FutureWarning: elementwise comparison failed; returning scalar instead, but in the future will perform elementwise comparison\n",
      "  elif categorical_feature == 'auto':\n",
      "/home/jupyter-shliu/.local/lib/python3.6/site-packages/lightgbm/basic.py:1247: UserWarning: categorical_feature in Dataset is overridden.\n",
      "New categorical_feature is []\n",
      "  'New categorical_feature is {}'.format(sorted(list(categorical_feature))))\n"
     ]
    },
    {
     "name": "stdout",
     "output_type": "stream",
     "text": [
      "Training until validation scores don't improve for 100 rounds\n",
      "[100]\ttraining's rmse: 0.955985\ttraining's cappa: 0.623225\tvalid_1's rmse: 0.997669\tvalid_1's cappa: 0.579851\n",
      "[200]\ttraining's rmse: 0.911696\ttraining's cappa: 0.664492\tvalid_1's rmse: 0.989849\tvalid_1's cappa: 0.582226\n",
      "[300]\ttraining's rmse: 0.88082\ttraining's cappa: 0.689807\tvalid_1's rmse: 0.989038\tvalid_1's cappa: 0.585329\n",
      "Early stopping, best iteration is:\n",
      "[275]\ttraining's rmse: 0.887886\ttraining's cappa: 0.683981\tvalid_1's rmse: 0.988498\tvalid_1's cappa: 0.583115\n",
      "parameter 6 16 0.812670742632813 0.9743720478525006 1 3.0481157279547757 49.89030792362334\n",
      "score 0.9884979328850875\n",
      "| \u001b[0m 58      \u001b[0m | \u001b[0m-0.9885  \u001b[0m | \u001b[0m 0.8127  \u001b[0m | \u001b[0m 3.048   \u001b[0m | \u001b[0m 49.89   \u001b[0m | \u001b[0m 6.32    \u001b[0m | \u001b[0m 16.38   \u001b[0m | \u001b[0m 0.9744  \u001b[0m | \u001b[0m 1.959   \u001b[0m |\n"
     ]
    },
    {
     "name": "stderr",
     "output_type": "stream",
     "text": [
      "/home/jupyter-shliu/.local/lib/python3.6/site-packages/lightgbm/basic.py:285: FutureWarning: elementwise comparison failed; returning scalar instead, but in the future will perform elementwise comparison\n",
      "  if categorical_feature == 'auto':  # use cat cols from DataFrame\n",
      "/home/jupyter-shliu/.local/lib/python3.6/site-packages/lightgbm/engine.py:153: UserWarning: Found `early_stopping_rounds` in params. Will use it instead of argument\n",
      "  warnings.warn(\"Found `{}` in params. Will use it instead of argument\".format(alias))\n",
      "/home/jupyter-shliu/.local/lib/python3.6/site-packages/lightgbm/basic.py:1236: FutureWarning: elementwise comparison failed; returning scalar instead, but in the future will perform elementwise comparison\n",
      "  if self.categorical_feature == categorical_feature:\n",
      "/home/jupyter-shliu/.local/lib/python3.6/site-packages/lightgbm/basic.py:1242: FutureWarning: elementwise comparison failed; returning scalar instead, but in the future will perform elementwise comparison\n",
      "  elif categorical_feature == 'auto':\n",
      "/home/jupyter-shliu/.local/lib/python3.6/site-packages/lightgbm/basic.py:1247: UserWarning: categorical_feature in Dataset is overridden.\n",
      "New categorical_feature is []\n",
      "  'New categorical_feature is {}'.format(sorted(list(categorical_feature))))\n",
      "/home/jupyter-shliu/.local/lib/python3.6/site-packages/lightgbm/basic.py:285: FutureWarning: elementwise comparison failed; returning scalar instead, but in the future will perform elementwise comparison\n",
      "  if categorical_feature == 'auto':  # use cat cols from DataFrame\n"
     ]
    },
    {
     "name": "stdout",
     "output_type": "stream",
     "text": [
      "Training until validation scores don't improve for 100 rounds\n",
      "[100]\ttraining's rmse: 0.896223\ttraining's cappa: 0.688435\tvalid_1's rmse: 0.994531\tvalid_1's cappa: 0.576924\n",
      "[200]\ttraining's rmse: 0.820551\ttraining's cappa: 0.750485\tvalid_1's rmse: 0.989052\tvalid_1's cappa: 0.587184\n",
      "[300]\ttraining's rmse: 0.767711\ttraining's cappa: 0.789819\tvalid_1's rmse: 0.989438\tvalid_1's cappa: 0.593897\n",
      "Early stopping, best iteration is:\n",
      "[272]\ttraining's rmse: 0.781066\ttraining's cappa: 0.778322\tvalid_1's rmse: 0.988707\tvalid_1's cappa: 0.592687\n",
      "parameter 15 68 0.5644077406607297 0.9809674548141676 2 19.915706743276726 49.41255781257817\n",
      "score 0.9887070615133603\n",
      "| \u001b[0m 59      \u001b[0m | \u001b[0m-0.9887  \u001b[0m | \u001b[0m 0.5644  \u001b[0m | \u001b[0m 19.92   \u001b[0m | \u001b[0m 49.41   \u001b[0m | \u001b[0m 15.86   \u001b[0m | \u001b[0m 68.39   \u001b[0m | \u001b[0m 0.981   \u001b[0m | \u001b[0m 2.384   \u001b[0m |\n"
     ]
    },
    {
     "name": "stderr",
     "output_type": "stream",
     "text": [
      "/home/jupyter-shliu/.local/lib/python3.6/site-packages/lightgbm/engine.py:153: UserWarning: Found `early_stopping_rounds` in params. Will use it instead of argument\n",
      "  warnings.warn(\"Found `{}` in params. Will use it instead of argument\".format(alias))\n",
      "/home/jupyter-shliu/.local/lib/python3.6/site-packages/lightgbm/basic.py:1236: FutureWarning: elementwise comparison failed; returning scalar instead, but in the future will perform elementwise comparison\n",
      "  if self.categorical_feature == categorical_feature:\n",
      "/home/jupyter-shliu/.local/lib/python3.6/site-packages/lightgbm/basic.py:1242: FutureWarning: elementwise comparison failed; returning scalar instead, but in the future will perform elementwise comparison\n",
      "  elif categorical_feature == 'auto':\n",
      "/home/jupyter-shliu/.local/lib/python3.6/site-packages/lightgbm/basic.py:1247: UserWarning: categorical_feature in Dataset is overridden.\n",
      "New categorical_feature is []\n",
      "  'New categorical_feature is {}'.format(sorted(list(categorical_feature))))\n",
      "/home/jupyter-shliu/.local/lib/python3.6/site-packages/lightgbm/basic.py:285: FutureWarning: elementwise comparison failed; returning scalar instead, but in the future will perform elementwise comparison\n",
      "  if categorical_feature == 'auto':  # use cat cols from DataFrame\n"
     ]
    },
    {
     "name": "stdout",
     "output_type": "stream",
     "text": [
      "Training until validation scores don't improve for 100 rounds\n",
      "[100]\ttraining's rmse: 0.972006\ttraining's cappa: 0.608154\tvalid_1's rmse: 1.0073\tvalid_1's cappa: 0.564502\n",
      "[200]\ttraining's rmse: 0.936816\ttraining's cappa: 0.636549\tvalid_1's rmse: 0.996106\tvalid_1's cappa: 0.578211\n",
      "[300]\ttraining's rmse: 0.91863\ttraining's cappa: 0.653417\tvalid_1's rmse: 0.993628\tvalid_1's cappa: 0.579894\n",
      "Early stopping, best iteration is:\n",
      "[216]\ttraining's rmse: 0.933241\ttraining's cappa: 0.639374\tvalid_1's rmse: 0.995752\tvalid_1's cappa: 0.580465\n",
      "parameter 5 99 0.9955999791168573 0.9738913109054921 2 49.344169444255435 20.73736038501023\n",
      "score 0.9957519378240355\n",
      "| \u001b[0m 60      \u001b[0m | \u001b[0m-0.9958  \u001b[0m | \u001b[0m 0.9956  \u001b[0m | \u001b[0m 49.34   \u001b[0m | \u001b[0m 20.74   \u001b[0m | \u001b[0m 5.232   \u001b[0m | \u001b[0m 99.78   \u001b[0m | \u001b[0m 0.9739  \u001b[0m | \u001b[0m 2.756   \u001b[0m |\n"
     ]
    },
    {
     "name": "stderr",
     "output_type": "stream",
     "text": [
      "/home/jupyter-shliu/.local/lib/python3.6/site-packages/lightgbm/engine.py:153: UserWarning: Found `early_stopping_rounds` in params. Will use it instead of argument\n",
      "  warnings.warn(\"Found `{}` in params. Will use it instead of argument\".format(alias))\n",
      "/home/jupyter-shliu/.local/lib/python3.6/site-packages/lightgbm/basic.py:1236: FutureWarning: elementwise comparison failed; returning scalar instead, but in the future will perform elementwise comparison\n",
      "  if self.categorical_feature == categorical_feature:\n",
      "/home/jupyter-shliu/.local/lib/python3.6/site-packages/lightgbm/basic.py:1242: FutureWarning: elementwise comparison failed; returning scalar instead, but in the future will perform elementwise comparison\n",
      "  elif categorical_feature == 'auto':\n",
      "/home/jupyter-shliu/.local/lib/python3.6/site-packages/lightgbm/basic.py:1247: UserWarning: categorical_feature in Dataset is overridden.\n",
      "New categorical_feature is []\n",
      "  'New categorical_feature is {}'.format(sorted(list(categorical_feature))))\n",
      "/home/jupyter-shliu/.local/lib/python3.6/site-packages/lightgbm/basic.py:285: FutureWarning: elementwise comparison failed; returning scalar instead, but in the future will perform elementwise comparison\n",
      "  if categorical_feature == 'auto':  # use cat cols from DataFrame\n"
     ]
    },
    {
     "name": "stdout",
     "output_type": "stream",
     "text": [
      "Training until validation scores don't improve for 100 rounds\n",
      "[100]\ttraining's rmse: 0.937143\ttraining's cappa: 0.643926\tvalid_1's rmse: 0.997837\tvalid_1's cappa: 0.575222\n",
      "[200]\ttraining's rmse: 0.883657\ttraining's cappa: 0.694597\tvalid_1's rmse: 0.99048\tvalid_1's cappa: 0.582948\n",
      "Early stopping, best iteration is:\n",
      "[157]\ttraining's rmse: 0.903531\ttraining's cappa: 0.674677\tvalid_1's rmse: 0.99162\tvalid_1's cappa: 0.585819\n",
      "parameter 5 45 0.844183692616364 0.9540358671328406 2 2.6955925754489622 49.42883095939035\n",
      "score 0.9916200718973325\n",
      "| \u001b[0m 61      \u001b[0m | \u001b[0m-0.9916  \u001b[0m | \u001b[0m 0.8442  \u001b[0m | \u001b[0m 2.696   \u001b[0m | \u001b[0m 49.43   \u001b[0m | \u001b[0m 5.044   \u001b[0m | \u001b[0m 45.09   \u001b[0m | \u001b[0m 0.954   \u001b[0m | \u001b[0m 2.402   \u001b[0m |\n"
     ]
    },
    {
     "name": "stderr",
     "output_type": "stream",
     "text": [
      "/home/jupyter-shliu/.local/lib/python3.6/site-packages/lightgbm/engine.py:153: UserWarning: Found `early_stopping_rounds` in params. Will use it instead of argument\n",
      "  warnings.warn(\"Found `{}` in params. Will use it instead of argument\".format(alias))\n",
      "/home/jupyter-shliu/.local/lib/python3.6/site-packages/lightgbm/basic.py:1236: FutureWarning: elementwise comparison failed; returning scalar instead, but in the future will perform elementwise comparison\n",
      "  if self.categorical_feature == categorical_feature:\n",
      "/home/jupyter-shliu/.local/lib/python3.6/site-packages/lightgbm/basic.py:1242: FutureWarning: elementwise comparison failed; returning scalar instead, but in the future will perform elementwise comparison\n",
      "  elif categorical_feature == 'auto':\n",
      "/home/jupyter-shliu/.local/lib/python3.6/site-packages/lightgbm/basic.py:1247: UserWarning: categorical_feature in Dataset is overridden.\n",
      "New categorical_feature is []\n",
      "  'New categorical_feature is {}'.format(sorted(list(categorical_feature))))\n",
      "/home/jupyter-shliu/.local/lib/python3.6/site-packages/lightgbm/basic.py:285: FutureWarning: elementwise comparison failed; returning scalar instead, but in the future will perform elementwise comparison\n",
      "  if categorical_feature == 'auto':  # use cat cols from DataFrame\n"
     ]
    },
    {
     "name": "stdout",
     "output_type": "stream",
     "text": [
      "Training until validation scores don't improve for 100 rounds\n",
      "[100]\ttraining's rmse: 0.946255\ttraining's cappa: 0.635402\tvalid_1's rmse: 0.998947\tvalid_1's cappa: 0.576116\n",
      "[200]\ttraining's rmse: 0.893672\ttraining's cappa: 0.681626\tvalid_1's rmse: 0.991615\tvalid_1's cappa: 0.581813\n",
      "[300]\ttraining's rmse: 0.856886\ttraining's cappa: 0.715186\tvalid_1's rmse: 0.990672\tvalid_1's cappa: 0.588911\n",
      "Early stopping, best iteration is:\n",
      "[256]\ttraining's rmse: 0.872411\ttraining's cappa: 0.700037\tvalid_1's rmse: 0.9901\tvalid_1's cappa: 0.586282\n",
      "parameter 5 99 0.9874040769937753 0.8542614944334204 2 7.580202494616262 49.527857351990654\n",
      "score 0.990099704385533\n",
      "| \u001b[0m 62      \u001b[0m | \u001b[0m-0.9901  \u001b[0m | \u001b[0m 0.9874  \u001b[0m | \u001b[0m 7.58    \u001b[0m | \u001b[0m 49.53   \u001b[0m | \u001b[0m 5.15    \u001b[0m | \u001b[0m 99.37   \u001b[0m | \u001b[0m 0.8543  \u001b[0m | \u001b[0m 2.888   \u001b[0m |\n"
     ]
    },
    {
     "name": "stderr",
     "output_type": "stream",
     "text": [
      "/home/jupyter-shliu/.local/lib/python3.6/site-packages/lightgbm/engine.py:153: UserWarning: Found `early_stopping_rounds` in params. Will use it instead of argument\n",
      "  warnings.warn(\"Found `{}` in params. Will use it instead of argument\".format(alias))\n",
      "/home/jupyter-shliu/.local/lib/python3.6/site-packages/lightgbm/basic.py:1236: FutureWarning: elementwise comparison failed; returning scalar instead, but in the future will perform elementwise comparison\n",
      "  if self.categorical_feature == categorical_feature:\n",
      "/home/jupyter-shliu/.local/lib/python3.6/site-packages/lightgbm/basic.py:1242: FutureWarning: elementwise comparison failed; returning scalar instead, but in the future will perform elementwise comparison\n",
      "  elif categorical_feature == 'auto':\n",
      "/home/jupyter-shliu/.local/lib/python3.6/site-packages/lightgbm/basic.py:1247: UserWarning: categorical_feature in Dataset is overridden.\n",
      "New categorical_feature is []\n",
      "  'New categorical_feature is {}'.format(sorted(list(categorical_feature))))\n",
      "/home/jupyter-shliu/.local/lib/python3.6/site-packages/lightgbm/basic.py:285: FutureWarning: elementwise comparison failed; returning scalar instead, but in the future will perform elementwise comparison\n",
      "  if categorical_feature == 'auto':  # use cat cols from DataFrame\n"
     ]
    },
    {
     "name": "stdout",
     "output_type": "stream",
     "text": [
      "Training until validation scores don't improve for 100 rounds\n",
      "[100]\ttraining's rmse: 0.974721\ttraining's cappa: 0.605058\tvalid_1's rmse: 1.00325\tvalid_1's cappa: 0.574455\n",
      "[200]\ttraining's rmse: 0.941104\ttraining's cappa: 0.634591\tvalid_1's rmse: 0.992452\tvalid_1's cappa: 0.581823\n",
      "[300]\ttraining's rmse: 0.922718\ttraining's cappa: 0.652086\tvalid_1's rmse: 0.990329\tvalid_1's cappa: 0.584037\n",
      "[400]\ttraining's rmse: 0.909268\ttraining's cappa: 0.666635\tvalid_1's rmse: 0.989353\tvalid_1's cappa: 0.586522\n",
      "[500]\ttraining's rmse: 0.898336\ttraining's cappa: 0.679333\tvalid_1's rmse: 0.988935\tvalid_1's cappa: 0.588553\n",
      "Early stopping, best iteration is:\n",
      "[429]\ttraining's rmse: 0.905935\ttraining's cappa: 0.670611\tvalid_1's rmse: 0.989092\tvalid_1's cappa: 0.590272\n",
      "parameter 15 15 0.8667301898379374 0.9726958309933591 1 47.52743088562922 17.4538315648704\n",
      "score 0.9890922959283254\n",
      "| \u001b[0m 63      \u001b[0m | \u001b[0m-0.9891  \u001b[0m | \u001b[0m 0.8667  \u001b[0m | \u001b[0m 47.53   \u001b[0m | \u001b[0m 17.45   \u001b[0m | \u001b[0m 15.55   \u001b[0m | \u001b[0m 15.35   \u001b[0m | \u001b[0m 0.9727  \u001b[0m | \u001b[0m 1.253   \u001b[0m |\n"
     ]
    },
    {
     "name": "stderr",
     "output_type": "stream",
     "text": [
      "/home/jupyter-shliu/.local/lib/python3.6/site-packages/lightgbm/engine.py:153: UserWarning: Found `early_stopping_rounds` in params. Will use it instead of argument\n",
      "  warnings.warn(\"Found `{}` in params. Will use it instead of argument\".format(alias))\n",
      "/home/jupyter-shliu/.local/lib/python3.6/site-packages/lightgbm/basic.py:1236: FutureWarning: elementwise comparison failed; returning scalar instead, but in the future will perform elementwise comparison\n",
      "  if self.categorical_feature == categorical_feature:\n",
      "/home/jupyter-shliu/.local/lib/python3.6/site-packages/lightgbm/basic.py:1242: FutureWarning: elementwise comparison failed; returning scalar instead, but in the future will perform elementwise comparison\n",
      "  elif categorical_feature == 'auto':\n",
      "/home/jupyter-shliu/.local/lib/python3.6/site-packages/lightgbm/basic.py:1247: UserWarning: categorical_feature in Dataset is overridden.\n",
      "New categorical_feature is []\n",
      "  'New categorical_feature is {}'.format(sorted(list(categorical_feature))))\n",
      "/home/jupyter-shliu/.local/lib/python3.6/site-packages/lightgbm/basic.py:285: FutureWarning: elementwise comparison failed; returning scalar instead, but in the future will perform elementwise comparison\n",
      "  if categorical_feature == 'auto':  # use cat cols from DataFrame\n"
     ]
    },
    {
     "name": "stdout",
     "output_type": "stream",
     "text": [
      "Training until validation scores don't improve for 100 rounds\n",
      "[100]\ttraining's rmse: 0.761788\ttraining's cappa: 0.797003\tvalid_1's rmse: 0.992333\tvalid_1's cappa: 0.580566\n",
      "Early stopping, best iteration is:\n",
      "[82]\ttraining's rmse: 0.79391\ttraining's cappa: 0.777267\tvalid_1's rmse: 0.993253\tvalid_1's cappa: 0.586791\n",
      "parameter 15 78 0.5939550083410938 0.9115569436051072 1 1.6112965734652505 0.39981944760271815\n",
      "score 0.9932526507796577\n",
      "| \u001b[0m 64      \u001b[0m | \u001b[0m-0.9933  \u001b[0m | \u001b[0m 0.594   \u001b[0m | \u001b[0m 1.611   \u001b[0m | \u001b[0m 0.3998  \u001b[0m | \u001b[0m 15.72   \u001b[0m | \u001b[0m 78.48   \u001b[0m | \u001b[0m 0.9116  \u001b[0m | \u001b[0m 1.31    \u001b[0m |\n"
     ]
    },
    {
     "name": "stderr",
     "output_type": "stream",
     "text": [
      "/home/jupyter-shliu/.local/lib/python3.6/site-packages/lightgbm/engine.py:153: UserWarning: Found `early_stopping_rounds` in params. Will use it instead of argument\n",
      "  warnings.warn(\"Found `{}` in params. Will use it instead of argument\".format(alias))\n",
      "/home/jupyter-shliu/.local/lib/python3.6/site-packages/lightgbm/basic.py:1236: FutureWarning: elementwise comparison failed; returning scalar instead, but in the future will perform elementwise comparison\n",
      "  if self.categorical_feature == categorical_feature:\n",
      "/home/jupyter-shliu/.local/lib/python3.6/site-packages/lightgbm/basic.py:1242: FutureWarning: elementwise comparison failed; returning scalar instead, but in the future will perform elementwise comparison\n",
      "  elif categorical_feature == 'auto':\n",
      "/home/jupyter-shliu/.local/lib/python3.6/site-packages/lightgbm/basic.py:1247: UserWarning: categorical_feature in Dataset is overridden.\n",
      "New categorical_feature is []\n",
      "  'New categorical_feature is {}'.format(sorted(list(categorical_feature))))\n",
      "/home/jupyter-shliu/.local/lib/python3.6/site-packages/lightgbm/basic.py:285: FutureWarning: elementwise comparison failed; returning scalar instead, but in the future will perform elementwise comparison\n",
      "  if categorical_feature == 'auto':  # use cat cols from DataFrame\n"
     ]
    },
    {
     "name": "stdout",
     "output_type": "stream",
     "text": [
      "Training until validation scores don't improve for 100 rounds\n",
      "[100]\ttraining's rmse: 0.939327\ttraining's cappa: 0.642824\tvalid_1's rmse: 1.00013\tvalid_1's cappa: 0.573292\n",
      "[200]\ttraining's rmse: 0.892527\ttraining's cappa: 0.684841\tvalid_1's rmse: 0.991632\tvalid_1's cappa: 0.5844\n",
      "[300]\ttraining's rmse: 0.870808\ttraining's cappa: 0.703076\tvalid_1's rmse: 0.990247\tvalid_1's cappa: 0.586429\n",
      "[400]\ttraining's rmse: 0.861244\ttraining's cappa: 0.711141\tvalid_1's rmse: 0.9897\tvalid_1's cappa: 0.586705\n",
      "Early stopping, best iteration is:\n",
      "[338]\ttraining's rmse: 0.865937\ttraining's cappa: 0.707884\tvalid_1's rmse: 0.990043\tvalid_1's cappa: 0.588125\n",
      "parameter 15 44 0.7947602073165893 0.9857231882126853 2 49.24675378202993 22.651892216471527\n",
      "score 0.9900428521417403\n",
      "| \u001b[0m 65      \u001b[0m | \u001b[0m-0.99    \u001b[0m | \u001b[0m 0.7948  \u001b[0m | \u001b[0m 49.25   \u001b[0m | \u001b[0m 22.65   \u001b[0m | \u001b[0m 15.94   \u001b[0m | \u001b[0m 44.77   \u001b[0m | \u001b[0m 0.9857  \u001b[0m | \u001b[0m 2.865   \u001b[0m |\n"
     ]
    },
    {
     "name": "stderr",
     "output_type": "stream",
     "text": [
      "/home/jupyter-shliu/.local/lib/python3.6/site-packages/lightgbm/engine.py:153: UserWarning: Found `early_stopping_rounds` in params. Will use it instead of argument\n",
      "  warnings.warn(\"Found `{}` in params. Will use it instead of argument\".format(alias))\n",
      "/home/jupyter-shliu/.local/lib/python3.6/site-packages/lightgbm/basic.py:1236: FutureWarning: elementwise comparison failed; returning scalar instead, but in the future will perform elementwise comparison\n",
      "  if self.categorical_feature == categorical_feature:\n",
      "/home/jupyter-shliu/.local/lib/python3.6/site-packages/lightgbm/basic.py:1242: FutureWarning: elementwise comparison failed; returning scalar instead, but in the future will perform elementwise comparison\n",
      "  elif categorical_feature == 'auto':\n",
      "/home/jupyter-shliu/.local/lib/python3.6/site-packages/lightgbm/basic.py:1247: UserWarning: categorical_feature in Dataset is overridden.\n",
      "New categorical_feature is []\n",
      "  'New categorical_feature is {}'.format(sorted(list(categorical_feature))))\n",
      "/home/jupyter-shliu/.local/lib/python3.6/site-packages/lightgbm/basic.py:285: FutureWarning: elementwise comparison failed; returning scalar instead, but in the future will perform elementwise comparison\n",
      "  if categorical_feature == 'auto':  # use cat cols from DataFrame\n"
     ]
    },
    {
     "name": "stdout",
     "output_type": "stream",
     "text": [
      "Training until validation scores don't improve for 100 rounds\n",
      "[100]\ttraining's rmse: 0.952972\ttraining's cappa: 0.626695\tvalid_1's rmse: 1.00079\tvalid_1's cappa: 0.573014\n",
      "[200]\ttraining's rmse: 0.904056\ttraining's cappa: 0.671357\tvalid_1's rmse: 0.992063\tvalid_1's cappa: 0.586003\n",
      "Early stopping, best iteration is:\n",
      "[189]\ttraining's rmse: 0.908043\ttraining's cappa: 0.668383\tvalid_1's rmse: 0.992199\tvalid_1's cappa: 0.587742\n",
      "parameter 5 72 0.9315806530821562 0.9971753828547361 2 17.639535100689947 45.331868769933784\n",
      "score 0.9921990911441803\n",
      "| \u001b[0m 66      \u001b[0m | \u001b[0m-0.9922  \u001b[0m | \u001b[0m 0.9316  \u001b[0m | \u001b[0m 17.64   \u001b[0m | \u001b[0m 45.33   \u001b[0m | \u001b[0m 5.109   \u001b[0m | \u001b[0m 72.47   \u001b[0m | \u001b[0m 0.9972  \u001b[0m | \u001b[0m 2.957   \u001b[0m |\n"
     ]
    },
    {
     "name": "stderr",
     "output_type": "stream",
     "text": [
      "/home/jupyter-shliu/.local/lib/python3.6/site-packages/lightgbm/engine.py:153: UserWarning: Found `early_stopping_rounds` in params. Will use it instead of argument\n",
      "  warnings.warn(\"Found `{}` in params. Will use it instead of argument\".format(alias))\n",
      "/home/jupyter-shliu/.local/lib/python3.6/site-packages/lightgbm/basic.py:1236: FutureWarning: elementwise comparison failed; returning scalar instead, but in the future will perform elementwise comparison\n",
      "  if self.categorical_feature == categorical_feature:\n",
      "/home/jupyter-shliu/.local/lib/python3.6/site-packages/lightgbm/basic.py:1242: FutureWarning: elementwise comparison failed; returning scalar instead, but in the future will perform elementwise comparison\n",
      "  elif categorical_feature == 'auto':\n",
      "/home/jupyter-shliu/.local/lib/python3.6/site-packages/lightgbm/basic.py:1247: UserWarning: categorical_feature in Dataset is overridden.\n",
      "New categorical_feature is []\n",
      "  'New categorical_feature is {}'.format(sorted(list(categorical_feature))))\n",
      "/home/jupyter-shliu/.local/lib/python3.6/site-packages/lightgbm/basic.py:285: FutureWarning: elementwise comparison failed; returning scalar instead, but in the future will perform elementwise comparison\n",
      "  if categorical_feature == 'auto':  # use cat cols from DataFrame\n"
     ]
    },
    {
     "name": "stdout",
     "output_type": "stream",
     "text": [
      "Training until validation scores don't improve for 100 rounds\n",
      "[100]\ttraining's rmse: 0.834609\ttraining's cappa: 0.747533\tvalid_1's rmse: 0.998646\tvalid_1's cappa: 0.573677\n",
      "[200]\ttraining's rmse: 0.713591\ttraining's cappa: 0.826178\tvalid_1's rmse: 0.996738\tvalid_1's cappa: 0.577304\n",
      "Early stopping, best iteration is:\n",
      "[154]\ttraining's rmse: 0.762589\ttraining's cappa: 0.792408\tvalid_1's rmse: 0.994955\tvalid_1's cappa: 0.572506\n",
      "parameter 15 98 0.3986727797939658 0.8719162102094613 2 1.7982054271209604 49.34582362231657\n",
      "score 0.9949549608615145\n",
      "| \u001b[0m 67      \u001b[0m | \u001b[0m-0.995   \u001b[0m | \u001b[0m 0.3987  \u001b[0m | \u001b[0m 1.798   \u001b[0m | \u001b[0m 49.35   \u001b[0m | \u001b[0m 15.66   \u001b[0m | \u001b[0m 98.9    \u001b[0m | \u001b[0m 0.8719  \u001b[0m | \u001b[0m 2.944   \u001b[0m |\n"
     ]
    },
    {
     "name": "stderr",
     "output_type": "stream",
     "text": [
      "/home/jupyter-shliu/.local/lib/python3.6/site-packages/lightgbm/engine.py:153: UserWarning: Found `early_stopping_rounds` in params. Will use it instead of argument\n",
      "  warnings.warn(\"Found `{}` in params. Will use it instead of argument\".format(alias))\n",
      "/home/jupyter-shliu/.local/lib/python3.6/site-packages/lightgbm/basic.py:1236: FutureWarning: elementwise comparison failed; returning scalar instead, but in the future will perform elementwise comparison\n",
      "  if self.categorical_feature == categorical_feature:\n",
      "/home/jupyter-shliu/.local/lib/python3.6/site-packages/lightgbm/basic.py:1242: FutureWarning: elementwise comparison failed; returning scalar instead, but in the future will perform elementwise comparison\n",
      "  elif categorical_feature == 'auto':\n",
      "/home/jupyter-shliu/.local/lib/python3.6/site-packages/lightgbm/basic.py:1247: UserWarning: categorical_feature in Dataset is overridden.\n",
      "New categorical_feature is []\n",
      "  'New categorical_feature is {}'.format(sorted(list(categorical_feature))))\n",
      "/home/jupyter-shliu/.local/lib/python3.6/site-packages/lightgbm/basic.py:285: FutureWarning: elementwise comparison failed; returning scalar instead, but in the future will perform elementwise comparison\n",
      "  if categorical_feature == 'auto':  # use cat cols from DataFrame\n"
     ]
    },
    {
     "name": "stdout",
     "output_type": "stream",
     "text": [
      "Training until validation scores don't improve for 100 rounds\n",
      "[100]\ttraining's rmse: 0.988969\ttraining's cappa: 0.59641\tvalid_1's rmse: 1.0211\tvalid_1's cappa: 0.559445\n",
      "[200]\ttraining's rmse: 0.950411\ttraining's cappa: 0.627433\tvalid_1's rmse: 1.00027\tvalid_1's cappa: 0.572153\n",
      "[300]\ttraining's rmse: 0.933001\ttraining's cappa: 0.641945\tvalid_1's rmse: 0.995077\tvalid_1's cappa: 0.57456\n",
      "[400]\ttraining's rmse: 0.921746\ttraining's cappa: 0.653466\tvalid_1's rmse: 0.99325\tvalid_1's cappa: 0.576057\n",
      "[500]\ttraining's rmse: 0.913022\ttraining's cappa: 0.662197\tvalid_1's rmse: 0.992366\tvalid_1's cappa: 0.580038\n",
      "[600]\ttraining's rmse: 0.906146\ttraining's cappa: 0.668742\tvalid_1's rmse: 0.991643\tvalid_1's cappa: 0.581446\n",
      "[700]\ttraining's rmse: 0.900778\ttraining's cappa: 0.67365\tvalid_1's rmse: 0.99115\tvalid_1's cappa: 0.585191\n",
      "[800]\ttraining's rmse: 0.895893\ttraining's cappa: 0.678352\tvalid_1's rmse: 0.991091\tvalid_1's cappa: 0.585578\n",
      "Early stopping, best iteration is:\n",
      "[735]\ttraining's rmse: 0.898956\ttraining's cappa: 0.674822\tvalid_1's rmse: 0.991012\tvalid_1's cappa: 0.585272\n",
      "parameter 5 48 0.310736950666241 0.9317661286918641 1 49.86265879883988 49.988975721872755\n",
      "score 0.9910122196023502\n",
      "| \u001b[0m 68      \u001b[0m | \u001b[0m-0.991   \u001b[0m | \u001b[0m 0.3107  \u001b[0m | \u001b[0m 49.86   \u001b[0m | \u001b[0m 49.99   \u001b[0m | \u001b[0m 5.231   \u001b[0m | \u001b[0m 48.09   \u001b[0m | \u001b[0m 0.9318  \u001b[0m | \u001b[0m 1.796   \u001b[0m |\n"
     ]
    },
    {
     "name": "stderr",
     "output_type": "stream",
     "text": [
      "/home/jupyter-shliu/.local/lib/python3.6/site-packages/lightgbm/engine.py:153: UserWarning: Found `early_stopping_rounds` in params. Will use it instead of argument\n",
      "  warnings.warn(\"Found `{}` in params. Will use it instead of argument\".format(alias))\n",
      "/home/jupyter-shliu/.local/lib/python3.6/site-packages/lightgbm/basic.py:1236: FutureWarning: elementwise comparison failed; returning scalar instead, but in the future will perform elementwise comparison\n",
      "  if self.categorical_feature == categorical_feature:\n",
      "/home/jupyter-shliu/.local/lib/python3.6/site-packages/lightgbm/basic.py:1242: FutureWarning: elementwise comparison failed; returning scalar instead, but in the future will perform elementwise comparison\n",
      "  elif categorical_feature == 'auto':\n",
      "/home/jupyter-shliu/.local/lib/python3.6/site-packages/lightgbm/basic.py:1247: UserWarning: categorical_feature in Dataset is overridden.\n",
      "New categorical_feature is []\n",
      "  'New categorical_feature is {}'.format(sorted(list(categorical_feature))))\n",
      "/home/jupyter-shliu/.local/lib/python3.6/site-packages/lightgbm/basic.py:285: FutureWarning: elementwise comparison failed; returning scalar instead, but in the future will perform elementwise comparison\n",
      "  if categorical_feature == 'auto':  # use cat cols from DataFrame\n"
     ]
    },
    {
     "name": "stdout",
     "output_type": "stream",
     "text": [
      "Training until validation scores don't improve for 100 rounds\n",
      "[100]\ttraining's rmse: 0.926705\ttraining's cappa: 0.650892\tvalid_1's rmse: 0.994761\tvalid_1's cappa: 0.579689\n",
      "Early stopping, best iteration is:\n",
      "[96]\ttraining's rmse: 0.929789\ttraining's cappa: 0.649018\tvalid_1's rmse: 0.995469\tvalid_1's cappa: 0.58207\n",
      "parameter 15 24 0.970821700375349 0.8138216151158475 2 0.2495120434429917 48.21283798055048\n",
      "score 0.9954686653105843\n",
      "| \u001b[0m 69      \u001b[0m | \u001b[0m-0.9955  \u001b[0m | \u001b[0m 0.9708  \u001b[0m | \u001b[0m 0.2495  \u001b[0m | \u001b[0m 48.21   \u001b[0m | \u001b[0m 15.16   \u001b[0m | \u001b[0m 24.15   \u001b[0m | \u001b[0m 0.8138  \u001b[0m | \u001b[0m 2.835   \u001b[0m |\n"
     ]
    },
    {
     "name": "stderr",
     "output_type": "stream",
     "text": [
      "/home/jupyter-shliu/.local/lib/python3.6/site-packages/lightgbm/engine.py:153: UserWarning: Found `early_stopping_rounds` in params. Will use it instead of argument\n",
      "  warnings.warn(\"Found `{}` in params. Will use it instead of argument\".format(alias))\n",
      "/home/jupyter-shliu/.local/lib/python3.6/site-packages/lightgbm/basic.py:1236: FutureWarning: elementwise comparison failed; returning scalar instead, but in the future will perform elementwise comparison\n",
      "  if self.categorical_feature == categorical_feature:\n",
      "/home/jupyter-shliu/.local/lib/python3.6/site-packages/lightgbm/basic.py:1242: FutureWarning: elementwise comparison failed; returning scalar instead, but in the future will perform elementwise comparison\n",
      "  elif categorical_feature == 'auto':\n",
      "/home/jupyter-shliu/.local/lib/python3.6/site-packages/lightgbm/basic.py:1247: UserWarning: categorical_feature in Dataset is overridden.\n",
      "New categorical_feature is []\n",
      "  'New categorical_feature is {}'.format(sorted(list(categorical_feature))))\n",
      "/home/jupyter-shliu/.local/lib/python3.6/site-packages/lightgbm/basic.py:285: FutureWarning: elementwise comparison failed; returning scalar instead, but in the future will perform elementwise comparison\n",
      "  if categorical_feature == 'auto':  # use cat cols from DataFrame\n"
     ]
    },
    {
     "name": "stdout",
     "output_type": "stream",
     "text": [
      "Training until validation scores don't improve for 100 rounds\n",
      "[100]\ttraining's rmse: 0.93175\ttraining's cappa: 0.650859\tvalid_1's rmse: 0.996396\tvalid_1's cappa: 0.582766\n",
      "[200]\ttraining's rmse: 0.877282\ttraining's cappa: 0.697915\tvalid_1's rmse: 0.989532\tvalid_1's cappa: 0.584222\n",
      "[300]\ttraining's rmse: 0.841448\ttraining's cappa: 0.730801\tvalid_1's rmse: 0.989451\tvalid_1's cappa: 0.588064\n",
      "Early stopping, best iteration is:\n",
      "[222]\ttraining's rmse: 0.868599\ttraining's cappa: 0.705929\tvalid_1's rmse: 0.989048\tvalid_1's cappa: 0.58623\n",
      "parameter 5 98 0.7601379870094301 0.9918633846386153 2 0.7742702122735101 32.86703264193592\n",
      "score 0.9890476670614976\n",
      "| \u001b[0m 70      \u001b[0m | \u001b[0m-0.989   \u001b[0m | \u001b[0m 0.7601  \u001b[0m | \u001b[0m 0.7743  \u001b[0m | \u001b[0m 32.87   \u001b[0m | \u001b[0m 5.01    \u001b[0m | \u001b[0m 98.02   \u001b[0m | \u001b[0m 0.9919  \u001b[0m | \u001b[0m 2.95    \u001b[0m |\n"
     ]
    },
    {
     "name": "stderr",
     "output_type": "stream",
     "text": [
      "/home/jupyter-shliu/.local/lib/python3.6/site-packages/lightgbm/engine.py:153: UserWarning: Found `early_stopping_rounds` in params. Will use it instead of argument\n",
      "  warnings.warn(\"Found `{}` in params. Will use it instead of argument\".format(alias))\n",
      "/home/jupyter-shliu/.local/lib/python3.6/site-packages/lightgbm/basic.py:1236: FutureWarning: elementwise comparison failed; returning scalar instead, but in the future will perform elementwise comparison\n",
      "  if self.categorical_feature == categorical_feature:\n",
      "/home/jupyter-shliu/.local/lib/python3.6/site-packages/lightgbm/basic.py:1242: FutureWarning: elementwise comparison failed; returning scalar instead, but in the future will perform elementwise comparison\n",
      "  elif categorical_feature == 'auto':\n",
      "/home/jupyter-shliu/.local/lib/python3.6/site-packages/lightgbm/basic.py:1247: UserWarning: categorical_feature in Dataset is overridden.\n",
      "New categorical_feature is []\n",
      "  'New categorical_feature is {}'.format(sorted(list(categorical_feature))))\n",
      "/home/jupyter-shliu/.local/lib/python3.6/site-packages/lightgbm/basic.py:285: FutureWarning: elementwise comparison failed; returning scalar instead, but in the future will perform elementwise comparison\n",
      "  if categorical_feature == 'auto':  # use cat cols from DataFrame\n"
     ]
    },
    {
     "name": "stdout",
     "output_type": "stream",
     "text": [
      "Training until validation scores don't improve for 100 rounds\n",
      "[100]\ttraining's rmse: 0.92322\ttraining's cappa: 0.65901\tvalid_1's rmse: 0.997846\tvalid_1's cappa: 0.574076\n",
      "[200]\ttraining's rmse: 0.867492\ttraining's cappa: 0.708505\tvalid_1's rmse: 0.991201\tvalid_1's cappa: 0.580043\n",
      "[300]\ttraining's rmse: 0.828231\ttraining's cappa: 0.742186\tvalid_1's rmse: 0.990917\tvalid_1's cappa: 0.58192\n",
      "Early stopping, best iteration is:\n",
      "[255]\ttraining's rmse: 0.844664\ttraining's cappa: 0.728374\tvalid_1's rmse: 0.990559\tvalid_1's cappa: 0.585309\n",
      "parameter 5 33 0.9024753054037395 0.9742748447647509 1 0.23174721106445187 15.794190010048595\n",
      "score 0.9905594903934611\n",
      "| \u001b[0m 71      \u001b[0m | \u001b[0m-0.9906  \u001b[0m | \u001b[0m 0.9025  \u001b[0m | \u001b[0m 0.2317  \u001b[0m | \u001b[0m 15.79   \u001b[0m | \u001b[0m 5.08    \u001b[0m | \u001b[0m 33.37   \u001b[0m | \u001b[0m 0.9743  \u001b[0m | \u001b[0m 1.521   \u001b[0m |\n"
     ]
    },
    {
     "name": "stderr",
     "output_type": "stream",
     "text": [
      "/home/jupyter-shliu/.local/lib/python3.6/site-packages/lightgbm/engine.py:153: UserWarning: Found `early_stopping_rounds` in params. Will use it instead of argument\n",
      "  warnings.warn(\"Found `{}` in params. Will use it instead of argument\".format(alias))\n",
      "/home/jupyter-shliu/.local/lib/python3.6/site-packages/lightgbm/basic.py:1236: FutureWarning: elementwise comparison failed; returning scalar instead, but in the future will perform elementwise comparison\n",
      "  if self.categorical_feature == categorical_feature:\n",
      "/home/jupyter-shliu/.local/lib/python3.6/site-packages/lightgbm/basic.py:1242: FutureWarning: elementwise comparison failed; returning scalar instead, but in the future will perform elementwise comparison\n",
      "  elif categorical_feature == 'auto':\n",
      "/home/jupyter-shliu/.local/lib/python3.6/site-packages/lightgbm/basic.py:1247: UserWarning: categorical_feature in Dataset is overridden.\n",
      "New categorical_feature is []\n",
      "  'New categorical_feature is {}'.format(sorted(list(categorical_feature))))\n",
      "/home/jupyter-shliu/.local/lib/python3.6/site-packages/lightgbm/basic.py:285: FutureWarning: elementwise comparison failed; returning scalar instead, but in the future will perform elementwise comparison\n",
      "  if categorical_feature == 'auto':  # use cat cols from DataFrame\n"
     ]
    },
    {
     "name": "stdout",
     "output_type": "stream",
     "text": [
      "Training until validation scores don't improve for 100 rounds\n",
      "[100]\ttraining's rmse: 0.92029\ttraining's cappa: 0.667285\tvalid_1's rmse: 1.00681\tvalid_1's cappa: 0.56895\n",
      "[200]\ttraining's rmse: 0.857698\ttraining's cappa: 0.717088\tvalid_1's rmse: 0.994453\tvalid_1's cappa: 0.578264\n",
      "[300]\ttraining's rmse: 0.81528\ttraining's cappa: 0.751507\tvalid_1's rmse: 0.992322\tvalid_1's cappa: 0.583426\n",
      "Early stopping, best iteration is:\n",
      "[263]\ttraining's rmse: 0.829514\ttraining's cappa: 0.739093\tvalid_1's rmse: 0.992801\tvalid_1's cappa: 0.585196\n",
      "parameter 14 44 0.34152114186142757 0.9826420334930248 1 22.972777272297648 3.255196986934801\n",
      "score 0.9928005806353892\n",
      "| \u001b[0m 72      \u001b[0m | \u001b[0m-0.9928  \u001b[0m | \u001b[0m 0.3415  \u001b[0m | \u001b[0m 22.97   \u001b[0m | \u001b[0m 3.255   \u001b[0m | \u001b[0m 14.99   \u001b[0m | \u001b[0m 44.6    \u001b[0m | \u001b[0m 0.9826  \u001b[0m | \u001b[0m 1.031   \u001b[0m |\n"
     ]
    },
    {
     "name": "stderr",
     "output_type": "stream",
     "text": [
      "/home/jupyter-shliu/.local/lib/python3.6/site-packages/lightgbm/engine.py:153: UserWarning: Found `early_stopping_rounds` in params. Will use it instead of argument\n",
      "  warnings.warn(\"Found `{}` in params. Will use it instead of argument\".format(alias))\n",
      "/home/jupyter-shliu/.local/lib/python3.6/site-packages/lightgbm/basic.py:1236: FutureWarning: elementwise comparison failed; returning scalar instead, but in the future will perform elementwise comparison\n",
      "  if self.categorical_feature == categorical_feature:\n",
      "/home/jupyter-shliu/.local/lib/python3.6/site-packages/lightgbm/basic.py:1242: FutureWarning: elementwise comparison failed; returning scalar instead, but in the future will perform elementwise comparison\n",
      "  elif categorical_feature == 'auto':\n",
      "/home/jupyter-shliu/.local/lib/python3.6/site-packages/lightgbm/basic.py:1247: UserWarning: categorical_feature in Dataset is overridden.\n",
      "New categorical_feature is []\n",
      "  'New categorical_feature is {}'.format(sorted(list(categorical_feature))))\n",
      "/home/jupyter-shliu/.local/lib/python3.6/site-packages/lightgbm/basic.py:285: FutureWarning: elementwise comparison failed; returning scalar instead, but in the future will perform elementwise comparison\n",
      "  if categorical_feature == 'auto':  # use cat cols from DataFrame\n"
     ]
    },
    {
     "name": "stdout",
     "output_type": "stream",
     "text": [
      "Training until validation scores don't improve for 100 rounds\n",
      "[100]\ttraining's rmse: 0.95145\ttraining's cappa: 0.629983\tvalid_1's rmse: 0.997845\tvalid_1's cappa: 0.577672\n",
      "[200]\ttraining's rmse: 0.902035\ttraining's cappa: 0.675798\tvalid_1's rmse: 0.991216\tvalid_1's cappa: 0.583396\n",
      "[300]\ttraining's rmse: 0.867713\ttraining's cappa: 0.707205\tvalid_1's rmse: 0.991869\tvalid_1's cappa: 0.584291\n",
      "Early stopping, best iteration is:\n",
      "[220]\ttraining's rmse: 0.894377\ttraining's cappa: 0.681481\tvalid_1's rmse: 0.990927\tvalid_1's cappa: 0.586041\n",
      "parameter 5 15 0.9728284263021729 0.9778847114180393 2 1.643985788146239 1.2707417830676424\n",
      "score 0.9909272935446727\n",
      "| \u001b[0m 73      \u001b[0m | \u001b[0m-0.9909  \u001b[0m | \u001b[0m 0.9728  \u001b[0m | \u001b[0m 1.644   \u001b[0m | \u001b[0m 1.271   \u001b[0m | \u001b[0m 5.879   \u001b[0m | \u001b[0m 15.39   \u001b[0m | \u001b[0m 0.9779  \u001b[0m | \u001b[0m 2.57    \u001b[0m |\n"
     ]
    },
    {
     "name": "stderr",
     "output_type": "stream",
     "text": [
      "/home/jupyter-shliu/.local/lib/python3.6/site-packages/lightgbm/engine.py:153: UserWarning: Found `early_stopping_rounds` in params. Will use it instead of argument\n",
      "  warnings.warn(\"Found `{}` in params. Will use it instead of argument\".format(alias))\n",
      "/home/jupyter-shliu/.local/lib/python3.6/site-packages/lightgbm/basic.py:1236: FutureWarning: elementwise comparison failed; returning scalar instead, but in the future will perform elementwise comparison\n",
      "  if self.categorical_feature == categorical_feature:\n",
      "/home/jupyter-shliu/.local/lib/python3.6/site-packages/lightgbm/basic.py:1242: FutureWarning: elementwise comparison failed; returning scalar instead, but in the future will perform elementwise comparison\n",
      "  elif categorical_feature == 'auto':\n",
      "/home/jupyter-shliu/.local/lib/python3.6/site-packages/lightgbm/basic.py:1247: UserWarning: categorical_feature in Dataset is overridden.\n",
      "New categorical_feature is []\n",
      "  'New categorical_feature is {}'.format(sorted(list(categorical_feature))))\n",
      "/home/jupyter-shliu/.local/lib/python3.6/site-packages/lightgbm/basic.py:285: FutureWarning: elementwise comparison failed; returning scalar instead, but in the future will perform elementwise comparison\n",
      "  if categorical_feature == 'auto':  # use cat cols from DataFrame\n"
     ]
    },
    {
     "name": "stdout",
     "output_type": "stream",
     "text": [
      "Training until validation scores don't improve for 100 rounds\n",
      "[100]\ttraining's rmse: 0.908774\ttraining's cappa: 0.674582\tvalid_1's rmse: 0.998391\tvalid_1's cappa: 0.574147\n",
      "[200]\ttraining's rmse: 0.842582\ttraining's cappa: 0.730584\tvalid_1's rmse: 0.992485\tvalid_1's cappa: 0.579652\n",
      "Early stopping, best iteration is:\n",
      "[188]\ttraining's rmse: 0.848239\ttraining's cappa: 0.726618\tvalid_1's rmse: 0.992235\tvalid_1's cappa: 0.580527\n",
      "parameter 15 98 0.9724452434312865 0.9439254662051544 2 33.91735126160098 30.747356426774516\n",
      "score 0.992235439314945\n",
      "| \u001b[0m 74      \u001b[0m | \u001b[0m-0.9922  \u001b[0m | \u001b[0m 0.9724  \u001b[0m | \u001b[0m 33.92   \u001b[0m | \u001b[0m 30.75   \u001b[0m | \u001b[0m 15.66   \u001b[0m | \u001b[0m 98.84   \u001b[0m | \u001b[0m 0.9439  \u001b[0m | \u001b[0m 2.796   \u001b[0m |\n"
     ]
    },
    {
     "name": "stderr",
     "output_type": "stream",
     "text": [
      "/home/jupyter-shliu/.local/lib/python3.6/site-packages/lightgbm/engine.py:153: UserWarning: Found `early_stopping_rounds` in params. Will use it instead of argument\n",
      "  warnings.warn(\"Found `{}` in params. Will use it instead of argument\".format(alias))\n",
      "/home/jupyter-shliu/.local/lib/python3.6/site-packages/lightgbm/basic.py:1236: FutureWarning: elementwise comparison failed; returning scalar instead, but in the future will perform elementwise comparison\n",
      "  if self.categorical_feature == categorical_feature:\n",
      "/home/jupyter-shliu/.local/lib/python3.6/site-packages/lightgbm/basic.py:1242: FutureWarning: elementwise comparison failed; returning scalar instead, but in the future will perform elementwise comparison\n",
      "  elif categorical_feature == 'auto':\n",
      "/home/jupyter-shliu/.local/lib/python3.6/site-packages/lightgbm/basic.py:1247: UserWarning: categorical_feature in Dataset is overridden.\n",
      "New categorical_feature is []\n",
      "  'New categorical_feature is {}'.format(sorted(list(categorical_feature))))\n",
      "/home/jupyter-shliu/.local/lib/python3.6/site-packages/lightgbm/basic.py:285: FutureWarning: elementwise comparison failed; returning scalar instead, but in the future will perform elementwise comparison\n",
      "  if categorical_feature == 'auto':  # use cat cols from DataFrame\n"
     ]
    },
    {
     "name": "stdout",
     "output_type": "stream",
     "text": [
      "Training until validation scores don't improve for 100 rounds\n",
      "[100]\ttraining's rmse: 0.945942\ttraining's cappa: 0.636081\tvalid_1's rmse: 1.00113\tvalid_1's cappa: 0.574152\n",
      "[200]\ttraining's rmse: 0.902716\ttraining's cappa: 0.674245\tvalid_1's rmse: 0.99191\tvalid_1's cappa: 0.578881\n",
      "[300]\ttraining's rmse: 0.882081\ttraining's cappa: 0.693743\tvalid_1's rmse: 0.990104\tvalid_1's cappa: 0.588234\n",
      "[400]\ttraining's rmse: 0.871101\ttraining's cappa: 0.704974\tvalid_1's rmse: 0.98951\tvalid_1's cappa: 0.585644\n",
      "Early stopping, best iteration is:\n",
      "[303]\ttraining's rmse: 0.881587\ttraining's cappa: 0.694324\tvalid_1's rmse: 0.990097\tvalid_1's cappa: 0.589453\n",
      "parameter 8 78 0.9317463011562954 0.9843103261110078 1 49.03726133005138 49.80732441338553\n",
      "score 0.9900971952990019\n",
      "| \u001b[0m 75      \u001b[0m | \u001b[0m-0.9901  \u001b[0m | \u001b[0m 0.9317  \u001b[0m | \u001b[0m 49.04   \u001b[0m | \u001b[0m 49.81   \u001b[0m | \u001b[0m 8.231   \u001b[0m | \u001b[0m 78.19   \u001b[0m | \u001b[0m 0.9843  \u001b[0m | \u001b[0m 1.54    \u001b[0m |\n"
     ]
    },
    {
     "name": "stderr",
     "output_type": "stream",
     "text": [
      "/home/jupyter-shliu/.local/lib/python3.6/site-packages/lightgbm/engine.py:153: UserWarning: Found `early_stopping_rounds` in params. Will use it instead of argument\n",
      "  warnings.warn(\"Found `{}` in params. Will use it instead of argument\".format(alias))\n",
      "/home/jupyter-shliu/.local/lib/python3.6/site-packages/lightgbm/basic.py:1236: FutureWarning: elementwise comparison failed; returning scalar instead, but in the future will perform elementwise comparison\n",
      "  if self.categorical_feature == categorical_feature:\n",
      "/home/jupyter-shliu/.local/lib/python3.6/site-packages/lightgbm/basic.py:1242: FutureWarning: elementwise comparison failed; returning scalar instead, but in the future will perform elementwise comparison\n",
      "  elif categorical_feature == 'auto':\n",
      "/home/jupyter-shliu/.local/lib/python3.6/site-packages/lightgbm/basic.py:1247: UserWarning: categorical_feature in Dataset is overridden.\n",
      "New categorical_feature is []\n",
      "  'New categorical_feature is {}'.format(sorted(list(categorical_feature))))\n",
      "/home/jupyter-shliu/.local/lib/python3.6/site-packages/lightgbm/basic.py:285: FutureWarning: elementwise comparison failed; returning scalar instead, but in the future will perform elementwise comparison\n",
      "  if categorical_feature == 'auto':  # use cat cols from DataFrame\n"
     ]
    },
    {
     "name": "stdout",
     "output_type": "stream",
     "text": [
      "Training until validation scores don't improve for 100 rounds\n",
      "[100]\ttraining's rmse: 0.924862\ttraining's cappa: 0.658028\tvalid_1's rmse: 1.00055\tvalid_1's cappa: 0.571895\n",
      "[200]\ttraining's rmse: 0.878016\ttraining's cappa: 0.697779\tvalid_1's rmse: 0.993904\tvalid_1's cappa: 0.582093\n",
      "[300]\ttraining's rmse: 0.859953\ttraining's cappa: 0.71328\tvalid_1's rmse: 0.992214\tvalid_1's cappa: 0.586184\n",
      "[400]\ttraining's rmse: 0.853185\ttraining's cappa: 0.71931\tvalid_1's rmse: 0.992022\tvalid_1's cappa: 0.585657\n",
      "Early stopping, best iteration is:\n",
      "[326]\ttraining's rmse: 0.856632\ttraining's cappa: 0.715527\tvalid_1's rmse: 0.992188\tvalid_1's cappa: 0.587963\n",
      "parameter 15 89 0.9442800897395722 0.9842705814338506 2 49.63094025953112 2.3138387699613867\n",
      "score 0.9921883417472436\n",
      "| \u001b[0m 76      \u001b[0m | \u001b[0m-0.9922  \u001b[0m | \u001b[0m 0.9443  \u001b[0m | \u001b[0m 49.63   \u001b[0m | \u001b[0m 2.314   \u001b[0m | \u001b[0m 15.08   \u001b[0m | \u001b[0m 89.08   \u001b[0m | \u001b[0m 0.9843  \u001b[0m | \u001b[0m 2.32    \u001b[0m |\n"
     ]
    },
    {
     "name": "stderr",
     "output_type": "stream",
     "text": [
      "/home/jupyter-shliu/.local/lib/python3.6/site-packages/lightgbm/engine.py:153: UserWarning: Found `early_stopping_rounds` in params. Will use it instead of argument\n",
      "  warnings.warn(\"Found `{}` in params. Will use it instead of argument\".format(alias))\n",
      "/home/jupyter-shliu/.local/lib/python3.6/site-packages/lightgbm/basic.py:1236: FutureWarning: elementwise comparison failed; returning scalar instead, but in the future will perform elementwise comparison\n",
      "  if self.categorical_feature == categorical_feature:\n",
      "/home/jupyter-shliu/.local/lib/python3.6/site-packages/lightgbm/basic.py:1242: FutureWarning: elementwise comparison failed; returning scalar instead, but in the future will perform elementwise comparison\n",
      "  elif categorical_feature == 'auto':\n",
      "/home/jupyter-shliu/.local/lib/python3.6/site-packages/lightgbm/basic.py:1247: UserWarning: categorical_feature in Dataset is overridden.\n",
      "New categorical_feature is []\n",
      "  'New categorical_feature is {}'.format(sorted(list(categorical_feature))))\n",
      "/home/jupyter-shliu/.local/lib/python3.6/site-packages/lightgbm/basic.py:285: FutureWarning: elementwise comparison failed; returning scalar instead, but in the future will perform elementwise comparison\n",
      "  if categorical_feature == 'auto':  # use cat cols from DataFrame\n"
     ]
    },
    {
     "name": "stdout",
     "output_type": "stream",
     "text": [
      "Training until validation scores don't improve for 100 rounds\n",
      "[100]\ttraining's rmse: 0.807968\ttraining's cappa: 0.760584\tvalid_1's rmse: 0.990399\tvalid_1's cappa: 0.58234\n",
      "Early stopping, best iteration is:\n",
      "[98]\ttraining's rmse: 0.810942\ttraining's cappa: 0.758563\tvalid_1's rmse: 0.99002\tvalid_1's cappa: 0.580351\n",
      "parameter 14 55 0.6322938369608446 0.9841614298169836 2 0.328933948766797 0.5817150627767621\n",
      "score 0.99002032441213\n",
      "| \u001b[0m 77      \u001b[0m | \u001b[0m-0.99    \u001b[0m | \u001b[0m 0.6323  \u001b[0m | \u001b[0m 0.3289  \u001b[0m | \u001b[0m 0.5817  \u001b[0m | \u001b[0m 14.39   \u001b[0m | \u001b[0m 55.94   \u001b[0m | \u001b[0m 0.9842  \u001b[0m | \u001b[0m 2.628   \u001b[0m |\n"
     ]
    },
    {
     "name": "stderr",
     "output_type": "stream",
     "text": [
      "/home/jupyter-shliu/.local/lib/python3.6/site-packages/lightgbm/engine.py:153: UserWarning: Found `early_stopping_rounds` in params. Will use it instead of argument\n",
      "  warnings.warn(\"Found `{}` in params. Will use it instead of argument\".format(alias))\n",
      "/home/jupyter-shliu/.local/lib/python3.6/site-packages/lightgbm/basic.py:1236: FutureWarning: elementwise comparison failed; returning scalar instead, but in the future will perform elementwise comparison\n",
      "  if self.categorical_feature == categorical_feature:\n",
      "/home/jupyter-shliu/.local/lib/python3.6/site-packages/lightgbm/basic.py:1242: FutureWarning: elementwise comparison failed; returning scalar instead, but in the future will perform elementwise comparison\n",
      "  elif categorical_feature == 'auto':\n",
      "/home/jupyter-shliu/.local/lib/python3.6/site-packages/lightgbm/basic.py:1247: UserWarning: categorical_feature in Dataset is overridden.\n",
      "New categorical_feature is []\n",
      "  'New categorical_feature is {}'.format(sorted(list(categorical_feature))))\n",
      "/home/jupyter-shliu/.local/lib/python3.6/site-packages/lightgbm/basic.py:285: FutureWarning: elementwise comparison failed; returning scalar instead, but in the future will perform elementwise comparison\n",
      "  if categorical_feature == 'auto':  # use cat cols from DataFrame\n"
     ]
    },
    {
     "name": "stdout",
     "output_type": "stream",
     "text": [
      "Training until validation scores don't improve for 100 rounds\n",
      "[100]\ttraining's rmse: 0.766121\ttraining's cappa: 0.794167\tvalid_1's rmse: 0.996625\tvalid_1's cappa: 0.573739\n",
      "Early stopping, best iteration is:\n",
      "[85]\ttraining's rmse: 0.792441\ttraining's cappa: 0.777678\tvalid_1's rmse: 0.997029\tvalid_1's cappa: 0.577886\n",
      "parameter 11 87 0.9820767237081058 0.9811463803679972 2 0.9250213404731241 10.960884347618416\n",
      "score 0.9970289488010445\n",
      "| \u001b[0m 78      \u001b[0m | \u001b[0m-0.997   \u001b[0m | \u001b[0m 0.9821  \u001b[0m | \u001b[0m 0.925   \u001b[0m | \u001b[0m 10.96   \u001b[0m | \u001b[0m 11.85   \u001b[0m | \u001b[0m 87.83   \u001b[0m | \u001b[0m 0.9811  \u001b[0m | \u001b[0m 2.445   \u001b[0m |\n"
     ]
    },
    {
     "name": "stderr",
     "output_type": "stream",
     "text": [
      "/home/jupyter-shliu/.local/lib/python3.6/site-packages/lightgbm/engine.py:153: UserWarning: Found `early_stopping_rounds` in params. Will use it instead of argument\n",
      "  warnings.warn(\"Found `{}` in params. Will use it instead of argument\".format(alias))\n",
      "/home/jupyter-shliu/.local/lib/python3.6/site-packages/lightgbm/basic.py:1236: FutureWarning: elementwise comparison failed; returning scalar instead, but in the future will perform elementwise comparison\n",
      "  if self.categorical_feature == categorical_feature:\n",
      "/home/jupyter-shliu/.local/lib/python3.6/site-packages/lightgbm/basic.py:1242: FutureWarning: elementwise comparison failed; returning scalar instead, but in the future will perform elementwise comparison\n",
      "  elif categorical_feature == 'auto':\n",
      "/home/jupyter-shliu/.local/lib/python3.6/site-packages/lightgbm/basic.py:1247: UserWarning: categorical_feature in Dataset is overridden.\n",
      "New categorical_feature is []\n",
      "  'New categorical_feature is {}'.format(sorted(list(categorical_feature))))\n",
      "/home/jupyter-shliu/.local/lib/python3.6/site-packages/lightgbm/basic.py:285: FutureWarning: elementwise comparison failed; returning scalar instead, but in the future will perform elementwise comparison\n",
      "  if categorical_feature == 'auto':  # use cat cols from DataFrame\n"
     ]
    },
    {
     "name": "stdout",
     "output_type": "stream",
     "text": [
      "Training until validation scores don't improve for 100 rounds\n",
      "[100]\ttraining's rmse: 0.990396\ttraining's cappa: 0.590852\tvalid_1's rmse: 1.01401\tvalid_1's cappa: 0.564509\n",
      "[200]\ttraining's rmse: 0.958654\ttraining's cappa: 0.620678\tvalid_1's rmse: 0.999138\tvalid_1's cappa: 0.573472\n",
      "[300]\ttraining's rmse: 0.943243\ttraining's cappa: 0.635775\tvalid_1's rmse: 0.996119\tvalid_1's cappa: 0.579175\n",
      "[400]\ttraining's rmse: 0.931758\ttraining's cappa: 0.647063\tvalid_1's rmse: 0.992811\tvalid_1's cappa: 0.582657\n",
      "[500]\ttraining's rmse: 0.922589\ttraining's cappa: 0.656053\tvalid_1's rmse: 0.991613\tvalid_1's cappa: 0.583547\n",
      "Early stopping, best iteration is:\n",
      "[490]\ttraining's rmse: 0.923351\ttraining's cappa: 0.65537\tvalid_1's rmse: 0.991689\tvalid_1's cappa: 0.584774\n",
      "parameter 5 99 0.6653990288518534 0.5272872327106273 2 49.47152724864796 48.727587677391625\n",
      "score 0.9916885096967097\n",
      "| \u001b[0m 79      \u001b[0m | \u001b[0m-0.9917  \u001b[0m | \u001b[0m 0.6654  \u001b[0m | \u001b[0m 49.47   \u001b[0m | \u001b[0m 48.73   \u001b[0m | \u001b[0m 5.511   \u001b[0m | \u001b[0m 99.85   \u001b[0m | \u001b[0m 0.5273  \u001b[0m | \u001b[0m 2.072   \u001b[0m |\n"
     ]
    },
    {
     "name": "stderr",
     "output_type": "stream",
     "text": [
      "/home/jupyter-shliu/.local/lib/python3.6/site-packages/lightgbm/engine.py:153: UserWarning: Found `early_stopping_rounds` in params. Will use it instead of argument\n",
      "  warnings.warn(\"Found `{}` in params. Will use it instead of argument\".format(alias))\n",
      "/home/jupyter-shliu/.local/lib/python3.6/site-packages/lightgbm/basic.py:1236: FutureWarning: elementwise comparison failed; returning scalar instead, but in the future will perform elementwise comparison\n",
      "  if self.categorical_feature == categorical_feature:\n",
      "/home/jupyter-shliu/.local/lib/python3.6/site-packages/lightgbm/basic.py:1242: FutureWarning: elementwise comparison failed; returning scalar instead, but in the future will perform elementwise comparison\n",
      "  elif categorical_feature == 'auto':\n",
      "/home/jupyter-shliu/.local/lib/python3.6/site-packages/lightgbm/basic.py:1247: UserWarning: categorical_feature in Dataset is overridden.\n",
      "New categorical_feature is []\n",
      "  'New categorical_feature is {}'.format(sorted(list(categorical_feature))))\n",
      "/home/jupyter-shliu/.local/lib/python3.6/site-packages/lightgbm/basic.py:285: FutureWarning: elementwise comparison failed; returning scalar instead, but in the future will perform elementwise comparison\n",
      "  if categorical_feature == 'auto':  # use cat cols from DataFrame\n"
     ]
    },
    {
     "name": "stdout",
     "output_type": "stream",
     "text": [
      "Training until validation scores don't improve for 100 rounds\n",
      "[100]\ttraining's rmse: 0.946424\ttraining's cappa: 0.634954\tvalid_1's rmse: 0.999528\tvalid_1's cappa: 0.574714\n",
      "[200]\ttraining's rmse: 0.90389\ttraining's cappa: 0.671686\tvalid_1's rmse: 0.991484\tvalid_1's cappa: 0.581172\n",
      "[300]\ttraining's rmse: 0.884981\ttraining's cappa: 0.691048\tvalid_1's rmse: 0.990069\tvalid_1's cappa: 0.584792\n",
      "[400]\ttraining's rmse: 0.877386\ttraining's cappa: 0.698619\tvalid_1's rmse: 0.989734\tvalid_1's cappa: 0.586207\n",
      "Early stopping, best iteration is:\n",
      "[339]\ttraining's rmse: 0.879664\ttraining's cappa: 0.696991\tvalid_1's rmse: 0.989713\tvalid_1's cappa: 0.587119\n",
      "parameter 14 33 0.6751441498918987 0.993741205392781 2 49.51983289589208 2.406435100290762\n",
      "score 0.9897130302331314\n",
      "| \u001b[0m 80      \u001b[0m | \u001b[0m-0.9897  \u001b[0m | \u001b[0m 0.6751  \u001b[0m | \u001b[0m 49.52   \u001b[0m | \u001b[0m 2.406   \u001b[0m | \u001b[0m 14.32   \u001b[0m | \u001b[0m 33.01   \u001b[0m | \u001b[0m 0.9937  \u001b[0m | \u001b[0m 2.741   \u001b[0m |\n"
     ]
    },
    {
     "name": "stderr",
     "output_type": "stream",
     "text": [
      "/home/jupyter-shliu/.local/lib/python3.6/site-packages/lightgbm/engine.py:153: UserWarning: Found `early_stopping_rounds` in params. Will use it instead of argument\n",
      "  warnings.warn(\"Found `{}` in params. Will use it instead of argument\".format(alias))\n",
      "/home/jupyter-shliu/.local/lib/python3.6/site-packages/lightgbm/basic.py:1236: FutureWarning: elementwise comparison failed; returning scalar instead, but in the future will perform elementwise comparison\n",
      "  if self.categorical_feature == categorical_feature:\n",
      "/home/jupyter-shliu/.local/lib/python3.6/site-packages/lightgbm/basic.py:1242: FutureWarning: elementwise comparison failed; returning scalar instead, but in the future will perform elementwise comparison\n",
      "  elif categorical_feature == 'auto':\n",
      "/home/jupyter-shliu/.local/lib/python3.6/site-packages/lightgbm/basic.py:1247: UserWarning: categorical_feature in Dataset is overridden.\n",
      "New categorical_feature is []\n",
      "  'New categorical_feature is {}'.format(sorted(list(categorical_feature))))\n",
      "/home/jupyter-shliu/.local/lib/python3.6/site-packages/lightgbm/basic.py:285: FutureWarning: elementwise comparison failed; returning scalar instead, but in the future will perform elementwise comparison\n",
      "  if categorical_feature == 'auto':  # use cat cols from DataFrame\n"
     ]
    },
    {
     "name": "stdout",
     "output_type": "stream",
     "text": [
      "Training until validation scores don't improve for 100 rounds\n",
      "[100]\ttraining's rmse: 0.961078\ttraining's cappa: 0.619465\tvalid_1's rmse: 0.999387\tvalid_1's cappa: 0.579575\n",
      "[200]\ttraining's rmse: 0.921632\ttraining's cappa: 0.656409\tvalid_1's rmse: 0.991108\tvalid_1's cappa: 0.578501\n",
      "Early stopping, best iteration is:\n",
      "[153]\ttraining's rmse: 0.937332\ttraining's cappa: 0.639696\tvalid_1's rmse: 0.993029\tvalid_1's cappa: 0.584352\n",
      "parameter 6 15 0.8772183764314869 0.8677959002411642 2 14.497203987686751 21.94435800320221\n",
      "score 0.9930286758720708\n",
      "| \u001b[0m 81      \u001b[0m | \u001b[0m-0.993   \u001b[0m | \u001b[0m 0.8772  \u001b[0m | \u001b[0m 14.5    \u001b[0m | \u001b[0m 21.94   \u001b[0m | \u001b[0m 6.064   \u001b[0m | \u001b[0m 15.61   \u001b[0m | \u001b[0m 0.8678  \u001b[0m | \u001b[0m 2.714   \u001b[0m |\n"
     ]
    },
    {
     "name": "stderr",
     "output_type": "stream",
     "text": [
      "/home/jupyter-shliu/.local/lib/python3.6/site-packages/lightgbm/engine.py:153: UserWarning: Found `early_stopping_rounds` in params. Will use it instead of argument\n",
      "  warnings.warn(\"Found `{}` in params. Will use it instead of argument\".format(alias))\n",
      "/home/jupyter-shliu/.local/lib/python3.6/site-packages/lightgbm/basic.py:1236: FutureWarning: elementwise comparison failed; returning scalar instead, but in the future will perform elementwise comparison\n",
      "  if self.categorical_feature == categorical_feature:\n",
      "/home/jupyter-shliu/.local/lib/python3.6/site-packages/lightgbm/basic.py:1242: FutureWarning: elementwise comparison failed; returning scalar instead, but in the future will perform elementwise comparison\n",
      "  elif categorical_feature == 'auto':\n",
      "/home/jupyter-shliu/.local/lib/python3.6/site-packages/lightgbm/basic.py:1247: UserWarning: categorical_feature in Dataset is overridden.\n",
      "New categorical_feature is []\n",
      "  'New categorical_feature is {}'.format(sorted(list(categorical_feature))))\n",
      "/home/jupyter-shliu/.local/lib/python3.6/site-packages/lightgbm/basic.py:285: FutureWarning: elementwise comparison failed; returning scalar instead, but in the future will perform elementwise comparison\n",
      "  if categorical_feature == 'auto':  # use cat cols from DataFrame\n"
     ]
    },
    {
     "name": "stdout",
     "output_type": "stream",
     "text": [
      "Training until validation scores don't improve for 100 rounds\n",
      "[100]\ttraining's rmse: 0.849185\ttraining's cappa: 0.725348\tvalid_1's rmse: 0.994384\tvalid_1's cappa: 0.579529\n",
      "[200]\ttraining's rmse: 0.750562\ttraining's cappa: 0.80202\tvalid_1's rmse: 0.994619\tvalid_1's cappa: 0.581966\n",
      "Early stopping, best iteration is:\n",
      "[116]\ttraining's rmse: 0.829767\ttraining's cappa: 0.74226\tvalid_1's rmse: 0.992922\tvalid_1's cappa: 0.581363\n",
      "parameter 15 59 0.989915288648064 0.9990410049970604 2 0.9064292486462423 45.200684436699234\n",
      "score 0.992922096449457\n",
      "| \u001b[0m 82      \u001b[0m | \u001b[0m-0.9929  \u001b[0m | \u001b[0m 0.9899  \u001b[0m | \u001b[0m 0.9064  \u001b[0m | \u001b[0m 45.2    \u001b[0m | \u001b[0m 15.57   \u001b[0m | \u001b[0m 59.28   \u001b[0m | \u001b[0m 0.999   \u001b[0m | \u001b[0m 2.648   \u001b[0m |\n"
     ]
    },
    {
     "name": "stderr",
     "output_type": "stream",
     "text": [
      "/home/jupyter-shliu/.local/lib/python3.6/site-packages/lightgbm/engine.py:153: UserWarning: Found `early_stopping_rounds` in params. Will use it instead of argument\n",
      "  warnings.warn(\"Found `{}` in params. Will use it instead of argument\".format(alias))\n",
      "/home/jupyter-shliu/.local/lib/python3.6/site-packages/lightgbm/basic.py:1236: FutureWarning: elementwise comparison failed; returning scalar instead, but in the future will perform elementwise comparison\n",
      "  if self.categorical_feature == categorical_feature:\n",
      "/home/jupyter-shliu/.local/lib/python3.6/site-packages/lightgbm/basic.py:1242: FutureWarning: elementwise comparison failed; returning scalar instead, but in the future will perform elementwise comparison\n",
      "  elif categorical_feature == 'auto':\n",
      "/home/jupyter-shliu/.local/lib/python3.6/site-packages/lightgbm/basic.py:1247: UserWarning: categorical_feature in Dataset is overridden.\n",
      "New categorical_feature is []\n",
      "  'New categorical_feature is {}'.format(sorted(list(categorical_feature))))\n",
      "/home/jupyter-shliu/.local/lib/python3.6/site-packages/lightgbm/basic.py:285: FutureWarning: elementwise comparison failed; returning scalar instead, but in the future will perform elementwise comparison\n",
      "  if categorical_feature == 'auto':  # use cat cols from DataFrame\n"
     ]
    },
    {
     "name": "stdout",
     "output_type": "stream",
     "text": [
      "Training until validation scores don't improve for 100 rounds\n",
      "[100]\ttraining's rmse: 0.986526\ttraining's cappa: 0.597051\tvalid_1's rmse: 1.01527\tvalid_1's cappa: 0.564014\n",
      "[200]\ttraining's rmse: 0.953404\ttraining's cappa: 0.623344\tvalid_1's rmse: 0.999377\tvalid_1's cappa: 0.57334\n",
      "[300]\ttraining's rmse: 0.93671\ttraining's cappa: 0.639729\tvalid_1's rmse: 0.995723\tvalid_1's cappa: 0.576079\n",
      "[400]\ttraining's rmse: 0.924306\ttraining's cappa: 0.651896\tvalid_1's rmse: 0.993931\tvalid_1's cappa: 0.580948\n",
      "[500]\ttraining's rmse: 0.91433\ttraining's cappa: 0.660565\tvalid_1's rmse: 0.992853\tvalid_1's cappa: 0.580604\n",
      "Early stopping, best iteration is:\n",
      "[487]\ttraining's rmse: 0.915544\ttraining's cappa: 0.659383\tvalid_1's rmse: 0.993001\tvalid_1's cappa: 0.584048\n",
      "parameter 5 16 0.45378861376047275 0.7400458394318115 2 47.92332779521045 49.19689129767431\n",
      "score 0.9930014241981018\n",
      "| \u001b[0m 83      \u001b[0m | \u001b[0m-0.993   \u001b[0m | \u001b[0m 0.4538  \u001b[0m | \u001b[0m 47.92   \u001b[0m | \u001b[0m 49.2    \u001b[0m | \u001b[0m 5.239   \u001b[0m | \u001b[0m 16.97   \u001b[0m | \u001b[0m 0.74    \u001b[0m | \u001b[0m 2.818   \u001b[0m |\n"
     ]
    },
    {
     "name": "stderr",
     "output_type": "stream",
     "text": [
      "/home/jupyter-shliu/.local/lib/python3.6/site-packages/lightgbm/engine.py:153: UserWarning: Found `early_stopping_rounds` in params. Will use it instead of argument\n",
      "  warnings.warn(\"Found `{}` in params. Will use it instead of argument\".format(alias))\n",
      "/home/jupyter-shliu/.local/lib/python3.6/site-packages/lightgbm/basic.py:1236: FutureWarning: elementwise comparison failed; returning scalar instead, but in the future will perform elementwise comparison\n",
      "  if self.categorical_feature == categorical_feature:\n",
      "/home/jupyter-shliu/.local/lib/python3.6/site-packages/lightgbm/basic.py:1242: FutureWarning: elementwise comparison failed; returning scalar instead, but in the future will perform elementwise comparison\n",
      "  elif categorical_feature == 'auto':\n",
      "/home/jupyter-shliu/.local/lib/python3.6/site-packages/lightgbm/basic.py:1247: UserWarning: categorical_feature in Dataset is overridden.\n",
      "New categorical_feature is []\n",
      "  'New categorical_feature is {}'.format(sorted(list(categorical_feature))))\n",
      "/home/jupyter-shliu/.local/lib/python3.6/site-packages/lightgbm/basic.py:285: FutureWarning: elementwise comparison failed; returning scalar instead, but in the future will perform elementwise comparison\n",
      "  if categorical_feature == 'auto':  # use cat cols from DataFrame\n"
     ]
    },
    {
     "name": "stdout",
     "output_type": "stream",
     "text": [
      "Training until validation scores don't improve for 100 rounds\n",
      "[100]\ttraining's rmse: 0.962072\ttraining's cappa: 0.623768\tvalid_1's rmse: 1.00753\tvalid_1's cappa: 0.571196\n",
      "[200]\ttraining's rmse: 0.921226\ttraining's cappa: 0.656479\tvalid_1's rmse: 0.994556\tvalid_1's cappa: 0.583536\n",
      "[300]\ttraining's rmse: 0.898795\ttraining's cappa: 0.678399\tvalid_1's rmse: 0.991969\tvalid_1's cappa: 0.588103\n",
      "Early stopping, best iteration is:\n",
      "[293]\ttraining's rmse: 0.899927\ttraining's cappa: 0.677073\tvalid_1's rmse: 0.992032\tvalid_1's cappa: 0.589017\n",
      "parameter 14 29 0.4076058057760205 0.9925362838924605 1 49.7189299730719 49.4750020334119\n",
      "score 0.9920317795020135\n",
      "| \u001b[0m 84      \u001b[0m | \u001b[0m-0.992   \u001b[0m | \u001b[0m 0.4076  \u001b[0m | \u001b[0m 49.72   \u001b[0m | \u001b[0m 49.48   \u001b[0m | \u001b[0m 14.03   \u001b[0m | \u001b[0m 29.56   \u001b[0m | \u001b[0m 0.9925  \u001b[0m | \u001b[0m 1.871   \u001b[0m |\n"
     ]
    },
    {
     "name": "stderr",
     "output_type": "stream",
     "text": [
      "/home/jupyter-shliu/.local/lib/python3.6/site-packages/lightgbm/engine.py:153: UserWarning: Found `early_stopping_rounds` in params. Will use it instead of argument\n",
      "  warnings.warn(\"Found `{}` in params. Will use it instead of argument\".format(alias))\n",
      "/home/jupyter-shliu/.local/lib/python3.6/site-packages/lightgbm/basic.py:1236: FutureWarning: elementwise comparison failed; returning scalar instead, but in the future will perform elementwise comparison\n",
      "  if self.categorical_feature == categorical_feature:\n",
      "/home/jupyter-shliu/.local/lib/python3.6/site-packages/lightgbm/basic.py:1242: FutureWarning: elementwise comparison failed; returning scalar instead, but in the future will perform elementwise comparison\n",
      "  elif categorical_feature == 'auto':\n",
      "/home/jupyter-shliu/.local/lib/python3.6/site-packages/lightgbm/basic.py:1247: UserWarning: categorical_feature in Dataset is overridden.\n",
      "New categorical_feature is []\n",
      "  'New categorical_feature is {}'.format(sorted(list(categorical_feature))))\n",
      "/home/jupyter-shliu/.local/lib/python3.6/site-packages/lightgbm/basic.py:285: FutureWarning: elementwise comparison failed; returning scalar instead, but in the future will perform elementwise comparison\n",
      "  if categorical_feature == 'auto':  # use cat cols from DataFrame\n"
     ]
    },
    {
     "name": "stdout",
     "output_type": "stream",
     "text": [
      "Training until validation scores don't improve for 100 rounds\n",
      "[100]\ttraining's rmse: 0.969521\ttraining's cappa: 0.609767\tvalid_1's rmse: 1.00057\tvalid_1's cappa: 0.578983\n",
      "[200]\ttraining's rmse: 0.932186\ttraining's cappa: 0.641934\tvalid_1's rmse: 0.990325\tvalid_1's cappa: 0.585135\n",
      "Early stopping, best iteration is:\n",
      "[191]\ttraining's rmse: 0.9348\ttraining's cappa: 0.640644\tvalid_1's rmse: 0.990719\tvalid_1's cappa: 0.587272\n",
      "parameter 15 15 0.8529262829488344 0.9164790547046993 2 28.65018284666429 18.021844376756835\n",
      "score 0.990719322441871\n",
      "| \u001b[0m 85      \u001b[0m | \u001b[0m-0.9907  \u001b[0m | \u001b[0m 0.8529  \u001b[0m | \u001b[0m 28.65   \u001b[0m | \u001b[0m 18.02   \u001b[0m | \u001b[0m 15.9    \u001b[0m | \u001b[0m 15.38   \u001b[0m | \u001b[0m 0.9165  \u001b[0m | \u001b[0m 2.896   \u001b[0m |\n"
     ]
    },
    {
     "name": "stderr",
     "output_type": "stream",
     "text": [
      "/home/jupyter-shliu/.local/lib/python3.6/site-packages/lightgbm/engine.py:153: UserWarning: Found `early_stopping_rounds` in params. Will use it instead of argument\n",
      "  warnings.warn(\"Found `{}` in params. Will use it instead of argument\".format(alias))\n",
      "/home/jupyter-shliu/.local/lib/python3.6/site-packages/lightgbm/basic.py:1236: FutureWarning: elementwise comparison failed; returning scalar instead, but in the future will perform elementwise comparison\n",
      "  if self.categorical_feature == categorical_feature:\n",
      "/home/jupyter-shliu/.local/lib/python3.6/site-packages/lightgbm/basic.py:1242: FutureWarning: elementwise comparison failed; returning scalar instead, but in the future will perform elementwise comparison\n",
      "  elif categorical_feature == 'auto':\n",
      "/home/jupyter-shliu/.local/lib/python3.6/site-packages/lightgbm/basic.py:1247: UserWarning: categorical_feature in Dataset is overridden.\n",
      "New categorical_feature is []\n",
      "  'New categorical_feature is {}'.format(sorted(list(categorical_feature))))\n",
      "/home/jupyter-shliu/.local/lib/python3.6/site-packages/lightgbm/basic.py:285: FutureWarning: elementwise comparison failed; returning scalar instead, but in the future will perform elementwise comparison\n",
      "  if categorical_feature == 'auto':  # use cat cols from DataFrame\n"
     ]
    },
    {
     "name": "stdout",
     "output_type": "stream",
     "text": [
      "Training until validation scores don't improve for 100 rounds\n",
      "[100]\ttraining's rmse: 0.944048\ttraining's cappa: 0.641771\tvalid_1's rmse: 1.00269\tvalid_1's cappa: 0.574568\n",
      "[200]\ttraining's rmse: 0.898601\ttraining's cappa: 0.68085\tvalid_1's rmse: 0.993423\tvalid_1's cappa: 0.576654\n",
      "[300]\ttraining's rmse: 0.876818\ttraining's cappa: 0.700302\tvalid_1's rmse: 0.992348\tvalid_1's cappa: 0.578387\n",
      "[400]\ttraining's rmse: 0.860677\ttraining's cappa: 0.711826\tvalid_1's rmse: 0.991971\tvalid_1's cappa: 0.578632\n",
      "Early stopping, best iteration is:\n",
      "[329]\ttraining's rmse: 0.871258\ttraining's cappa: 0.705584\tvalid_1's rmse: 0.992005\tvalid_1's cappa: 0.582701\n",
      "parameter 15 99 0.7544537250249421 0.8600917548378797 2 49.93261736880717 49.88492670993015\n",
      "score 0.9920051518350379\n",
      "| \u001b[0m 86      \u001b[0m | \u001b[0m-0.992   \u001b[0m | \u001b[0m 0.7545  \u001b[0m | \u001b[0m 49.93   \u001b[0m | \u001b[0m 49.88   \u001b[0m | \u001b[0m 15.48   \u001b[0m | \u001b[0m 99.75   \u001b[0m | \u001b[0m 0.8601  \u001b[0m | \u001b[0m 2.061   \u001b[0m |\n"
     ]
    },
    {
     "name": "stderr",
     "output_type": "stream",
     "text": [
      "/home/jupyter-shliu/.local/lib/python3.6/site-packages/lightgbm/engine.py:153: UserWarning: Found `early_stopping_rounds` in params. Will use it instead of argument\n",
      "  warnings.warn(\"Found `{}` in params. Will use it instead of argument\".format(alias))\n",
      "/home/jupyter-shliu/.local/lib/python3.6/site-packages/lightgbm/basic.py:1236: FutureWarning: elementwise comparison failed; returning scalar instead, but in the future will perform elementwise comparison\n",
      "  if self.categorical_feature == categorical_feature:\n",
      "/home/jupyter-shliu/.local/lib/python3.6/site-packages/lightgbm/basic.py:1242: FutureWarning: elementwise comparison failed; returning scalar instead, but in the future will perform elementwise comparison\n",
      "  elif categorical_feature == 'auto':\n",
      "/home/jupyter-shliu/.local/lib/python3.6/site-packages/lightgbm/basic.py:1247: UserWarning: categorical_feature in Dataset is overridden.\n",
      "New categorical_feature is []\n",
      "  'New categorical_feature is {}'.format(sorted(list(categorical_feature))))\n",
      "/home/jupyter-shliu/.local/lib/python3.6/site-packages/lightgbm/basic.py:285: FutureWarning: elementwise comparison failed; returning scalar instead, but in the future will perform elementwise comparison\n",
      "  if categorical_feature == 'auto':  # use cat cols from DataFrame\n"
     ]
    },
    {
     "name": "stdout",
     "output_type": "stream",
     "text": [
      "Training until validation scores don't improve for 100 rounds\n",
      "[100]\ttraining's rmse: 0.914641\ttraining's cappa: 0.666555\tvalid_1's rmse: 0.993893\tvalid_1's cappa: 0.583912\n",
      "[200]\ttraining's rmse: 0.853719\ttraining's cappa: 0.71854\tvalid_1's rmse: 0.990446\tvalid_1's cappa: 0.579283\n",
      "Early stopping, best iteration is:\n",
      "[130]\ttraining's rmse: 0.891168\ttraining's cappa: 0.6875\tvalid_1's rmse: 0.990607\tvalid_1's cappa: 0.5859\n",
      "parameter 5 99 0.5658268940322964 0.9608156084856703 2 0.5667344720170892 0.11785245447705048\n",
      "score 0.990607186192494\n",
      "| \u001b[0m 87      \u001b[0m | \u001b[0m-0.9906  \u001b[0m | \u001b[0m 0.5658  \u001b[0m | \u001b[0m 0.5667  \u001b[0m | \u001b[0m 0.1179  \u001b[0m | \u001b[0m 5.078   \u001b[0m | \u001b[0m 99.3    \u001b[0m | \u001b[0m 0.9608  \u001b[0m | \u001b[0m 2.946   \u001b[0m |\n"
     ]
    },
    {
     "name": "stderr",
     "output_type": "stream",
     "text": [
      "/home/jupyter-shliu/.local/lib/python3.6/site-packages/lightgbm/engine.py:153: UserWarning: Found `early_stopping_rounds` in params. Will use it instead of argument\n",
      "  warnings.warn(\"Found `{}` in params. Will use it instead of argument\".format(alias))\n",
      "/home/jupyter-shliu/.local/lib/python3.6/site-packages/lightgbm/basic.py:1236: FutureWarning: elementwise comparison failed; returning scalar instead, but in the future will perform elementwise comparison\n",
      "  if self.categorical_feature == categorical_feature:\n",
      "/home/jupyter-shliu/.local/lib/python3.6/site-packages/lightgbm/basic.py:1242: FutureWarning: elementwise comparison failed; returning scalar instead, but in the future will perform elementwise comparison\n",
      "  elif categorical_feature == 'auto':\n",
      "/home/jupyter-shliu/.local/lib/python3.6/site-packages/lightgbm/basic.py:1247: UserWarning: categorical_feature in Dataset is overridden.\n",
      "New categorical_feature is []\n",
      "  'New categorical_feature is {}'.format(sorted(list(categorical_feature))))\n",
      "/home/jupyter-shliu/.local/lib/python3.6/site-packages/lightgbm/basic.py:285: FutureWarning: elementwise comparison failed; returning scalar instead, but in the future will perform elementwise comparison\n",
      "  if categorical_feature == 'auto':  # use cat cols from DataFrame\n"
     ]
    },
    {
     "name": "stdout",
     "output_type": "stream",
     "text": [
      "Training until validation scores don't improve for 100 rounds\n",
      "[100]\ttraining's rmse: 0.972927\ttraining's cappa: 0.607743\tvalid_1's rmse: 1.00432\tvalid_1's cappa: 0.575596\n",
      "[200]\ttraining's rmse: 0.936084\ttraining's cappa: 0.640425\tvalid_1's rmse: 0.993464\tvalid_1's cappa: 0.579819\n",
      "[300]\ttraining's rmse: 0.91326\ttraining's cappa: 0.661296\tvalid_1's rmse: 0.991386\tvalid_1's cappa: 0.583782\n",
      "[400]\ttraining's rmse: 0.894878\ttraining's cappa: 0.680586\tvalid_1's rmse: 0.990675\tvalid_1's cappa: 0.583204\n",
      "Early stopping, best iteration is:\n",
      "[345]\ttraining's rmse: 0.904827\ttraining's cappa: 0.669912\tvalid_1's rmse: 0.991095\tvalid_1's cappa: 0.585674\n",
      "parameter 5 15 0.6452491596000489 0.8893788139139689 2 23.462697508803398 49.286120338310646\n",
      "score 0.9910953322454255\n",
      "| \u001b[0m 88      \u001b[0m | \u001b[0m-0.9911  \u001b[0m | \u001b[0m 0.6452  \u001b[0m | \u001b[0m 23.46   \u001b[0m | \u001b[0m 49.29   \u001b[0m | \u001b[0m 5.843   \u001b[0m | \u001b[0m 15.63   \u001b[0m | \u001b[0m 0.8894  \u001b[0m | \u001b[0m 2.421   \u001b[0m |\n"
     ]
    },
    {
     "name": "stderr",
     "output_type": "stream",
     "text": [
      "/home/jupyter-shliu/.local/lib/python3.6/site-packages/lightgbm/engine.py:153: UserWarning: Found `early_stopping_rounds` in params. Will use it instead of argument\n",
      "  warnings.warn(\"Found `{}` in params. Will use it instead of argument\".format(alias))\n",
      "/home/jupyter-shliu/.local/lib/python3.6/site-packages/lightgbm/basic.py:1236: FutureWarning: elementwise comparison failed; returning scalar instead, but in the future will perform elementwise comparison\n",
      "  if self.categorical_feature == categorical_feature:\n",
      "/home/jupyter-shliu/.local/lib/python3.6/site-packages/lightgbm/basic.py:1242: FutureWarning: elementwise comparison failed; returning scalar instead, but in the future will perform elementwise comparison\n",
      "  elif categorical_feature == 'auto':\n",
      "/home/jupyter-shliu/.local/lib/python3.6/site-packages/lightgbm/basic.py:1247: UserWarning: categorical_feature in Dataset is overridden.\n",
      "New categorical_feature is []\n",
      "  'New categorical_feature is {}'.format(sorted(list(categorical_feature))))\n",
      "/home/jupyter-shliu/.local/lib/python3.6/site-packages/lightgbm/basic.py:285: FutureWarning: elementwise comparison failed; returning scalar instead, but in the future will perform elementwise comparison\n",
      "  if categorical_feature == 'auto':  # use cat cols from DataFrame\n"
     ]
    },
    {
     "name": "stdout",
     "output_type": "stream",
     "text": [
      "Training until validation scores don't improve for 100 rounds\n",
      "[100]\ttraining's rmse: 0.971045\ttraining's cappa: 0.608308\tvalid_1's rmse: 1.00494\tvalid_1's cappa: 0.567794\n",
      "[200]\ttraining's rmse: 0.936716\ttraining's cappa: 0.640528\tvalid_1's rmse: 0.994073\tvalid_1's cappa: 0.578924\n",
      "[300]\ttraining's rmse: 0.919241\ttraining's cappa: 0.656029\tvalid_1's rmse: 0.992001\tvalid_1's cappa: 0.58052\n",
      "Early stopping, best iteration is:\n",
      "[277]\ttraining's rmse: 0.922546\ttraining's cappa: 0.653052\tvalid_1's rmse: 0.9923\tvalid_1's cappa: 0.583426\n",
      "parameter 5 78 0.8295461629946133 0.9514464523581734 1 49.88414113397321 0.6298761654074111\n",
      "score 0.9923003453335667\n",
      "| \u001b[0m 89      \u001b[0m | \u001b[0m-0.9923  \u001b[0m | \u001b[0m 0.8295  \u001b[0m | \u001b[0m 49.88   \u001b[0m | \u001b[0m 0.6299  \u001b[0m | \u001b[0m 5.767   \u001b[0m | \u001b[0m 78.14   \u001b[0m | \u001b[0m 0.9514  \u001b[0m | \u001b[0m 1.174   \u001b[0m |\n"
     ]
    },
    {
     "name": "stderr",
     "output_type": "stream",
     "text": [
      "/home/jupyter-shliu/.local/lib/python3.6/site-packages/lightgbm/engine.py:153: UserWarning: Found `early_stopping_rounds` in params. Will use it instead of argument\n",
      "  warnings.warn(\"Found `{}` in params. Will use it instead of argument\".format(alias))\n",
      "/home/jupyter-shliu/.local/lib/python3.6/site-packages/lightgbm/basic.py:1236: FutureWarning: elementwise comparison failed; returning scalar instead, but in the future will perform elementwise comparison\n",
      "  if self.categorical_feature == categorical_feature:\n",
      "/home/jupyter-shliu/.local/lib/python3.6/site-packages/lightgbm/basic.py:1242: FutureWarning: elementwise comparison failed; returning scalar instead, but in the future will perform elementwise comparison\n",
      "  elif categorical_feature == 'auto':\n",
      "/home/jupyter-shliu/.local/lib/python3.6/site-packages/lightgbm/basic.py:1247: UserWarning: categorical_feature in Dataset is overridden.\n",
      "New categorical_feature is []\n",
      "  'New categorical_feature is {}'.format(sorted(list(categorical_feature))))\n",
      "/home/jupyter-shliu/.local/lib/python3.6/site-packages/lightgbm/basic.py:285: FutureWarning: elementwise comparison failed; returning scalar instead, but in the future will perform elementwise comparison\n",
      "  if categorical_feature == 'auto':  # use cat cols from DataFrame\n"
     ]
    },
    {
     "name": "stdout",
     "output_type": "stream",
     "text": [
      "Training until validation scores don't improve for 100 rounds\n",
      "[100]\ttraining's rmse: 0.895779\ttraining's cappa: 0.684725\tvalid_1's rmse: 0.997136\tvalid_1's cappa: 0.574839\n",
      "[200]\ttraining's rmse: 0.819811\ttraining's cappa: 0.749696\tvalid_1's rmse: 0.991792\tvalid_1's cappa: 0.586603\n",
      "Early stopping, best iteration is:\n",
      "[196]\ttraining's rmse: 0.822206\ttraining's cappa: 0.747162\tvalid_1's rmse: 0.991602\tvalid_1's cappa: 0.584496\n",
      "parameter 15 80 0.9749811168624145 0.9382745538528718 2 27.04449640357504 30.155075198407683\n",
      "score 0.991601889509606\n",
      "| \u001b[0m 90      \u001b[0m | \u001b[0m-0.9916  \u001b[0m | \u001b[0m 0.975   \u001b[0m | \u001b[0m 27.04   \u001b[0m | \u001b[0m 30.16   \u001b[0m | \u001b[0m 15.85   \u001b[0m | \u001b[0m 80.13   \u001b[0m | \u001b[0m 0.9383  \u001b[0m | \u001b[0m 2.739   \u001b[0m |\n"
     ]
    },
    {
     "name": "stderr",
     "output_type": "stream",
     "text": [
      "/home/jupyter-shliu/.local/lib/python3.6/site-packages/lightgbm/engine.py:153: UserWarning: Found `early_stopping_rounds` in params. Will use it instead of argument\n",
      "  warnings.warn(\"Found `{}` in params. Will use it instead of argument\".format(alias))\n",
      "/home/jupyter-shliu/.local/lib/python3.6/site-packages/lightgbm/basic.py:1236: FutureWarning: elementwise comparison failed; returning scalar instead, but in the future will perform elementwise comparison\n",
      "  if self.categorical_feature == categorical_feature:\n",
      "/home/jupyter-shliu/.local/lib/python3.6/site-packages/lightgbm/basic.py:1242: FutureWarning: elementwise comparison failed; returning scalar instead, but in the future will perform elementwise comparison\n",
      "  elif categorical_feature == 'auto':\n",
      "/home/jupyter-shliu/.local/lib/python3.6/site-packages/lightgbm/basic.py:1247: UserWarning: categorical_feature in Dataset is overridden.\n",
      "New categorical_feature is []\n",
      "  'New categorical_feature is {}'.format(sorted(list(categorical_feature))))\n",
      "/home/jupyter-shliu/.local/lib/python3.6/site-packages/lightgbm/basic.py:285: FutureWarning: elementwise comparison failed; returning scalar instead, but in the future will perform elementwise comparison\n",
      "  if categorical_feature == 'auto':  # use cat cols from DataFrame\n"
     ]
    },
    {
     "name": "stdout",
     "output_type": "stream",
     "text": [
      "Training until validation scores don't improve for 100 rounds\n",
      "[100]\ttraining's rmse: 0.878647\ttraining's cappa: 0.696353\tvalid_1's rmse: 0.993478\tvalid_1's cappa: 0.576402\n",
      "[200]\ttraining's rmse: 0.79869\ttraining's cappa: 0.76523\tvalid_1's rmse: 0.990216\tvalid_1's cappa: 0.583243\n",
      "Early stopping, best iteration is:\n",
      "[158]\ttraining's rmse: 0.828269\ttraining's cappa: 0.739767\tvalid_1's rmse: 0.990184\tvalid_1's cappa: 0.58091\n",
      "parameter 14 48 0.7791790888628309 0.9893923657672685 1 11.077747374434221 11.929798379494532\n",
      "score 0.9901843471923581\n",
      "| \u001b[0m 91      \u001b[0m | \u001b[0m-0.9902  \u001b[0m | \u001b[0m 0.7792  \u001b[0m | \u001b[0m 11.08   \u001b[0m | \u001b[0m 11.93   \u001b[0m | \u001b[0m 14.05   \u001b[0m | \u001b[0m 48.36   \u001b[0m | \u001b[0m 0.9894  \u001b[0m | \u001b[0m 1.404   \u001b[0m |\n"
     ]
    },
    {
     "name": "stderr",
     "output_type": "stream",
     "text": [
      "/home/jupyter-shliu/.local/lib/python3.6/site-packages/lightgbm/engine.py:153: UserWarning: Found `early_stopping_rounds` in params. Will use it instead of argument\n",
      "  warnings.warn(\"Found `{}` in params. Will use it instead of argument\".format(alias))\n",
      "/home/jupyter-shliu/.local/lib/python3.6/site-packages/lightgbm/basic.py:1236: FutureWarning: elementwise comparison failed; returning scalar instead, but in the future will perform elementwise comparison\n",
      "  if self.categorical_feature == categorical_feature:\n",
      "/home/jupyter-shliu/.local/lib/python3.6/site-packages/lightgbm/basic.py:1242: FutureWarning: elementwise comparison failed; returning scalar instead, but in the future will perform elementwise comparison\n",
      "  elif categorical_feature == 'auto':\n",
      "/home/jupyter-shliu/.local/lib/python3.6/site-packages/lightgbm/basic.py:1247: UserWarning: categorical_feature in Dataset is overridden.\n",
      "New categorical_feature is []\n",
      "  'New categorical_feature is {}'.format(sorted(list(categorical_feature))))\n",
      "/home/jupyter-shliu/.local/lib/python3.6/site-packages/lightgbm/basic.py:285: FutureWarning: elementwise comparison failed; returning scalar instead, but in the future will perform elementwise comparison\n",
      "  if categorical_feature == 'auto':  # use cat cols from DataFrame\n"
     ]
    },
    {
     "name": "stdout",
     "output_type": "stream",
     "text": [
      "Training until validation scores don't improve for 100 rounds\n",
      "[100]\ttraining's rmse: 0.901203\ttraining's cappa: 0.676135\tvalid_1's rmse: 0.992933\tvalid_1's cappa: 0.578776\n",
      "[200]\ttraining's rmse: 0.82972\ttraining's cappa: 0.74041\tvalid_1's rmse: 0.99233\tvalid_1's cappa: 0.579924\n",
      "Early stopping, best iteration is:\n",
      "[139]\ttraining's rmse: 0.869426\ttraining's cappa: 0.706066\tvalid_1's rmse: 0.990287\tvalid_1's cappa: 0.577037\n",
      "parameter 8 26 0.9476024237144027 0.9746097526542878 1 0.6441035122659665 0.9832955143669618\n",
      "score 0.9902872085476163\n",
      "| \u001b[0m 92      \u001b[0m | \u001b[0m-0.9903  \u001b[0m | \u001b[0m 0.9476  \u001b[0m | \u001b[0m 0.6441  \u001b[0m | \u001b[0m 0.9833  \u001b[0m | \u001b[0m 8.163   \u001b[0m | \u001b[0m 26.08   \u001b[0m | \u001b[0m 0.9746  \u001b[0m | \u001b[0m 1.426   \u001b[0m |\n"
     ]
    },
    {
     "name": "stderr",
     "output_type": "stream",
     "text": [
      "/home/jupyter-shliu/.local/lib/python3.6/site-packages/lightgbm/engine.py:153: UserWarning: Found `early_stopping_rounds` in params. Will use it instead of argument\n",
      "  warnings.warn(\"Found `{}` in params. Will use it instead of argument\".format(alias))\n",
      "/home/jupyter-shliu/.local/lib/python3.6/site-packages/lightgbm/basic.py:1236: FutureWarning: elementwise comparison failed; returning scalar instead, but in the future will perform elementwise comparison\n",
      "  if self.categorical_feature == categorical_feature:\n",
      "/home/jupyter-shliu/.local/lib/python3.6/site-packages/lightgbm/basic.py:1242: FutureWarning: elementwise comparison failed; returning scalar instead, but in the future will perform elementwise comparison\n",
      "  elif categorical_feature == 'auto':\n",
      "/home/jupyter-shliu/.local/lib/python3.6/site-packages/lightgbm/basic.py:1247: UserWarning: categorical_feature in Dataset is overridden.\n",
      "New categorical_feature is []\n",
      "  'New categorical_feature is {}'.format(sorted(list(categorical_feature))))\n",
      "/home/jupyter-shliu/.local/lib/python3.6/site-packages/lightgbm/basic.py:285: FutureWarning: elementwise comparison failed; returning scalar instead, but in the future will perform elementwise comparison\n",
      "  if categorical_feature == 'auto':  # use cat cols from DataFrame\n"
     ]
    },
    {
     "name": "stdout",
     "output_type": "stream",
     "text": [
      "Training until validation scores don't improve for 100 rounds\n",
      "[100]\ttraining's rmse: 0.916229\ttraining's cappa: 0.666759\tvalid_1's rmse: 0.997799\tvalid_1's cappa: 0.576214\n",
      "[200]\ttraining's rmse: 0.853356\ttraining's cappa: 0.720598\tvalid_1's rmse: 0.9917\tvalid_1's cappa: 0.58394\n",
      "[300]\ttraining's rmse: 0.812339\ttraining's cappa: 0.752568\tvalid_1's rmse: 0.991113\tvalid_1's cappa: 0.583518\n",
      "[400]\ttraining's rmse: 0.781965\ttraining's cappa: 0.778912\tvalid_1's rmse: 0.991667\tvalid_1's cappa: 0.584777\n",
      "Early stopping, best iteration is:\n",
      "[355]\ttraining's rmse: 0.793485\ttraining's cappa: 0.768596\tvalid_1's rmse: 0.990719\tvalid_1's cappa: 0.587042\n",
      "parameter 14 60 0.8833980036731879 0.9695745443380726 2 32.011169432222964 49.34942322254628\n",
      "score 0.990718565527484\n",
      "| \u001b[0m 93      \u001b[0m | \u001b[0m-0.9907  \u001b[0m | \u001b[0m 0.8834  \u001b[0m | \u001b[0m 32.01   \u001b[0m | \u001b[0m 49.35   \u001b[0m | \u001b[0m 14.27   \u001b[0m | \u001b[0m 60.09   \u001b[0m | \u001b[0m 0.9696  \u001b[0m | \u001b[0m 2.873   \u001b[0m |\n"
     ]
    },
    {
     "name": "stderr",
     "output_type": "stream",
     "text": [
      "/home/jupyter-shliu/.local/lib/python3.6/site-packages/lightgbm/engine.py:153: UserWarning: Found `early_stopping_rounds` in params. Will use it instead of argument\n",
      "  warnings.warn(\"Found `{}` in params. Will use it instead of argument\".format(alias))\n",
      "/home/jupyter-shliu/.local/lib/python3.6/site-packages/lightgbm/basic.py:1236: FutureWarning: elementwise comparison failed; returning scalar instead, but in the future will perform elementwise comparison\n",
      "  if self.categorical_feature == categorical_feature:\n",
      "/home/jupyter-shliu/.local/lib/python3.6/site-packages/lightgbm/basic.py:1242: FutureWarning: elementwise comparison failed; returning scalar instead, but in the future will perform elementwise comparison\n",
      "  elif categorical_feature == 'auto':\n",
      "/home/jupyter-shliu/.local/lib/python3.6/site-packages/lightgbm/basic.py:1247: UserWarning: categorical_feature in Dataset is overridden.\n",
      "New categorical_feature is []\n",
      "  'New categorical_feature is {}'.format(sorted(list(categorical_feature))))\n",
      "/home/jupyter-shliu/.local/lib/python3.6/site-packages/lightgbm/basic.py:285: FutureWarning: elementwise comparison failed; returning scalar instead, but in the future will perform elementwise comparison\n",
      "  if categorical_feature == 'auto':  # use cat cols from DataFrame\n"
     ]
    },
    {
     "name": "stdout",
     "output_type": "stream",
     "text": [
      "Training until validation scores don't improve for 100 rounds\n",
      "[100]\ttraining's rmse: 0.976227\ttraining's cappa: 0.605235\tvalid_1's rmse: 1.00793\tvalid_1's cappa: 0.571203\n",
      "[200]\ttraining's rmse: 0.942374\ttraining's cappa: 0.633889\tvalid_1's rmse: 0.995272\tvalid_1's cappa: 0.575947\n",
      "[300]\ttraining's rmse: 0.924917\ttraining's cappa: 0.648729\tvalid_1's rmse: 0.992396\tvalid_1's cappa: 0.583077\n",
      "Early stopping, best iteration is:\n",
      "[286]\ttraining's rmse: 0.926846\ttraining's cappa: 0.646601\tvalid_1's rmse: 0.992466\tvalid_1's cappa: 0.583784\n",
      "parameter 5 75 0.5633390432785383 0.9234020552289475 1 49.77519111901122 33.98345016876361\n",
      "score 0.9924657019868565\n",
      "| \u001b[0m 94      \u001b[0m | \u001b[0m-0.9925  \u001b[0m | \u001b[0m 0.5633  \u001b[0m | \u001b[0m 49.78   \u001b[0m | \u001b[0m 33.98   \u001b[0m | \u001b[0m 5.077   \u001b[0m | \u001b[0m 75.98   \u001b[0m | \u001b[0m 0.9234  \u001b[0m | \u001b[0m 1.189   \u001b[0m |\n"
     ]
    },
    {
     "name": "stderr",
     "output_type": "stream",
     "text": [
      "/home/jupyter-shliu/.local/lib/python3.6/site-packages/lightgbm/engine.py:153: UserWarning: Found `early_stopping_rounds` in params. Will use it instead of argument\n",
      "  warnings.warn(\"Found `{}` in params. Will use it instead of argument\".format(alias))\n",
      "/home/jupyter-shliu/.local/lib/python3.6/site-packages/lightgbm/basic.py:1236: FutureWarning: elementwise comparison failed; returning scalar instead, but in the future will perform elementwise comparison\n",
      "  if self.categorical_feature == categorical_feature:\n",
      "/home/jupyter-shliu/.local/lib/python3.6/site-packages/lightgbm/basic.py:1242: FutureWarning: elementwise comparison failed; returning scalar instead, but in the future will perform elementwise comparison\n",
      "  elif categorical_feature == 'auto':\n",
      "/home/jupyter-shliu/.local/lib/python3.6/site-packages/lightgbm/basic.py:1247: UserWarning: categorical_feature in Dataset is overridden.\n",
      "New categorical_feature is []\n",
      "  'New categorical_feature is {}'.format(sorted(list(categorical_feature))))\n",
      "/home/jupyter-shliu/.local/lib/python3.6/site-packages/lightgbm/basic.py:285: FutureWarning: elementwise comparison failed; returning scalar instead, but in the future will perform elementwise comparison\n",
      "  if categorical_feature == 'auto':  # use cat cols from DataFrame\n"
     ]
    },
    {
     "name": "stdout",
     "output_type": "stream",
     "text": [
      "Training until validation scores don't improve for 100 rounds\n",
      "[100]\ttraining's rmse: 0.946242\ttraining's cappa: 0.632791\tvalid_1's rmse: 1.00009\tvalid_1's cappa: 0.574819\n",
      "[200]\ttraining's rmse: 0.901848\ttraining's cappa: 0.673959\tvalid_1's rmse: 0.992508\tvalid_1's cappa: 0.58178\n",
      "[300]\ttraining's rmse: 0.875336\ttraining's cappa: 0.699255\tvalid_1's rmse: 0.990381\tvalid_1's cappa: 0.584256\n",
      "[400]\ttraining's rmse: 0.855804\ttraining's cappa: 0.717065\tvalid_1's rmse: 0.990354\tvalid_1's cappa: 0.579173\n",
      "Early stopping, best iteration is:\n",
      "[302]\ttraining's rmse: 0.874888\ttraining's cappa: 0.699795\tvalid_1's rmse: 0.990442\tvalid_1's cappa: 0.585516\n",
      "parameter 6 91 0.8970543199786829 0.9685259628793166 1 37.35244850980208 0.4986417693670112\n",
      "score 0.9904417757164126\n",
      "| \u001b[0m 95      \u001b[0m | \u001b[0m-0.9904  \u001b[0m | \u001b[0m 0.8971  \u001b[0m | \u001b[0m 37.35   \u001b[0m | \u001b[0m 0.4986  \u001b[0m | \u001b[0m 6.248   \u001b[0m | \u001b[0m 91.04   \u001b[0m | \u001b[0m 0.9685  \u001b[0m | \u001b[0m 1.785   \u001b[0m |\n"
     ]
    },
    {
     "name": "stderr",
     "output_type": "stream",
     "text": [
      "/home/jupyter-shliu/.local/lib/python3.6/site-packages/lightgbm/engine.py:153: UserWarning: Found `early_stopping_rounds` in params. Will use it instead of argument\n",
      "  warnings.warn(\"Found `{}` in params. Will use it instead of argument\".format(alias))\n",
      "/home/jupyter-shliu/.local/lib/python3.6/site-packages/lightgbm/basic.py:1236: FutureWarning: elementwise comparison failed; returning scalar instead, but in the future will perform elementwise comparison\n",
      "  if self.categorical_feature == categorical_feature:\n",
      "/home/jupyter-shliu/.local/lib/python3.6/site-packages/lightgbm/basic.py:1242: FutureWarning: elementwise comparison failed; returning scalar instead, but in the future will perform elementwise comparison\n",
      "  elif categorical_feature == 'auto':\n",
      "/home/jupyter-shliu/.local/lib/python3.6/site-packages/lightgbm/basic.py:1247: UserWarning: categorical_feature in Dataset is overridden.\n",
      "New categorical_feature is []\n",
      "  'New categorical_feature is {}'.format(sorted(list(categorical_feature))))\n",
      "/home/jupyter-shliu/.local/lib/python3.6/site-packages/lightgbm/basic.py:285: FutureWarning: elementwise comparison failed; returning scalar instead, but in the future will perform elementwise comparison\n",
      "  if categorical_feature == 'auto':  # use cat cols from DataFrame\n"
     ]
    },
    {
     "name": "stdout",
     "output_type": "stream",
     "text": [
      "Training until validation scores don't improve for 100 rounds\n",
      "[100]\ttraining's rmse: 0.954251\ttraining's cappa: 0.625499\tvalid_1's rmse: 0.996505\tvalid_1's cappa: 0.582895\n",
      "[200]\ttraining's rmse: 0.908639\ttraining's cappa: 0.665122\tvalid_1's rmse: 0.989796\tvalid_1's cappa: 0.583475\n",
      "[300]\ttraining's rmse: 0.876183\ttraining's cappa: 0.694107\tvalid_1's rmse: 0.989285\tvalid_1's cappa: 0.58389\n",
      "Early stopping, best iteration is:\n",
      "[235]\ttraining's rmse: 0.896475\ttraining's cappa: 0.677571\tvalid_1's rmse: 0.989292\tvalid_1's cappa: 0.586836\n",
      "parameter 10 15 0.7850590042902044 0.9392894634466817 2 0.419612664533783 33.730233323509886\n",
      "score 0.9892915272524989\n",
      "| \u001b[0m 96      \u001b[0m | \u001b[0m-0.9893  \u001b[0m | \u001b[0m 0.7851  \u001b[0m | \u001b[0m 0.4196  \u001b[0m | \u001b[0m 33.73   \u001b[0m | \u001b[0m 10.03   \u001b[0m | \u001b[0m 15.6    \u001b[0m | \u001b[0m 0.9393  \u001b[0m | \u001b[0m 2.397   \u001b[0m |\n"
     ]
    },
    {
     "name": "stderr",
     "output_type": "stream",
     "text": [
      "/home/jupyter-shliu/.local/lib/python3.6/site-packages/lightgbm/engine.py:153: UserWarning: Found `early_stopping_rounds` in params. Will use it instead of argument\n",
      "  warnings.warn(\"Found `{}` in params. Will use it instead of argument\".format(alias))\n",
      "/home/jupyter-shliu/.local/lib/python3.6/site-packages/lightgbm/basic.py:1236: FutureWarning: elementwise comparison failed; returning scalar instead, but in the future will perform elementwise comparison\n",
      "  if self.categorical_feature == categorical_feature:\n",
      "/home/jupyter-shliu/.local/lib/python3.6/site-packages/lightgbm/basic.py:1242: FutureWarning: elementwise comparison failed; returning scalar instead, but in the future will perform elementwise comparison\n",
      "  elif categorical_feature == 'auto':\n",
      "/home/jupyter-shliu/.local/lib/python3.6/site-packages/lightgbm/basic.py:1247: UserWarning: categorical_feature in Dataset is overridden.\n",
      "New categorical_feature is []\n",
      "  'New categorical_feature is {}'.format(sorted(list(categorical_feature))))\n",
      "/home/jupyter-shliu/.local/lib/python3.6/site-packages/lightgbm/basic.py:285: FutureWarning: elementwise comparison failed; returning scalar instead, but in the future will perform elementwise comparison\n",
      "  if categorical_feature == 'auto':  # use cat cols from DataFrame\n"
     ]
    },
    {
     "name": "stdout",
     "output_type": "stream",
     "text": [
      "Training until validation scores don't improve for 100 rounds\n",
      "[100]\ttraining's rmse: 0.875102\ttraining's cappa: 0.702566\tvalid_1's rmse: 0.991335\tvalid_1's cappa: 0.578011\n",
      "[200]\ttraining's rmse: 0.792903\ttraining's cappa: 0.76779\tvalid_1's rmse: 0.990182\tvalid_1's cappa: 0.587798\n",
      "Early stopping, best iteration is:\n",
      "[156]\ttraining's rmse: 0.82438\ttraining's cappa: 0.745074\tvalid_1's rmse: 0.98961\tvalid_1's cappa: 0.582215\n",
      "parameter 11 42 0.8194450908604007 0.9723238789033224 2 1.2167750713612746 29.993319061963312\n",
      "score 0.9896096292277864\n",
      "| \u001b[0m 97      \u001b[0m | \u001b[0m-0.9896  \u001b[0m | \u001b[0m 0.8194  \u001b[0m | \u001b[0m 1.217   \u001b[0m | \u001b[0m 29.99   \u001b[0m | \u001b[0m 11.03   \u001b[0m | \u001b[0m 42.14   \u001b[0m | \u001b[0m 0.9723  \u001b[0m | \u001b[0m 2.997   \u001b[0m |\n"
     ]
    },
    {
     "name": "stderr",
     "output_type": "stream",
     "text": [
      "/home/jupyter-shliu/.local/lib/python3.6/site-packages/lightgbm/engine.py:153: UserWarning: Found `early_stopping_rounds` in params. Will use it instead of argument\n",
      "  warnings.warn(\"Found `{}` in params. Will use it instead of argument\".format(alias))\n",
      "/home/jupyter-shliu/.local/lib/python3.6/site-packages/lightgbm/basic.py:1236: FutureWarning: elementwise comparison failed; returning scalar instead, but in the future will perform elementwise comparison\n",
      "  if self.categorical_feature == categorical_feature:\n",
      "/home/jupyter-shliu/.local/lib/python3.6/site-packages/lightgbm/basic.py:1242: FutureWarning: elementwise comparison failed; returning scalar instead, but in the future will perform elementwise comparison\n",
      "  elif categorical_feature == 'auto':\n",
      "/home/jupyter-shliu/.local/lib/python3.6/site-packages/lightgbm/basic.py:1247: UserWarning: categorical_feature in Dataset is overridden.\n",
      "New categorical_feature is []\n",
      "  'New categorical_feature is {}'.format(sorted(list(categorical_feature))))\n",
      "/home/jupyter-shliu/.local/lib/python3.6/site-packages/lightgbm/basic.py:285: FutureWarning: elementwise comparison failed; returning scalar instead, but in the future will perform elementwise comparison\n",
      "  if categorical_feature == 'auto':  # use cat cols from DataFrame\n"
     ]
    },
    {
     "name": "stdout",
     "output_type": "stream",
     "text": [
      "Training until validation scores don't improve for 100 rounds\n",
      "[100]\ttraining's rmse: 0.850528\ttraining's cappa: 0.729268\tvalid_1's rmse: 0.993057\tvalid_1's cappa: 0.578161\n",
      "[200]\ttraining's rmse: 0.747086\ttraining's cappa: 0.803199\tvalid_1's rmse: 0.990896\tvalid_1's cappa: 0.582212\n",
      "Early stopping, best iteration is:\n",
      "[174]\ttraining's rmse: 0.770177\ttraining's cappa: 0.787093\tvalid_1's rmse: 0.989976\tvalid_1's cappa: 0.584018\n",
      "parameter 15 88 0.8830012975740555 0.9938729841295346 2 10.503313066351506 43.48144216581998\n",
      "score 0.9899762901861743\n",
      "| \u001b[0m 98      \u001b[0m | \u001b[0m-0.99    \u001b[0m | \u001b[0m 0.883   \u001b[0m | \u001b[0m 10.5    \u001b[0m | \u001b[0m 43.48   \u001b[0m | \u001b[0m 15.31   \u001b[0m | \u001b[0m 88.8    \u001b[0m | \u001b[0m 0.9939  \u001b[0m | \u001b[0m 2.976   \u001b[0m |\n"
     ]
    },
    {
     "name": "stderr",
     "output_type": "stream",
     "text": [
      "/home/jupyter-shliu/.local/lib/python3.6/site-packages/lightgbm/engine.py:153: UserWarning: Found `early_stopping_rounds` in params. Will use it instead of argument\n",
      "  warnings.warn(\"Found `{}` in params. Will use it instead of argument\".format(alias))\n",
      "/home/jupyter-shliu/.local/lib/python3.6/site-packages/lightgbm/basic.py:1236: FutureWarning: elementwise comparison failed; returning scalar instead, but in the future will perform elementwise comparison\n",
      "  if self.categorical_feature == categorical_feature:\n",
      "/home/jupyter-shliu/.local/lib/python3.6/site-packages/lightgbm/basic.py:1242: FutureWarning: elementwise comparison failed; returning scalar instead, but in the future will perform elementwise comparison\n",
      "  elif categorical_feature == 'auto':\n",
      "/home/jupyter-shliu/.local/lib/python3.6/site-packages/lightgbm/basic.py:1247: UserWarning: categorical_feature in Dataset is overridden.\n",
      "New categorical_feature is []\n",
      "  'New categorical_feature is {}'.format(sorted(list(categorical_feature))))\n",
      "/home/jupyter-shliu/.local/lib/python3.6/site-packages/lightgbm/basic.py:285: FutureWarning: elementwise comparison failed; returning scalar instead, but in the future will perform elementwise comparison\n",
      "  if categorical_feature == 'auto':  # use cat cols from DataFrame\n"
     ]
    },
    {
     "name": "stdout",
     "output_type": "stream",
     "text": [
      "Training until validation scores don't improve for 100 rounds\n",
      "[100]\ttraining's rmse: 0.91629\ttraining's cappa: 0.665719\tvalid_1's rmse: 0.996247\tvalid_1's cappa: 0.575749\n",
      "[200]\ttraining's rmse: 0.853194\ttraining's cappa: 0.718527\tvalid_1's rmse: 0.991064\tvalid_1's cappa: 0.580527\n",
      "[300]\ttraining's rmse: 0.807455\ttraining's cappa: 0.757524\tvalid_1's rmse: 0.990747\tvalid_1's cappa: 0.58067\n",
      "[400]\ttraining's rmse: 0.770261\ttraining's cappa: 0.784966\tvalid_1's rmse: 0.992675\tvalid_1's cappa: 0.579794\n",
      "Early stopping, best iteration is:\n",
      "[332]\ttraining's rmse: 0.79484\ttraining's cappa: 0.767066\tvalid_1's rmse: 0.990558\tvalid_1's cappa: 0.582901\n",
      "parameter 15 39 0.7883933411337565 0.9107433598177483 2 14.823427651907059 49.92417366257591\n",
      "score 0.9905577992272909\n",
      "| \u001b[0m 99      \u001b[0m | \u001b[0m-0.9906  \u001b[0m | \u001b[0m 0.7884  \u001b[0m | \u001b[0m 14.82   \u001b[0m | \u001b[0m 49.92   \u001b[0m | \u001b[0m 15.66   \u001b[0m | \u001b[0m 39.81   \u001b[0m | \u001b[0m 0.9107  \u001b[0m | \u001b[0m 2.939   \u001b[0m |\n"
     ]
    },
    {
     "name": "stderr",
     "output_type": "stream",
     "text": [
      "/home/jupyter-shliu/.local/lib/python3.6/site-packages/lightgbm/engine.py:153: UserWarning: Found `early_stopping_rounds` in params. Will use it instead of argument\n",
      "  warnings.warn(\"Found `{}` in params. Will use it instead of argument\".format(alias))\n",
      "/home/jupyter-shliu/.local/lib/python3.6/site-packages/lightgbm/basic.py:1236: FutureWarning: elementwise comparison failed; returning scalar instead, but in the future will perform elementwise comparison\n",
      "  if self.categorical_feature == categorical_feature:\n",
      "/home/jupyter-shliu/.local/lib/python3.6/site-packages/lightgbm/basic.py:1242: FutureWarning: elementwise comparison failed; returning scalar instead, but in the future will perform elementwise comparison\n",
      "  elif categorical_feature == 'auto':\n",
      "/home/jupyter-shliu/.local/lib/python3.6/site-packages/lightgbm/basic.py:1247: UserWarning: categorical_feature in Dataset is overridden.\n",
      "New categorical_feature is []\n",
      "  'New categorical_feature is {}'.format(sorted(list(categorical_feature))))\n"
     ]
    },
    {
     "name": "stdout",
     "output_type": "stream",
     "text": [
      "Training until validation scores don't improve for 100 rounds\n",
      "[100]\ttraining's rmse: 0.931286\ttraining's cappa: 0.653125\tvalid_1's rmse: 1.00131\tvalid_1's cappa: 0.566758\n",
      "[200]\ttraining's rmse: 0.883681\ttraining's cappa: 0.694865\tvalid_1's rmse: 0.994141\tvalid_1's cappa: 0.579707\n",
      "[300]\ttraining's rmse: 0.864553\ttraining's cappa: 0.710268\tvalid_1's rmse: 0.99265\tvalid_1's cappa: 0.582058\n",
      "[400]\ttraining's rmse: 0.861848\ttraining's cappa: 0.713125\tvalid_1's rmse: 0.992291\tvalid_1's cappa: 0.58305\n",
      "Early stopping, best iteration is:\n",
      "[328]\ttraining's rmse: 0.861934\ttraining's cappa: 0.713281\tvalid_1's rmse: 0.992314\tvalid_1's cappa: 0.58355\n",
      "parameter 15 58 0.7800976487082389 0.9927267529540351 1 49.44865840656787 10.476617958554998\n",
      "score 0.992314033033397\n",
      "| \u001b[0m 100     \u001b[0m | \u001b[0m-0.9923  \u001b[0m | \u001b[0m 0.7801  \u001b[0m | \u001b[0m 49.45   \u001b[0m | \u001b[0m 10.48   \u001b[0m | \u001b[0m 15.11   \u001b[0m | \u001b[0m 58.69   \u001b[0m | \u001b[0m 0.9927  \u001b[0m | \u001b[0m 1.067   \u001b[0m |\n"
     ]
    },
    {
     "name": "stderr",
     "output_type": "stream",
     "text": [
      "/home/jupyter-shliu/.local/lib/python3.6/site-packages/lightgbm/basic.py:285: FutureWarning: elementwise comparison failed; returning scalar instead, but in the future will perform elementwise comparison\n",
      "  if categorical_feature == 'auto':  # use cat cols from DataFrame\n",
      "/home/jupyter-shliu/.local/lib/python3.6/site-packages/lightgbm/engine.py:153: UserWarning: Found `early_stopping_rounds` in params. Will use it instead of argument\n",
      "  warnings.warn(\"Found `{}` in params. Will use it instead of argument\".format(alias))\n",
      "/home/jupyter-shliu/.local/lib/python3.6/site-packages/lightgbm/basic.py:1236: FutureWarning: elementwise comparison failed; returning scalar instead, but in the future will perform elementwise comparison\n",
      "  if self.categorical_feature == categorical_feature:\n",
      "/home/jupyter-shliu/.local/lib/python3.6/site-packages/lightgbm/basic.py:1242: FutureWarning: elementwise comparison failed; returning scalar instead, but in the future will perform elementwise comparison\n",
      "  elif categorical_feature == 'auto':\n",
      "/home/jupyter-shliu/.local/lib/python3.6/site-packages/lightgbm/basic.py:1247: UserWarning: categorical_feature in Dataset is overridden.\n",
      "New categorical_feature is []\n",
      "  'New categorical_feature is {}'.format(sorted(list(categorical_feature))))\n",
      "/home/jupyter-shliu/.local/lib/python3.6/site-packages/lightgbm/basic.py:285: FutureWarning: elementwise comparison failed; returning scalar instead, but in the future will perform elementwise comparison\n",
      "  if categorical_feature == 'auto':  # use cat cols from DataFrame\n"
     ]
    },
    {
     "name": "stdout",
     "output_type": "stream",
     "text": [
      "Training until validation scores don't improve for 100 rounds\n",
      "[100]\ttraining's rmse: 0.94676\ttraining's cappa: 0.634988\tvalid_1's rmse: 0.999704\tvalid_1's cappa: 0.573653\n",
      "[200]\ttraining's rmse: 0.897439\ttraining's cappa: 0.677149\tvalid_1's rmse: 0.992449\tvalid_1's cappa: 0.583229\n",
      "Early stopping, best iteration is:\n",
      "[186]\ttraining's rmse: 0.902946\ttraining's cappa: 0.671716\tvalid_1's rmse: 0.992867\tvalid_1's cappa: 0.586058\n",
      "parameter 5 28 0.9650690666136912 0.9922019794283867 1 19.384382841871716 2.7040379959365737\n",
      "score 0.9928670784073903\n",
      "| \u001b[0m 101     \u001b[0m | \u001b[0m-0.9929  \u001b[0m | \u001b[0m 0.9651  \u001b[0m | \u001b[0m 19.38   \u001b[0m | \u001b[0m 2.704   \u001b[0m | \u001b[0m 5.096   \u001b[0m | \u001b[0m 28.25   \u001b[0m | \u001b[0m 0.9922  \u001b[0m | \u001b[0m 1.119   \u001b[0m |\n"
     ]
    },
    {
     "name": "stderr",
     "output_type": "stream",
     "text": [
      "/home/jupyter-shliu/.local/lib/python3.6/site-packages/lightgbm/engine.py:153: UserWarning: Found `early_stopping_rounds` in params. Will use it instead of argument\n",
      "  warnings.warn(\"Found `{}` in params. Will use it instead of argument\".format(alias))\n",
      "/home/jupyter-shliu/.local/lib/python3.6/site-packages/lightgbm/basic.py:1236: FutureWarning: elementwise comparison failed; returning scalar instead, but in the future will perform elementwise comparison\n",
      "  if self.categorical_feature == categorical_feature:\n",
      "/home/jupyter-shliu/.local/lib/python3.6/site-packages/lightgbm/basic.py:1242: FutureWarning: elementwise comparison failed; returning scalar instead, but in the future will perform elementwise comparison\n",
      "  elif categorical_feature == 'auto':\n",
      "/home/jupyter-shliu/.local/lib/python3.6/site-packages/lightgbm/basic.py:1247: UserWarning: categorical_feature in Dataset is overridden.\n",
      "New categorical_feature is []\n",
      "  'New categorical_feature is {}'.format(sorted(list(categorical_feature))))\n",
      "/home/jupyter-shliu/.local/lib/python3.6/site-packages/lightgbm/basic.py:285: FutureWarning: elementwise comparison failed; returning scalar instead, but in the future will perform elementwise comparison\n",
      "  if categorical_feature == 'auto':  # use cat cols from DataFrame\n"
     ]
    },
    {
     "name": "stdout",
     "output_type": "stream",
     "text": [
      "Training until validation scores don't improve for 100 rounds\n",
      "[100]\ttraining's rmse: 0.972177\ttraining's cappa: 0.615428\tvalid_1's rmse: 1.01551\tvalid_1's cappa: 0.563144\n",
      "[200]\ttraining's rmse: 0.931661\ttraining's cappa: 0.646716\tvalid_1's rmse: 0.999048\tvalid_1's cappa: 0.574128\n",
      "[300]\ttraining's rmse: 0.910762\ttraining's cappa: 0.664701\tvalid_1's rmse: 0.995661\tvalid_1's cappa: 0.576348\n",
      "[400]\ttraining's rmse: 0.896428\ttraining's cappa: 0.678642\tvalid_1's rmse: 0.994129\tvalid_1's cappa: 0.582192\n",
      "[500]\ttraining's rmse: 0.886339\ttraining's cappa: 0.687997\tvalid_1's rmse: 0.993276\tvalid_1's cappa: 0.581866\n",
      "[600]\ttraining's rmse: 0.877451\ttraining's cappa: 0.695302\tvalid_1's rmse: 0.993123\tvalid_1's cappa: 0.582864\n",
      "Early stopping, best iteration is:\n",
      "[522]\ttraining's rmse: 0.884252\ttraining's cappa: 0.689377\tvalid_1's rmse: 0.993106\tvalid_1's cappa: 0.584353\n",
      "parameter 12 24 0.31471455288729977 0.9070477590397357 2 49.603593272108746 12.12605863954837\n",
      "score 0.993106434517398\n",
      "| \u001b[0m 102     \u001b[0m | \u001b[0m-0.9931  \u001b[0m | \u001b[0m 0.3147  \u001b[0m | \u001b[0m 49.6    \u001b[0m | \u001b[0m 12.13   \u001b[0m | \u001b[0m 12.42   \u001b[0m | \u001b[0m 24.55   \u001b[0m | \u001b[0m 0.907   \u001b[0m | \u001b[0m 2.857   \u001b[0m |\n"
     ]
    },
    {
     "name": "stderr",
     "output_type": "stream",
     "text": [
      "/home/jupyter-shliu/.local/lib/python3.6/site-packages/lightgbm/engine.py:153: UserWarning: Found `early_stopping_rounds` in params. Will use it instead of argument\n",
      "  warnings.warn(\"Found `{}` in params. Will use it instead of argument\".format(alias))\n",
      "/home/jupyter-shliu/.local/lib/python3.6/site-packages/lightgbm/basic.py:1236: FutureWarning: elementwise comparison failed; returning scalar instead, but in the future will perform elementwise comparison\n",
      "  if self.categorical_feature == categorical_feature:\n",
      "/home/jupyter-shliu/.local/lib/python3.6/site-packages/lightgbm/basic.py:1242: FutureWarning: elementwise comparison failed; returning scalar instead, but in the future will perform elementwise comparison\n",
      "  elif categorical_feature == 'auto':\n",
      "/home/jupyter-shliu/.local/lib/python3.6/site-packages/lightgbm/basic.py:1247: UserWarning: categorical_feature in Dataset is overridden.\n",
      "New categorical_feature is []\n",
      "  'New categorical_feature is {}'.format(sorted(list(categorical_feature))))\n",
      "/home/jupyter-shliu/.local/lib/python3.6/site-packages/lightgbm/basic.py:285: FutureWarning: elementwise comparison failed; returning scalar instead, but in the future will perform elementwise comparison\n",
      "  if categorical_feature == 'auto':  # use cat cols from DataFrame\n"
     ]
    },
    {
     "name": "stdout",
     "output_type": "stream",
     "text": [
      "Training until validation scores don't improve for 100 rounds\n",
      "[100]\ttraining's rmse: 0.979651\ttraining's cappa: 0.598229\tvalid_1's rmse: 1.00737\tvalid_1's cappa: 0.567859\n",
      "[200]\ttraining's rmse: 0.94642\ttraining's cappa: 0.629612\tvalid_1's rmse: 0.995239\tvalid_1's cappa: 0.578868\n",
      "[300]\ttraining's rmse: 0.928532\ttraining's cappa: 0.647976\tvalid_1's rmse: 0.993108\tvalid_1's cappa: 0.581266\n",
      "[400]\ttraining's rmse: 0.91696\ttraining's cappa: 0.658537\tvalid_1's rmse: 0.9919\tvalid_1's cappa: 0.580074\n",
      "Early stopping, best iteration is:\n",
      "[327]\ttraining's rmse: 0.924801\ttraining's cappa: 0.651963\tvalid_1's rmse: 0.99244\tvalid_1's cappa: 0.583957\n",
      "parameter 5 15 0.8206283077130432 0.988183054468535 1 49.78176159942194 22.416285220621916\n",
      "score 0.9924399073012145\n",
      "| \u001b[0m 103     \u001b[0m | \u001b[0m-0.9924  \u001b[0m | \u001b[0m 0.8206  \u001b[0m | \u001b[0m 49.78   \u001b[0m | \u001b[0m 22.42   \u001b[0m | \u001b[0m 5.107   \u001b[0m | \u001b[0m 15.37   \u001b[0m | \u001b[0m 0.9882  \u001b[0m | \u001b[0m 1.783   \u001b[0m |\n"
     ]
    },
    {
     "name": "stderr",
     "output_type": "stream",
     "text": [
      "/home/jupyter-shliu/.local/lib/python3.6/site-packages/lightgbm/engine.py:153: UserWarning: Found `early_stopping_rounds` in params. Will use it instead of argument\n",
      "  warnings.warn(\"Found `{}` in params. Will use it instead of argument\".format(alias))\n",
      "/home/jupyter-shliu/.local/lib/python3.6/site-packages/lightgbm/basic.py:1236: FutureWarning: elementwise comparison failed; returning scalar instead, but in the future will perform elementwise comparison\n",
      "  if self.categorical_feature == categorical_feature:\n",
      "/home/jupyter-shliu/.local/lib/python3.6/site-packages/lightgbm/basic.py:1242: FutureWarning: elementwise comparison failed; returning scalar instead, but in the future will perform elementwise comparison\n",
      "  elif categorical_feature == 'auto':\n",
      "/home/jupyter-shliu/.local/lib/python3.6/site-packages/lightgbm/basic.py:1247: UserWarning: categorical_feature in Dataset is overridden.\n",
      "New categorical_feature is []\n",
      "  'New categorical_feature is {}'.format(sorted(list(categorical_feature))))\n",
      "/home/jupyter-shliu/.local/lib/python3.6/site-packages/lightgbm/basic.py:285: FutureWarning: elementwise comparison failed; returning scalar instead, but in the future will perform elementwise comparison\n",
      "  if categorical_feature == 'auto':  # use cat cols from DataFrame\n"
     ]
    },
    {
     "name": "stdout",
     "output_type": "stream",
     "text": [
      "Training until validation scores don't improve for 100 rounds\n",
      "[100]\ttraining's rmse: 0.969185\ttraining's cappa: 0.611374\tvalid_1's rmse: 1.00514\tvalid_1's cappa: 0.568678\n",
      "[200]\ttraining's rmse: 0.932616\ttraining's cappa: 0.642523\tvalid_1's rmse: 0.995005\tvalid_1's cappa: 0.58054\n",
      "[300]\ttraining's rmse: 0.910432\ttraining's cappa: 0.665325\tvalid_1's rmse: 0.991861\tvalid_1's cappa: 0.58069\n",
      "Early stopping, best iteration is:\n",
      "[253]\ttraining's rmse: 0.919883\ttraining's cappa: 0.65523\tvalid_1's rmse: 0.993224\tvalid_1's cappa: 0.584718\n",
      "parameter 5 17 0.9959039169053723 0.9414660687173455 2 36.90538863587531 1.5858710008342933\n",
      "score 0.9932243826852117\n",
      "| \u001b[0m 104     \u001b[0m | \u001b[0m-0.9932  \u001b[0m | \u001b[0m 0.9959  \u001b[0m | \u001b[0m 36.91   \u001b[0m | \u001b[0m 1.586   \u001b[0m | \u001b[0m 5.134   \u001b[0m | \u001b[0m 17.11   \u001b[0m | \u001b[0m 0.9415  \u001b[0m | \u001b[0m 2.567   \u001b[0m |\n"
     ]
    },
    {
     "name": "stderr",
     "output_type": "stream",
     "text": [
      "/home/jupyter-shliu/.local/lib/python3.6/site-packages/lightgbm/engine.py:153: UserWarning: Found `early_stopping_rounds` in params. Will use it instead of argument\n",
      "  warnings.warn(\"Found `{}` in params. Will use it instead of argument\".format(alias))\n",
      "/home/jupyter-shliu/.local/lib/python3.6/site-packages/lightgbm/basic.py:1236: FutureWarning: elementwise comparison failed; returning scalar instead, but in the future will perform elementwise comparison\n",
      "  if self.categorical_feature == categorical_feature:\n",
      "/home/jupyter-shliu/.local/lib/python3.6/site-packages/lightgbm/basic.py:1242: FutureWarning: elementwise comparison failed; returning scalar instead, but in the future will perform elementwise comparison\n",
      "  elif categorical_feature == 'auto':\n",
      "/home/jupyter-shliu/.local/lib/python3.6/site-packages/lightgbm/basic.py:1247: UserWarning: categorical_feature in Dataset is overridden.\n",
      "New categorical_feature is []\n",
      "  'New categorical_feature is {}'.format(sorted(list(categorical_feature))))\n",
      "/home/jupyter-shliu/.local/lib/python3.6/site-packages/lightgbm/basic.py:285: FutureWarning: elementwise comparison failed; returning scalar instead, but in the future will perform elementwise comparison\n",
      "  if categorical_feature == 'auto':  # use cat cols from DataFrame\n"
     ]
    },
    {
     "name": "stdout",
     "output_type": "stream",
     "text": [
      "Training until validation scores don't improve for 100 rounds\n",
      "[100]\ttraining's rmse: 0.958745\ttraining's cappa: 0.619883\tvalid_1's rmse: 1.00272\tvalid_1's cappa: 0.573364\n",
      "[200]\ttraining's rmse: 0.920958\ttraining's cappa: 0.657247\tvalid_1's rmse: 0.993021\tvalid_1's cappa: 0.576529\n",
      "[300]\ttraining's rmse: 0.902346\ttraining's cappa: 0.672969\tvalid_1's rmse: 0.991648\tvalid_1's cappa: 0.581568\n",
      "[400]\ttraining's rmse: 0.889776\ttraining's cappa: 0.685648\tvalid_1's rmse: 0.991014\tvalid_1's cappa: 0.583496\n",
      "Early stopping, best iteration is:\n",
      "[372]\ttraining's rmse: 0.893027\ttraining's cappa: 0.683016\tvalid_1's rmse: 0.991224\tvalid_1's cappa: 0.584745\n",
      "parameter 6 42 0.9432539370176891 0.9348648367815178 1 49.888168168508976 1.100983893790549\n",
      "score 0.9912241416732772\n",
      "| \u001b[0m 105     \u001b[0m | \u001b[0m-0.9912  \u001b[0m | \u001b[0m 0.9433  \u001b[0m | \u001b[0m 49.89   \u001b[0m | \u001b[0m 1.101   \u001b[0m | \u001b[0m 6.687   \u001b[0m | \u001b[0m 42.43   \u001b[0m | \u001b[0m 0.9349  \u001b[0m | \u001b[0m 1.006   \u001b[0m |\n"
     ]
    },
    {
     "name": "stderr",
     "output_type": "stream",
     "text": [
      "/home/jupyter-shliu/.local/lib/python3.6/site-packages/lightgbm/engine.py:153: UserWarning: Found `early_stopping_rounds` in params. Will use it instead of argument\n",
      "  warnings.warn(\"Found `{}` in params. Will use it instead of argument\".format(alias))\n",
      "/home/jupyter-shliu/.local/lib/python3.6/site-packages/lightgbm/basic.py:1236: FutureWarning: elementwise comparison failed; returning scalar instead, but in the future will perform elementwise comparison\n",
      "  if self.categorical_feature == categorical_feature:\n",
      "/home/jupyter-shliu/.local/lib/python3.6/site-packages/lightgbm/basic.py:1242: FutureWarning: elementwise comparison failed; returning scalar instead, but in the future will perform elementwise comparison\n",
      "  elif categorical_feature == 'auto':\n",
      "/home/jupyter-shliu/.local/lib/python3.6/site-packages/lightgbm/basic.py:1247: UserWarning: categorical_feature in Dataset is overridden.\n",
      "New categorical_feature is []\n",
      "  'New categorical_feature is {}'.format(sorted(list(categorical_feature))))\n",
      "/home/jupyter-shliu/.local/lib/python3.6/site-packages/lightgbm/basic.py:285: FutureWarning: elementwise comparison failed; returning scalar instead, but in the future will perform elementwise comparison\n",
      "  if categorical_feature == 'auto':  # use cat cols from DataFrame\n"
     ]
    },
    {
     "name": "stdout",
     "output_type": "stream",
     "text": [
      "Training until validation scores don't improve for 100 rounds\n",
      "[100]\ttraining's rmse: 0.897815\ttraining's cappa: 0.685222\tvalid_1's rmse: 0.995151\tvalid_1's cappa: 0.578246\n",
      "[200]\ttraining's rmse: 0.830841\ttraining's cappa: 0.737595\tvalid_1's rmse: 0.990683\tvalid_1's cappa: 0.582612\n",
      "Early stopping, best iteration is:\n",
      "[166]\ttraining's rmse: 0.849258\ttraining's cappa: 0.722174\tvalid_1's rmse: 0.990096\tvalid_1's cappa: 0.58228\n",
      "parameter 6 58 0.48773504685942587 0.9640456908614252 2 0.1570456376374554 32.08712131712645\n",
      "score 0.9900961861589662\n",
      "| \u001b[0m 106     \u001b[0m | \u001b[0m-0.9901  \u001b[0m | \u001b[0m 0.4877  \u001b[0m | \u001b[0m 0.157   \u001b[0m | \u001b[0m 32.09   \u001b[0m | \u001b[0m 6.994   \u001b[0m | \u001b[0m 58.35   \u001b[0m | \u001b[0m 0.964   \u001b[0m | \u001b[0m 2.751   \u001b[0m |\n"
     ]
    },
    {
     "name": "stderr",
     "output_type": "stream",
     "text": [
      "/home/jupyter-shliu/.local/lib/python3.6/site-packages/lightgbm/engine.py:153: UserWarning: Found `early_stopping_rounds` in params. Will use it instead of argument\n",
      "  warnings.warn(\"Found `{}` in params. Will use it instead of argument\".format(alias))\n",
      "/home/jupyter-shliu/.local/lib/python3.6/site-packages/lightgbm/basic.py:1236: FutureWarning: elementwise comparison failed; returning scalar instead, but in the future will perform elementwise comparison\n",
      "  if self.categorical_feature == categorical_feature:\n",
      "/home/jupyter-shliu/.local/lib/python3.6/site-packages/lightgbm/basic.py:1242: FutureWarning: elementwise comparison failed; returning scalar instead, but in the future will perform elementwise comparison\n",
      "  elif categorical_feature == 'auto':\n",
      "/home/jupyter-shliu/.local/lib/python3.6/site-packages/lightgbm/basic.py:1247: UserWarning: categorical_feature in Dataset is overridden.\n",
      "New categorical_feature is []\n",
      "  'New categorical_feature is {}'.format(sorted(list(categorical_feature))))\n",
      "/home/jupyter-shliu/.local/lib/python3.6/site-packages/lightgbm/basic.py:285: FutureWarning: elementwise comparison failed; returning scalar instead, but in the future will perform elementwise comparison\n",
      "  if categorical_feature == 'auto':  # use cat cols from DataFrame\n"
     ]
    },
    {
     "name": "stdout",
     "output_type": "stream",
     "text": [
      "Training until validation scores don't improve for 100 rounds\n",
      "[100]\ttraining's rmse: 0.919572\ttraining's cappa: 0.662369\tvalid_1's rmse: 0.996007\tvalid_1's cappa: 0.5723\n",
      "[200]\ttraining's rmse: 0.860473\ttraining's cappa: 0.713305\tvalid_1's rmse: 0.991231\tvalid_1's cappa: 0.578394\n",
      "[300]\ttraining's rmse: 0.819467\ttraining's cappa: 0.746021\tvalid_1's rmse: 0.991086\tvalid_1's cappa: 0.584551\n",
      "Early stopping, best iteration is:\n",
      "[215]\ttraining's rmse: 0.853739\ttraining's cappa: 0.718735\tvalid_1's rmse: 0.990829\tvalid_1's cappa: 0.579127\n",
      "parameter 15 34 0.9357553045083875 0.9944615770617826 2 19.47408550941958 17.078301076529634\n",
      "score 0.9908291053077789\n",
      "| \u001b[0m 107     \u001b[0m | \u001b[0m-0.9908  \u001b[0m | \u001b[0m 0.9358  \u001b[0m | \u001b[0m 19.47   \u001b[0m | \u001b[0m 17.08   \u001b[0m | \u001b[0m 15.6    \u001b[0m | \u001b[0m 34.79   \u001b[0m | \u001b[0m 0.9945  \u001b[0m | \u001b[0m 2.947   \u001b[0m |\n"
     ]
    },
    {
     "name": "stderr",
     "output_type": "stream",
     "text": [
      "/home/jupyter-shliu/.local/lib/python3.6/site-packages/lightgbm/engine.py:153: UserWarning: Found `early_stopping_rounds` in params. Will use it instead of argument\n",
      "  warnings.warn(\"Found `{}` in params. Will use it instead of argument\".format(alias))\n",
      "/home/jupyter-shliu/.local/lib/python3.6/site-packages/lightgbm/basic.py:1236: FutureWarning: elementwise comparison failed; returning scalar instead, but in the future will perform elementwise comparison\n",
      "  if self.categorical_feature == categorical_feature:\n",
      "/home/jupyter-shliu/.local/lib/python3.6/site-packages/lightgbm/basic.py:1242: FutureWarning: elementwise comparison failed; returning scalar instead, but in the future will perform elementwise comparison\n",
      "  elif categorical_feature == 'auto':\n",
      "/home/jupyter-shliu/.local/lib/python3.6/site-packages/lightgbm/basic.py:1247: UserWarning: categorical_feature in Dataset is overridden.\n",
      "New categorical_feature is []\n",
      "  'New categorical_feature is {}'.format(sorted(list(categorical_feature))))\n",
      "/home/jupyter-shliu/.local/lib/python3.6/site-packages/lightgbm/basic.py:285: FutureWarning: elementwise comparison failed; returning scalar instead, but in the future will perform elementwise comparison\n",
      "  if categorical_feature == 'auto':  # use cat cols from DataFrame\n"
     ]
    },
    {
     "name": "stdout",
     "output_type": "stream",
     "text": [
      "Training until validation scores don't improve for 100 rounds\n",
      "[100]\ttraining's rmse: 0.968772\ttraining's cappa: 0.612801\tvalid_1's rmse: 1.0041\tvalid_1's cappa: 0.574323\n",
      "[200]\ttraining's rmse: 0.9302\ttraining's cappa: 0.645217\tvalid_1's rmse: 0.99228\tvalid_1's cappa: 0.583837\n",
      "[300]\ttraining's rmse: 0.907332\ttraining's cappa: 0.667593\tvalid_1's rmse: 0.990397\tvalid_1's cappa: 0.582372\n",
      "Early stopping, best iteration is:\n",
      "[208]\ttraining's rmse: 0.928091\ttraining's cappa: 0.645806\tvalid_1's rmse: 0.992015\tvalid_1's cappa: 0.585594\n",
      "parameter 5 99 0.619841141645231 0.9934782221366805 2 36.76613846074676 49.49886153734188\n",
      "score 0.9920152619553018\n",
      "| \u001b[0m 108     \u001b[0m | \u001b[0m-0.992   \u001b[0m | \u001b[0m 0.6198  \u001b[0m | \u001b[0m 36.77   \u001b[0m | \u001b[0m 49.5    \u001b[0m | \u001b[0m 5.489   \u001b[0m | \u001b[0m 99.18   \u001b[0m | \u001b[0m 0.9935  \u001b[0m | \u001b[0m 2.463   \u001b[0m |\n"
     ]
    },
    {
     "name": "stderr",
     "output_type": "stream",
     "text": [
      "/home/jupyter-shliu/.local/lib/python3.6/site-packages/lightgbm/engine.py:153: UserWarning: Found `early_stopping_rounds` in params. Will use it instead of argument\n",
      "  warnings.warn(\"Found `{}` in params. Will use it instead of argument\".format(alias))\n",
      "/home/jupyter-shliu/.local/lib/python3.6/site-packages/lightgbm/basic.py:1236: FutureWarning: elementwise comparison failed; returning scalar instead, but in the future will perform elementwise comparison\n",
      "  if self.categorical_feature == categorical_feature:\n",
      "/home/jupyter-shliu/.local/lib/python3.6/site-packages/lightgbm/basic.py:1242: FutureWarning: elementwise comparison failed; returning scalar instead, but in the future will perform elementwise comparison\n",
      "  elif categorical_feature == 'auto':\n",
      "/home/jupyter-shliu/.local/lib/python3.6/site-packages/lightgbm/basic.py:1247: UserWarning: categorical_feature in Dataset is overridden.\n",
      "New categorical_feature is []\n",
      "  'New categorical_feature is {}'.format(sorted(list(categorical_feature))))\n",
      "/home/jupyter-shliu/.local/lib/python3.6/site-packages/lightgbm/basic.py:285: FutureWarning: elementwise comparison failed; returning scalar instead, but in the future will perform elementwise comparison\n",
      "  if categorical_feature == 'auto':  # use cat cols from DataFrame\n"
     ]
    },
    {
     "name": "stdout",
     "output_type": "stream",
     "text": [
      "Training until validation scores don't improve for 100 rounds\n",
      "[100]\ttraining's rmse: 0.919772\ttraining's cappa: 0.663012\tvalid_1's rmse: 0.997264\tvalid_1's cappa: 0.578501\n",
      "[200]\ttraining's rmse: 0.862432\ttraining's cappa: 0.711783\tvalid_1's rmse: 0.991621\tvalid_1's cappa: 0.579539\n",
      "[300]\ttraining's rmse: 0.82536\ttraining's cappa: 0.74126\tvalid_1's rmse: 0.991936\tvalid_1's cappa: 0.583858\n",
      "Early stopping, best iteration is:\n",
      "[209]\ttraining's rmse: 0.858424\ttraining's cappa: 0.714881\tvalid_1's rmse: 0.991226\tvalid_1's cappa: 0.582531\n",
      "parameter 8 52 0.97942246991276 0.8973513527711197 1 31.18316209874725 11.040553934971685\n",
      "score 0.9912261122717627\n",
      "| \u001b[0m 109     \u001b[0m | \u001b[0m-0.9912  \u001b[0m | \u001b[0m 0.9794  \u001b[0m | \u001b[0m 31.18   \u001b[0m | \u001b[0m 11.04   \u001b[0m | \u001b[0m 8.985   \u001b[0m | \u001b[0m 52.15   \u001b[0m | \u001b[0m 0.8974  \u001b[0m | \u001b[0m 1.026   \u001b[0m |\n"
     ]
    },
    {
     "name": "stderr",
     "output_type": "stream",
     "text": [
      "/home/jupyter-shliu/.local/lib/python3.6/site-packages/lightgbm/engine.py:153: UserWarning: Found `early_stopping_rounds` in params. Will use it instead of argument\n",
      "  warnings.warn(\"Found `{}` in params. Will use it instead of argument\".format(alias))\n",
      "/home/jupyter-shliu/.local/lib/python3.6/site-packages/lightgbm/basic.py:1236: FutureWarning: elementwise comparison failed; returning scalar instead, but in the future will perform elementwise comparison\n",
      "  if self.categorical_feature == categorical_feature:\n",
      "/home/jupyter-shliu/.local/lib/python3.6/site-packages/lightgbm/basic.py:1242: FutureWarning: elementwise comparison failed; returning scalar instead, but in the future will perform elementwise comparison\n",
      "  elif categorical_feature == 'auto':\n",
      "/home/jupyter-shliu/.local/lib/python3.6/site-packages/lightgbm/basic.py:1247: UserWarning: categorical_feature in Dataset is overridden.\n",
      "New categorical_feature is []\n",
      "  'New categorical_feature is {}'.format(sorted(list(categorical_feature))))\n",
      "/home/jupyter-shliu/.local/lib/python3.6/site-packages/lightgbm/basic.py:285: FutureWarning: elementwise comparison failed; returning scalar instead, but in the future will perform elementwise comparison\n",
      "  if categorical_feature == 'auto':  # use cat cols from DataFrame\n"
     ]
    },
    {
     "name": "stdout",
     "output_type": "stream",
     "text": [
      "Training until validation scores don't improve for 100 rounds\n",
      "[100]\ttraining's rmse: 0.972289\ttraining's cappa: 0.608315\tvalid_1's rmse: 1.00553\tvalid_1's cappa: 0.569005\n",
      "[200]\ttraining's rmse: 0.937334\ttraining's cappa: 0.637483\tvalid_1's rmse: 0.994681\tvalid_1's cappa: 0.581024\n",
      "[300]\ttraining's rmse: 0.918418\ttraining's cappa: 0.655847\tvalid_1's rmse: 0.992259\tvalid_1's cappa: 0.585887\n",
      "[400]\ttraining's rmse: 0.906851\ttraining's cappa: 0.66765\tvalid_1's rmse: 0.991096\tvalid_1's cappa: 0.583714\n",
      "Early stopping, best iteration is:\n",
      "[336]\ttraining's rmse: 0.913846\ttraining's cappa: 0.659539\tvalid_1's rmse: 0.991737\tvalid_1's cappa: 0.587103\n",
      "parameter 5 47 0.8060252198540467 0.9763453283397996 1 48.898980469585496 17.684670972669792\n",
      "score 0.9917367713782705\n",
      "| \u001b[0m 110     \u001b[0m | \u001b[0m-0.9917  \u001b[0m | \u001b[0m 0.806   \u001b[0m | \u001b[0m 48.9    \u001b[0m | \u001b[0m 17.68   \u001b[0m | \u001b[0m 5.205   \u001b[0m | \u001b[0m 47.9    \u001b[0m | \u001b[0m 0.9763  \u001b[0m | \u001b[0m 1.585   \u001b[0m |\n"
     ]
    },
    {
     "name": "stderr",
     "output_type": "stream",
     "text": [
      "/home/jupyter-shliu/.local/lib/python3.6/site-packages/lightgbm/engine.py:153: UserWarning: Found `early_stopping_rounds` in params. Will use it instead of argument\n",
      "  warnings.warn(\"Found `{}` in params. Will use it instead of argument\".format(alias))\n",
      "/home/jupyter-shliu/.local/lib/python3.6/site-packages/lightgbm/basic.py:1236: FutureWarning: elementwise comparison failed; returning scalar instead, but in the future will perform elementwise comparison\n",
      "  if self.categorical_feature == categorical_feature:\n",
      "/home/jupyter-shliu/.local/lib/python3.6/site-packages/lightgbm/basic.py:1242: FutureWarning: elementwise comparison failed; returning scalar instead, but in the future will perform elementwise comparison\n",
      "  elif categorical_feature == 'auto':\n",
      "/home/jupyter-shliu/.local/lib/python3.6/site-packages/lightgbm/basic.py:1247: UserWarning: categorical_feature in Dataset is overridden.\n",
      "New categorical_feature is []\n",
      "  'New categorical_feature is {}'.format(sorted(list(categorical_feature))))\n",
      "/home/jupyter-shliu/.local/lib/python3.6/site-packages/lightgbm/basic.py:285: FutureWarning: elementwise comparison failed; returning scalar instead, but in the future will perform elementwise comparison\n",
      "  if categorical_feature == 'auto':  # use cat cols from DataFrame\n"
     ]
    },
    {
     "name": "stdout",
     "output_type": "stream",
     "text": [
      "Training until validation scores don't improve for 100 rounds\n",
      "[100]\ttraining's rmse: 0.891131\ttraining's cappa: 0.69805\tvalid_1's rmse: 1.00354\tvalid_1's cappa: 0.573053\n",
      "[200]\ttraining's rmse: 0.803807\ttraining's cappa: 0.759074\tvalid_1's rmse: 0.9948\tvalid_1's cappa: 0.579566\n",
      "[300]\ttraining's rmse: 0.74537\ttraining's cappa: 0.804827\tvalid_1's rmse: 0.995385\tvalid_1's cappa: 0.582537\n",
      "Early stopping, best iteration is:\n",
      "[224]\ttraining's rmse: 0.787528\ttraining's cappa: 0.77207\tvalid_1's rmse: 0.994215\tvalid_1's cappa: 0.581455\n",
      "parameter 7 87 0.3281119955874307 0.9462423185517645 2 0.8263227601617614 48.09696017786258\n",
      "score 0.9942145584175852\n",
      "| \u001b[0m 111     \u001b[0m | \u001b[0m-0.9942  \u001b[0m | \u001b[0m 0.3281  \u001b[0m | \u001b[0m 0.8263  \u001b[0m | \u001b[0m 48.1    \u001b[0m | \u001b[0m 7.512   \u001b[0m | \u001b[0m 87.27   \u001b[0m | \u001b[0m 0.9462  \u001b[0m | \u001b[0m 2.944   \u001b[0m |\n"
     ]
    },
    {
     "name": "stderr",
     "output_type": "stream",
     "text": [
      "/home/jupyter-shliu/.local/lib/python3.6/site-packages/lightgbm/engine.py:153: UserWarning: Found `early_stopping_rounds` in params. Will use it instead of argument\n",
      "  warnings.warn(\"Found `{}` in params. Will use it instead of argument\".format(alias))\n",
      "/home/jupyter-shliu/.local/lib/python3.6/site-packages/lightgbm/basic.py:1236: FutureWarning: elementwise comparison failed; returning scalar instead, but in the future will perform elementwise comparison\n",
      "  if self.categorical_feature == categorical_feature:\n",
      "/home/jupyter-shliu/.local/lib/python3.6/site-packages/lightgbm/basic.py:1242: FutureWarning: elementwise comparison failed; returning scalar instead, but in the future will perform elementwise comparison\n",
      "  elif categorical_feature == 'auto':\n",
      "/home/jupyter-shliu/.local/lib/python3.6/site-packages/lightgbm/basic.py:1247: UserWarning: categorical_feature in Dataset is overridden.\n",
      "New categorical_feature is []\n",
      "  'New categorical_feature is {}'.format(sorted(list(categorical_feature))))\n",
      "/home/jupyter-shliu/.local/lib/python3.6/site-packages/lightgbm/basic.py:285: FutureWarning: elementwise comparison failed; returning scalar instead, but in the future will perform elementwise comparison\n",
      "  if categorical_feature == 'auto':  # use cat cols from DataFrame\n"
     ]
    },
    {
     "name": "stdout",
     "output_type": "stream",
     "text": [
      "Training until validation scores don't improve for 100 rounds\n",
      "[100]\ttraining's rmse: 0.901513\ttraining's cappa: 0.680514\tvalid_1's rmse: 0.994199\tvalid_1's cappa: 0.578641\n",
      "[200]\ttraining's rmse: 0.830071\ttraining's cappa: 0.739578\tvalid_1's rmse: 0.990177\tvalid_1's cappa: 0.582188\n",
      "[300]\ttraining's rmse: 0.77842\ttraining's cappa: 0.779957\tvalid_1's rmse: 0.991274\tvalid_1's cappa: 0.580976\n",
      "Early stopping, best iteration is:\n",
      "[213]\ttraining's rmse: 0.822799\ttraining's cappa: 0.745846\tvalid_1's rmse: 0.989907\tvalid_1's cappa: 0.582332\n",
      "parameter 10 53 0.8669881990271451 0.972105665584982 2 17.42334167483 48.303819265380724\n",
      "score 0.989907151420018\n",
      "| \u001b[0m 112     \u001b[0m | \u001b[0m-0.9899  \u001b[0m | \u001b[0m 0.867   \u001b[0m | \u001b[0m 17.42   \u001b[0m | \u001b[0m 48.3    \u001b[0m | \u001b[0m 10.08   \u001b[0m | \u001b[0m 53.86   \u001b[0m | \u001b[0m 0.9721  \u001b[0m | \u001b[0m 2.726   \u001b[0m |\n"
     ]
    },
    {
     "name": "stderr",
     "output_type": "stream",
     "text": [
      "/home/jupyter-shliu/.local/lib/python3.6/site-packages/lightgbm/engine.py:153: UserWarning: Found `early_stopping_rounds` in params. Will use it instead of argument\n",
      "  warnings.warn(\"Found `{}` in params. Will use it instead of argument\".format(alias))\n",
      "/home/jupyter-shliu/.local/lib/python3.6/site-packages/lightgbm/basic.py:1236: FutureWarning: elementwise comparison failed; returning scalar instead, but in the future will perform elementwise comparison\n",
      "  if self.categorical_feature == categorical_feature:\n",
      "/home/jupyter-shliu/.local/lib/python3.6/site-packages/lightgbm/basic.py:1242: FutureWarning: elementwise comparison failed; returning scalar instead, but in the future will perform elementwise comparison\n",
      "  elif categorical_feature == 'auto':\n",
      "/home/jupyter-shliu/.local/lib/python3.6/site-packages/lightgbm/basic.py:1247: UserWarning: categorical_feature in Dataset is overridden.\n",
      "New categorical_feature is []\n",
      "  'New categorical_feature is {}'.format(sorted(list(categorical_feature))))\n"
     ]
    },
    {
     "name": "stdout",
     "output_type": "stream",
     "text": [
      "Training until validation scores don't improve for 100 rounds\n",
      "[100]\ttraining's rmse: 0.978048\ttraining's cappa: 0.602785\tvalid_1's rmse: 1.00537\tvalid_1's cappa: 0.570834\n",
      "[200]\ttraining's rmse: 0.944718\ttraining's cappa: 0.631621\tvalid_1's rmse: 0.992697\tvalid_1's cappa: 0.583254\n",
      "[300]\ttraining's rmse: 0.926491\ttraining's cappa: 0.648369\tvalid_1's rmse: 0.989958\tvalid_1's cappa: 0.583397\n",
      "[400]\ttraining's rmse: 0.913031\ttraining's cappa: 0.661865\tvalid_1's rmse: 0.988835\tvalid_1's cappa: 0.584572\n",
      "Early stopping, best iteration is:\n",
      "[355]\ttraining's rmse: 0.918505\ttraining's cappa: 0.655899\tvalid_1's rmse: 0.989209\tvalid_1's cappa: 0.587008\n",
      "parameter 15 16 0.6143412189972217 0.8961241383576513 2 49.464434537060924 49.024457346436456\n",
      "score 0.9892092316681148\n",
      "| \u001b[0m 113     \u001b[0m | \u001b[0m-0.9892  \u001b[0m | \u001b[0m 0.6143  \u001b[0m | \u001b[0m 49.46   \u001b[0m | \u001b[0m 49.02   \u001b[0m | \u001b[0m 15.66   \u001b[0m | \u001b[0m 16.62   \u001b[0m | \u001b[0m 0.8961  \u001b[0m | \u001b[0m 2.942   \u001b[0m |\n"
     ]
    },
    {
     "name": "stderr",
     "output_type": "stream",
     "text": [
      "/home/jupyter-shliu/.local/lib/python3.6/site-packages/lightgbm/basic.py:285: FutureWarning: elementwise comparison failed; returning scalar instead, but in the future will perform elementwise comparison\n",
      "  if categorical_feature == 'auto':  # use cat cols from DataFrame\n",
      "/home/jupyter-shliu/.local/lib/python3.6/site-packages/lightgbm/engine.py:153: UserWarning: Found `early_stopping_rounds` in params. Will use it instead of argument\n",
      "  warnings.warn(\"Found `{}` in params. Will use it instead of argument\".format(alias))\n",
      "/home/jupyter-shliu/.local/lib/python3.6/site-packages/lightgbm/basic.py:1236: FutureWarning: elementwise comparison failed; returning scalar instead, but in the future will perform elementwise comparison\n",
      "  if self.categorical_feature == categorical_feature:\n",
      "/home/jupyter-shliu/.local/lib/python3.6/site-packages/lightgbm/basic.py:1242: FutureWarning: elementwise comparison failed; returning scalar instead, but in the future will perform elementwise comparison\n",
      "  elif categorical_feature == 'auto':\n",
      "/home/jupyter-shliu/.local/lib/python3.6/site-packages/lightgbm/basic.py:1247: UserWarning: categorical_feature in Dataset is overridden.\n",
      "New categorical_feature is []\n",
      "  'New categorical_feature is {}'.format(sorted(list(categorical_feature))))\n",
      "/home/jupyter-shliu/.local/lib/python3.6/site-packages/lightgbm/basic.py:285: FutureWarning: elementwise comparison failed; returning scalar instead, but in the future will perform elementwise comparison\n",
      "  if categorical_feature == 'auto':  # use cat cols from DataFrame\n"
     ]
    },
    {
     "name": "stdout",
     "output_type": "stream",
     "text": [
      "Training until validation scores don't improve for 100 rounds\n",
      "[100]\ttraining's rmse: 0.881995\ttraining's cappa: 0.701477\tvalid_1's rmse: 0.994057\tvalid_1's cappa: 0.580993\n",
      "[200]\ttraining's rmse: 0.800029\ttraining's cappa: 0.761509\tvalid_1's rmse: 0.990202\tvalid_1's cappa: 0.582445\n",
      "Early stopping, best iteration is:\n",
      "[184]\ttraining's rmse: 0.811682\ttraining's cappa: 0.752606\tvalid_1's rmse: 0.989906\tvalid_1's cappa: 0.581591\n",
      "parameter 8 99 0.6872203630625423 0.8909953360562632 2 14.690697770944888 21.634095341713582\n",
      "score 0.9899058342427817\n",
      "| \u001b[0m 114     \u001b[0m | \u001b[0m-0.9899  \u001b[0m | \u001b[0m 0.6872  \u001b[0m | \u001b[0m 14.69   \u001b[0m | \u001b[0m 21.63   \u001b[0m | \u001b[0m 8.406   \u001b[0m | \u001b[0m 99.7    \u001b[0m | \u001b[0m 0.891   \u001b[0m | \u001b[0m 2.999   \u001b[0m |\n"
     ]
    },
    {
     "name": "stderr",
     "output_type": "stream",
     "text": [
      "/home/jupyter-shliu/.local/lib/python3.6/site-packages/lightgbm/engine.py:153: UserWarning: Found `early_stopping_rounds` in params. Will use it instead of argument\n",
      "  warnings.warn(\"Found `{}` in params. Will use it instead of argument\".format(alias))\n",
      "/home/jupyter-shliu/.local/lib/python3.6/site-packages/lightgbm/basic.py:1236: FutureWarning: elementwise comparison failed; returning scalar instead, but in the future will perform elementwise comparison\n",
      "  if self.categorical_feature == categorical_feature:\n",
      "/home/jupyter-shliu/.local/lib/python3.6/site-packages/lightgbm/basic.py:1242: FutureWarning: elementwise comparison failed; returning scalar instead, but in the future will perform elementwise comparison\n",
      "  elif categorical_feature == 'auto':\n",
      "/home/jupyter-shliu/.local/lib/python3.6/site-packages/lightgbm/basic.py:1247: UserWarning: categorical_feature in Dataset is overridden.\n",
      "New categorical_feature is []\n",
      "  'New categorical_feature is {}'.format(sorted(list(categorical_feature))))\n",
      "/home/jupyter-shliu/.local/lib/python3.6/site-packages/lightgbm/basic.py:285: FutureWarning: elementwise comparison failed; returning scalar instead, but in the future will perform elementwise comparison\n",
      "  if categorical_feature == 'auto':  # use cat cols from DataFrame\n"
     ]
    },
    {
     "name": "stdout",
     "output_type": "stream",
     "text": [
      "Training until validation scores don't improve for 100 rounds\n",
      "[100]\ttraining's rmse: 0.881006\ttraining's cappa: 0.706915\tvalid_1's rmse: 1.0043\tvalid_1's cappa: 0.570167\n",
      "[200]\ttraining's rmse: 0.786642\ttraining's cappa: 0.774288\tvalid_1's rmse: 0.99521\tvalid_1's cappa: 0.578108\n",
      "[300]\ttraining's rmse: 0.721238\ttraining's cappa: 0.821281\tvalid_1's rmse: 0.995948\tvalid_1's cappa: 0.578868\n",
      "Early stopping, best iteration is:\n",
      "[227]\ttraining's rmse: 0.766663\ttraining's cappa: 0.789647\tvalid_1's rmse: 0.994453\tvalid_1's cappa: 0.578753\n",
      "parameter 13 99 0.32949175365756667 0.9919454983871954 2 14.845484198067034 38.315465798252475\n",
      "score 0.9944529359237314\n",
      "| \u001b[0m 115     \u001b[0m | \u001b[0m-0.9945  \u001b[0m | \u001b[0m 0.3295  \u001b[0m | \u001b[0m 14.85   \u001b[0m | \u001b[0m 38.32   \u001b[0m | \u001b[0m 13.96   \u001b[0m | \u001b[0m 99.17   \u001b[0m | \u001b[0m 0.9919  \u001b[0m | \u001b[0m 2.925   \u001b[0m |\n"
     ]
    },
    {
     "name": "stderr",
     "output_type": "stream",
     "text": [
      "/home/jupyter-shliu/.local/lib/python3.6/site-packages/lightgbm/engine.py:153: UserWarning: Found `early_stopping_rounds` in params. Will use it instead of argument\n",
      "  warnings.warn(\"Found `{}` in params. Will use it instead of argument\".format(alias))\n",
      "/home/jupyter-shliu/.local/lib/python3.6/site-packages/lightgbm/basic.py:1236: FutureWarning: elementwise comparison failed; returning scalar instead, but in the future will perform elementwise comparison\n",
      "  if self.categorical_feature == categorical_feature:\n",
      "/home/jupyter-shliu/.local/lib/python3.6/site-packages/lightgbm/basic.py:1242: FutureWarning: elementwise comparison failed; returning scalar instead, but in the future will perform elementwise comparison\n",
      "  elif categorical_feature == 'auto':\n",
      "/home/jupyter-shliu/.local/lib/python3.6/site-packages/lightgbm/basic.py:1247: UserWarning: categorical_feature in Dataset is overridden.\n",
      "New categorical_feature is []\n",
      "  'New categorical_feature is {}'.format(sorted(list(categorical_feature))))\n",
      "/home/jupyter-shliu/.local/lib/python3.6/site-packages/lightgbm/basic.py:285: FutureWarning: elementwise comparison failed; returning scalar instead, but in the future will perform elementwise comparison\n",
      "  if categorical_feature == 'auto':  # use cat cols from DataFrame\n"
     ]
    },
    {
     "name": "stdout",
     "output_type": "stream",
     "text": [
      "Training until validation scores don't improve for 100 rounds\n",
      "[100]\ttraining's rmse: 0.949398\ttraining's cappa: 0.633845\tvalid_1's rmse: 1.0016\tvalid_1's cappa: 0.572895\n",
      "[200]\ttraining's rmse: 0.898165\ttraining's cappa: 0.677499\tvalid_1's rmse: 0.99178\tvalid_1's cappa: 0.580797\n",
      "[300]\ttraining's rmse: 0.865242\ttraining's cappa: 0.706015\tvalid_1's rmse: 0.990487\tvalid_1's cappa: 0.584025\n",
      "Early stopping, best iteration is:\n",
      "[238]\ttraining's rmse: 0.884485\ttraining's cappa: 0.690035\tvalid_1's rmse: 0.991144\tvalid_1's cappa: 0.58564\n",
      "parameter 5 21 0.4036938453303044 0.9294175703403185 2 0.8653250531581863 38.44651608891228\n",
      "score 0.9911435827624575\n",
      "| \u001b[0m 116     \u001b[0m | \u001b[0m-0.9911  \u001b[0m | \u001b[0m 0.4037  \u001b[0m | \u001b[0m 0.8653  \u001b[0m | \u001b[0m 38.45   \u001b[0m | \u001b[0m 5.148   \u001b[0m | \u001b[0m 21.72   \u001b[0m | \u001b[0m 0.9294  \u001b[0m | \u001b[0m 2.993   \u001b[0m |\n"
     ]
    },
    {
     "name": "stderr",
     "output_type": "stream",
     "text": [
      "/home/jupyter-shliu/.local/lib/python3.6/site-packages/lightgbm/engine.py:153: UserWarning: Found `early_stopping_rounds` in params. Will use it instead of argument\n",
      "  warnings.warn(\"Found `{}` in params. Will use it instead of argument\".format(alias))\n",
      "/home/jupyter-shliu/.local/lib/python3.6/site-packages/lightgbm/basic.py:1236: FutureWarning: elementwise comparison failed; returning scalar instead, but in the future will perform elementwise comparison\n",
      "  if self.categorical_feature == categorical_feature:\n",
      "/home/jupyter-shliu/.local/lib/python3.6/site-packages/lightgbm/basic.py:1242: FutureWarning: elementwise comparison failed; returning scalar instead, but in the future will perform elementwise comparison\n",
      "  elif categorical_feature == 'auto':\n",
      "/home/jupyter-shliu/.local/lib/python3.6/site-packages/lightgbm/basic.py:1247: UserWarning: categorical_feature in Dataset is overridden.\n",
      "New categorical_feature is []\n",
      "  'New categorical_feature is {}'.format(sorted(list(categorical_feature))))\n",
      "/home/jupyter-shliu/.local/lib/python3.6/site-packages/lightgbm/basic.py:285: FutureWarning: elementwise comparison failed; returning scalar instead, but in the future will perform elementwise comparison\n",
      "  if categorical_feature == 'auto':  # use cat cols from DataFrame\n"
     ]
    },
    {
     "name": "stdout",
     "output_type": "stream",
     "text": [
      "Training until validation scores don't improve for 100 rounds\n",
      "[100]\ttraining's rmse: 0.972692\ttraining's cappa: 0.607915\tvalid_1's rmse: 1.00237\tvalid_1's cappa: 0.573219\n",
      "[200]\ttraining's rmse: 0.938857\ttraining's cappa: 0.635999\tvalid_1's rmse: 0.991933\tvalid_1's cappa: 0.583965\n",
      "[300]\ttraining's rmse: 0.918117\ttraining's cappa: 0.6558\tvalid_1's rmse: 0.990107\tvalid_1's cappa: 0.584608\n",
      "Early stopping, best iteration is:\n",
      "[272]\ttraining's rmse: 0.923071\ttraining's cappa: 0.651005\tvalid_1's rmse: 0.990282\tvalid_1's cappa: 0.587277\n",
      "parameter 15 15 0.5152859594875825 0.9944734549422432 2 32.48686037980067 49.893943714625976\n",
      "score 0.9902818831687121\n",
      "| \u001b[0m 117     \u001b[0m | \u001b[0m-0.9903  \u001b[0m | \u001b[0m 0.5153  \u001b[0m | \u001b[0m 32.49   \u001b[0m | \u001b[0m 49.89   \u001b[0m | \u001b[0m 15.06   \u001b[0m | \u001b[0m 15.54   \u001b[0m | \u001b[0m 0.9945  \u001b[0m | \u001b[0m 2.241   \u001b[0m |\n"
     ]
    },
    {
     "name": "stderr",
     "output_type": "stream",
     "text": [
      "/home/jupyter-shliu/.local/lib/python3.6/site-packages/lightgbm/engine.py:153: UserWarning: Found `early_stopping_rounds` in params. Will use it instead of argument\n",
      "  warnings.warn(\"Found `{}` in params. Will use it instead of argument\".format(alias))\n",
      "/home/jupyter-shliu/.local/lib/python3.6/site-packages/lightgbm/basic.py:1236: FutureWarning: elementwise comparison failed; returning scalar instead, but in the future will perform elementwise comparison\n",
      "  if self.categorical_feature == categorical_feature:\n",
      "/home/jupyter-shliu/.local/lib/python3.6/site-packages/lightgbm/basic.py:1242: FutureWarning: elementwise comparison failed; returning scalar instead, but in the future will perform elementwise comparison\n",
      "  elif categorical_feature == 'auto':\n",
      "/home/jupyter-shliu/.local/lib/python3.6/site-packages/lightgbm/basic.py:1247: UserWarning: categorical_feature in Dataset is overridden.\n",
      "New categorical_feature is []\n",
      "  'New categorical_feature is {}'.format(sorted(list(categorical_feature))))\n",
      "/home/jupyter-shliu/.local/lib/python3.6/site-packages/lightgbm/basic.py:285: FutureWarning: elementwise comparison failed; returning scalar instead, but in the future will perform elementwise comparison\n",
      "  if categorical_feature == 'auto':  # use cat cols from DataFrame\n"
     ]
    },
    {
     "name": "stdout",
     "output_type": "stream",
     "text": [
      "Training until validation scores don't improve for 100 rounds\n",
      "[100]\ttraining's rmse: 0.847576\ttraining's cappa: 0.727725\tvalid_1's rmse: 0.990302\tvalid_1's cappa: 0.586182\n",
      "[200]\ttraining's rmse: 0.753969\ttraining's cappa: 0.79627\tvalid_1's rmse: 0.990318\tvalid_1's cappa: 0.581372\n",
      "Early stopping, best iteration is:\n",
      "[102]\ttraining's rmse: 0.845077\ttraining's cappa: 0.72964\tvalid_1's rmse: 0.990042\tvalid_1's cappa: 0.586442\n",
      "parameter 10 49 0.9598674948161108 0.9855986350706236 2 1.262989172903408 14.661397166400931\n",
      "score 0.9900415833088629\n",
      "| \u001b[0m 118     \u001b[0m | \u001b[0m-0.99    \u001b[0m | \u001b[0m 0.9599  \u001b[0m | \u001b[0m 1.263   \u001b[0m | \u001b[0m 14.66   \u001b[0m | \u001b[0m 10.93   \u001b[0m | \u001b[0m 49.24   \u001b[0m | \u001b[0m 0.9856  \u001b[0m | \u001b[0m 2.946   \u001b[0m |\n"
     ]
    },
    {
     "name": "stderr",
     "output_type": "stream",
     "text": [
      "/home/jupyter-shliu/.local/lib/python3.6/site-packages/lightgbm/engine.py:153: UserWarning: Found `early_stopping_rounds` in params. Will use it instead of argument\n",
      "  warnings.warn(\"Found `{}` in params. Will use it instead of argument\".format(alias))\n",
      "/home/jupyter-shliu/.local/lib/python3.6/site-packages/lightgbm/basic.py:1236: FutureWarning: elementwise comparison failed; returning scalar instead, but in the future will perform elementwise comparison\n",
      "  if self.categorical_feature == categorical_feature:\n",
      "/home/jupyter-shliu/.local/lib/python3.6/site-packages/lightgbm/basic.py:1242: FutureWarning: elementwise comparison failed; returning scalar instead, but in the future will perform elementwise comparison\n",
      "  elif categorical_feature == 'auto':\n",
      "/home/jupyter-shliu/.local/lib/python3.6/site-packages/lightgbm/basic.py:1247: UserWarning: categorical_feature in Dataset is overridden.\n",
      "New categorical_feature is []\n",
      "  'New categorical_feature is {}'.format(sorted(list(categorical_feature))))\n",
      "/home/jupyter-shliu/.local/lib/python3.6/site-packages/lightgbm/basic.py:285: FutureWarning: elementwise comparison failed; returning scalar instead, but in the future will perform elementwise comparison\n",
      "  if categorical_feature == 'auto':  # use cat cols from DataFrame\n"
     ]
    },
    {
     "name": "stdout",
     "output_type": "stream",
     "text": [
      "Training until validation scores don't improve for 100 rounds\n",
      "[100]\ttraining's rmse: 0.953749\ttraining's cappa: 0.628068\tvalid_1's rmse: 1.00133\tvalid_1's cappa: 0.57365\n",
      "[200]\ttraining's rmse: 0.908535\ttraining's cappa: 0.668978\tvalid_1's rmse: 0.99056\tvalid_1's cappa: 0.58054\n",
      "[300]\ttraining's rmse: 0.878889\ttraining's cappa: 0.695964\tvalid_1's rmse: 0.98987\tvalid_1's cappa: 0.585451\n",
      "[400]\ttraining's rmse: 0.854673\ttraining's cappa: 0.718319\tvalid_1's rmse: 0.989413\tvalid_1's cappa: 0.586015\n",
      "Early stopping, best iteration is:\n",
      "[378]\ttraining's rmse: 0.8595\ttraining's cappa: 0.713976\tvalid_1's rmse: 0.989521\tvalid_1's cappa: 0.587801\n",
      "parameter 5 99 0.5348286312738436 0.9488337057021516 2 23.059428982152802 3.20492752999557\n",
      "score 0.9895207573530314\n",
      "| \u001b[0m 119     \u001b[0m | \u001b[0m-0.9895  \u001b[0m | \u001b[0m 0.5348  \u001b[0m | \u001b[0m 23.06   \u001b[0m | \u001b[0m 3.205   \u001b[0m | \u001b[0m 5.276   \u001b[0m | \u001b[0m 99.66   \u001b[0m | \u001b[0m 0.9488  \u001b[0m | \u001b[0m 3.0     \u001b[0m |\n"
     ]
    },
    {
     "name": "stderr",
     "output_type": "stream",
     "text": [
      "/home/jupyter-shliu/.local/lib/python3.6/site-packages/lightgbm/engine.py:153: UserWarning: Found `early_stopping_rounds` in params. Will use it instead of argument\n",
      "  warnings.warn(\"Found `{}` in params. Will use it instead of argument\".format(alias))\n",
      "/home/jupyter-shliu/.local/lib/python3.6/site-packages/lightgbm/basic.py:1236: FutureWarning: elementwise comparison failed; returning scalar instead, but in the future will perform elementwise comparison\n",
      "  if self.categorical_feature == categorical_feature:\n",
      "/home/jupyter-shliu/.local/lib/python3.6/site-packages/lightgbm/basic.py:1242: FutureWarning: elementwise comparison failed; returning scalar instead, but in the future will perform elementwise comparison\n",
      "  elif categorical_feature == 'auto':\n",
      "/home/jupyter-shliu/.local/lib/python3.6/site-packages/lightgbm/basic.py:1247: UserWarning: categorical_feature in Dataset is overridden.\n",
      "New categorical_feature is []\n",
      "  'New categorical_feature is {}'.format(sorted(list(categorical_feature))))\n",
      "/home/jupyter-shliu/.local/lib/python3.6/site-packages/lightgbm/basic.py:285: FutureWarning: elementwise comparison failed; returning scalar instead, but in the future will perform elementwise comparison\n",
      "  if categorical_feature == 'auto':  # use cat cols from DataFrame\n"
     ]
    },
    {
     "name": "stdout",
     "output_type": "stream",
     "text": [
      "Training until validation scores don't improve for 100 rounds\n",
      "[100]\ttraining's rmse: 0.915293\ttraining's cappa: 0.665495\tvalid_1's rmse: 0.992772\tvalid_1's cappa: 0.579662\n",
      "[200]\ttraining's rmse: 0.85126\ttraining's cappa: 0.718422\tvalid_1's rmse: 0.987947\tvalid_1's cappa: 0.581876\n",
      "[300]\ttraining's rmse: 0.805652\ttraining's cappa: 0.75718\tvalid_1's rmse: 0.988645\tvalid_1's cappa: 0.583821\n",
      "Early stopping, best iteration is:\n",
      "[210]\ttraining's rmse: 0.846034\ttraining's cappa: 0.723391\tvalid_1's rmse: 0.987635\tvalid_1's cappa: 0.582322\n",
      "parameter 14 30 0.46078585561750357 0.9988082886182506 1 4.921044888230956 31.585873717954875\n",
      "score 0.9876352413042683\n",
      "| \u001b[95m 120     \u001b[0m | \u001b[95m-0.9876  \u001b[0m | \u001b[95m 0.4608  \u001b[0m | \u001b[95m 4.921   \u001b[0m | \u001b[95m 31.59   \u001b[0m | \u001b[95m 14.38   \u001b[0m | \u001b[95m 30.26   \u001b[0m | \u001b[95m 0.9988  \u001b[0m | \u001b[95m 1.07    \u001b[0m |\n"
     ]
    },
    {
     "name": "stderr",
     "output_type": "stream",
     "text": [
      "/home/jupyter-shliu/.local/lib/python3.6/site-packages/lightgbm/engine.py:153: UserWarning: Found `early_stopping_rounds` in params. Will use it instead of argument\n",
      "  warnings.warn(\"Found `{}` in params. Will use it instead of argument\".format(alias))\n",
      "/home/jupyter-shliu/.local/lib/python3.6/site-packages/lightgbm/basic.py:1236: FutureWarning: elementwise comparison failed; returning scalar instead, but in the future will perform elementwise comparison\n",
      "  if self.categorical_feature == categorical_feature:\n",
      "/home/jupyter-shliu/.local/lib/python3.6/site-packages/lightgbm/basic.py:1242: FutureWarning: elementwise comparison failed; returning scalar instead, but in the future will perform elementwise comparison\n",
      "  elif categorical_feature == 'auto':\n",
      "/home/jupyter-shliu/.local/lib/python3.6/site-packages/lightgbm/basic.py:1247: UserWarning: categorical_feature in Dataset is overridden.\n",
      "New categorical_feature is []\n",
      "  'New categorical_feature is {}'.format(sorted(list(categorical_feature))))\n",
      "/home/jupyter-shliu/.local/lib/python3.6/site-packages/lightgbm/basic.py:285: FutureWarning: elementwise comparison failed; returning scalar instead, but in the future will perform elementwise comparison\n",
      "  if categorical_feature == 'auto':  # use cat cols from DataFrame\n"
     ]
    },
    {
     "name": "stdout",
     "output_type": "stream",
     "text": [
      "Training until validation scores don't improve for 100 rounds\n",
      "[100]\ttraining's rmse: 0.955818\ttraining's cappa: 0.624794\tvalid_1's rmse: 1.00146\tvalid_1's cappa: 0.571382\n",
      "[200]\ttraining's rmse: 0.915634\ttraining's cappa: 0.662726\tvalid_1's rmse: 0.991552\tvalid_1's cappa: 0.581062\n",
      "[300]\ttraining's rmse: 0.896079\ttraining's cappa: 0.680559\tvalid_1's rmse: 0.988825\tvalid_1's cappa: 0.583769\n",
      "[400]\ttraining's rmse: 0.883785\ttraining's cappa: 0.691238\tvalid_1's rmse: 0.988246\tvalid_1's cappa: 0.586365\n",
      "Early stopping, best iteration is:\n",
      "[387]\ttraining's rmse: 0.884982\ttraining's cappa: 0.690084\tvalid_1's rmse: 0.988376\tvalid_1's cappa: 0.587214\n",
      "parameter 7 89 0.7917473960062253 0.963280503488366 2 49.96197944967541 49.853156332871265\n",
      "score 0.98837611751839\n",
      "| \u001b[0m 121     \u001b[0m | \u001b[0m-0.9884  \u001b[0m | \u001b[0m 0.7917  \u001b[0m | \u001b[0m 49.96   \u001b[0m | \u001b[0m 49.85   \u001b[0m | \u001b[0m 7.283   \u001b[0m | \u001b[0m 89.01   \u001b[0m | \u001b[0m 0.9633  \u001b[0m | \u001b[0m 2.779   \u001b[0m |\n"
     ]
    },
    {
     "name": "stderr",
     "output_type": "stream",
     "text": [
      "/home/jupyter-shliu/.local/lib/python3.6/site-packages/lightgbm/engine.py:153: UserWarning: Found `early_stopping_rounds` in params. Will use it instead of argument\n",
      "  warnings.warn(\"Found `{}` in params. Will use it instead of argument\".format(alias))\n",
      "/home/jupyter-shliu/.local/lib/python3.6/site-packages/lightgbm/basic.py:1236: FutureWarning: elementwise comparison failed; returning scalar instead, but in the future will perform elementwise comparison\n",
      "  if self.categorical_feature == categorical_feature:\n",
      "/home/jupyter-shliu/.local/lib/python3.6/site-packages/lightgbm/basic.py:1242: FutureWarning: elementwise comparison failed; returning scalar instead, but in the future will perform elementwise comparison\n",
      "  elif categorical_feature == 'auto':\n",
      "/home/jupyter-shliu/.local/lib/python3.6/site-packages/lightgbm/basic.py:1247: UserWarning: categorical_feature in Dataset is overridden.\n",
      "New categorical_feature is []\n",
      "  'New categorical_feature is {}'.format(sorted(list(categorical_feature))))\n",
      "/home/jupyter-shliu/.local/lib/python3.6/site-packages/lightgbm/basic.py:285: FutureWarning: elementwise comparison failed; returning scalar instead, but in the future will perform elementwise comparison\n",
      "  if categorical_feature == 'auto':  # use cat cols from DataFrame\n"
     ]
    },
    {
     "name": "stdout",
     "output_type": "stream",
     "text": [
      "Training until validation scores don't improve for 100 rounds\n",
      "[100]\ttraining's rmse: 0.963859\ttraining's cappa: 0.616125\tvalid_1's rmse: 1.00426\tvalid_1's cappa: 0.573833\n",
      "[200]\ttraining's rmse: 0.920912\ttraining's cappa: 0.653362\tvalid_1's rmse: 0.993535\tvalid_1's cappa: 0.583438\n",
      "[300]\ttraining's rmse: 0.895171\ttraining's cappa: 0.681081\tvalid_1's rmse: 0.99189\tvalid_1's cappa: 0.585757\n",
      "[400]\ttraining's rmse: 0.874302\ttraining's cappa: 0.700708\tvalid_1's rmse: 0.991061\tvalid_1's cappa: 0.58668\n",
      "Early stopping, best iteration is:\n",
      "[341]\ttraining's rmse: 0.886135\ttraining's cappa: 0.690274\tvalid_1's rmse: 0.991243\tvalid_1's cappa: 0.588854\n",
      "parameter 5 63 0.9117781812582089 0.977135437304044 1 30.399297392016955 49.529279423493485\n",
      "score 0.9912428400898138\n",
      "| \u001b[0m 122     \u001b[0m | \u001b[0m-0.9912  \u001b[0m | \u001b[0m 0.9118  \u001b[0m | \u001b[0m 30.4    \u001b[0m | \u001b[0m 49.53   \u001b[0m | \u001b[0m 5.508   \u001b[0m | \u001b[0m 63.52   \u001b[0m | \u001b[0m 0.9771  \u001b[0m | \u001b[0m 1.072   \u001b[0m |\n"
     ]
    },
    {
     "name": "stderr",
     "output_type": "stream",
     "text": [
      "/home/jupyter-shliu/.local/lib/python3.6/site-packages/lightgbm/engine.py:153: UserWarning: Found `early_stopping_rounds` in params. Will use it instead of argument\n",
      "  warnings.warn(\"Found `{}` in params. Will use it instead of argument\".format(alias))\n",
      "/home/jupyter-shliu/.local/lib/python3.6/site-packages/lightgbm/basic.py:1236: FutureWarning: elementwise comparison failed; returning scalar instead, but in the future will perform elementwise comparison\n",
      "  if self.categorical_feature == categorical_feature:\n",
      "/home/jupyter-shliu/.local/lib/python3.6/site-packages/lightgbm/basic.py:1242: FutureWarning: elementwise comparison failed; returning scalar instead, but in the future will perform elementwise comparison\n",
      "  elif categorical_feature == 'auto':\n",
      "/home/jupyter-shliu/.local/lib/python3.6/site-packages/lightgbm/basic.py:1247: UserWarning: categorical_feature in Dataset is overridden.\n",
      "New categorical_feature is []\n",
      "  'New categorical_feature is {}'.format(sorted(list(categorical_feature))))\n",
      "/home/jupyter-shliu/.local/lib/python3.6/site-packages/lightgbm/basic.py:285: FutureWarning: elementwise comparison failed; returning scalar instead, but in the future will perform elementwise comparison\n",
      "  if categorical_feature == 'auto':  # use cat cols from DataFrame\n"
     ]
    },
    {
     "name": "stdout",
     "output_type": "stream",
     "text": [
      "Training until validation scores don't improve for 100 rounds\n",
      "[100]\ttraining's rmse: 0.941253\ttraining's cappa: 0.63909\tvalid_1's rmse: 0.99539\tvalid_1's cappa: 0.580101\n",
      "[200]\ttraining's rmse: 0.886758\ttraining's cappa: 0.688386\tvalid_1's rmse: 0.989385\tvalid_1's cappa: 0.582687\n",
      "Early stopping, best iteration is:\n",
      "[162]\ttraining's rmse: 0.904664\ttraining's cappa: 0.672623\tvalid_1's rmse: 0.989098\tvalid_1's cappa: 0.584565\n",
      "parameter 15 16 0.6591526382602613 0.9544670856078834 1 0.5255395759841464 0.15294600715041226\n",
      "score 0.9890976209433451\n",
      "| \u001b[0m 123     \u001b[0m | \u001b[0m-0.9891  \u001b[0m | \u001b[0m 0.6592  \u001b[0m | \u001b[0m 0.5255  \u001b[0m | \u001b[0m 0.1529  \u001b[0m | \u001b[0m 15.08   \u001b[0m | \u001b[0m 16.03   \u001b[0m | \u001b[0m 0.9545  \u001b[0m | \u001b[0m 1.402   \u001b[0m |\n"
     ]
    },
    {
     "name": "stderr",
     "output_type": "stream",
     "text": [
      "/home/jupyter-shliu/.local/lib/python3.6/site-packages/lightgbm/engine.py:153: UserWarning: Found `early_stopping_rounds` in params. Will use it instead of argument\n",
      "  warnings.warn(\"Found `{}` in params. Will use it instead of argument\".format(alias))\n",
      "/home/jupyter-shliu/.local/lib/python3.6/site-packages/lightgbm/basic.py:1236: FutureWarning: elementwise comparison failed; returning scalar instead, but in the future will perform elementwise comparison\n",
      "  if self.categorical_feature == categorical_feature:\n",
      "/home/jupyter-shliu/.local/lib/python3.6/site-packages/lightgbm/basic.py:1242: FutureWarning: elementwise comparison failed; returning scalar instead, but in the future will perform elementwise comparison\n",
      "  elif categorical_feature == 'auto':\n",
      "/home/jupyter-shliu/.local/lib/python3.6/site-packages/lightgbm/basic.py:1247: UserWarning: categorical_feature in Dataset is overridden.\n",
      "New categorical_feature is []\n",
      "  'New categorical_feature is {}'.format(sorted(list(categorical_feature))))\n",
      "/home/jupyter-shliu/.local/lib/python3.6/site-packages/lightgbm/basic.py:285: FutureWarning: elementwise comparison failed; returning scalar instead, but in the future will perform elementwise comparison\n",
      "  if categorical_feature == 'auto':  # use cat cols from DataFrame\n"
     ]
    },
    {
     "name": "stdout",
     "output_type": "stream",
     "text": [
      "Training until validation scores don't improve for 100 rounds\n",
      "[100]\ttraining's rmse: 0.935619\ttraining's cappa: 0.644056\tvalid_1's rmse: 0.994621\tvalid_1's cappa: 0.574937\n",
      "[200]\ttraining's rmse: 0.883204\ttraining's cappa: 0.691807\tvalid_1's rmse: 0.988237\tvalid_1's cappa: 0.583986\n",
      "[300]\ttraining's rmse: 0.845284\ttraining's cappa: 0.724048\tvalid_1's rmse: 0.987377\tvalid_1's cappa: 0.587741\n",
      "[400]\ttraining's rmse: 0.814243\ttraining's cappa: 0.749828\tvalid_1's rmse: 0.987762\tvalid_1's cappa: 0.584303\n",
      "Early stopping, best iteration is:\n",
      "[331]\ttraining's rmse: 0.835122\ttraining's cappa: 0.734035\tvalid_1's rmse: 0.986877\tvalid_1's cappa: 0.588189\n",
      "parameter 6 28 0.7006303325479908 0.9884701103511413 2 11.227218480222044 49.70371600661962\n",
      "score 0.9868773097867611\n",
      "| \u001b[95m 124     \u001b[0m | \u001b[95m-0.9869  \u001b[0m | \u001b[95m 0.7006  \u001b[0m | \u001b[95m 11.23   \u001b[0m | \u001b[95m 49.7    \u001b[0m | \u001b[95m 6.289   \u001b[0m | \u001b[95m 28.35   \u001b[0m | \u001b[95m 0.9885  \u001b[0m | \u001b[95m 2.409   \u001b[0m |\n"
     ]
    },
    {
     "name": "stderr",
     "output_type": "stream",
     "text": [
      "/home/jupyter-shliu/.local/lib/python3.6/site-packages/lightgbm/engine.py:153: UserWarning: Found `early_stopping_rounds` in params. Will use it instead of argument\n",
      "  warnings.warn(\"Found `{}` in params. Will use it instead of argument\".format(alias))\n",
      "/home/jupyter-shliu/.local/lib/python3.6/site-packages/lightgbm/basic.py:1236: FutureWarning: elementwise comparison failed; returning scalar instead, but in the future will perform elementwise comparison\n",
      "  if self.categorical_feature == categorical_feature:\n",
      "/home/jupyter-shliu/.local/lib/python3.6/site-packages/lightgbm/basic.py:1242: FutureWarning: elementwise comparison failed; returning scalar instead, but in the future will perform elementwise comparison\n",
      "  elif categorical_feature == 'auto':\n",
      "/home/jupyter-shliu/.local/lib/python3.6/site-packages/lightgbm/basic.py:1247: UserWarning: categorical_feature in Dataset is overridden.\n",
      "New categorical_feature is []\n",
      "  'New categorical_feature is {}'.format(sorted(list(categorical_feature))))\n",
      "/home/jupyter-shliu/.local/lib/python3.6/site-packages/lightgbm/basic.py:285: FutureWarning: elementwise comparison failed; returning scalar instead, but in the future will perform elementwise comparison\n",
      "  if categorical_feature == 'auto':  # use cat cols from DataFrame\n"
     ]
    },
    {
     "name": "stdout",
     "output_type": "stream",
     "text": [
      "Training until validation scores don't improve for 100 rounds\n",
      "[100]\ttraining's rmse: 0.942367\ttraining's cappa: 0.64216\tvalid_1's rmse: 1.00248\tvalid_1's cappa: 0.573294\n",
      "[200]\ttraining's rmse: 0.895629\ttraining's cappa: 0.684402\tvalid_1's rmse: 0.993721\tvalid_1's cappa: 0.577852\n",
      "[300]\ttraining's rmse: 0.873532\ttraining's cappa: 0.702289\tvalid_1's rmse: 0.991982\tvalid_1's cappa: 0.583037\n",
      "[400]\ttraining's rmse: 0.859654\ttraining's cappa: 0.716843\tvalid_1's rmse: 0.991446\tvalid_1's cappa: 0.587331\n",
      "[500]\ttraining's rmse: 0.851163\ttraining's cappa: 0.724548\tvalid_1's rmse: 0.991328\tvalid_1's cappa: 0.589123\n",
      "[600]\ttraining's rmse: 0.842217\ttraining's cappa: 0.730702\tvalid_1's rmse: 0.990889\tvalid_1's cappa: 0.589299\n",
      "Early stopping, best iteration is:\n",
      "[555]\ttraining's rmse: 0.845804\ttraining's cappa: 0.728327\tvalid_1's rmse: 0.990697\tvalid_1's cappa: 0.590853\n",
      "parameter 15 51 0.6872625614304086 0.9313664987795056 2 49.11357607669658 49.82357824626947\n",
      "score 0.9906971548203859\n",
      "| \u001b[0m 125     \u001b[0m | \u001b[0m-0.9907  \u001b[0m | \u001b[0m 0.6873  \u001b[0m | \u001b[0m 49.11   \u001b[0m | \u001b[0m 49.82   \u001b[0m | \u001b[0m 15.53   \u001b[0m | \u001b[0m 51.45   \u001b[0m | \u001b[0m 0.9314  \u001b[0m | \u001b[0m 2.907   \u001b[0m |\n"
     ]
    },
    {
     "name": "stderr",
     "output_type": "stream",
     "text": [
      "/home/jupyter-shliu/.local/lib/python3.6/site-packages/lightgbm/engine.py:153: UserWarning: Found `early_stopping_rounds` in params. Will use it instead of argument\n",
      "  warnings.warn(\"Found `{}` in params. Will use it instead of argument\".format(alias))\n",
      "/home/jupyter-shliu/.local/lib/python3.6/site-packages/lightgbm/basic.py:1236: FutureWarning: elementwise comparison failed; returning scalar instead, but in the future will perform elementwise comparison\n",
      "  if self.categorical_feature == categorical_feature:\n",
      "/home/jupyter-shliu/.local/lib/python3.6/site-packages/lightgbm/basic.py:1242: FutureWarning: elementwise comparison failed; returning scalar instead, but in the future will perform elementwise comparison\n",
      "  elif categorical_feature == 'auto':\n",
      "/home/jupyter-shliu/.local/lib/python3.6/site-packages/lightgbm/basic.py:1247: UserWarning: categorical_feature in Dataset is overridden.\n",
      "New categorical_feature is []\n",
      "  'New categorical_feature is {}'.format(sorted(list(categorical_feature))))\n",
      "/home/jupyter-shliu/.local/lib/python3.6/site-packages/lightgbm/basic.py:285: FutureWarning: elementwise comparison failed; returning scalar instead, but in the future will perform elementwise comparison\n",
      "  if categorical_feature == 'auto':  # use cat cols from DataFrame\n"
     ]
    },
    {
     "name": "stdout",
     "output_type": "stream",
     "text": [
      "Training until validation scores don't improve for 100 rounds\n",
      "[100]\ttraining's rmse: 0.961512\ttraining's cappa: 0.622383\tvalid_1's rmse: 1.01015\tvalid_1's cappa: 0.56602\n",
      "[200]\ttraining's rmse: 0.910041\ttraining's cappa: 0.666396\tvalid_1's rmse: 0.994911\tvalid_1's cappa: 0.571939\n",
      "[300]\ttraining's rmse: 0.876038\ttraining's cappa: 0.695119\tvalid_1's rmse: 0.994059\tvalid_1's cappa: 0.575501\n",
      "Early stopping, best iteration is:\n",
      "[248]\ttraining's rmse: 0.893307\ttraining's cappa: 0.680299\tvalid_1's rmse: 0.993542\tvalid_1's cappa: 0.574322\n",
      "parameter 15 15 0.30080873165276484 0.9572482790853518 2 0.8725189965330806 12.88962071232327\n",
      "score 0.9935417949111082\n",
      "| \u001b[0m 126     \u001b[0m | \u001b[0m-0.9935  \u001b[0m | \u001b[0m 0.3008  \u001b[0m | \u001b[0m 0.8725  \u001b[0m | \u001b[0m 12.89   \u001b[0m | \u001b[0m 15.9    \u001b[0m | \u001b[0m 15.91   \u001b[0m | \u001b[0m 0.9572  \u001b[0m | \u001b[0m 2.818   \u001b[0m |\n"
     ]
    },
    {
     "name": "stderr",
     "output_type": "stream",
     "text": [
      "/home/jupyter-shliu/.local/lib/python3.6/site-packages/lightgbm/engine.py:153: UserWarning: Found `early_stopping_rounds` in params. Will use it instead of argument\n",
      "  warnings.warn(\"Found `{}` in params. Will use it instead of argument\".format(alias))\n",
      "/home/jupyter-shliu/.local/lib/python3.6/site-packages/lightgbm/basic.py:1236: FutureWarning: elementwise comparison failed; returning scalar instead, but in the future will perform elementwise comparison\n",
      "  if self.categorical_feature == categorical_feature:\n",
      "/home/jupyter-shliu/.local/lib/python3.6/site-packages/lightgbm/basic.py:1242: FutureWarning: elementwise comparison failed; returning scalar instead, but in the future will perform elementwise comparison\n",
      "  elif categorical_feature == 'auto':\n",
      "/home/jupyter-shliu/.local/lib/python3.6/site-packages/lightgbm/basic.py:1247: UserWarning: categorical_feature in Dataset is overridden.\n",
      "New categorical_feature is []\n",
      "  'New categorical_feature is {}'.format(sorted(list(categorical_feature))))\n",
      "/home/jupyter-shliu/.local/lib/python3.6/site-packages/lightgbm/basic.py:285: FutureWarning: elementwise comparison failed; returning scalar instead, but in the future will perform elementwise comparison\n",
      "  if categorical_feature == 'auto':  # use cat cols from DataFrame\n"
     ]
    },
    {
     "name": "stdout",
     "output_type": "stream",
     "text": [
      "Training until validation scores don't improve for 100 rounds\n",
      "[100]\ttraining's rmse: 0.943355\ttraining's cappa: 0.638996\tvalid_1's rmse: 0.998799\tvalid_1's cappa: 0.573829\n",
      "[200]\ttraining's rmse: 0.890425\ttraining's cappa: 0.684736\tvalid_1's rmse: 0.990892\tvalid_1's cappa: 0.583587\n",
      "[300]\ttraining's rmse: 0.855033\ttraining's cappa: 0.717035\tvalid_1's rmse: 0.990499\tvalid_1's cappa: 0.585149\n",
      "Early stopping, best iteration is:\n",
      "[252]\ttraining's rmse: 0.87069\ttraining's cappa: 0.701473\tvalid_1's rmse: 0.990603\tvalid_1's cappa: 0.586956\n",
      "parameter 5 39 0.8984682700523525 0.9875929171206592 1 10.262495346497062 33.19663762009571\n",
      "score 0.9906025487809059\n",
      "| \u001b[0m 127     \u001b[0m | \u001b[0m-0.9906  \u001b[0m | \u001b[0m 0.8985  \u001b[0m | \u001b[0m 10.26   \u001b[0m | \u001b[0m 33.2    \u001b[0m | \u001b[0m 5.621   \u001b[0m | \u001b[0m 39.74   \u001b[0m | \u001b[0m 0.9876  \u001b[0m | \u001b[0m 1.004   \u001b[0m |\n"
     ]
    },
    {
     "name": "stderr",
     "output_type": "stream",
     "text": [
      "/home/jupyter-shliu/.local/lib/python3.6/site-packages/lightgbm/engine.py:153: UserWarning: Found `early_stopping_rounds` in params. Will use it instead of argument\n",
      "  warnings.warn(\"Found `{}` in params. Will use it instead of argument\".format(alias))\n",
      "/home/jupyter-shliu/.local/lib/python3.6/site-packages/lightgbm/basic.py:1236: FutureWarning: elementwise comparison failed; returning scalar instead, but in the future will perform elementwise comparison\n",
      "  if self.categorical_feature == categorical_feature:\n",
      "/home/jupyter-shliu/.local/lib/python3.6/site-packages/lightgbm/basic.py:1242: FutureWarning: elementwise comparison failed; returning scalar instead, but in the future will perform elementwise comparison\n",
      "  elif categorical_feature == 'auto':\n",
      "/home/jupyter-shliu/.local/lib/python3.6/site-packages/lightgbm/basic.py:1247: UserWarning: categorical_feature in Dataset is overridden.\n",
      "New categorical_feature is []\n",
      "  'New categorical_feature is {}'.format(sorted(list(categorical_feature))))\n",
      "/home/jupyter-shliu/.local/lib/python3.6/site-packages/lightgbm/basic.py:285: FutureWarning: elementwise comparison failed; returning scalar instead, but in the future will perform elementwise comparison\n",
      "  if categorical_feature == 'auto':  # use cat cols from DataFrame\n"
     ]
    },
    {
     "name": "stdout",
     "output_type": "stream",
     "text": [
      "Training until validation scores don't improve for 100 rounds\n",
      "[100]\ttraining's rmse: 0.927774\ttraining's cappa: 0.656074\tvalid_1's rmse: 1.00121\tvalid_1's cappa: 0.573117\n",
      "[200]\ttraining's rmse: 0.876395\ttraining's cappa: 0.69853\tvalid_1's rmse: 0.993122\tvalid_1's cappa: 0.581509\n",
      "[300]\ttraining's rmse: 0.851517\ttraining's cappa: 0.718724\tvalid_1's rmse: 0.991796\tvalid_1's cappa: 0.58334\n",
      "Early stopping, best iteration is:\n",
      "[290]\ttraining's rmse: 0.853188\ttraining's cappa: 0.717147\tvalid_1's rmse: 0.991699\tvalid_1's cappa: 0.584636\n",
      "parameter 11 88 0.9851344004895564 0.9908801498039232 1 43.85632667720411 34.878192788084725\n",
      "score 0.9916991394567791\n",
      "| \u001b[0m 128     \u001b[0m | \u001b[0m-0.9917  \u001b[0m | \u001b[0m 0.9851  \u001b[0m | \u001b[0m 43.86   \u001b[0m | \u001b[0m 34.88   \u001b[0m | \u001b[0m 11.76   \u001b[0m | \u001b[0m 88.17   \u001b[0m | \u001b[0m 0.9909  \u001b[0m | \u001b[0m 1.044   \u001b[0m |\n"
     ]
    },
    {
     "name": "stderr",
     "output_type": "stream",
     "text": [
      "/home/jupyter-shliu/.local/lib/python3.6/site-packages/lightgbm/engine.py:153: UserWarning: Found `early_stopping_rounds` in params. Will use it instead of argument\n",
      "  warnings.warn(\"Found `{}` in params. Will use it instead of argument\".format(alias))\n",
      "/home/jupyter-shliu/.local/lib/python3.6/site-packages/lightgbm/basic.py:1236: FutureWarning: elementwise comparison failed; returning scalar instead, but in the future will perform elementwise comparison\n",
      "  if self.categorical_feature == categorical_feature:\n",
      "/home/jupyter-shliu/.local/lib/python3.6/site-packages/lightgbm/basic.py:1242: FutureWarning: elementwise comparison failed; returning scalar instead, but in the future will perform elementwise comparison\n",
      "  elif categorical_feature == 'auto':\n",
      "/home/jupyter-shliu/.local/lib/python3.6/site-packages/lightgbm/basic.py:1247: UserWarning: categorical_feature in Dataset is overridden.\n",
      "New categorical_feature is []\n",
      "  'New categorical_feature is {}'.format(sorted(list(categorical_feature))))\n",
      "/home/jupyter-shliu/.local/lib/python3.6/site-packages/lightgbm/basic.py:285: FutureWarning: elementwise comparison failed; returning scalar instead, but in the future will perform elementwise comparison\n",
      "  if categorical_feature == 'auto':  # use cat cols from DataFrame\n"
     ]
    },
    {
     "name": "stdout",
     "output_type": "stream",
     "text": [
      "Training until validation scores don't improve for 100 rounds\n",
      "[100]\ttraining's rmse: 0.833147\ttraining's cappa: 0.739123\tvalid_1's rmse: 0.994636\tvalid_1's cappa: 0.576315\n",
      "Early stopping, best iteration is:\n",
      "[80]\ttraining's rmse: 0.861261\ttraining's cappa: 0.718282\tvalid_1's rmse: 0.996407\tvalid_1's cappa: 0.581402\n",
      "parameter 9 46 0.9874994772447168 0.8523305363779237 1 0.732539274451605 0.42428207967433984\n",
      "score 0.9964070702897037\n",
      "| \u001b[0m 129     \u001b[0m | \u001b[0m-0.9964  \u001b[0m | \u001b[0m 0.9875  \u001b[0m | \u001b[0m 0.7325  \u001b[0m | \u001b[0m 0.4243  \u001b[0m | \u001b[0m 9.308   \u001b[0m | \u001b[0m 46.1    \u001b[0m | \u001b[0m 0.8523  \u001b[0m | \u001b[0m 1.277   \u001b[0m |\n"
     ]
    },
    {
     "name": "stderr",
     "output_type": "stream",
     "text": [
      "/home/jupyter-shliu/.local/lib/python3.6/site-packages/lightgbm/engine.py:153: UserWarning: Found `early_stopping_rounds` in params. Will use it instead of argument\n",
      "  warnings.warn(\"Found `{}` in params. Will use it instead of argument\".format(alias))\n",
      "/home/jupyter-shliu/.local/lib/python3.6/site-packages/lightgbm/basic.py:1236: FutureWarning: elementwise comparison failed; returning scalar instead, but in the future will perform elementwise comparison\n",
      "  if self.categorical_feature == categorical_feature:\n",
      "/home/jupyter-shliu/.local/lib/python3.6/site-packages/lightgbm/basic.py:1242: FutureWarning: elementwise comparison failed; returning scalar instead, but in the future will perform elementwise comparison\n",
      "  elif categorical_feature == 'auto':\n",
      "/home/jupyter-shliu/.local/lib/python3.6/site-packages/lightgbm/basic.py:1247: UserWarning: categorical_feature in Dataset is overridden.\n",
      "New categorical_feature is []\n",
      "  'New categorical_feature is {}'.format(sorted(list(categorical_feature))))\n",
      "/home/jupyter-shliu/.local/lib/python3.6/site-packages/lightgbm/basic.py:285: FutureWarning: elementwise comparison failed; returning scalar instead, but in the future will perform elementwise comparison\n",
      "  if categorical_feature == 'auto':  # use cat cols from DataFrame\n"
     ]
    },
    {
     "name": "stdout",
     "output_type": "stream",
     "text": [
      "Training until validation scores don't improve for 100 rounds\n",
      "[100]\ttraining's rmse: 0.928218\ttraining's cappa: 0.656739\tvalid_1's rmse: 1.00443\tvalid_1's cappa: 0.569075\n",
      "[200]\ttraining's rmse: 0.866508\ttraining's cappa: 0.702955\tvalid_1's rmse: 0.993966\tvalid_1's cappa: 0.581416\n",
      "[300]\ttraining's rmse: 0.823725\ttraining's cappa: 0.743881\tvalid_1's rmse: 0.993289\tvalid_1's cappa: 0.584033\n",
      "Early stopping, best iteration is:\n",
      "[241]\ttraining's rmse: 0.847571\ttraining's cappa: 0.721519\tvalid_1's rmse: 0.993026\tvalid_1's cappa: 0.583247\n",
      "parameter 10 28 0.3326754156722409 0.9855296628528991 2 8.199901370320294 17.94589448919038\n",
      "score 0.9930255382629117\n",
      "| \u001b[0m 130     \u001b[0m | \u001b[0m-0.993   \u001b[0m | \u001b[0m 0.3327  \u001b[0m | \u001b[0m 8.2     \u001b[0m | \u001b[0m 17.95   \u001b[0m | \u001b[0m 10.07   \u001b[0m | \u001b[0m 28.42   \u001b[0m | \u001b[0m 0.9855  \u001b[0m | \u001b[0m 2.297   \u001b[0m |\n"
     ]
    },
    {
     "name": "stderr",
     "output_type": "stream",
     "text": [
      "/home/jupyter-shliu/.local/lib/python3.6/site-packages/lightgbm/engine.py:153: UserWarning: Found `early_stopping_rounds` in params. Will use it instead of argument\n",
      "  warnings.warn(\"Found `{}` in params. Will use it instead of argument\".format(alias))\n",
      "/home/jupyter-shliu/.local/lib/python3.6/site-packages/lightgbm/basic.py:1236: FutureWarning: elementwise comparison failed; returning scalar instead, but in the future will perform elementwise comparison\n",
      "  if self.categorical_feature == categorical_feature:\n",
      "/home/jupyter-shliu/.local/lib/python3.6/site-packages/lightgbm/basic.py:1242: FutureWarning: elementwise comparison failed; returning scalar instead, but in the future will perform elementwise comparison\n",
      "  elif categorical_feature == 'auto':\n",
      "/home/jupyter-shliu/.local/lib/python3.6/site-packages/lightgbm/basic.py:1247: UserWarning: categorical_feature in Dataset is overridden.\n",
      "New categorical_feature is []\n",
      "  'New categorical_feature is {}'.format(sorted(list(categorical_feature))))\n",
      "/home/jupyter-shliu/.local/lib/python3.6/site-packages/lightgbm/basic.py:285: FutureWarning: elementwise comparison failed; returning scalar instead, but in the future will perform elementwise comparison\n",
      "  if categorical_feature == 'auto':  # use cat cols from DataFrame\n"
     ]
    },
    {
     "name": "stdout",
     "output_type": "stream",
     "text": [
      "Training until validation scores don't improve for 100 rounds\n",
      "[100]\ttraining's rmse: 0.79558\ttraining's cappa: 0.771504\tvalid_1's rmse: 0.992394\tvalid_1's cappa: 0.576897\n",
      "[200]\ttraining's rmse: 0.680764\ttraining's cappa: 0.845016\tvalid_1's rmse: 0.995656\tvalid_1's cappa: 0.575137\n",
      "Early stopping, best iteration is:\n",
      "[122]\ttraining's rmse: 0.764558\ttraining's cappa: 0.795485\tvalid_1's rmse: 0.991975\tvalid_1's cappa: 0.579274\n",
      "parameter 13 69 0.7550333598162541 0.9818639183144029 2 0.1804599164456625 11.150992348521042\n",
      "score 0.9919750309907415\n",
      "| \u001b[0m 131     \u001b[0m | \u001b[0m-0.992   \u001b[0m | \u001b[0m 0.755   \u001b[0m | \u001b[0m 0.1805  \u001b[0m | \u001b[0m 11.15   \u001b[0m | \u001b[0m 13.95   \u001b[0m | \u001b[0m 69.84   \u001b[0m | \u001b[0m 0.9819  \u001b[0m | \u001b[0m 2.935   \u001b[0m |\n"
     ]
    },
    {
     "name": "stderr",
     "output_type": "stream",
     "text": [
      "/home/jupyter-shliu/.local/lib/python3.6/site-packages/lightgbm/engine.py:153: UserWarning: Found `early_stopping_rounds` in params. Will use it instead of argument\n",
      "  warnings.warn(\"Found `{}` in params. Will use it instead of argument\".format(alias))\n",
      "/home/jupyter-shliu/.local/lib/python3.6/site-packages/lightgbm/basic.py:1236: FutureWarning: elementwise comparison failed; returning scalar instead, but in the future will perform elementwise comparison\n",
      "  if self.categorical_feature == categorical_feature:\n",
      "/home/jupyter-shliu/.local/lib/python3.6/site-packages/lightgbm/basic.py:1242: FutureWarning: elementwise comparison failed; returning scalar instead, but in the future will perform elementwise comparison\n",
      "  elif categorical_feature == 'auto':\n",
      "/home/jupyter-shliu/.local/lib/python3.6/site-packages/lightgbm/basic.py:1247: UserWarning: categorical_feature in Dataset is overridden.\n",
      "New categorical_feature is []\n",
      "  'New categorical_feature is {}'.format(sorted(list(categorical_feature))))\n",
      "/home/jupyter-shliu/.local/lib/python3.6/site-packages/lightgbm/basic.py:285: FutureWarning: elementwise comparison failed; returning scalar instead, but in the future will perform elementwise comparison\n",
      "  if categorical_feature == 'auto':  # use cat cols from DataFrame\n"
     ]
    },
    {
     "name": "stdout",
     "output_type": "stream",
     "text": [
      "Training until validation scores don't improve for 100 rounds\n",
      "[100]\ttraining's rmse: 0.929805\ttraining's cappa: 0.653058\tvalid_1's rmse: 1.00006\tvalid_1's cappa: 0.571839\n",
      "[200]\ttraining's rmse: 0.881959\ttraining's cappa: 0.696011\tvalid_1's rmse: 0.992855\tvalid_1's cappa: 0.583854\n",
      "[300]\ttraining's rmse: 0.864659\ttraining's cappa: 0.711208\tvalid_1's rmse: 0.991085\tvalid_1's cappa: 0.585971\n",
      "[400]\ttraining's rmse: 0.861401\ttraining's cappa: 0.714916\tvalid_1's rmse: 0.990957\tvalid_1's cappa: 0.584849\n",
      "Early stopping, best iteration is:\n",
      "[300]\ttraining's rmse: 0.864659\ttraining's cappa: 0.711208\tvalid_1's rmse: 0.991085\tvalid_1's cappa: 0.585971\n",
      "parameter 15 74 0.8744844397641047 0.9911188357971075 2 49.73658497116253 21.864476283542757\n",
      "score 0.9910848118054119\n",
      "| \u001b[0m 132     \u001b[0m | \u001b[0m-0.9911  \u001b[0m | \u001b[0m 0.8745  \u001b[0m | \u001b[0m 49.74   \u001b[0m | \u001b[0m 21.86   \u001b[0m | \u001b[0m 15.98   \u001b[0m | \u001b[0m 74.26   \u001b[0m | \u001b[0m 0.9911  \u001b[0m | \u001b[0m 2.942   \u001b[0m |\n"
     ]
    },
    {
     "name": "stderr",
     "output_type": "stream",
     "text": [
      "/home/jupyter-shliu/.local/lib/python3.6/site-packages/lightgbm/engine.py:153: UserWarning: Found `early_stopping_rounds` in params. Will use it instead of argument\n",
      "  warnings.warn(\"Found `{}` in params. Will use it instead of argument\".format(alias))\n",
      "/home/jupyter-shliu/.local/lib/python3.6/site-packages/lightgbm/basic.py:1236: FutureWarning: elementwise comparison failed; returning scalar instead, but in the future will perform elementwise comparison\n",
      "  if self.categorical_feature == categorical_feature:\n",
      "/home/jupyter-shliu/.local/lib/python3.6/site-packages/lightgbm/basic.py:1242: FutureWarning: elementwise comparison failed; returning scalar instead, but in the future will perform elementwise comparison\n",
      "  elif categorical_feature == 'auto':\n",
      "/home/jupyter-shliu/.local/lib/python3.6/site-packages/lightgbm/basic.py:1247: UserWarning: categorical_feature in Dataset is overridden.\n",
      "New categorical_feature is []\n",
      "  'New categorical_feature is {}'.format(sorted(list(categorical_feature))))\n",
      "/home/jupyter-shliu/.local/lib/python3.6/site-packages/lightgbm/basic.py:285: FutureWarning: elementwise comparison failed; returning scalar instead, but in the future will perform elementwise comparison\n",
      "  if categorical_feature == 'auto':  # use cat cols from DataFrame\n"
     ]
    },
    {
     "name": "stdout",
     "output_type": "stream",
     "text": [
      "Training until validation scores don't improve for 100 rounds\n",
      "[100]\ttraining's rmse: 0.934024\ttraining's cappa: 0.648425\tvalid_1's rmse: 0.996764\tvalid_1's cappa: 0.578898\n",
      "[200]\ttraining's rmse: 0.881085\ttraining's cappa: 0.692231\tvalid_1's rmse: 0.989955\tvalid_1's cappa: 0.590988\n",
      "[300]\ttraining's rmse: 0.844921\ttraining's cappa: 0.725484\tvalid_1's rmse: 0.990247\tvalid_1's cappa: 0.58684\n",
      "Early stopping, best iteration is:\n",
      "[204]\ttraining's rmse: 0.880132\ttraining's cappa: 0.69307\tvalid_1's rmse: 0.99003\tvalid_1's cappa: 0.591792\n",
      "parameter 5 30 0.7752506809014993 0.9704358838412259 1 0.12876557788713391 47.366149268674484\n",
      "score 0.9900299317892572\n",
      "| \u001b[0m 133     \u001b[0m | \u001b[0m-0.99    \u001b[0m | \u001b[0m 0.7753  \u001b[0m | \u001b[0m 0.1288  \u001b[0m | \u001b[0m 47.37   \u001b[0m | \u001b[0m 5.161   \u001b[0m | \u001b[0m 30.69   \u001b[0m | \u001b[0m 0.9704  \u001b[0m | \u001b[0m 1.047   \u001b[0m |\n"
     ]
    },
    {
     "name": "stderr",
     "output_type": "stream",
     "text": [
      "/home/jupyter-shliu/.local/lib/python3.6/site-packages/lightgbm/engine.py:153: UserWarning: Found `early_stopping_rounds` in params. Will use it instead of argument\n",
      "  warnings.warn(\"Found `{}` in params. Will use it instead of argument\".format(alias))\n",
      "/home/jupyter-shliu/.local/lib/python3.6/site-packages/lightgbm/basic.py:1236: FutureWarning: elementwise comparison failed; returning scalar instead, but in the future will perform elementwise comparison\n",
      "  if self.categorical_feature == categorical_feature:\n",
      "/home/jupyter-shliu/.local/lib/python3.6/site-packages/lightgbm/basic.py:1242: FutureWarning: elementwise comparison failed; returning scalar instead, but in the future will perform elementwise comparison\n",
      "  elif categorical_feature == 'auto':\n",
      "/home/jupyter-shliu/.local/lib/python3.6/site-packages/lightgbm/basic.py:1247: UserWarning: categorical_feature in Dataset is overridden.\n",
      "New categorical_feature is []\n",
      "  'New categorical_feature is {}'.format(sorted(list(categorical_feature))))\n",
      "/home/jupyter-shliu/.local/lib/python3.6/site-packages/lightgbm/basic.py:285: FutureWarning: elementwise comparison failed; returning scalar instead, but in the future will perform elementwise comparison\n",
      "  if categorical_feature == 'auto':  # use cat cols from DataFrame\n"
     ]
    },
    {
     "name": "stdout",
     "output_type": "stream",
     "text": [
      "Training until validation scores don't improve for 100 rounds\n",
      "[100]\ttraining's rmse: 0.826174\ttraining's cappa: 0.745591\tvalid_1's rmse: 0.995265\tvalid_1's cappa: 0.57604\n",
      "[200]\ttraining's rmse: 0.719593\ttraining's cappa: 0.822327\tvalid_1's rmse: 0.994558\tvalid_1's cappa: 0.579926\n",
      "Early stopping, best iteration is:\n",
      "[136]\ttraining's rmse: 0.781824\ttraining's cappa: 0.77921\tvalid_1's rmse: 0.99323\tvalid_1's cappa: 0.575137\n",
      "parameter 15 85 0.9094521868915637 0.9820317653124162 2 12.388829416001947 1.6860892301269201\n",
      "score 0.9932295132891636\n",
      "| \u001b[0m 134     \u001b[0m | \u001b[0m-0.9932  \u001b[0m | \u001b[0m 0.9095  \u001b[0m | \u001b[0m 12.39   \u001b[0m | \u001b[0m 1.686   \u001b[0m | \u001b[0m 15.88   \u001b[0m | \u001b[0m 85.42   \u001b[0m | \u001b[0m 0.982   \u001b[0m | \u001b[0m 2.72    \u001b[0m |\n"
     ]
    },
    {
     "name": "stderr",
     "output_type": "stream",
     "text": [
      "/home/jupyter-shliu/.local/lib/python3.6/site-packages/lightgbm/engine.py:153: UserWarning: Found `early_stopping_rounds` in params. Will use it instead of argument\n",
      "  warnings.warn(\"Found `{}` in params. Will use it instead of argument\".format(alias))\n",
      "/home/jupyter-shliu/.local/lib/python3.6/site-packages/lightgbm/basic.py:1236: FutureWarning: elementwise comparison failed; returning scalar instead, but in the future will perform elementwise comparison\n",
      "  if self.categorical_feature == categorical_feature:\n",
      "/home/jupyter-shliu/.local/lib/python3.6/site-packages/lightgbm/basic.py:1242: FutureWarning: elementwise comparison failed; returning scalar instead, but in the future will perform elementwise comparison\n",
      "  elif categorical_feature == 'auto':\n",
      "/home/jupyter-shliu/.local/lib/python3.6/site-packages/lightgbm/basic.py:1247: UserWarning: categorical_feature in Dataset is overridden.\n",
      "New categorical_feature is []\n",
      "  'New categorical_feature is {}'.format(sorted(list(categorical_feature))))\n",
      "/home/jupyter-shliu/.local/lib/python3.6/site-packages/lightgbm/basic.py:285: FutureWarning: elementwise comparison failed; returning scalar instead, but in the future will perform elementwise comparison\n",
      "  if categorical_feature == 'auto':  # use cat cols from DataFrame\n"
     ]
    },
    {
     "name": "stdout",
     "output_type": "stream",
     "text": [
      "Training until validation scores don't improve for 100 rounds\n",
      "[100]\ttraining's rmse: 0.967931\ttraining's cappa: 0.612527\tvalid_1's rmse: 1.004\tvalid_1's cappa: 0.572917\n",
      "[200]\ttraining's rmse: 0.932969\ttraining's cappa: 0.643063\tvalid_1's rmse: 0.994848\tvalid_1's cappa: 0.57653\n",
      "[300]\ttraining's rmse: 0.914055\ttraining's cappa: 0.66008\tvalid_1's rmse: 0.992733\tvalid_1's cappa: 0.581906\n",
      "Early stopping, best iteration is:\n",
      "[262]\ttraining's rmse: 0.920327\ttraining's cappa: 0.654641\tvalid_1's rmse: 0.993492\tvalid_1's cappa: 0.583828\n",
      "parameter 8 18 0.9922195267778413 0.9615996820892234 2 49.817214060799195 6.444431155967445\n",
      "score 0.9934924955299443\n",
      "| \u001b[0m 135     \u001b[0m | \u001b[0m-0.9935  \u001b[0m | \u001b[0m 0.9922  \u001b[0m | \u001b[0m 49.82   \u001b[0m | \u001b[0m 6.444   \u001b[0m | \u001b[0m 8.153   \u001b[0m | \u001b[0m 18.18   \u001b[0m | \u001b[0m 0.9616  \u001b[0m | \u001b[0m 2.906   \u001b[0m |\n"
     ]
    },
    {
     "name": "stderr",
     "output_type": "stream",
     "text": [
      "/home/jupyter-shliu/.local/lib/python3.6/site-packages/lightgbm/engine.py:153: UserWarning: Found `early_stopping_rounds` in params. Will use it instead of argument\n",
      "  warnings.warn(\"Found `{}` in params. Will use it instead of argument\".format(alias))\n",
      "/home/jupyter-shliu/.local/lib/python3.6/site-packages/lightgbm/basic.py:1236: FutureWarning: elementwise comparison failed; returning scalar instead, but in the future will perform elementwise comparison\n",
      "  if self.categorical_feature == categorical_feature:\n",
      "/home/jupyter-shliu/.local/lib/python3.6/site-packages/lightgbm/basic.py:1242: FutureWarning: elementwise comparison failed; returning scalar instead, but in the future will perform elementwise comparison\n",
      "  elif categorical_feature == 'auto':\n",
      "/home/jupyter-shliu/.local/lib/python3.6/site-packages/lightgbm/basic.py:1247: UserWarning: categorical_feature in Dataset is overridden.\n",
      "New categorical_feature is []\n",
      "  'New categorical_feature is {}'.format(sorted(list(categorical_feature))))\n",
      "/home/jupyter-shliu/.local/lib/python3.6/site-packages/lightgbm/basic.py:285: FutureWarning: elementwise comparison failed; returning scalar instead, but in the future will perform elementwise comparison\n",
      "  if categorical_feature == 'auto':  # use cat cols from DataFrame\n"
     ]
    },
    {
     "name": "stdout",
     "output_type": "stream",
     "text": [
      "Training until validation scores don't improve for 100 rounds\n",
      "[100]\ttraining's rmse: 0.97334\ttraining's cappa: 0.607982\tvalid_1's rmse: 1.00473\tvalid_1's cappa: 0.572453\n",
      "[200]\ttraining's rmse: 0.939461\ttraining's cappa: 0.635853\tvalid_1's rmse: 0.992903\tvalid_1's cappa: 0.583298\n",
      "[300]\ttraining's rmse: 0.919307\ttraining's cappa: 0.655242\tvalid_1's rmse: 0.99126\tvalid_1's cappa: 0.58824\n",
      "[400]\ttraining's rmse: 0.903269\ttraining's cappa: 0.669824\tvalid_1's rmse: 0.989983\tvalid_1's cappa: 0.588829\n",
      "Early stopping, best iteration is:\n",
      "[305]\ttraining's rmse: 0.918387\ttraining's cappa: 0.655636\tvalid_1's rmse: 0.991044\tvalid_1's cappa: 0.589441\n",
      "parameter 10 15 0.4818797808606682 0.9590390478012616 1 36.191698883985 16.905372705578593\n",
      "score 0.991043977390697\n",
      "| \u001b[0m 136     \u001b[0m | \u001b[0m-0.991   \u001b[0m | \u001b[0m 0.4819  \u001b[0m | \u001b[0m 36.19   \u001b[0m | \u001b[0m 16.91   \u001b[0m | \u001b[0m 10.94   \u001b[0m | \u001b[0m 15.18   \u001b[0m | \u001b[0m 0.959   \u001b[0m | \u001b[0m 1.401   \u001b[0m |\n"
     ]
    },
    {
     "name": "stderr",
     "output_type": "stream",
     "text": [
      "/home/jupyter-shliu/.local/lib/python3.6/site-packages/lightgbm/engine.py:153: UserWarning: Found `early_stopping_rounds` in params. Will use it instead of argument\n",
      "  warnings.warn(\"Found `{}` in params. Will use it instead of argument\".format(alias))\n",
      "/home/jupyter-shliu/.local/lib/python3.6/site-packages/lightgbm/basic.py:1236: FutureWarning: elementwise comparison failed; returning scalar instead, but in the future will perform elementwise comparison\n",
      "  if self.categorical_feature == categorical_feature:\n",
      "/home/jupyter-shliu/.local/lib/python3.6/site-packages/lightgbm/basic.py:1242: FutureWarning: elementwise comparison failed; returning scalar instead, but in the future will perform elementwise comparison\n",
      "  elif categorical_feature == 'auto':\n",
      "/home/jupyter-shliu/.local/lib/python3.6/site-packages/lightgbm/basic.py:1247: UserWarning: categorical_feature in Dataset is overridden.\n",
      "New categorical_feature is []\n",
      "  'New categorical_feature is {}'.format(sorted(list(categorical_feature))))\n",
      "/home/jupyter-shliu/.local/lib/python3.6/site-packages/lightgbm/basic.py:285: FutureWarning: elementwise comparison failed; returning scalar instead, but in the future will perform elementwise comparison\n",
      "  if categorical_feature == 'auto':  # use cat cols from DataFrame\n"
     ]
    },
    {
     "name": "stdout",
     "output_type": "stream",
     "text": [
      "Training until validation scores don't improve for 100 rounds\n",
      "[100]\ttraining's rmse: 0.934805\ttraining's cappa: 0.645626\tvalid_1's rmse: 1.00075\tvalid_1's cappa: 0.574514\n",
      "[200]\ttraining's rmse: 0.887596\ttraining's cappa: 0.689365\tvalid_1's rmse: 0.993348\tvalid_1's cappa: 0.583884\n",
      "[300]\ttraining's rmse: 0.868478\ttraining's cappa: 0.707038\tvalid_1's rmse: 0.991902\tvalid_1's cappa: 0.589323\n",
      "Early stopping, best iteration is:\n",
      "[297]\ttraining's rmse: 0.869021\ttraining's cappa: 0.706078\tvalid_1's rmse: 0.991911\tvalid_1's cappa: 0.5904\n",
      "parameter 15 43 0.916632648666384 0.9961983045162579 1 48.43461980440775 5.789620067031165\n",
      "score 0.991911440349998\n",
      "| \u001b[0m 137     \u001b[0m | \u001b[0m-0.9919  \u001b[0m | \u001b[0m 0.9166  \u001b[0m | \u001b[0m 48.43   \u001b[0m | \u001b[0m 5.79    \u001b[0m | \u001b[0m 15.62   \u001b[0m | \u001b[0m 43.19   \u001b[0m | \u001b[0m 0.9962  \u001b[0m | \u001b[0m 1.735   \u001b[0m |\n"
     ]
    },
    {
     "name": "stderr",
     "output_type": "stream",
     "text": [
      "/home/jupyter-shliu/.local/lib/python3.6/site-packages/lightgbm/engine.py:153: UserWarning: Found `early_stopping_rounds` in params. Will use it instead of argument\n",
      "  warnings.warn(\"Found `{}` in params. Will use it instead of argument\".format(alias))\n",
      "/home/jupyter-shliu/.local/lib/python3.6/site-packages/lightgbm/basic.py:1236: FutureWarning: elementwise comparison failed; returning scalar instead, but in the future will perform elementwise comparison\n",
      "  if self.categorical_feature == categorical_feature:\n",
      "/home/jupyter-shliu/.local/lib/python3.6/site-packages/lightgbm/basic.py:1242: FutureWarning: elementwise comparison failed; returning scalar instead, but in the future will perform elementwise comparison\n",
      "  elif categorical_feature == 'auto':\n",
      "/home/jupyter-shliu/.local/lib/python3.6/site-packages/lightgbm/basic.py:1247: UserWarning: categorical_feature in Dataset is overridden.\n",
      "New categorical_feature is []\n",
      "  'New categorical_feature is {}'.format(sorted(list(categorical_feature))))\n"
     ]
    },
    {
     "name": "stdout",
     "output_type": "stream",
     "text": [
      "Training until validation scores don't improve for 100 rounds\n",
      "[100]\ttraining's rmse: 0.942307\ttraining's cappa: 0.647083\tvalid_1's rmse: 1.00373\tvalid_1's cappa: 0.58003\n",
      "[200]\ttraining's rmse: 0.899586\ttraining's cappa: 0.678572\tvalid_1's rmse: 0.993076\tvalid_1's cappa: 0.58235\n",
      "[300]\ttraining's rmse: 0.878401\ttraining's cappa: 0.697947\tvalid_1's rmse: 0.991554\tvalid_1's cappa: 0.587812\n",
      "[400]\ttraining's rmse: 0.866652\ttraining's cappa: 0.707713\tvalid_1's rmse: 0.991067\tvalid_1's cappa: 0.587856\n",
      "Early stopping, best iteration is:\n",
      "[330]\ttraining's rmse: 0.873768\ttraining's cappa: 0.701594\tvalid_1's rmse: 0.991401\tvalid_1's cappa: 0.589666\n",
      "parameter 15 71 0.4700112969764477 0.9667433185993872 2 49.82982931885359 48.575349432129755\n",
      "score 0.9914005883429066\n",
      "| \u001b[0m 138     \u001b[0m | \u001b[0m-0.9914  \u001b[0m | \u001b[0m 0.47    \u001b[0m | \u001b[0m 49.83   \u001b[0m | \u001b[0m 48.58   \u001b[0m | \u001b[0m 15.96   \u001b[0m | \u001b[0m 71.33   \u001b[0m | \u001b[0m 0.9667  \u001b[0m | \u001b[0m 2.764   \u001b[0m |\n"
     ]
    },
    {
     "name": "stderr",
     "output_type": "stream",
     "text": [
      "/home/jupyter-shliu/.local/lib/python3.6/site-packages/lightgbm/basic.py:285: FutureWarning: elementwise comparison failed; returning scalar instead, but in the future will perform elementwise comparison\n",
      "  if categorical_feature == 'auto':  # use cat cols from DataFrame\n",
      "/home/jupyter-shliu/.local/lib/python3.6/site-packages/lightgbm/engine.py:153: UserWarning: Found `early_stopping_rounds` in params. Will use it instead of argument\n",
      "  warnings.warn(\"Found `{}` in params. Will use it instead of argument\".format(alias))\n",
      "/home/jupyter-shliu/.local/lib/python3.6/site-packages/lightgbm/basic.py:1236: FutureWarning: elementwise comparison failed; returning scalar instead, but in the future will perform elementwise comparison\n",
      "  if self.categorical_feature == categorical_feature:\n",
      "/home/jupyter-shliu/.local/lib/python3.6/site-packages/lightgbm/basic.py:1242: FutureWarning: elementwise comparison failed; returning scalar instead, but in the future will perform elementwise comparison\n",
      "  elif categorical_feature == 'auto':\n",
      "/home/jupyter-shliu/.local/lib/python3.6/site-packages/lightgbm/basic.py:1247: UserWarning: categorical_feature in Dataset is overridden.\n",
      "New categorical_feature is []\n",
      "  'New categorical_feature is {}'.format(sorted(list(categorical_feature))))\n",
      "/home/jupyter-shliu/.local/lib/python3.6/site-packages/lightgbm/basic.py:285: FutureWarning: elementwise comparison failed; returning scalar instead, but in the future will perform elementwise comparison\n",
      "  if categorical_feature == 'auto':  # use cat cols from DataFrame\n"
     ]
    },
    {
     "name": "stdout",
     "output_type": "stream",
     "text": [
      "Training until validation scores don't improve for 100 rounds\n",
      "[100]\ttraining's rmse: 0.980525\ttraining's cappa: 0.602361\tvalid_1's rmse: 1.00988\tvalid_1's cappa: 0.568516\n",
      "[200]\ttraining's rmse: 0.945113\ttraining's cappa: 0.630206\tvalid_1's rmse: 0.994008\tvalid_1's cappa: 0.577899\n",
      "[300]\ttraining's rmse: 0.927273\ttraining's cappa: 0.648112\tvalid_1's rmse: 0.990978\tvalid_1's cappa: 0.583457\n",
      "[400]\ttraining's rmse: 0.915999\ttraining's cappa: 0.659156\tvalid_1's rmse: 0.98984\tvalid_1's cappa: 0.585494\n",
      "[500]\ttraining's rmse: 0.911589\ttraining's cappa: 0.664036\tvalid_1's rmse: 0.989449\tvalid_1's cappa: 0.587577\n",
      "Early stopping, best iteration is:\n",
      "[485]\ttraining's rmse: 0.912078\ttraining's cappa: 0.663679\tvalid_1's rmse: 0.989527\tvalid_1's cappa: 0.587804\n",
      "parameter 14 16 0.3895027615119582 0.9996949433748885 2 49.24019099092238 21.860554860274014\n",
      "score 0.98952721759804\n",
      "| \u001b[0m 139     \u001b[0m | \u001b[0m-0.9895  \u001b[0m | \u001b[0m 0.3895  \u001b[0m | \u001b[0m 49.24   \u001b[0m | \u001b[0m 21.86   \u001b[0m | \u001b[0m 14.54   \u001b[0m | \u001b[0m 16.39   \u001b[0m | \u001b[0m 0.9997  \u001b[0m | \u001b[0m 2.644   \u001b[0m |\n"
     ]
    },
    {
     "name": "stderr",
     "output_type": "stream",
     "text": [
      "/home/jupyter-shliu/.local/lib/python3.6/site-packages/lightgbm/engine.py:153: UserWarning: Found `early_stopping_rounds` in params. Will use it instead of argument\n",
      "  warnings.warn(\"Found `{}` in params. Will use it instead of argument\".format(alias))\n",
      "/home/jupyter-shliu/.local/lib/python3.6/site-packages/lightgbm/basic.py:1236: FutureWarning: elementwise comparison failed; returning scalar instead, but in the future will perform elementwise comparison\n",
      "  if self.categorical_feature == categorical_feature:\n",
      "/home/jupyter-shliu/.local/lib/python3.6/site-packages/lightgbm/basic.py:1242: FutureWarning: elementwise comparison failed; returning scalar instead, but in the future will perform elementwise comparison\n",
      "  elif categorical_feature == 'auto':\n",
      "/home/jupyter-shliu/.local/lib/python3.6/site-packages/lightgbm/basic.py:1247: UserWarning: categorical_feature in Dataset is overridden.\n",
      "New categorical_feature is []\n",
      "  'New categorical_feature is {}'.format(sorted(list(categorical_feature))))\n",
      "/home/jupyter-shliu/.local/lib/python3.6/site-packages/lightgbm/basic.py:285: FutureWarning: elementwise comparison failed; returning scalar instead, but in the future will perform elementwise comparison\n",
      "  if categorical_feature == 'auto':  # use cat cols from DataFrame\n"
     ]
    },
    {
     "name": "stdout",
     "output_type": "stream",
     "text": [
      "Training until validation scores don't improve for 100 rounds\n",
      "[100]\ttraining's rmse: 0.88702\ttraining's cappa: 0.695019\tvalid_1's rmse: 0.994864\tvalid_1's cappa: 0.579376\n",
      "[200]\ttraining's rmse: 0.809144\ttraining's cappa: 0.756999\tvalid_1's rmse: 0.990741\tvalid_1's cappa: 0.585987\n",
      "[300]\ttraining's rmse: 0.761633\ttraining's cappa: 0.792725\tvalid_1's rmse: 0.992501\tvalid_1's cappa: 0.58566\n",
      "Early stopping, best iteration is:\n",
      "[218]\ttraining's rmse: 0.798731\ttraining's cappa: 0.763554\tvalid_1's rmse: 0.990616\tvalid_1's cappa: 0.586687\n",
      "parameter 15 91 0.9767945785249823 0.9897066778432648 2 28.437427459830086 15.871427742630823\n",
      "score 0.9906161849430908\n",
      "| \u001b[0m 140     \u001b[0m | \u001b[0m-0.9906  \u001b[0m | \u001b[0m 0.9768  \u001b[0m | \u001b[0m 28.44   \u001b[0m | \u001b[0m 15.87   \u001b[0m | \u001b[0m 15.27   \u001b[0m | \u001b[0m 91.48   \u001b[0m | \u001b[0m 0.9897  \u001b[0m | \u001b[0m 2.828   \u001b[0m |\n"
     ]
    },
    {
     "name": "stderr",
     "output_type": "stream",
     "text": [
      "/home/jupyter-shliu/.local/lib/python3.6/site-packages/lightgbm/engine.py:153: UserWarning: Found `early_stopping_rounds` in params. Will use it instead of argument\n",
      "  warnings.warn(\"Found `{}` in params. Will use it instead of argument\".format(alias))\n",
      "/home/jupyter-shliu/.local/lib/python3.6/site-packages/lightgbm/basic.py:1236: FutureWarning: elementwise comparison failed; returning scalar instead, but in the future will perform elementwise comparison\n",
      "  if self.categorical_feature == categorical_feature:\n",
      "/home/jupyter-shliu/.local/lib/python3.6/site-packages/lightgbm/basic.py:1242: FutureWarning: elementwise comparison failed; returning scalar instead, but in the future will perform elementwise comparison\n",
      "  elif categorical_feature == 'auto':\n",
      "/home/jupyter-shliu/.local/lib/python3.6/site-packages/lightgbm/basic.py:1247: UserWarning: categorical_feature in Dataset is overridden.\n",
      "New categorical_feature is []\n",
      "  'New categorical_feature is {}'.format(sorted(list(categorical_feature))))\n",
      "/home/jupyter-shliu/.local/lib/python3.6/site-packages/lightgbm/basic.py:285: FutureWarning: elementwise comparison failed; returning scalar instead, but in the future will perform elementwise comparison\n",
      "  if categorical_feature == 'auto':  # use cat cols from DataFrame\n"
     ]
    },
    {
     "name": "stdout",
     "output_type": "stream",
     "text": [
      "Training until validation scores don't improve for 100 rounds\n",
      "[100]\ttraining's rmse: 0.865474\ttraining's cappa: 0.712486\tvalid_1's rmse: 0.994749\tvalid_1's cappa: 0.580091\n",
      "[200]\ttraining's rmse: 0.76979\ttraining's cappa: 0.788668\tvalid_1's rmse: 0.991595\tvalid_1's cappa: 0.58316\n",
      "Early stopping, best iteration is:\n",
      "[126]\ttraining's rmse: 0.836204\ttraining's cappa: 0.737395\tvalid_1's rmse: 0.992269\tvalid_1's cappa: 0.587261\n",
      "parameter 15 77 0.9795336912635715 0.9961710436677318 2 11.945694968645961 48.33223932718363\n",
      "score 0.9922692582968314\n",
      "| \u001b[0m 141     \u001b[0m | \u001b[0m-0.9923  \u001b[0m | \u001b[0m 0.9795  \u001b[0m | \u001b[0m 11.95   \u001b[0m | \u001b[0m 48.33   \u001b[0m | \u001b[0m 15.96   \u001b[0m | \u001b[0m 77.94   \u001b[0m | \u001b[0m 0.9962  \u001b[0m | \u001b[0m 2.572   \u001b[0m |\n"
     ]
    },
    {
     "name": "stderr",
     "output_type": "stream",
     "text": [
      "/home/jupyter-shliu/.local/lib/python3.6/site-packages/lightgbm/engine.py:153: UserWarning: Found `early_stopping_rounds` in params. Will use it instead of argument\n",
      "  warnings.warn(\"Found `{}` in params. Will use it instead of argument\".format(alias))\n",
      "/home/jupyter-shliu/.local/lib/python3.6/site-packages/lightgbm/basic.py:1236: FutureWarning: elementwise comparison failed; returning scalar instead, but in the future will perform elementwise comparison\n",
      "  if self.categorical_feature == categorical_feature:\n",
      "/home/jupyter-shliu/.local/lib/python3.6/site-packages/lightgbm/basic.py:1242: FutureWarning: elementwise comparison failed; returning scalar instead, but in the future will perform elementwise comparison\n",
      "  elif categorical_feature == 'auto':\n",
      "/home/jupyter-shliu/.local/lib/python3.6/site-packages/lightgbm/basic.py:1247: UserWarning: categorical_feature in Dataset is overridden.\n",
      "New categorical_feature is []\n",
      "  'New categorical_feature is {}'.format(sorted(list(categorical_feature))))\n",
      "/home/jupyter-shliu/.local/lib/python3.6/site-packages/lightgbm/basic.py:285: FutureWarning: elementwise comparison failed; returning scalar instead, but in the future will perform elementwise comparison\n",
      "  if categorical_feature == 'auto':  # use cat cols from DataFrame\n"
     ]
    },
    {
     "name": "stdout",
     "output_type": "stream",
     "text": [
      "Training until validation scores don't improve for 100 rounds\n",
      "[100]\ttraining's rmse: 0.937811\ttraining's cappa: 0.644097\tvalid_1's rmse: 0.997287\tvalid_1's cappa: 0.580221\n",
      "[200]\ttraining's rmse: 0.884999\ttraining's cappa: 0.688319\tvalid_1's rmse: 0.989209\tvalid_1's cappa: 0.584706\n",
      "[300]\ttraining's rmse: 0.848227\ttraining's cappa: 0.723117\tvalid_1's rmse: 0.988745\tvalid_1's cappa: 0.582749\n",
      "Early stopping, best iteration is:\n",
      "[222]\ttraining's rmse: 0.876244\ttraining's cappa: 0.69746\tvalid_1's rmse: 0.989018\tvalid_1's cappa: 0.588336\n",
      "parameter 6 30 0.9428486210495872 0.9728177831273475 1 16.193307509477453 49.84212704144557\n",
      "score 0.9890181222308192\n",
      "| \u001b[0m 142     \u001b[0m | \u001b[0m-0.989   \u001b[0m | \u001b[0m 0.9428  \u001b[0m | \u001b[0m 16.19   \u001b[0m | \u001b[0m 49.84   \u001b[0m | \u001b[0m 6.155   \u001b[0m | \u001b[0m 30.15   \u001b[0m | \u001b[0m 0.9728  \u001b[0m | \u001b[0m 1.213   \u001b[0m |\n"
     ]
    },
    {
     "name": "stderr",
     "output_type": "stream",
     "text": [
      "/home/jupyter-shliu/.local/lib/python3.6/site-packages/lightgbm/engine.py:153: UserWarning: Found `early_stopping_rounds` in params. Will use it instead of argument\n",
      "  warnings.warn(\"Found `{}` in params. Will use it instead of argument\".format(alias))\n",
      "/home/jupyter-shliu/.local/lib/python3.6/site-packages/lightgbm/basic.py:1236: FutureWarning: elementwise comparison failed; returning scalar instead, but in the future will perform elementwise comparison\n",
      "  if self.categorical_feature == categorical_feature:\n",
      "/home/jupyter-shliu/.local/lib/python3.6/site-packages/lightgbm/basic.py:1242: FutureWarning: elementwise comparison failed; returning scalar instead, but in the future will perform elementwise comparison\n",
      "  elif categorical_feature == 'auto':\n",
      "/home/jupyter-shliu/.local/lib/python3.6/site-packages/lightgbm/basic.py:1247: UserWarning: categorical_feature in Dataset is overridden.\n",
      "New categorical_feature is []\n",
      "  'New categorical_feature is {}'.format(sorted(list(categorical_feature))))\n",
      "/home/jupyter-shliu/.local/lib/python3.6/site-packages/lightgbm/basic.py:285: FutureWarning: elementwise comparison failed; returning scalar instead, but in the future will perform elementwise comparison\n",
      "  if categorical_feature == 'auto':  # use cat cols from DataFrame\n"
     ]
    },
    {
     "name": "stdout",
     "output_type": "stream",
     "text": [
      "Training until validation scores don't improve for 100 rounds\n",
      "[100]\ttraining's rmse: 0.977927\ttraining's cappa: 0.605497\tvalid_1's rmse: 1.01344\tvalid_1's cappa: 0.567363\n",
      "[200]\ttraining's rmse: 0.938228\ttraining's cappa: 0.63999\tvalid_1's rmse: 0.995822\tvalid_1's cappa: 0.57504\n",
      "[300]\ttraining's rmse: 0.915904\ttraining's cappa: 0.659479\tvalid_1's rmse: 0.9914\tvalid_1's cappa: 0.581134\n",
      "[400]\ttraining's rmse: 0.898646\ttraining's cappa: 0.676226\tvalid_1's rmse: 0.991209\tvalid_1's cappa: 0.58211\n",
      "Early stopping, best iteration is:\n",
      "[370]\ttraining's rmse: 0.903312\ttraining's cappa: 0.671405\tvalid_1's rmse: 0.990892\tvalid_1's cappa: 0.582445\n",
      "parameter 15 15 0.30158822495525606 0.9853878362522519 1 29.147162294706465 1.6598510551499728\n",
      "score 0.9908921661865759\n",
      "| \u001b[0m 143     \u001b[0m | \u001b[0m-0.9909  \u001b[0m | \u001b[0m 0.3016  \u001b[0m | \u001b[0m 29.15   \u001b[0m | \u001b[0m 1.66    \u001b[0m | \u001b[0m 15.11   \u001b[0m | \u001b[0m 15.92   \u001b[0m | \u001b[0m 0.9854  \u001b[0m | \u001b[0m 1.945   \u001b[0m |\n"
     ]
    },
    {
     "name": "stderr",
     "output_type": "stream",
     "text": [
      "/home/jupyter-shliu/.local/lib/python3.6/site-packages/lightgbm/engine.py:153: UserWarning: Found `early_stopping_rounds` in params. Will use it instead of argument\n",
      "  warnings.warn(\"Found `{}` in params. Will use it instead of argument\".format(alias))\n",
      "/home/jupyter-shliu/.local/lib/python3.6/site-packages/lightgbm/basic.py:1236: FutureWarning: elementwise comparison failed; returning scalar instead, but in the future will perform elementwise comparison\n",
      "  if self.categorical_feature == categorical_feature:\n",
      "/home/jupyter-shliu/.local/lib/python3.6/site-packages/lightgbm/basic.py:1242: FutureWarning: elementwise comparison failed; returning scalar instead, but in the future will perform elementwise comparison\n",
      "  elif categorical_feature == 'auto':\n",
      "/home/jupyter-shliu/.local/lib/python3.6/site-packages/lightgbm/basic.py:1247: UserWarning: categorical_feature in Dataset is overridden.\n",
      "New categorical_feature is []\n",
      "  'New categorical_feature is {}'.format(sorted(list(categorical_feature))))\n",
      "/home/jupyter-shliu/.local/lib/python3.6/site-packages/lightgbm/basic.py:285: FutureWarning: elementwise comparison failed; returning scalar instead, but in the future will perform elementwise comparison\n",
      "  if categorical_feature == 'auto':  # use cat cols from DataFrame\n"
     ]
    },
    {
     "name": "stdout",
     "output_type": "stream",
     "text": [
      "Training until validation scores don't improve for 100 rounds\n",
      "[100]\ttraining's rmse: 0.961323\ttraining's cappa: 0.619893\tvalid_1's rmse: 1.00328\tvalid_1's cappa: 0.571328\n",
      "[200]\ttraining's rmse: 0.917152\ttraining's cappa: 0.658849\tvalid_1's rmse: 0.99353\tvalid_1's cappa: 0.584388\n",
      "[300]\ttraining's rmse: 0.889087\ttraining's cappa: 0.684564\tvalid_1's rmse: 0.990965\tvalid_1's cappa: 0.582483\n",
      "Early stopping, best iteration is:\n",
      "[211]\ttraining's rmse: 0.913313\ttraining's cappa: 0.660995\tvalid_1's rmse: 0.992904\tvalid_1's cappa: 0.587344\n",
      "parameter 5 40 0.94777583479198 0.9843917639617472 2 26.600629900927913 49.9123667344103\n",
      "score 0.992903962782896\n",
      "| \u001b[0m 144     \u001b[0m | \u001b[0m-0.9929  \u001b[0m | \u001b[0m 0.9478  \u001b[0m | \u001b[0m 26.6    \u001b[0m | \u001b[0m 49.91   \u001b[0m | \u001b[0m 5.895   \u001b[0m | \u001b[0m 40.4    \u001b[0m | \u001b[0m 0.9844  \u001b[0m | \u001b[0m 2.422   \u001b[0m |\n"
     ]
    },
    {
     "name": "stderr",
     "output_type": "stream",
     "text": [
      "/home/jupyter-shliu/.local/lib/python3.6/site-packages/lightgbm/engine.py:153: UserWarning: Found `early_stopping_rounds` in params. Will use it instead of argument\n",
      "  warnings.warn(\"Found `{}` in params. Will use it instead of argument\".format(alias))\n",
      "/home/jupyter-shliu/.local/lib/python3.6/site-packages/lightgbm/basic.py:1236: FutureWarning: elementwise comparison failed; returning scalar instead, but in the future will perform elementwise comparison\n",
      "  if self.categorical_feature == categorical_feature:\n",
      "/home/jupyter-shliu/.local/lib/python3.6/site-packages/lightgbm/basic.py:1242: FutureWarning: elementwise comparison failed; returning scalar instead, but in the future will perform elementwise comparison\n",
      "  elif categorical_feature == 'auto':\n",
      "/home/jupyter-shliu/.local/lib/python3.6/site-packages/lightgbm/basic.py:1247: UserWarning: categorical_feature in Dataset is overridden.\n",
      "New categorical_feature is []\n",
      "  'New categorical_feature is {}'.format(sorted(list(categorical_feature))))\n",
      "/home/jupyter-shliu/.local/lib/python3.6/site-packages/lightgbm/basic.py:285: FutureWarning: elementwise comparison failed; returning scalar instead, but in the future will perform elementwise comparison\n",
      "  if categorical_feature == 'auto':  # use cat cols from DataFrame\n"
     ]
    },
    {
     "name": "stdout",
     "output_type": "stream",
     "text": [
      "Training until validation scores don't improve for 100 rounds\n",
      "[100]\ttraining's rmse: 0.883444\ttraining's cappa: 0.691536\tvalid_1's rmse: 0.992181\tvalid_1's cappa: 0.579546\n",
      "[200]\ttraining's rmse: 0.803138\ttraining's cappa: 0.760219\tvalid_1's rmse: 0.991761\tvalid_1's cappa: 0.580514\n",
      "Early stopping, best iteration is:\n",
      "[129]\ttraining's rmse: 0.856816\ttraining's cappa: 0.715663\tvalid_1's rmse: 0.99067\tvalid_1's cappa: 0.579317\n",
      "parameter 15 31 0.9459938716314789 0.9394753344820006 2 1.7156082928614564 1.0943402510594413\n",
      "score 0.9906695833145068\n",
      "| \u001b[0m 145     \u001b[0m | \u001b[0m-0.9907  \u001b[0m | \u001b[0m 0.946   \u001b[0m | \u001b[0m 1.716   \u001b[0m | \u001b[0m 1.094   \u001b[0m | \u001b[0m 15.99   \u001b[0m | \u001b[0m 31.8    \u001b[0m | \u001b[0m 0.9395  \u001b[0m | \u001b[0m 2.706   \u001b[0m |\n"
     ]
    },
    {
     "name": "stderr",
     "output_type": "stream",
     "text": [
      "/home/jupyter-shliu/.local/lib/python3.6/site-packages/lightgbm/engine.py:153: UserWarning: Found `early_stopping_rounds` in params. Will use it instead of argument\n",
      "  warnings.warn(\"Found `{}` in params. Will use it instead of argument\".format(alias))\n",
      "/home/jupyter-shliu/.local/lib/python3.6/site-packages/lightgbm/basic.py:1236: FutureWarning: elementwise comparison failed; returning scalar instead, but in the future will perform elementwise comparison\n",
      "  if self.categorical_feature == categorical_feature:\n",
      "/home/jupyter-shliu/.local/lib/python3.6/site-packages/lightgbm/basic.py:1242: FutureWarning: elementwise comparison failed; returning scalar instead, but in the future will perform elementwise comparison\n",
      "  elif categorical_feature == 'auto':\n",
      "/home/jupyter-shliu/.local/lib/python3.6/site-packages/lightgbm/basic.py:1247: UserWarning: categorical_feature in Dataset is overridden.\n",
      "New categorical_feature is []\n",
      "  'New categorical_feature is {}'.format(sorted(list(categorical_feature))))\n",
      "/home/jupyter-shliu/.local/lib/python3.6/site-packages/lightgbm/basic.py:285: FutureWarning: elementwise comparison failed; returning scalar instead, but in the future will perform elementwise comparison\n",
      "  if categorical_feature == 'auto':  # use cat cols from DataFrame\n"
     ]
    },
    {
     "name": "stdout",
     "output_type": "stream",
     "text": [
      "Training until validation scores don't improve for 100 rounds\n",
      "[100]\ttraining's rmse: 0.896881\ttraining's cappa: 0.682017\tvalid_1's rmse: 0.992517\tvalid_1's cappa: 0.579045\n",
      "[200]\ttraining's rmse: 0.824341\ttraining's cappa: 0.744003\tvalid_1's rmse: 0.989528\tvalid_1's cappa: 0.582958\n",
      "Early stopping, best iteration is:\n",
      "[146]\ttraining's rmse: 0.859798\ttraining's cappa: 0.711556\tvalid_1's rmse: 0.988939\tvalid_1's cappa: 0.586023\n",
      "parameter 14 42 0.9741989141917606 0.9664160505570367 1 11.782166393288362 26.78395828983025\n",
      "score 0.9889385900396364\n",
      "| \u001b[0m 146     \u001b[0m | \u001b[0m-0.9889  \u001b[0m | \u001b[0m 0.9742  \u001b[0m | \u001b[0m 11.78   \u001b[0m | \u001b[0m 26.78   \u001b[0m | \u001b[0m 14.87   \u001b[0m | \u001b[0m 42.4    \u001b[0m | \u001b[0m 0.9664  \u001b[0m | \u001b[0m 1.2     \u001b[0m |\n"
     ]
    },
    {
     "name": "stderr",
     "output_type": "stream",
     "text": [
      "/home/jupyter-shliu/.local/lib/python3.6/site-packages/lightgbm/engine.py:153: UserWarning: Found `early_stopping_rounds` in params. Will use it instead of argument\n",
      "  warnings.warn(\"Found `{}` in params. Will use it instead of argument\".format(alias))\n",
      "/home/jupyter-shliu/.local/lib/python3.6/site-packages/lightgbm/basic.py:1236: FutureWarning: elementwise comparison failed; returning scalar instead, but in the future will perform elementwise comparison\n",
      "  if self.categorical_feature == categorical_feature:\n",
      "/home/jupyter-shliu/.local/lib/python3.6/site-packages/lightgbm/basic.py:1242: FutureWarning: elementwise comparison failed; returning scalar instead, but in the future will perform elementwise comparison\n",
      "  elif categorical_feature == 'auto':\n",
      "/home/jupyter-shliu/.local/lib/python3.6/site-packages/lightgbm/basic.py:1247: UserWarning: categorical_feature in Dataset is overridden.\n",
      "New categorical_feature is []\n",
      "  'New categorical_feature is {}'.format(sorted(list(categorical_feature))))\n",
      "/home/jupyter-shliu/.local/lib/python3.6/site-packages/lightgbm/basic.py:285: FutureWarning: elementwise comparison failed; returning scalar instead, but in the future will perform elementwise comparison\n",
      "  if categorical_feature == 'auto':  # use cat cols from DataFrame\n"
     ]
    },
    {
     "name": "stdout",
     "output_type": "stream",
     "text": [
      "Training until validation scores don't improve for 100 rounds\n",
      "[100]\ttraining's rmse: 0.943378\ttraining's cappa: 0.640604\tvalid_1's rmse: 1.00564\tvalid_1's cappa: 0.570946\n",
      "[200]\ttraining's rmse: 0.889616\ttraining's cappa: 0.685232\tvalid_1's rmse: 0.992788\tvalid_1's cappa: 0.5796\n",
      "[300]\ttraining's rmse: 0.853688\ttraining's cappa: 0.718633\tvalid_1's rmse: 0.99002\tvalid_1's cappa: 0.58163\n",
      "[400]\ttraining's rmse: 0.825117\ttraining's cappa: 0.744919\tvalid_1's rmse: 0.990446\tvalid_1's cappa: 0.582459\n",
      "Early stopping, best iteration is:\n",
      "[305]\ttraining's rmse: 0.852083\ttraining's cappa: 0.720024\tvalid_1's rmse: 0.989829\tvalid_1's cappa: 0.582679\n",
      "parameter 15 28 0.35824080578862394 0.9986676966687418 2 17.180790402766913 37.25080519109373\n",
      "score 0.98982938289456\n",
      "| \u001b[0m 147     \u001b[0m | \u001b[0m-0.9898  \u001b[0m | \u001b[0m 0.3582  \u001b[0m | \u001b[0m 17.18   \u001b[0m | \u001b[0m 37.25   \u001b[0m | \u001b[0m 15.72   \u001b[0m | \u001b[0m 28.08   \u001b[0m | \u001b[0m 0.9987  \u001b[0m | \u001b[0m 2.642   \u001b[0m |\n"
     ]
    },
    {
     "name": "stderr",
     "output_type": "stream",
     "text": [
      "/home/jupyter-shliu/.local/lib/python3.6/site-packages/lightgbm/engine.py:153: UserWarning: Found `early_stopping_rounds` in params. Will use it instead of argument\n",
      "  warnings.warn(\"Found `{}` in params. Will use it instead of argument\".format(alias))\n",
      "/home/jupyter-shliu/.local/lib/python3.6/site-packages/lightgbm/basic.py:1236: FutureWarning: elementwise comparison failed; returning scalar instead, but in the future will perform elementwise comparison\n",
      "  if self.categorical_feature == categorical_feature:\n",
      "/home/jupyter-shliu/.local/lib/python3.6/site-packages/lightgbm/basic.py:1242: FutureWarning: elementwise comparison failed; returning scalar instead, but in the future will perform elementwise comparison\n",
      "  elif categorical_feature == 'auto':\n",
      "/home/jupyter-shliu/.local/lib/python3.6/site-packages/lightgbm/basic.py:1247: UserWarning: categorical_feature in Dataset is overridden.\n",
      "New categorical_feature is []\n",
      "  'New categorical_feature is {}'.format(sorted(list(categorical_feature))))\n",
      "/home/jupyter-shliu/.local/lib/python3.6/site-packages/lightgbm/basic.py:285: FutureWarning: elementwise comparison failed; returning scalar instead, but in the future will perform elementwise comparison\n",
      "  if categorical_feature == 'auto':  # use cat cols from DataFrame\n"
     ]
    },
    {
     "name": "stdout",
     "output_type": "stream",
     "text": [
      "Training until validation scores don't improve for 100 rounds\n",
      "[100]\ttraining's rmse: 0.868542\ttraining's cappa: 0.710403\tvalid_1's rmse: 0.9949\tvalid_1's cappa: 0.580088\n",
      "[200]\ttraining's rmse: 0.790993\ttraining's cappa: 0.772083\tvalid_1's rmse: 0.991141\tvalid_1's cappa: 0.580996\n",
      "Early stopping, best iteration is:\n",
      "[151]\ttraining's rmse: 0.823622\ttraining's cappa: 0.746076\tvalid_1's rmse: 0.990958\tvalid_1's cappa: 0.581832\n",
      "parameter 7 98 0.8327209144956589 0.9827848641270032 2 0.11120407781231632 47.45214771628783\n",
      "score 0.9909575861833694\n",
      "| \u001b[0m 148     \u001b[0m | \u001b[0m-0.991   \u001b[0m | \u001b[0m 0.8327  \u001b[0m | \u001b[0m 0.1112  \u001b[0m | \u001b[0m 47.45   \u001b[0m | \u001b[0m 7.706   \u001b[0m | \u001b[0m 98.43   \u001b[0m | \u001b[0m 0.9828  \u001b[0m | \u001b[0m 2.839   \u001b[0m |\n"
     ]
    },
    {
     "name": "stderr",
     "output_type": "stream",
     "text": [
      "/home/jupyter-shliu/.local/lib/python3.6/site-packages/lightgbm/engine.py:153: UserWarning: Found `early_stopping_rounds` in params. Will use it instead of argument\n",
      "  warnings.warn(\"Found `{}` in params. Will use it instead of argument\".format(alias))\n",
      "/home/jupyter-shliu/.local/lib/python3.6/site-packages/lightgbm/basic.py:1236: FutureWarning: elementwise comparison failed; returning scalar instead, but in the future will perform elementwise comparison\n",
      "  if self.categorical_feature == categorical_feature:\n",
      "/home/jupyter-shliu/.local/lib/python3.6/site-packages/lightgbm/basic.py:1242: FutureWarning: elementwise comparison failed; returning scalar instead, but in the future will perform elementwise comparison\n",
      "  elif categorical_feature == 'auto':\n",
      "/home/jupyter-shliu/.local/lib/python3.6/site-packages/lightgbm/basic.py:1247: UserWarning: categorical_feature in Dataset is overridden.\n",
      "New categorical_feature is []\n",
      "  'New categorical_feature is {}'.format(sorted(list(categorical_feature))))\n",
      "/home/jupyter-shliu/.local/lib/python3.6/site-packages/lightgbm/basic.py:285: FutureWarning: elementwise comparison failed; returning scalar instead, but in the future will perform elementwise comparison\n",
      "  if categorical_feature == 'auto':  # use cat cols from DataFrame\n"
     ]
    },
    {
     "name": "stdout",
     "output_type": "stream",
     "text": [
      "Training until validation scores don't improve for 100 rounds\n",
      "[100]\ttraining's rmse: 0.854016\ttraining's cappa: 0.72302\tvalid_1's rmse: 0.993291\tvalid_1's cappa: 0.580282\n",
      "[200]\ttraining's rmse: 0.759667\ttraining's cappa: 0.795011\tvalid_1's rmse: 0.989788\tvalid_1's cappa: 0.578154\n",
      "Early stopping, best iteration is:\n",
      "[120]\ttraining's rmse: 0.831901\ttraining's cappa: 0.739039\tvalid_1's rmse: 0.99128\tvalid_1's cappa: 0.582351\n",
      "parameter 9 88 0.8686524735115237 0.9932875655035212 2 11.269388309104922 27.650357396180826\n",
      "score 0.9912800186724745\n",
      "| \u001b[0m 149     \u001b[0m | \u001b[0m-0.9913  \u001b[0m | \u001b[0m 0.8687  \u001b[0m | \u001b[0m 11.27   \u001b[0m | \u001b[0m 27.65   \u001b[0m | \u001b[0m 9.487   \u001b[0m | \u001b[0m 88.21   \u001b[0m | \u001b[0m 0.9933  \u001b[0m | \u001b[0m 2.955   \u001b[0m |\n"
     ]
    },
    {
     "name": "stderr",
     "output_type": "stream",
     "text": [
      "/home/jupyter-shliu/.local/lib/python3.6/site-packages/lightgbm/engine.py:153: UserWarning: Found `early_stopping_rounds` in params. Will use it instead of argument\n",
      "  warnings.warn(\"Found `{}` in params. Will use it instead of argument\".format(alias))\n",
      "/home/jupyter-shliu/.local/lib/python3.6/site-packages/lightgbm/basic.py:1236: FutureWarning: elementwise comparison failed; returning scalar instead, but in the future will perform elementwise comparison\n",
      "  if self.categorical_feature == categorical_feature:\n",
      "/home/jupyter-shliu/.local/lib/python3.6/site-packages/lightgbm/basic.py:1242: FutureWarning: elementwise comparison failed; returning scalar instead, but in the future will perform elementwise comparison\n",
      "  elif categorical_feature == 'auto':\n",
      "/home/jupyter-shliu/.local/lib/python3.6/site-packages/lightgbm/basic.py:1247: UserWarning: categorical_feature in Dataset is overridden.\n",
      "New categorical_feature is []\n",
      "  'New categorical_feature is {}'.format(sorted(list(categorical_feature))))\n",
      "/home/jupyter-shliu/.local/lib/python3.6/site-packages/lightgbm/basic.py:285: FutureWarning: elementwise comparison failed; returning scalar instead, but in the future will perform elementwise comparison\n",
      "  if categorical_feature == 'auto':  # use cat cols from DataFrame\n"
     ]
    },
    {
     "name": "stdout",
     "output_type": "stream",
     "text": [
      "Training until validation scores don't improve for 100 rounds\n",
      "[100]\ttraining's rmse: 0.975279\ttraining's cappa: 0.601222\tvalid_1's rmse: 1.00564\tvalid_1's cappa: 0.570018\n",
      "[200]\ttraining's rmse: 0.940276\ttraining's cappa: 0.636808\tvalid_1's rmse: 0.993554\tvalid_1's cappa: 0.578835\n",
      "[300]\ttraining's rmse: 0.922593\ttraining's cappa: 0.651428\tvalid_1's rmse: 0.991077\tvalid_1's cappa: 0.580805\n",
      "Early stopping, best iteration is:\n",
      "[233]\ttraining's rmse: 0.933251\ttraining's cappa: 0.644084\tvalid_1's rmse: 0.992579\tvalid_1's cappa: 0.582594\n",
      "parameter 5 67 0.6995970778574259 0.9660661489627638 2 49.2408455392949 49.37530848238677\n",
      "score 0.9925791812899022\n",
      "| \u001b[0m 150     \u001b[0m | \u001b[0m-0.9926  \u001b[0m | \u001b[0m 0.6996  \u001b[0m | \u001b[0m 49.24   \u001b[0m | \u001b[0m 49.38   \u001b[0m | \u001b[0m 5.461   \u001b[0m | \u001b[0m 67.29   \u001b[0m | \u001b[0m 0.9661  \u001b[0m | \u001b[0m 2.036   \u001b[0m |\n"
     ]
    },
    {
     "name": "stderr",
     "output_type": "stream",
     "text": [
      "/home/jupyter-shliu/.local/lib/python3.6/site-packages/lightgbm/engine.py:153: UserWarning: Found `early_stopping_rounds` in params. Will use it instead of argument\n",
      "  warnings.warn(\"Found `{}` in params. Will use it instead of argument\".format(alias))\n",
      "/home/jupyter-shliu/.local/lib/python3.6/site-packages/lightgbm/basic.py:1236: FutureWarning: elementwise comparison failed; returning scalar instead, but in the future will perform elementwise comparison\n",
      "  if self.categorical_feature == categorical_feature:\n",
      "/home/jupyter-shliu/.local/lib/python3.6/site-packages/lightgbm/basic.py:1242: FutureWarning: elementwise comparison failed; returning scalar instead, but in the future will perform elementwise comparison\n",
      "  elif categorical_feature == 'auto':\n",
      "/home/jupyter-shliu/.local/lib/python3.6/site-packages/lightgbm/basic.py:1247: UserWarning: categorical_feature in Dataset is overridden.\n",
      "New categorical_feature is []\n",
      "  'New categorical_feature is {}'.format(sorted(list(categorical_feature))))\n",
      "/home/jupyter-shliu/.local/lib/python3.6/site-packages/lightgbm/basic.py:285: FutureWarning: elementwise comparison failed; returning scalar instead, but in the future will perform elementwise comparison\n",
      "  if categorical_feature == 'auto':  # use cat cols from DataFrame\n"
     ]
    },
    {
     "name": "stdout",
     "output_type": "stream",
     "text": [
      "Training until validation scores don't improve for 100 rounds\n",
      "[100]\ttraining's rmse: 0.940698\ttraining's cappa: 0.639809\tvalid_1's rmse: 0.995698\tvalid_1's cappa: 0.57704\n",
      "[200]\ttraining's rmse: 0.888563\ttraining's cappa: 0.687683\tvalid_1's rmse: 0.988138\tvalid_1's cappa: 0.590292\n",
      "[300]\ttraining's rmse: 0.852333\ttraining's cappa: 0.721272\tvalid_1's rmse: 0.987894\tvalid_1's cappa: 0.585092\n",
      "Early stopping, best iteration is:\n",
      "[202]\ttraining's rmse: 0.887706\ttraining's cappa: 0.688602\tvalid_1's rmse: 0.988213\tvalid_1's cappa: 0.59057\n",
      "parameter 5 99 0.814179412112989 0.9300951218598019 2 14.667244262716233 6.904508072541433\n",
      "score 0.9882134479515648\n",
      "| \u001b[0m 151     \u001b[0m | \u001b[0m-0.9882  \u001b[0m | \u001b[0m 0.8142  \u001b[0m | \u001b[0m 14.67   \u001b[0m | \u001b[0m 6.905   \u001b[0m | \u001b[0m 5.133   \u001b[0m | \u001b[0m 99.66   \u001b[0m | \u001b[0m 0.9301  \u001b[0m | \u001b[0m 2.937   \u001b[0m |\n"
     ]
    },
    {
     "name": "stderr",
     "output_type": "stream",
     "text": [
      "/home/jupyter-shliu/.local/lib/python3.6/site-packages/lightgbm/engine.py:153: UserWarning: Found `early_stopping_rounds` in params. Will use it instead of argument\n",
      "  warnings.warn(\"Found `{}` in params. Will use it instead of argument\".format(alias))\n",
      "/home/jupyter-shliu/.local/lib/python3.6/site-packages/lightgbm/basic.py:1236: FutureWarning: elementwise comparison failed; returning scalar instead, but in the future will perform elementwise comparison\n",
      "  if self.categorical_feature == categorical_feature:\n",
      "/home/jupyter-shliu/.local/lib/python3.6/site-packages/lightgbm/basic.py:1242: FutureWarning: elementwise comparison failed; returning scalar instead, but in the future will perform elementwise comparison\n",
      "  elif categorical_feature == 'auto':\n",
      "/home/jupyter-shliu/.local/lib/python3.6/site-packages/lightgbm/basic.py:1247: UserWarning: categorical_feature in Dataset is overridden.\n",
      "New categorical_feature is []\n",
      "  'New categorical_feature is {}'.format(sorted(list(categorical_feature))))\n",
      "/home/jupyter-shliu/.local/lib/python3.6/site-packages/lightgbm/basic.py:285: FutureWarning: elementwise comparison failed; returning scalar instead, but in the future will perform elementwise comparison\n",
      "  if categorical_feature == 'auto':  # use cat cols from DataFrame\n"
     ]
    },
    {
     "name": "stdout",
     "output_type": "stream",
     "text": [
      "Training until validation scores don't improve for 100 rounds\n",
      "[100]\ttraining's rmse: 0.813514\ttraining's cappa: 0.755854\tvalid_1's rmse: 0.99198\tvalid_1's cappa: 0.580794\n",
      "[200]\ttraining's rmse: 0.702931\ttraining's cappa: 0.829929\tvalid_1's rmse: 0.993918\tvalid_1's cappa: 0.57757\n",
      "Early stopping, best iteration is:\n",
      "[129]\ttraining's rmse: 0.776052\ttraining's cappa: 0.783656\tvalid_1's rmse: 0.991031\tvalid_1's cappa: 0.584877\n",
      "parameter 15 60 0.9860176677272423 0.9545388157660817 1 1.1936320644082032 10.97517737316432\n",
      "score 0.9910314243923053\n",
      "| \u001b[0m 152     \u001b[0m | \u001b[0m-0.991   \u001b[0m | \u001b[0m 0.986   \u001b[0m | \u001b[0m 1.194   \u001b[0m | \u001b[0m 10.98   \u001b[0m | \u001b[0m 15.86   \u001b[0m | \u001b[0m 60.84   \u001b[0m | \u001b[0m 0.9545  \u001b[0m | \u001b[0m 1.286   \u001b[0m |\n"
     ]
    },
    {
     "name": "stderr",
     "output_type": "stream",
     "text": [
      "/home/jupyter-shliu/.local/lib/python3.6/site-packages/lightgbm/engine.py:153: UserWarning: Found `early_stopping_rounds` in params. Will use it instead of argument\n",
      "  warnings.warn(\"Found `{}` in params. Will use it instead of argument\".format(alias))\n",
      "/home/jupyter-shliu/.local/lib/python3.6/site-packages/lightgbm/basic.py:1236: FutureWarning: elementwise comparison failed; returning scalar instead, but in the future will perform elementwise comparison\n",
      "  if self.categorical_feature == categorical_feature:\n",
      "/home/jupyter-shliu/.local/lib/python3.6/site-packages/lightgbm/basic.py:1242: FutureWarning: elementwise comparison failed; returning scalar instead, but in the future will perform elementwise comparison\n",
      "  elif categorical_feature == 'auto':\n",
      "/home/jupyter-shliu/.local/lib/python3.6/site-packages/lightgbm/basic.py:1247: UserWarning: categorical_feature in Dataset is overridden.\n",
      "New categorical_feature is []\n",
      "  'New categorical_feature is {}'.format(sorted(list(categorical_feature))))\n",
      "/home/jupyter-shliu/.local/lib/python3.6/site-packages/lightgbm/basic.py:285: FutureWarning: elementwise comparison failed; returning scalar instead, but in the future will perform elementwise comparison\n",
      "  if categorical_feature == 'auto':  # use cat cols from DataFrame\n"
     ]
    },
    {
     "name": "stdout",
     "output_type": "stream",
     "text": [
      "Training until validation scores don't improve for 100 rounds\n",
      "[100]\ttraining's rmse: 0.938051\ttraining's cappa: 0.645027\tvalid_1's rmse: 0.998697\tvalid_1's cappa: 0.577856\n",
      "[200]\ttraining's rmse: 0.886658\ttraining's cappa: 0.690157\tvalid_1's rmse: 0.990798\tvalid_1's cappa: 0.585587\n",
      "[300]\ttraining's rmse: 0.853472\ttraining's cappa: 0.72027\tvalid_1's rmse: 0.988787\tvalid_1's cappa: 0.587735\n",
      "Early stopping, best iteration is:\n",
      "[275]\ttraining's rmse: 0.860601\ttraining's cappa: 0.712095\tvalid_1's rmse: 0.988733\tvalid_1's cappa: 0.589245\n",
      "parameter 6 99 0.9385610545827665 0.9510545576491947 2 28.441837336665717 13.110700884656897\n",
      "score 0.9887327142246819\n",
      "| \u001b[0m 153     \u001b[0m | \u001b[0m-0.9887  \u001b[0m | \u001b[0m 0.9386  \u001b[0m | \u001b[0m 28.44   \u001b[0m | \u001b[0m 13.11   \u001b[0m | \u001b[0m 6.209   \u001b[0m | \u001b[0m 99.89   \u001b[0m | \u001b[0m 0.9511  \u001b[0m | \u001b[0m 2.96    \u001b[0m |\n"
     ]
    },
    {
     "name": "stderr",
     "output_type": "stream",
     "text": [
      "/home/jupyter-shliu/.local/lib/python3.6/site-packages/lightgbm/engine.py:153: UserWarning: Found `early_stopping_rounds` in params. Will use it instead of argument\n",
      "  warnings.warn(\"Found `{}` in params. Will use it instead of argument\".format(alias))\n",
      "/home/jupyter-shliu/.local/lib/python3.6/site-packages/lightgbm/basic.py:1236: FutureWarning: elementwise comparison failed; returning scalar instead, but in the future will perform elementwise comparison\n",
      "  if self.categorical_feature == categorical_feature:\n",
      "/home/jupyter-shliu/.local/lib/python3.6/site-packages/lightgbm/basic.py:1242: FutureWarning: elementwise comparison failed; returning scalar instead, but in the future will perform elementwise comparison\n",
      "  elif categorical_feature == 'auto':\n",
      "/home/jupyter-shliu/.local/lib/python3.6/site-packages/lightgbm/basic.py:1247: UserWarning: categorical_feature in Dataset is overridden.\n",
      "New categorical_feature is []\n",
      "  'New categorical_feature is {}'.format(sorted(list(categorical_feature))))\n"
     ]
    },
    {
     "name": "stdout",
     "output_type": "stream",
     "text": [
      "Training until validation scores don't improve for 100 rounds\n",
      "[100]\ttraining's rmse: 0.957082\ttraining's cappa: 0.625359\tvalid_1's rmse: 0.99984\tvalid_1's cappa: 0.573691\n",
      "[200]\ttraining's rmse: 0.914452\ttraining's cappa: 0.659351\tvalid_1's rmse: 0.989913\tvalid_1's cappa: 0.580004\n",
      "Early stopping, best iteration is:\n",
      "[128]\ttraining's rmse: 0.941936\ttraining's cappa: 0.636675\tvalid_1's rmse: 0.993513\tvalid_1's cappa: 0.582431\n",
      "parameter 6 18 0.482225830122499 0.9801381289099256 1 10.181036371616521 49.81890057202101\n",
      "score 0.9935133775392518\n",
      "| \u001b[0m 154     \u001b[0m | \u001b[0m-0.9935  \u001b[0m | \u001b[0m 0.4822  \u001b[0m | \u001b[0m 10.18   \u001b[0m | \u001b[0m 49.82   \u001b[0m | \u001b[0m 6.398   \u001b[0m | \u001b[0m 18.2    \u001b[0m | \u001b[0m 0.9801  \u001b[0m | \u001b[0m 1.2     \u001b[0m |\n"
     ]
    },
    {
     "name": "stderr",
     "output_type": "stream",
     "text": [
      "/home/jupyter-shliu/.local/lib/python3.6/site-packages/lightgbm/basic.py:285: FutureWarning: elementwise comparison failed; returning scalar instead, but in the future will perform elementwise comparison\n",
      "  if categorical_feature == 'auto':  # use cat cols from DataFrame\n",
      "/home/jupyter-shliu/.local/lib/python3.6/site-packages/lightgbm/engine.py:153: UserWarning: Found `early_stopping_rounds` in params. Will use it instead of argument\n",
      "  warnings.warn(\"Found `{}` in params. Will use it instead of argument\".format(alias))\n",
      "/home/jupyter-shliu/.local/lib/python3.6/site-packages/lightgbm/basic.py:1236: FutureWarning: elementwise comparison failed; returning scalar instead, but in the future will perform elementwise comparison\n",
      "  if self.categorical_feature == categorical_feature:\n",
      "/home/jupyter-shliu/.local/lib/python3.6/site-packages/lightgbm/basic.py:1242: FutureWarning: elementwise comparison failed; returning scalar instead, but in the future will perform elementwise comparison\n",
      "  elif categorical_feature == 'auto':\n",
      "/home/jupyter-shliu/.local/lib/python3.6/site-packages/lightgbm/basic.py:1247: UserWarning: categorical_feature in Dataset is overridden.\n",
      "New categorical_feature is []\n",
      "  'New categorical_feature is {}'.format(sorted(list(categorical_feature))))\n",
      "/home/jupyter-shliu/.local/lib/python3.6/site-packages/lightgbm/basic.py:285: FutureWarning: elementwise comparison failed; returning scalar instead, but in the future will perform elementwise comparison\n",
      "  if categorical_feature == 'auto':  # use cat cols from DataFrame\n"
     ]
    },
    {
     "name": "stdout",
     "output_type": "stream",
     "text": [
      "Training until validation scores don't improve for 100 rounds\n",
      "[100]\ttraining's rmse: 0.910545\ttraining's cappa: 0.668327\tvalid_1's rmse: 0.992\tvalid_1's cappa: 0.583888\n",
      "[200]\ttraining's rmse: 0.84538\ttraining's cappa: 0.726243\tvalid_1's rmse: 0.989613\tvalid_1's cappa: 0.582463\n",
      "Early stopping, best iteration is:\n",
      "[176]\ttraining's rmse: 0.858243\ttraining's cappa: 0.714852\tvalid_1's rmse: 0.989005\tvalid_1's cappa: 0.584522\n",
      "parameter 12 27 0.9727632857258428 0.9426018953805377 2 0.7579991342414306 25.792767219318765\n",
      "score 0.9890051573067196\n",
      "| \u001b[0m 155     \u001b[0m | \u001b[0m-0.989   \u001b[0m | \u001b[0m 0.9728  \u001b[0m | \u001b[0m 0.758   \u001b[0m | \u001b[0m 25.79   \u001b[0m | \u001b[0m 12.48   \u001b[0m | \u001b[0m 27.23   \u001b[0m | \u001b[0m 0.9426  \u001b[0m | \u001b[0m 2.629   \u001b[0m |\n"
     ]
    },
    {
     "name": "stderr",
     "output_type": "stream",
     "text": [
      "/home/jupyter-shliu/.local/lib/python3.6/site-packages/lightgbm/engine.py:153: UserWarning: Found `early_stopping_rounds` in params. Will use it instead of argument\n",
      "  warnings.warn(\"Found `{}` in params. Will use it instead of argument\".format(alias))\n",
      "/home/jupyter-shliu/.local/lib/python3.6/site-packages/lightgbm/basic.py:1236: FutureWarning: elementwise comparison failed; returning scalar instead, but in the future will perform elementwise comparison\n",
      "  if self.categorical_feature == categorical_feature:\n",
      "/home/jupyter-shliu/.local/lib/python3.6/site-packages/lightgbm/basic.py:1242: FutureWarning: elementwise comparison failed; returning scalar instead, but in the future will perform elementwise comparison\n",
      "  elif categorical_feature == 'auto':\n",
      "/home/jupyter-shliu/.local/lib/python3.6/site-packages/lightgbm/basic.py:1247: UserWarning: categorical_feature in Dataset is overridden.\n",
      "New categorical_feature is []\n",
      "  'New categorical_feature is {}'.format(sorted(list(categorical_feature))))\n",
      "/home/jupyter-shliu/.local/lib/python3.6/site-packages/lightgbm/basic.py:285: FutureWarning: elementwise comparison failed; returning scalar instead, but in the future will perform elementwise comparison\n",
      "  if categorical_feature == 'auto':  # use cat cols from DataFrame\n"
     ]
    },
    {
     "name": "stdout",
     "output_type": "stream",
     "text": [
      "Training until validation scores don't improve for 100 rounds\n",
      "[100]\ttraining's rmse: 0.953025\ttraining's cappa: 0.626795\tvalid_1's rmse: 1.00112\tvalid_1's cappa: 0.578134\n",
      "[200]\ttraining's rmse: 0.906002\ttraining's cappa: 0.670418\tvalid_1's rmse: 0.992318\tvalid_1's cappa: 0.588695\n",
      "[300]\ttraining's rmse: 0.874832\ttraining's cappa: 0.697692\tvalid_1's rmse: 0.990904\tvalid_1's cappa: 0.584318\n",
      "Early stopping, best iteration is:\n",
      "[207]\ttraining's rmse: 0.903349\ttraining's cappa: 0.673519\tvalid_1's rmse: 0.992133\tvalid_1's cappa: 0.589195\n",
      "parameter 5 48 0.9662037356160524 0.984645008027051 2 22.540141986512616 17.32432344179357\n",
      "score 0.99213297787046\n",
      "| \u001b[0m 156     \u001b[0m | \u001b[0m-0.9921  \u001b[0m | \u001b[0m 0.9662  \u001b[0m | \u001b[0m 22.54   \u001b[0m | \u001b[0m 17.32   \u001b[0m | \u001b[0m 5.934   \u001b[0m | \u001b[0m 48.04   \u001b[0m | \u001b[0m 0.9846  \u001b[0m | \u001b[0m 2.607   \u001b[0m |\n"
     ]
    },
    {
     "name": "stderr",
     "output_type": "stream",
     "text": [
      "/home/jupyter-shliu/.local/lib/python3.6/site-packages/lightgbm/engine.py:153: UserWarning: Found `early_stopping_rounds` in params. Will use it instead of argument\n",
      "  warnings.warn(\"Found `{}` in params. Will use it instead of argument\".format(alias))\n",
      "/home/jupyter-shliu/.local/lib/python3.6/site-packages/lightgbm/basic.py:1236: FutureWarning: elementwise comparison failed; returning scalar instead, but in the future will perform elementwise comparison\n",
      "  if self.categorical_feature == categorical_feature:\n",
      "/home/jupyter-shliu/.local/lib/python3.6/site-packages/lightgbm/basic.py:1242: FutureWarning: elementwise comparison failed; returning scalar instead, but in the future will perform elementwise comparison\n",
      "  elif categorical_feature == 'auto':\n",
      "/home/jupyter-shliu/.local/lib/python3.6/site-packages/lightgbm/basic.py:1247: UserWarning: categorical_feature in Dataset is overridden.\n",
      "New categorical_feature is []\n",
      "  'New categorical_feature is {}'.format(sorted(list(categorical_feature))))\n",
      "/home/jupyter-shliu/.local/lib/python3.6/site-packages/lightgbm/basic.py:285: FutureWarning: elementwise comparison failed; returning scalar instead, but in the future will perform elementwise comparison\n",
      "  if categorical_feature == 'auto':  # use cat cols from DataFrame\n"
     ]
    },
    {
     "name": "stdout",
     "output_type": "stream",
     "text": [
      "Training until validation scores don't improve for 100 rounds\n",
      "[100]\ttraining's rmse: 0.940679\ttraining's cappa: 0.638778\tvalid_1's rmse: 0.99757\tvalid_1's cappa: 0.574293\n",
      "[200]\ttraining's rmse: 0.894763\ttraining's cappa: 0.679086\tvalid_1's rmse: 0.991039\tvalid_1's cappa: 0.58457\n",
      "[300]\ttraining's rmse: 0.865154\ttraining's cappa: 0.705723\tvalid_1's rmse: 0.989196\tvalid_1's cappa: 0.58561\n",
      "Early stopping, best iteration is:\n",
      "[241]\ttraining's rmse: 0.881691\ttraining's cappa: 0.693006\tvalid_1's rmse: 0.990138\tvalid_1's cappa: 0.5892\n",
      "parameter 15 27 0.8667184442474212 0.9952984163625087 1 32.91056689980691 1.223206084819464\n",
      "score 0.9901380028846962\n",
      "| \u001b[0m 157     \u001b[0m | \u001b[0m-0.9901  \u001b[0m | \u001b[0m 0.8667  \u001b[0m | \u001b[0m 32.91   \u001b[0m | \u001b[0m 1.223   \u001b[0m | \u001b[0m 15.4    \u001b[0m | \u001b[0m 27.37   \u001b[0m | \u001b[0m 0.9953  \u001b[0m | \u001b[0m 1.042   \u001b[0m |\n"
     ]
    },
    {
     "name": "stderr",
     "output_type": "stream",
     "text": [
      "/home/jupyter-shliu/.local/lib/python3.6/site-packages/lightgbm/engine.py:153: UserWarning: Found `early_stopping_rounds` in params. Will use it instead of argument\n",
      "  warnings.warn(\"Found `{}` in params. Will use it instead of argument\".format(alias))\n",
      "/home/jupyter-shliu/.local/lib/python3.6/site-packages/lightgbm/basic.py:1236: FutureWarning: elementwise comparison failed; returning scalar instead, but in the future will perform elementwise comparison\n",
      "  if self.categorical_feature == categorical_feature:\n",
      "/home/jupyter-shliu/.local/lib/python3.6/site-packages/lightgbm/basic.py:1242: FutureWarning: elementwise comparison failed; returning scalar instead, but in the future will perform elementwise comparison\n",
      "  elif categorical_feature == 'auto':\n",
      "/home/jupyter-shliu/.local/lib/python3.6/site-packages/lightgbm/basic.py:1247: UserWarning: categorical_feature in Dataset is overridden.\n",
      "New categorical_feature is []\n",
      "  'New categorical_feature is {}'.format(sorted(list(categorical_feature))))\n",
      "/home/jupyter-shliu/.local/lib/python3.6/site-packages/lightgbm/basic.py:285: FutureWarning: elementwise comparison failed; returning scalar instead, but in the future will perform elementwise comparison\n",
      "  if categorical_feature == 'auto':  # use cat cols from DataFrame\n"
     ]
    },
    {
     "name": "stdout",
     "output_type": "stream",
     "text": [
      "Training until validation scores don't improve for 100 rounds\n",
      "[100]\ttraining's rmse: 0.913613\ttraining's cappa: 0.670092\tvalid_1's rmse: 1.00024\tvalid_1's cappa: 0.572129\n",
      "[200]\ttraining's rmse: 0.850251\ttraining's cappa: 0.722644\tvalid_1's rmse: 0.993917\tvalid_1's cappa: 0.581515\n",
      "[300]\ttraining's rmse: 0.814181\ttraining's cappa: 0.751669\tvalid_1's rmse: 0.992355\tvalid_1's cappa: 0.584014\n",
      "Early stopping, best iteration is:\n",
      "[271]\ttraining's rmse: 0.822953\ttraining's cappa: 0.745527\tvalid_1's rmse: 0.992618\tvalid_1's cappa: 0.586443\n",
      "parameter 15 79 0.9807576547698429 0.9956390002122057 2 36.56175129459367 43.917832464469285\n",
      "score 0.9926175564738781\n",
      "| \u001b[0m 158     \u001b[0m | \u001b[0m-0.9926  \u001b[0m | \u001b[0m 0.9808  \u001b[0m | \u001b[0m 36.56   \u001b[0m | \u001b[0m 43.92   \u001b[0m | \u001b[0m 15.58   \u001b[0m | \u001b[0m 79.96   \u001b[0m | \u001b[0m 0.9956  \u001b[0m | \u001b[0m 2.62    \u001b[0m |\n"
     ]
    },
    {
     "name": "stderr",
     "output_type": "stream",
     "text": [
      "/home/jupyter-shliu/.local/lib/python3.6/site-packages/lightgbm/engine.py:153: UserWarning: Found `early_stopping_rounds` in params. Will use it instead of argument\n",
      "  warnings.warn(\"Found `{}` in params. Will use it instead of argument\".format(alias))\n",
      "/home/jupyter-shliu/.local/lib/python3.6/site-packages/lightgbm/basic.py:1236: FutureWarning: elementwise comparison failed; returning scalar instead, but in the future will perform elementwise comparison\n",
      "  if self.categorical_feature == categorical_feature:\n",
      "/home/jupyter-shliu/.local/lib/python3.6/site-packages/lightgbm/basic.py:1242: FutureWarning: elementwise comparison failed; returning scalar instead, but in the future will perform elementwise comparison\n",
      "  elif categorical_feature == 'auto':\n",
      "/home/jupyter-shliu/.local/lib/python3.6/site-packages/lightgbm/basic.py:1247: UserWarning: categorical_feature in Dataset is overridden.\n",
      "New categorical_feature is []\n",
      "  'New categorical_feature is {}'.format(sorted(list(categorical_feature))))\n",
      "/home/jupyter-shliu/.local/lib/python3.6/site-packages/lightgbm/basic.py:285: FutureWarning: elementwise comparison failed; returning scalar instead, but in the future will perform elementwise comparison\n",
      "  if categorical_feature == 'auto':  # use cat cols from DataFrame\n"
     ]
    },
    {
     "name": "stdout",
     "output_type": "stream",
     "text": [
      "Training until validation scores don't improve for 100 rounds\n",
      "[100]\ttraining's rmse: 0.967004\ttraining's cappa: 0.613555\tvalid_1's rmse: 1.0007\tvalid_1's cappa: 0.574562\n",
      "[200]\ttraining's rmse: 0.929012\ttraining's cappa: 0.644115\tvalid_1's rmse: 0.991556\tvalid_1's cappa: 0.579354\n",
      "[300]\ttraining's rmse: 0.90545\ttraining's cappa: 0.669751\tvalid_1's rmse: 0.990174\tvalid_1's cappa: 0.583216\n",
      "Early stopping, best iteration is:\n",
      "[260]\ttraining's rmse: 0.913944\ttraining's cappa: 0.66088\tvalid_1's rmse: 0.990588\tvalid_1's cappa: 0.584474\n",
      "parameter 14 15 0.913852031740489 0.9799675179318263 2 24.58497392741296 29.60953211147054\n",
      "score 0.9905878188434385\n",
      "| \u001b[0m 159     \u001b[0m | \u001b[0m-0.9906  \u001b[0m | \u001b[0m 0.9139  \u001b[0m | \u001b[0m 24.58   \u001b[0m | \u001b[0m 29.61   \u001b[0m | \u001b[0m 14.03   \u001b[0m | \u001b[0m 15.46   \u001b[0m | \u001b[0m 0.98    \u001b[0m | \u001b[0m 2.582   \u001b[0m |\n"
     ]
    },
    {
     "name": "stderr",
     "output_type": "stream",
     "text": [
      "/home/jupyter-shliu/.local/lib/python3.6/site-packages/lightgbm/engine.py:153: UserWarning: Found `early_stopping_rounds` in params. Will use it instead of argument\n",
      "  warnings.warn(\"Found `{}` in params. Will use it instead of argument\".format(alias))\n",
      "/home/jupyter-shliu/.local/lib/python3.6/site-packages/lightgbm/basic.py:1236: FutureWarning: elementwise comparison failed; returning scalar instead, but in the future will perform elementwise comparison\n",
      "  if self.categorical_feature == categorical_feature:\n",
      "/home/jupyter-shliu/.local/lib/python3.6/site-packages/lightgbm/basic.py:1242: FutureWarning: elementwise comparison failed; returning scalar instead, but in the future will perform elementwise comparison\n",
      "  elif categorical_feature == 'auto':\n",
      "/home/jupyter-shliu/.local/lib/python3.6/site-packages/lightgbm/basic.py:1247: UserWarning: categorical_feature in Dataset is overridden.\n",
      "New categorical_feature is []\n",
      "  'New categorical_feature is {}'.format(sorted(list(categorical_feature))))\n",
      "/home/jupyter-shliu/.local/lib/python3.6/site-packages/lightgbm/basic.py:285: FutureWarning: elementwise comparison failed; returning scalar instead, but in the future will perform elementwise comparison\n",
      "  if categorical_feature == 'auto':  # use cat cols from DataFrame\n"
     ]
    },
    {
     "name": "stdout",
     "output_type": "stream",
     "text": [
      "Training until validation scores don't improve for 100 rounds\n",
      "[100]\ttraining's rmse: 0.916547\ttraining's cappa: 0.664235\tvalid_1's rmse: 0.99696\tvalid_1's cappa: 0.576513\n",
      "[200]\ttraining's rmse: 0.854837\ttraining's cappa: 0.72012\tvalid_1's rmse: 0.990172\tvalid_1's cappa: 0.581932\n",
      "[300]\ttraining's rmse: 0.813174\ttraining's cappa: 0.753022\tvalid_1's rmse: 0.989583\tvalid_1's cappa: 0.586828\n",
      "Early stopping, best iteration is:\n",
      "[228]\ttraining's rmse: 0.842057\ttraining's cappa: 0.73096\tvalid_1's rmse: 0.989355\tvalid_1's cappa: 0.585032\n",
      "parameter 15 51 0.6835180641454678 0.998742026699696 1 26.73901008227937 49.92824207637182\n",
      "score 0.9893554578398277\n",
      "| \u001b[0m 160     \u001b[0m | \u001b[0m-0.9894  \u001b[0m | \u001b[0m 0.6835  \u001b[0m | \u001b[0m 26.74   \u001b[0m | \u001b[0m 49.93   \u001b[0m | \u001b[0m 15.67   \u001b[0m | \u001b[0m 51.75   \u001b[0m | \u001b[0m 0.9987  \u001b[0m | \u001b[0m 1.716   \u001b[0m |\n"
     ]
    },
    {
     "name": "stderr",
     "output_type": "stream",
     "text": [
      "/home/jupyter-shliu/.local/lib/python3.6/site-packages/lightgbm/engine.py:153: UserWarning: Found `early_stopping_rounds` in params. Will use it instead of argument\n",
      "  warnings.warn(\"Found `{}` in params. Will use it instead of argument\".format(alias))\n",
      "/home/jupyter-shliu/.local/lib/python3.6/site-packages/lightgbm/basic.py:1236: FutureWarning: elementwise comparison failed; returning scalar instead, but in the future will perform elementwise comparison\n",
      "  if self.categorical_feature == categorical_feature:\n",
      "/home/jupyter-shliu/.local/lib/python3.6/site-packages/lightgbm/basic.py:1242: FutureWarning: elementwise comparison failed; returning scalar instead, but in the future will perform elementwise comparison\n",
      "  elif categorical_feature == 'auto':\n",
      "/home/jupyter-shliu/.local/lib/python3.6/site-packages/lightgbm/basic.py:1247: UserWarning: categorical_feature in Dataset is overridden.\n",
      "New categorical_feature is []\n",
      "  'New categorical_feature is {}'.format(sorted(list(categorical_feature))))\n",
      "/home/jupyter-shliu/.local/lib/python3.6/site-packages/lightgbm/basic.py:285: FutureWarning: elementwise comparison failed; returning scalar instead, but in the future will perform elementwise comparison\n",
      "  if categorical_feature == 'auto':  # use cat cols from DataFrame\n"
     ]
    },
    {
     "name": "stdout",
     "output_type": "stream",
     "text": [
      "Training until validation scores don't improve for 100 rounds\n",
      "[100]\ttraining's rmse: 0.844778\ttraining's cappa: 0.73282\tvalid_1's rmse: 0.994958\tvalid_1's cappa: 0.572019\n",
      "Early stopping, best iteration is:\n",
      "[67]\ttraining's rmse: 0.892701\ttraining's cappa: 0.696667\tvalid_1's rmse: 1.00021\tvalid_1's cappa: 0.579149\n",
      "parameter 7 99 0.9119278825682624 0.9571708906100438 2 1.913400757808156 16.06924711670217\n",
      "score 1.0002080669793165\n",
      "| \u001b[0m 161     \u001b[0m | \u001b[0m-1.0     \u001b[0m | \u001b[0m 0.9119  \u001b[0m | \u001b[0m 1.913   \u001b[0m | \u001b[0m 16.07   \u001b[0m | \u001b[0m 7.813   \u001b[0m | \u001b[0m 99.71   \u001b[0m | \u001b[0m 0.9572  \u001b[0m | \u001b[0m 2.855   \u001b[0m |\n"
     ]
    },
    {
     "name": "stderr",
     "output_type": "stream",
     "text": [
      "/home/jupyter-shliu/.local/lib/python3.6/site-packages/lightgbm/engine.py:153: UserWarning: Found `early_stopping_rounds` in params. Will use it instead of argument\n",
      "  warnings.warn(\"Found `{}` in params. Will use it instead of argument\".format(alias))\n",
      "/home/jupyter-shliu/.local/lib/python3.6/site-packages/lightgbm/basic.py:1236: FutureWarning: elementwise comparison failed; returning scalar instead, but in the future will perform elementwise comparison\n",
      "  if self.categorical_feature == categorical_feature:\n",
      "/home/jupyter-shliu/.local/lib/python3.6/site-packages/lightgbm/basic.py:1242: FutureWarning: elementwise comparison failed; returning scalar instead, but in the future will perform elementwise comparison\n",
      "  elif categorical_feature == 'auto':\n",
      "/home/jupyter-shliu/.local/lib/python3.6/site-packages/lightgbm/basic.py:1247: UserWarning: categorical_feature in Dataset is overridden.\n",
      "New categorical_feature is []\n",
      "  'New categorical_feature is {}'.format(sorted(list(categorical_feature))))\n",
      "/home/jupyter-shliu/.local/lib/python3.6/site-packages/lightgbm/basic.py:285: FutureWarning: elementwise comparison failed; returning scalar instead, but in the future will perform elementwise comparison\n",
      "  if categorical_feature == 'auto':  # use cat cols from DataFrame\n"
     ]
    },
    {
     "name": "stdout",
     "output_type": "stream",
     "text": [
      "Training until validation scores don't improve for 100 rounds\n",
      "[100]\ttraining's rmse: 0.914109\ttraining's cappa: 0.665013\tvalid_1's rmse: 0.993033\tvalid_1's cappa: 0.578012\n",
      "[200]\ttraining's rmse: 0.851538\ttraining's cappa: 0.716854\tvalid_1's rmse: 0.989144\tvalid_1's cappa: 0.585245\n",
      "Early stopping, best iteration is:\n",
      "[153]\ttraining's rmse: 0.877569\ttraining's cappa: 0.69425\tvalid_1's rmse: 0.989322\tvalid_1's cappa: 0.586976\n",
      "parameter 9 32 0.9779907982364144 0.997534744627603 2 8.392746957044716 37.651214276154086\n",
      "score 0.9893221822474682\n",
      "| \u001b[0m 162     \u001b[0m | \u001b[0m-0.9893  \u001b[0m | \u001b[0m 0.978   \u001b[0m | \u001b[0m 8.393   \u001b[0m | \u001b[0m 37.65   \u001b[0m | \u001b[0m 9.994   \u001b[0m | \u001b[0m 32.19   \u001b[0m | \u001b[0m 0.9975  \u001b[0m | \u001b[0m 2.662   \u001b[0m |\n"
     ]
    },
    {
     "name": "stderr",
     "output_type": "stream",
     "text": [
      "/home/jupyter-shliu/.local/lib/python3.6/site-packages/lightgbm/engine.py:153: UserWarning: Found `early_stopping_rounds` in params. Will use it instead of argument\n",
      "  warnings.warn(\"Found `{}` in params. Will use it instead of argument\".format(alias))\n",
      "/home/jupyter-shliu/.local/lib/python3.6/site-packages/lightgbm/basic.py:1236: FutureWarning: elementwise comparison failed; returning scalar instead, but in the future will perform elementwise comparison\n",
      "  if self.categorical_feature == categorical_feature:\n",
      "/home/jupyter-shliu/.local/lib/python3.6/site-packages/lightgbm/basic.py:1242: FutureWarning: elementwise comparison failed; returning scalar instead, but in the future will perform elementwise comparison\n",
      "  elif categorical_feature == 'auto':\n",
      "/home/jupyter-shliu/.local/lib/python3.6/site-packages/lightgbm/basic.py:1247: UserWarning: categorical_feature in Dataset is overridden.\n",
      "New categorical_feature is []\n",
      "  'New categorical_feature is {}'.format(sorted(list(categorical_feature))))\n",
      "/home/jupyter-shliu/.local/lib/python3.6/site-packages/lightgbm/basic.py:285: FutureWarning: elementwise comparison failed; returning scalar instead, but in the future will perform elementwise comparison\n",
      "  if categorical_feature == 'auto':  # use cat cols from DataFrame\n"
     ]
    },
    {
     "name": "stdout",
     "output_type": "stream",
     "text": [
      "Training until validation scores don't improve for 100 rounds\n",
      "[100]\ttraining's rmse: 0.954112\ttraining's cappa: 0.62498\tvalid_1's rmse: 1.00278\tvalid_1's cappa: 0.570341\n",
      "[200]\ttraining's rmse: 0.913662\ttraining's cappa: 0.663709\tvalid_1's rmse: 0.993583\tvalid_1's cappa: 0.582972\n",
      "[300]\ttraining's rmse: 0.892976\ttraining's cappa: 0.683167\tvalid_1's rmse: 0.990911\tvalid_1's cappa: 0.583866\n",
      "[400]\ttraining's rmse: 0.879631\ttraining's cappa: 0.694583\tvalid_1's rmse: 0.990627\tvalid_1's cappa: 0.587142\n",
      "Early stopping, best iteration is:\n",
      "[394]\ttraining's rmse: 0.880371\ttraining's cappa: 0.693539\tvalid_1's rmse: 0.990571\tvalid_1's cappa: 0.588066\n",
      "parameter 7 98 0.9246228121283133 0.9551339053556827 2 49.14239933713785 49.95762595795316\n",
      "score 0.990571072339403\n",
      "| \u001b[0m 163     \u001b[0m | \u001b[0m-0.9906  \u001b[0m | \u001b[0m 0.9246  \u001b[0m | \u001b[0m 49.14   \u001b[0m | \u001b[0m 49.96   \u001b[0m | \u001b[0m 7.983   \u001b[0m | \u001b[0m 98.76   \u001b[0m | \u001b[0m 0.9551  \u001b[0m | \u001b[0m 2.887   \u001b[0m |\n"
     ]
    },
    {
     "name": "stderr",
     "output_type": "stream",
     "text": [
      "/home/jupyter-shliu/.local/lib/python3.6/site-packages/lightgbm/engine.py:153: UserWarning: Found `early_stopping_rounds` in params. Will use it instead of argument\n",
      "  warnings.warn(\"Found `{}` in params. Will use it instead of argument\".format(alias))\n",
      "/home/jupyter-shliu/.local/lib/python3.6/site-packages/lightgbm/basic.py:1236: FutureWarning: elementwise comparison failed; returning scalar instead, but in the future will perform elementwise comparison\n",
      "  if self.categorical_feature == categorical_feature:\n",
      "/home/jupyter-shliu/.local/lib/python3.6/site-packages/lightgbm/basic.py:1242: FutureWarning: elementwise comparison failed; returning scalar instead, but in the future will perform elementwise comparison\n",
      "  elif categorical_feature == 'auto':\n",
      "/home/jupyter-shliu/.local/lib/python3.6/site-packages/lightgbm/basic.py:1247: UserWarning: categorical_feature in Dataset is overridden.\n",
      "New categorical_feature is []\n",
      "  'New categorical_feature is {}'.format(sorted(list(categorical_feature))))\n",
      "/home/jupyter-shliu/.local/lib/python3.6/site-packages/lightgbm/basic.py:285: FutureWarning: elementwise comparison failed; returning scalar instead, but in the future will perform elementwise comparison\n",
      "  if categorical_feature == 'auto':  # use cat cols from DataFrame\n"
     ]
    },
    {
     "name": "stdout",
     "output_type": "stream",
     "text": [
      "Training until validation scores don't improve for 100 rounds\n",
      "[100]\ttraining's rmse: 0.933774\ttraining's cappa: 0.650422\tvalid_1's rmse: 0.997446\tvalid_1's cappa: 0.578527\n",
      "[200]\ttraining's rmse: 0.879933\ttraining's cappa: 0.695247\tvalid_1's rmse: 0.991433\tvalid_1's cappa: 0.580491\n",
      "Early stopping, best iteration is:\n",
      "[188]\ttraining's rmse: 0.884755\ttraining's cappa: 0.691694\tvalid_1's rmse: 0.991487\tvalid_1's cappa: 0.582932\n",
      "parameter 5 72 0.9282552753458326 0.99859076119253 2 1.2288195936250952 35.86904590121117\n",
      "score 0.9914873772384221\n",
      "| \u001b[0m 164     \u001b[0m | \u001b[0m-0.9915  \u001b[0m | \u001b[0m 0.9283  \u001b[0m | \u001b[0m 1.229   \u001b[0m | \u001b[0m 35.87   \u001b[0m | \u001b[0m 5.842   \u001b[0m | \u001b[0m 72.62   \u001b[0m | \u001b[0m 0.9986  \u001b[0m | \u001b[0m 2.249   \u001b[0m |\n"
     ]
    },
    {
     "name": "stderr",
     "output_type": "stream",
     "text": [
      "/home/jupyter-shliu/.local/lib/python3.6/site-packages/lightgbm/engine.py:153: UserWarning: Found `early_stopping_rounds` in params. Will use it instead of argument\n",
      "  warnings.warn(\"Found `{}` in params. Will use it instead of argument\".format(alias))\n",
      "/home/jupyter-shliu/.local/lib/python3.6/site-packages/lightgbm/basic.py:1236: FutureWarning: elementwise comparison failed; returning scalar instead, but in the future will perform elementwise comparison\n",
      "  if self.categorical_feature == categorical_feature:\n",
      "/home/jupyter-shliu/.local/lib/python3.6/site-packages/lightgbm/basic.py:1242: FutureWarning: elementwise comparison failed; returning scalar instead, but in the future will perform elementwise comparison\n",
      "  elif categorical_feature == 'auto':\n",
      "/home/jupyter-shliu/.local/lib/python3.6/site-packages/lightgbm/basic.py:1247: UserWarning: categorical_feature in Dataset is overridden.\n",
      "New categorical_feature is []\n",
      "  'New categorical_feature is {}'.format(sorted(list(categorical_feature))))\n",
      "/home/jupyter-shliu/.local/lib/python3.6/site-packages/lightgbm/basic.py:285: FutureWarning: elementwise comparison failed; returning scalar instead, but in the future will perform elementwise comparison\n",
      "  if categorical_feature == 'auto':  # use cat cols from DataFrame\n"
     ]
    },
    {
     "name": "stdout",
     "output_type": "stream",
     "text": [
      "Training until validation scores don't improve for 100 rounds\n",
      "[100]\ttraining's rmse: 0.829485\ttraining's cappa: 0.74373\tvalid_1's rmse: 0.992749\tvalid_1's cappa: 0.5806\n",
      "[200]\ttraining's rmse: 0.727504\ttraining's cappa: 0.819206\tvalid_1's rmse: 0.993742\tvalid_1's cappa: 0.580255\n",
      "Early stopping, best iteration is:\n",
      "[129]\ttraining's rmse: 0.795555\ttraining's cappa: 0.770059\tvalid_1's rmse: 0.99192\tvalid_1's cappa: 0.581111\n",
      "parameter 10 95 0.8636258527202252 0.9290712144117461 2 13.600750988972429 0.2762285462801479\n",
      "score 0.9919201397346079\n",
      "| \u001b[0m 165     \u001b[0m | \u001b[0m-0.9919  \u001b[0m | \u001b[0m 0.8636  \u001b[0m | \u001b[0m 13.6    \u001b[0m | \u001b[0m 0.2762  \u001b[0m | \u001b[0m 10.12   \u001b[0m | \u001b[0m 95.03   \u001b[0m | \u001b[0m 0.9291  \u001b[0m | \u001b[0m 2.856   \u001b[0m |\n"
     ]
    },
    {
     "name": "stderr",
     "output_type": "stream",
     "text": [
      "/home/jupyter-shliu/.local/lib/python3.6/site-packages/lightgbm/engine.py:153: UserWarning: Found `early_stopping_rounds` in params. Will use it instead of argument\n",
      "  warnings.warn(\"Found `{}` in params. Will use it instead of argument\".format(alias))\n",
      "/home/jupyter-shliu/.local/lib/python3.6/site-packages/lightgbm/basic.py:1236: FutureWarning: elementwise comparison failed; returning scalar instead, but in the future will perform elementwise comparison\n",
      "  if self.categorical_feature == categorical_feature:\n",
      "/home/jupyter-shliu/.local/lib/python3.6/site-packages/lightgbm/basic.py:1242: FutureWarning: elementwise comparison failed; returning scalar instead, but in the future will perform elementwise comparison\n",
      "  elif categorical_feature == 'auto':\n",
      "/home/jupyter-shliu/.local/lib/python3.6/site-packages/lightgbm/basic.py:1247: UserWarning: categorical_feature in Dataset is overridden.\n",
      "New categorical_feature is []\n",
      "  'New categorical_feature is {}'.format(sorted(list(categorical_feature))))\n",
      "/home/jupyter-shliu/.local/lib/python3.6/site-packages/lightgbm/basic.py:285: FutureWarning: elementwise comparison failed; returning scalar instead, but in the future will perform elementwise comparison\n",
      "  if categorical_feature == 'auto':  # use cat cols from DataFrame\n"
     ]
    },
    {
     "name": "stdout",
     "output_type": "stream",
     "text": [
      "Training until validation scores don't improve for 100 rounds\n",
      "[100]\ttraining's rmse: 0.95871\ttraining's cappa: 0.619677\tvalid_1's rmse: 1.00177\tvalid_1's cappa: 0.57544\n",
      "[200]\ttraining's rmse: 0.920862\ttraining's cappa: 0.654944\tvalid_1's rmse: 0.992045\tvalid_1's cappa: 0.582211\n",
      "[300]\ttraining's rmse: 0.901822\ttraining's cappa: 0.67361\tvalid_1's rmse: 0.990638\tvalid_1's cappa: 0.580248\n",
      "Early stopping, best iteration is:\n",
      "[216]\ttraining's rmse: 0.917024\ttraining's cappa: 0.65724\tvalid_1's rmse: 0.991873\tvalid_1's cappa: 0.584152\n",
      "parameter 6 97 0.844235893831734 0.9333257946345741 1 49.19416865136942 0.8001917906088849\n",
      "score 0.9918734564215138\n",
      "| \u001b[0m 166     \u001b[0m | \u001b[0m-0.9919  \u001b[0m | \u001b[0m 0.8442  \u001b[0m | \u001b[0m 49.19   \u001b[0m | \u001b[0m 0.8002  \u001b[0m | \u001b[0m 6.844   \u001b[0m | \u001b[0m 97.86   \u001b[0m | \u001b[0m 0.9333  \u001b[0m | \u001b[0m 1.085   \u001b[0m |\n"
     ]
    },
    {
     "name": "stderr",
     "output_type": "stream",
     "text": [
      "/home/jupyter-shliu/.local/lib/python3.6/site-packages/lightgbm/engine.py:153: UserWarning: Found `early_stopping_rounds` in params. Will use it instead of argument\n",
      "  warnings.warn(\"Found `{}` in params. Will use it instead of argument\".format(alias))\n",
      "/home/jupyter-shliu/.local/lib/python3.6/site-packages/lightgbm/basic.py:1236: FutureWarning: elementwise comparison failed; returning scalar instead, but in the future will perform elementwise comparison\n",
      "  if self.categorical_feature == categorical_feature:\n",
      "/home/jupyter-shliu/.local/lib/python3.6/site-packages/lightgbm/basic.py:1242: FutureWarning: elementwise comparison failed; returning scalar instead, but in the future will perform elementwise comparison\n",
      "  elif categorical_feature == 'auto':\n",
      "/home/jupyter-shliu/.local/lib/python3.6/site-packages/lightgbm/basic.py:1247: UserWarning: categorical_feature in Dataset is overridden.\n",
      "New categorical_feature is []\n",
      "  'New categorical_feature is {}'.format(sorted(list(categorical_feature))))\n",
      "/home/jupyter-shliu/.local/lib/python3.6/site-packages/lightgbm/basic.py:285: FutureWarning: elementwise comparison failed; returning scalar instead, but in the future will perform elementwise comparison\n",
      "  if categorical_feature == 'auto':  # use cat cols from DataFrame\n"
     ]
    },
    {
     "name": "stdout",
     "output_type": "stream",
     "text": [
      "Training until validation scores don't improve for 100 rounds\n",
      "[100]\ttraining's rmse: 0.96526\ttraining's cappa: 0.617714\tvalid_1's rmse: 1.0058\tvalid_1's cappa: 0.569223\n",
      "[200]\ttraining's rmse: 0.920824\ttraining's cappa: 0.654688\tvalid_1's rmse: 0.99304\tvalid_1's cappa: 0.580514\n",
      "[300]\ttraining's rmse: 0.892033\ttraining's cappa: 0.679012\tvalid_1's rmse: 0.991277\tvalid_1's cappa: 0.583692\n",
      "[400]\ttraining's rmse: 0.868067\ttraining's cappa: 0.699917\tvalid_1's rmse: 0.990504\tvalid_1's cappa: 0.581769\n",
      "Early stopping, best iteration is:\n",
      "[305]\ttraining's rmse: 0.890691\ttraining's cappa: 0.680981\tvalid_1's rmse: 0.991274\tvalid_1's cappa: 0.586656\n",
      "parameter 5 15 0.414879577183229 0.9529069961256902 2 0.307402454263279 46.29177772956224\n",
      "score 0.9912738160880401\n",
      "| \u001b[0m 167     \u001b[0m | \u001b[0m-0.9913  \u001b[0m | \u001b[0m 0.4149  \u001b[0m | \u001b[0m 0.3074  \u001b[0m | \u001b[0m 46.29   \u001b[0m | \u001b[0m 5.371   \u001b[0m | \u001b[0m 15.38   \u001b[0m | \u001b[0m 0.9529  \u001b[0m | \u001b[0m 2.643   \u001b[0m |\n"
     ]
    },
    {
     "name": "stderr",
     "output_type": "stream",
     "text": [
      "/home/jupyter-shliu/.local/lib/python3.6/site-packages/lightgbm/engine.py:153: UserWarning: Found `early_stopping_rounds` in params. Will use it instead of argument\n",
      "  warnings.warn(\"Found `{}` in params. Will use it instead of argument\".format(alias))\n",
      "/home/jupyter-shliu/.local/lib/python3.6/site-packages/lightgbm/basic.py:1236: FutureWarning: elementwise comparison failed; returning scalar instead, but in the future will perform elementwise comparison\n",
      "  if self.categorical_feature == categorical_feature:\n",
      "/home/jupyter-shliu/.local/lib/python3.6/site-packages/lightgbm/basic.py:1242: FutureWarning: elementwise comparison failed; returning scalar instead, but in the future will perform elementwise comparison\n",
      "  elif categorical_feature == 'auto':\n",
      "/home/jupyter-shliu/.local/lib/python3.6/site-packages/lightgbm/basic.py:1247: UserWarning: categorical_feature in Dataset is overridden.\n",
      "New categorical_feature is []\n",
      "  'New categorical_feature is {}'.format(sorted(list(categorical_feature))))\n",
      "/home/jupyter-shliu/.local/lib/python3.6/site-packages/lightgbm/basic.py:285: FutureWarning: elementwise comparison failed; returning scalar instead, but in the future will perform elementwise comparison\n",
      "  if categorical_feature == 'auto':  # use cat cols from DataFrame\n"
     ]
    },
    {
     "name": "stdout",
     "output_type": "stream",
     "text": [
      "Training until validation scores don't improve for 100 rounds\n",
      "[100]\ttraining's rmse: 0.97282\ttraining's cappa: 0.610017\tvalid_1's rmse: 1.00991\tvalid_1's cappa: 0.564827\n",
      "[200]\ttraining's rmse: 0.932689\ttraining's cappa: 0.643502\tvalid_1's rmse: 0.994369\tvalid_1's cappa: 0.57596\n",
      "[300]\ttraining's rmse: 0.909467\ttraining's cappa: 0.664827\tvalid_1's rmse: 0.991783\tvalid_1's cappa: 0.575905\n",
      "Early stopping, best iteration is:\n",
      "[229]\ttraining's rmse: 0.924601\ttraining's cappa: 0.651347\tvalid_1's rmse: 0.993281\tvalid_1's cappa: 0.580488\n",
      "parameter 5 65 0.40622507837755406 0.9837210088030583 2 36.027444411473006 33.44870968019886\n",
      "score 0.9932806535584466\n",
      "| \u001b[0m 168     \u001b[0m | \u001b[0m-0.9933  \u001b[0m | \u001b[0m 0.4062  \u001b[0m | \u001b[0m 36.03   \u001b[0m | \u001b[0m 33.45   \u001b[0m | \u001b[0m 5.127   \u001b[0m | \u001b[0m 65.53   \u001b[0m | \u001b[0m 0.9837  \u001b[0m | \u001b[0m 2.951   \u001b[0m |\n"
     ]
    },
    {
     "name": "stderr",
     "output_type": "stream",
     "text": [
      "/home/jupyter-shliu/.local/lib/python3.6/site-packages/lightgbm/engine.py:153: UserWarning: Found `early_stopping_rounds` in params. Will use it instead of argument\n",
      "  warnings.warn(\"Found `{}` in params. Will use it instead of argument\".format(alias))\n",
      "/home/jupyter-shliu/.local/lib/python3.6/site-packages/lightgbm/basic.py:1236: FutureWarning: elementwise comparison failed; returning scalar instead, but in the future will perform elementwise comparison\n",
      "  if self.categorical_feature == categorical_feature:\n",
      "/home/jupyter-shliu/.local/lib/python3.6/site-packages/lightgbm/basic.py:1242: FutureWarning: elementwise comparison failed; returning scalar instead, but in the future will perform elementwise comparison\n",
      "  elif categorical_feature == 'auto':\n",
      "/home/jupyter-shliu/.local/lib/python3.6/site-packages/lightgbm/basic.py:1247: UserWarning: categorical_feature in Dataset is overridden.\n",
      "New categorical_feature is []\n",
      "  'New categorical_feature is {}'.format(sorted(list(categorical_feature))))\n",
      "/home/jupyter-shliu/.local/lib/python3.6/site-packages/lightgbm/basic.py:285: FutureWarning: elementwise comparison failed; returning scalar instead, but in the future will perform elementwise comparison\n",
      "  if categorical_feature == 'auto':  # use cat cols from DataFrame\n"
     ]
    },
    {
     "name": "stdout",
     "output_type": "stream",
     "text": [
      "Training until validation scores don't improve for 100 rounds\n",
      "[100]\ttraining's rmse: 0.908659\ttraining's cappa: 0.675367\tvalid_1's rmse: 0.995294\tvalid_1's cappa: 0.586332\n",
      "[200]\ttraining's rmse: 0.841468\ttraining's cappa: 0.728753\tvalid_1's rmse: 0.990211\tvalid_1's cappa: 0.58692\n",
      "Early stopping, best iteration is:\n",
      "[137]\ttraining's rmse: 0.880199\ttraining's cappa: 0.69805\tvalid_1's rmse: 0.991699\tvalid_1's cappa: 0.589981\n",
      "parameter 8 59 0.9246230543672562 0.9749995183518925 1 22.207636241464378 42.498904914035634\n",
      "score 0.9916987727872815\n",
      "| \u001b[0m 169     \u001b[0m | \u001b[0m-0.9917  \u001b[0m | \u001b[0m 0.9246  \u001b[0m | \u001b[0m 22.21   \u001b[0m | \u001b[0m 42.5    \u001b[0m | \u001b[0m 8.649   \u001b[0m | \u001b[0m 59.51   \u001b[0m | \u001b[0m 0.975   \u001b[0m | \u001b[0m 1.238   \u001b[0m |\n"
     ]
    },
    {
     "name": "stderr",
     "output_type": "stream",
     "text": [
      "/home/jupyter-shliu/.local/lib/python3.6/site-packages/lightgbm/engine.py:153: UserWarning: Found `early_stopping_rounds` in params. Will use it instead of argument\n",
      "  warnings.warn(\"Found `{}` in params. Will use it instead of argument\".format(alias))\n",
      "/home/jupyter-shliu/.local/lib/python3.6/site-packages/lightgbm/basic.py:1236: FutureWarning: elementwise comparison failed; returning scalar instead, but in the future will perform elementwise comparison\n",
      "  if self.categorical_feature == categorical_feature:\n",
      "/home/jupyter-shliu/.local/lib/python3.6/site-packages/lightgbm/basic.py:1242: FutureWarning: elementwise comparison failed; returning scalar instead, but in the future will perform elementwise comparison\n",
      "  elif categorical_feature == 'auto':\n",
      "/home/jupyter-shliu/.local/lib/python3.6/site-packages/lightgbm/basic.py:1247: UserWarning: categorical_feature in Dataset is overridden.\n",
      "New categorical_feature is []\n",
      "  'New categorical_feature is {}'.format(sorted(list(categorical_feature))))\n",
      "/home/jupyter-shliu/.local/lib/python3.6/site-packages/lightgbm/basic.py:285: FutureWarning: elementwise comparison failed; returning scalar instead, but in the future will perform elementwise comparison\n",
      "  if categorical_feature == 'auto':  # use cat cols from DataFrame\n"
     ]
    },
    {
     "name": "stdout",
     "output_type": "stream",
     "text": [
      "Training until validation scores don't improve for 100 rounds\n",
      "[100]\ttraining's rmse: 0.942558\ttraining's cappa: 0.647995\tvalid_1's rmse: 1.00621\tvalid_1's cappa: 0.571729\n",
      "[200]\ttraining's rmse: 0.899576\ttraining's cappa: 0.681302\tvalid_1's rmse: 0.995407\tvalid_1's cappa: 0.580895\n",
      "[300]\ttraining's rmse: 0.877352\ttraining's cappa: 0.699761\tvalid_1's rmse: 0.992982\tvalid_1's cappa: 0.583098\n",
      "[400]\ttraining's rmse: 0.863488\ttraining's cappa: 0.711825\tvalid_1's rmse: 0.992158\tvalid_1's cappa: 0.583074\n",
      "Early stopping, best iteration is:\n",
      "[332]\ttraining's rmse: 0.871924\ttraining's cappa: 0.704047\tvalid_1's rmse: 0.992348\tvalid_1's cappa: 0.58546\n",
      "parameter 15 99 0.4154969777353843 0.8941115973457296 2 48.89034444010302 1.6132933274173409\n",
      "score 0.9923481679544071\n",
      "| \u001b[0m 170     \u001b[0m | \u001b[0m-0.9923  \u001b[0m | \u001b[0m 0.4155  \u001b[0m | \u001b[0m 48.89   \u001b[0m | \u001b[0m 1.613   \u001b[0m | \u001b[0m 15.79   \u001b[0m | \u001b[0m 99.74   \u001b[0m | \u001b[0m 0.8941  \u001b[0m | \u001b[0m 2.965   \u001b[0m |\n"
     ]
    },
    {
     "name": "stderr",
     "output_type": "stream",
     "text": [
      "/home/jupyter-shliu/.local/lib/python3.6/site-packages/lightgbm/engine.py:153: UserWarning: Found `early_stopping_rounds` in params. Will use it instead of argument\n",
      "  warnings.warn(\"Found `{}` in params. Will use it instead of argument\".format(alias))\n",
      "/home/jupyter-shliu/.local/lib/python3.6/site-packages/lightgbm/basic.py:1236: FutureWarning: elementwise comparison failed; returning scalar instead, but in the future will perform elementwise comparison\n",
      "  if self.categorical_feature == categorical_feature:\n",
      "/home/jupyter-shliu/.local/lib/python3.6/site-packages/lightgbm/basic.py:1242: FutureWarning: elementwise comparison failed; returning scalar instead, but in the future will perform elementwise comparison\n",
      "  elif categorical_feature == 'auto':\n",
      "/home/jupyter-shliu/.local/lib/python3.6/site-packages/lightgbm/basic.py:1247: UserWarning: categorical_feature in Dataset is overridden.\n",
      "New categorical_feature is []\n",
      "  'New categorical_feature is {}'.format(sorted(list(categorical_feature))))\n",
      "/home/jupyter-shliu/.local/lib/python3.6/site-packages/lightgbm/basic.py:285: FutureWarning: elementwise comparison failed; returning scalar instead, but in the future will perform elementwise comparison\n",
      "  if categorical_feature == 'auto':  # use cat cols from DataFrame\n"
     ]
    },
    {
     "name": "stdout",
     "output_type": "stream",
     "text": [
      "Training until validation scores don't improve for 100 rounds\n",
      "[100]\ttraining's rmse: 0.936221\ttraining's cappa: 0.64661\tvalid_1's rmse: 1.00143\tvalid_1's cappa: 0.570999\n",
      "[200]\ttraining's rmse: 0.891101\ttraining's cappa: 0.683011\tvalid_1's rmse: 0.993219\tvalid_1's cappa: 0.5796\n",
      "[300]\ttraining's rmse: 0.874521\ttraining's cappa: 0.699739\tvalid_1's rmse: 0.991388\tvalid_1's cappa: 0.582161\n",
      "Early stopping, best iteration is:\n",
      "[268]\ttraining's rmse: 0.876819\ttraining's cappa: 0.697599\tvalid_1's rmse: 0.991556\tvalid_1's cappa: 0.583512\n",
      "parameter 10 62 0.7946675422413532 0.9994197597212804 2 49.83417613677403 24.781907926858135\n",
      "score 0.9915564446396579\n",
      "| \u001b[0m 171     \u001b[0m | \u001b[0m-0.9916  \u001b[0m | \u001b[0m 0.7947  \u001b[0m | \u001b[0m 49.83   \u001b[0m | \u001b[0m 24.78   \u001b[0m | \u001b[0m 10.17   \u001b[0m | \u001b[0m 62.27   \u001b[0m | \u001b[0m 0.9994  \u001b[0m | \u001b[0m 2.799   \u001b[0m |\n"
     ]
    },
    {
     "name": "stderr",
     "output_type": "stream",
     "text": [
      "/home/jupyter-shliu/.local/lib/python3.6/site-packages/lightgbm/engine.py:153: UserWarning: Found `early_stopping_rounds` in params. Will use it instead of argument\n",
      "  warnings.warn(\"Found `{}` in params. Will use it instead of argument\".format(alias))\n",
      "/home/jupyter-shliu/.local/lib/python3.6/site-packages/lightgbm/basic.py:1236: FutureWarning: elementwise comparison failed; returning scalar instead, but in the future will perform elementwise comparison\n",
      "  if self.categorical_feature == categorical_feature:\n",
      "/home/jupyter-shliu/.local/lib/python3.6/site-packages/lightgbm/basic.py:1242: FutureWarning: elementwise comparison failed; returning scalar instead, but in the future will perform elementwise comparison\n",
      "  elif categorical_feature == 'auto':\n",
      "/home/jupyter-shliu/.local/lib/python3.6/site-packages/lightgbm/basic.py:1247: UserWarning: categorical_feature in Dataset is overridden.\n",
      "New categorical_feature is []\n",
      "  'New categorical_feature is {}'.format(sorted(list(categorical_feature))))\n",
      "/home/jupyter-shliu/.local/lib/python3.6/site-packages/lightgbm/basic.py:285: FutureWarning: elementwise comparison failed; returning scalar instead, but in the future will perform elementwise comparison\n",
      "  if categorical_feature == 'auto':  # use cat cols from DataFrame\n"
     ]
    },
    {
     "name": "stdout",
     "output_type": "stream",
     "text": [
      "Training until validation scores don't improve for 100 rounds\n",
      "[100]\ttraining's rmse: 0.941214\ttraining's cappa: 0.640543\tvalid_1's rmse: 0.993975\tvalid_1's cappa: 0.578362\n",
      "[200]\ttraining's rmse: 0.892714\ttraining's cappa: 0.682614\tvalid_1's rmse: 0.987897\tvalid_1's cappa: 0.588912\n",
      "[300]\ttraining's rmse: 0.859602\ttraining's cappa: 0.712924\tvalid_1's rmse: 0.987501\tvalid_1's cappa: 0.588889\n",
      "Early stopping, best iteration is:\n",
      "[274]\ttraining's rmse: 0.867411\ttraining's cappa: 0.705761\tvalid_1's rmse: 0.986965\tvalid_1's cappa: 0.592346\n",
      "parameter 13 23 0.9259403109497821 0.9867377605333274 1 16.945819876700593 29.832870523776812\n",
      "score 0.9869651356992362\n",
      "| \u001b[0m 172     \u001b[0m | \u001b[0m-0.987   \u001b[0m | \u001b[0m 0.9259  \u001b[0m | \u001b[0m 16.95   \u001b[0m | \u001b[0m 29.83   \u001b[0m | \u001b[0m 13.87   \u001b[0m | \u001b[0m 23.79   \u001b[0m | \u001b[0m 0.9867  \u001b[0m | \u001b[0m 1.019   \u001b[0m |\n"
     ]
    },
    {
     "name": "stderr",
     "output_type": "stream",
     "text": [
      "/home/jupyter-shliu/.local/lib/python3.6/site-packages/lightgbm/engine.py:153: UserWarning: Found `early_stopping_rounds` in params. Will use it instead of argument\n",
      "  warnings.warn(\"Found `{}` in params. Will use it instead of argument\".format(alias))\n",
      "/home/jupyter-shliu/.local/lib/python3.6/site-packages/lightgbm/basic.py:1236: FutureWarning: elementwise comparison failed; returning scalar instead, but in the future will perform elementwise comparison\n",
      "  if self.categorical_feature == categorical_feature:\n",
      "/home/jupyter-shliu/.local/lib/python3.6/site-packages/lightgbm/basic.py:1242: FutureWarning: elementwise comparison failed; returning scalar instead, but in the future will perform elementwise comparison\n",
      "  elif categorical_feature == 'auto':\n",
      "/home/jupyter-shliu/.local/lib/python3.6/site-packages/lightgbm/basic.py:1247: UserWarning: categorical_feature in Dataset is overridden.\n",
      "New categorical_feature is []\n",
      "  'New categorical_feature is {}'.format(sorted(list(categorical_feature))))\n"
     ]
    },
    {
     "name": "stdout",
     "output_type": "stream",
     "text": [
      "Training until validation scores don't improve for 100 rounds\n",
      "[100]\ttraining's rmse: 0.955383\ttraining's cappa: 0.624743\tvalid_1's rmse: 1.00144\tvalid_1's cappa: 0.572932\n",
      "[200]\ttraining's rmse: 0.915278\ttraining's cappa: 0.6596\tvalid_1's rmse: 0.992659\tvalid_1's cappa: 0.580186\n",
      "[300]\ttraining's rmse: 0.894491\ttraining's cappa: 0.681238\tvalid_1's rmse: 0.990734\tvalid_1's cappa: 0.584253\n",
      "[400]\ttraining's rmse: 0.883239\ttraining's cappa: 0.693052\tvalid_1's rmse: 0.990172\tvalid_1's cappa: 0.585813\n",
      "[500]\ttraining's rmse: 0.880294\ttraining's cappa: 0.696525\tvalid_1's rmse: 0.989938\tvalid_1's cappa: 0.583887\n",
      "Early stopping, best iteration is:\n",
      "[418]\ttraining's rmse: 0.882403\ttraining's cappa: 0.694334\tvalid_1's rmse: 0.990043\tvalid_1's cappa: 0.586181\n",
      "parameter 14 26 0.8855565618199754 0.9895750232465168 1 49.35909786174239 22.078703714374274\n",
      "score 0.9900434655414123\n",
      "| \u001b[0m 173     \u001b[0m | \u001b[0m-0.99    \u001b[0m | \u001b[0m 0.8856  \u001b[0m | \u001b[0m 49.36   \u001b[0m | \u001b[0m 22.08   \u001b[0m | \u001b[0m 14.97   \u001b[0m | \u001b[0m 26.95   \u001b[0m | \u001b[0m 0.9896  \u001b[0m | \u001b[0m 1.492   \u001b[0m |\n"
     ]
    },
    {
     "name": "stderr",
     "output_type": "stream",
     "text": [
      "/home/jupyter-shliu/.local/lib/python3.6/site-packages/lightgbm/basic.py:285: FutureWarning: elementwise comparison failed; returning scalar instead, but in the future will perform elementwise comparison\n",
      "  if categorical_feature == 'auto':  # use cat cols from DataFrame\n",
      "/home/jupyter-shliu/.local/lib/python3.6/site-packages/lightgbm/engine.py:153: UserWarning: Found `early_stopping_rounds` in params. Will use it instead of argument\n",
      "  warnings.warn(\"Found `{}` in params. Will use it instead of argument\".format(alias))\n",
      "/home/jupyter-shliu/.local/lib/python3.6/site-packages/lightgbm/basic.py:1236: FutureWarning: elementwise comparison failed; returning scalar instead, but in the future will perform elementwise comparison\n",
      "  if self.categorical_feature == categorical_feature:\n",
      "/home/jupyter-shliu/.local/lib/python3.6/site-packages/lightgbm/basic.py:1242: FutureWarning: elementwise comparison failed; returning scalar instead, but in the future will perform elementwise comparison\n",
      "  elif categorical_feature == 'auto':\n",
      "/home/jupyter-shliu/.local/lib/python3.6/site-packages/lightgbm/basic.py:1247: UserWarning: categorical_feature in Dataset is overridden.\n",
      "New categorical_feature is []\n",
      "  'New categorical_feature is {}'.format(sorted(list(categorical_feature))))\n",
      "/home/jupyter-shliu/.local/lib/python3.6/site-packages/lightgbm/basic.py:285: FutureWarning: elementwise comparison failed; returning scalar instead, but in the future will perform elementwise comparison\n",
      "  if categorical_feature == 'auto':  # use cat cols from DataFrame\n"
     ]
    },
    {
     "name": "stdout",
     "output_type": "stream",
     "text": [
      "Training until validation scores don't improve for 100 rounds\n",
      "[100]\ttraining's rmse: 0.924633\ttraining's cappa: 0.65818\tvalid_1's rmse: 0.996148\tvalid_1's cappa: 0.58291\n",
      "[200]\ttraining's rmse: 0.86715\ttraining's cappa: 0.705631\tvalid_1's rmse: 0.989995\tvalid_1's cappa: 0.586774\n",
      "[300]\ttraining's rmse: 0.826977\ttraining's cappa: 0.7426\tvalid_1's rmse: 0.989788\tvalid_1's cappa: 0.586315\n",
      "Early stopping, best iteration is:\n",
      "[281]\ttraining's rmse: 0.834517\ttraining's cappa: 0.735316\tvalid_1's rmse: 0.989381\tvalid_1's cappa: 0.588126\n",
      "parameter 5 58 0.6661148977690252 0.9769133040902171 2 0.5501073472413074 16.770342495124442\n",
      "score 0.9893805362767978\n",
      "| \u001b[0m 174     \u001b[0m | \u001b[0m-0.9894  \u001b[0m | \u001b[0m 0.6661  \u001b[0m | \u001b[0m 0.5501  \u001b[0m | \u001b[0m 16.77   \u001b[0m | \u001b[0m 5.304   \u001b[0m | \u001b[0m 58.17   \u001b[0m | \u001b[0m 0.9769  \u001b[0m | \u001b[0m 2.803   \u001b[0m |\n"
     ]
    },
    {
     "name": "stderr",
     "output_type": "stream",
     "text": [
      "/home/jupyter-shliu/.local/lib/python3.6/site-packages/lightgbm/engine.py:153: UserWarning: Found `early_stopping_rounds` in params. Will use it instead of argument\n",
      "  warnings.warn(\"Found `{}` in params. Will use it instead of argument\".format(alias))\n",
      "/home/jupyter-shliu/.local/lib/python3.6/site-packages/lightgbm/basic.py:1236: FutureWarning: elementwise comparison failed; returning scalar instead, but in the future will perform elementwise comparison\n",
      "  if self.categorical_feature == categorical_feature:\n",
      "/home/jupyter-shliu/.local/lib/python3.6/site-packages/lightgbm/basic.py:1242: FutureWarning: elementwise comparison failed; returning scalar instead, but in the future will perform elementwise comparison\n",
      "  elif categorical_feature == 'auto':\n",
      "/home/jupyter-shliu/.local/lib/python3.6/site-packages/lightgbm/basic.py:1247: UserWarning: categorical_feature in Dataset is overridden.\n",
      "New categorical_feature is []\n",
      "  'New categorical_feature is {}'.format(sorted(list(categorical_feature))))\n",
      "/home/jupyter-shliu/.local/lib/python3.6/site-packages/lightgbm/basic.py:285: FutureWarning: elementwise comparison failed; returning scalar instead, but in the future will perform elementwise comparison\n",
      "  if categorical_feature == 'auto':  # use cat cols from DataFrame\n"
     ]
    },
    {
     "name": "stdout",
     "output_type": "stream",
     "text": [
      "Training until validation scores don't improve for 100 rounds\n",
      "[100]\ttraining's rmse: 0.973316\ttraining's cappa: 0.609348\tvalid_1's rmse: 1.013\tvalid_1's cappa: 0.565312\n",
      "[200]\ttraining's rmse: 0.932726\ttraining's cappa: 0.644433\tvalid_1's rmse: 0.995239\tvalid_1's cappa: 0.569715\n",
      "[300]\ttraining's rmse: 0.910397\ttraining's cappa: 0.664476\tvalid_1's rmse: 0.991459\tvalid_1's cappa: 0.574989\n",
      "[400]\ttraining's rmse: 0.89384\ttraining's cappa: 0.680249\tvalid_1's rmse: 0.991226\tvalid_1's cappa: 0.578517\n",
      "[500]\ttraining's rmse: 0.880636\ttraining's cappa: 0.693659\tvalid_1's rmse: 0.990267\tvalid_1's cappa: 0.579341\n",
      "[600]\ttraining's rmse: 0.869658\ttraining's cappa: 0.704173\tvalid_1's rmse: 0.990028\tvalid_1's cappa: 0.579424\n",
      "Early stopping, best iteration is:\n",
      "[537]\ttraining's rmse: 0.87613\ttraining's cappa: 0.699126\tvalid_1's rmse: 0.990143\tvalid_1's cappa: 0.582221\n",
      "parameter 5 99 0.3534118378517672 0.9616278330894039 2 37.2197365233238 1.0219369002598668\n",
      "score 0.9901430912885021\n",
      "| \u001b[0m 175     \u001b[0m | \u001b[0m-0.9901  \u001b[0m | \u001b[0m 0.3534  \u001b[0m | \u001b[0m 37.22   \u001b[0m | \u001b[0m 1.022   \u001b[0m | \u001b[0m 5.149   \u001b[0m | \u001b[0m 99.77   \u001b[0m | \u001b[0m 0.9616  \u001b[0m | \u001b[0m 2.823   \u001b[0m |\n"
     ]
    },
    {
     "name": "stderr",
     "output_type": "stream",
     "text": [
      "/home/jupyter-shliu/.local/lib/python3.6/site-packages/lightgbm/engine.py:153: UserWarning: Found `early_stopping_rounds` in params. Will use it instead of argument\n",
      "  warnings.warn(\"Found `{}` in params. Will use it instead of argument\".format(alias))\n",
      "/home/jupyter-shliu/.local/lib/python3.6/site-packages/lightgbm/basic.py:1236: FutureWarning: elementwise comparison failed; returning scalar instead, but in the future will perform elementwise comparison\n",
      "  if self.categorical_feature == categorical_feature:\n",
      "/home/jupyter-shliu/.local/lib/python3.6/site-packages/lightgbm/basic.py:1242: FutureWarning: elementwise comparison failed; returning scalar instead, but in the future will perform elementwise comparison\n",
      "  elif categorical_feature == 'auto':\n",
      "/home/jupyter-shliu/.local/lib/python3.6/site-packages/lightgbm/basic.py:1247: UserWarning: categorical_feature in Dataset is overridden.\n",
      "New categorical_feature is []\n",
      "  'New categorical_feature is {}'.format(sorted(list(categorical_feature))))\n",
      "/home/jupyter-shliu/.local/lib/python3.6/site-packages/lightgbm/basic.py:285: FutureWarning: elementwise comparison failed; returning scalar instead, but in the future will perform elementwise comparison\n",
      "  if categorical_feature == 'auto':  # use cat cols from DataFrame\n"
     ]
    },
    {
     "name": "stdout",
     "output_type": "stream",
     "text": [
      "Training until validation scores don't improve for 100 rounds\n",
      "[100]\ttraining's rmse: 0.936257\ttraining's cappa: 0.64859\tvalid_1's rmse: 1.00115\tvalid_1's cappa: 0.57474\n",
      "[200]\ttraining's rmse: 0.889887\ttraining's cappa: 0.687699\tvalid_1's rmse: 0.99342\tvalid_1's cappa: 0.57868\n",
      "[300]\ttraining's rmse: 0.867599\ttraining's cappa: 0.710509\tvalid_1's rmse: 0.991706\tvalid_1's cappa: 0.580791\n",
      "[400]\ttraining's rmse: 0.854576\ttraining's cappa: 0.721399\tvalid_1's rmse: 0.991582\tvalid_1's cappa: 0.58071\n",
      "Early stopping, best iteration is:\n",
      "[339]\ttraining's rmse: 0.862085\ttraining's cappa: 0.715117\tvalid_1's rmse: 0.991318\tvalid_1's cappa: 0.580319\n",
      "parameter 15 84 0.8593267452304045 0.9296946140284605 1 49.99925960894296 36.12895995454454\n",
      "score 0.9913177806877015\n",
      "| \u001b[0m 176     \u001b[0m | \u001b[0m-0.9913  \u001b[0m | \u001b[0m 0.8593  \u001b[0m | \u001b[0m 50.0    \u001b[0m | \u001b[0m 36.13   \u001b[0m | \u001b[0m 15.78   \u001b[0m | \u001b[0m 84.5    \u001b[0m | \u001b[0m 0.9297  \u001b[0m | \u001b[0m 1.181   \u001b[0m |\n"
     ]
    },
    {
     "name": "stderr",
     "output_type": "stream",
     "text": [
      "/home/jupyter-shliu/.local/lib/python3.6/site-packages/lightgbm/engine.py:153: UserWarning: Found `early_stopping_rounds` in params. Will use it instead of argument\n",
      "  warnings.warn(\"Found `{}` in params. Will use it instead of argument\".format(alias))\n",
      "/home/jupyter-shliu/.local/lib/python3.6/site-packages/lightgbm/basic.py:1236: FutureWarning: elementwise comparison failed; returning scalar instead, but in the future will perform elementwise comparison\n",
      "  if self.categorical_feature == categorical_feature:\n",
      "/home/jupyter-shliu/.local/lib/python3.6/site-packages/lightgbm/basic.py:1242: FutureWarning: elementwise comparison failed; returning scalar instead, but in the future will perform elementwise comparison\n",
      "  elif categorical_feature == 'auto':\n",
      "/home/jupyter-shliu/.local/lib/python3.6/site-packages/lightgbm/basic.py:1247: UserWarning: categorical_feature in Dataset is overridden.\n",
      "New categorical_feature is []\n",
      "  'New categorical_feature is {}'.format(sorted(list(categorical_feature))))\n",
      "/home/jupyter-shliu/.local/lib/python3.6/site-packages/lightgbm/basic.py:285: FutureWarning: elementwise comparison failed; returning scalar instead, but in the future will perform elementwise comparison\n",
      "  if categorical_feature == 'auto':  # use cat cols from DataFrame\n"
     ]
    },
    {
     "name": "stdout",
     "output_type": "stream",
     "text": [
      "Training until validation scores don't improve for 100 rounds\n",
      "[100]\ttraining's rmse: 0.952237\ttraining's cappa: 0.633673\tvalid_1's rmse: 1.00426\tvalid_1's cappa: 0.579431\n",
      "[200]\ttraining's rmse: 0.912726\ttraining's cappa: 0.666063\tvalid_1's rmse: 0.993665\tvalid_1's cappa: 0.576938\n",
      "Early stopping, best iteration is:\n",
      "[118]\ttraining's rmse: 0.94232\ttraining's cappa: 0.64121\tvalid_1's rmse: 1.0001\tvalid_1's cappa: 0.582577\n",
      "parameter 8 92 0.49472392494237 0.9842419608485098 1 49.46033065958471 49.17987412371888\n",
      "score 1.0000973103342623\n",
      "| \u001b[0m 177     \u001b[0m | \u001b[0m-1.0     \u001b[0m | \u001b[0m 0.4947  \u001b[0m | \u001b[0m 49.46   \u001b[0m | \u001b[0m 49.18   \u001b[0m | \u001b[0m 8.602   \u001b[0m | \u001b[0m 92.63   \u001b[0m | \u001b[0m 0.9842  \u001b[0m | \u001b[0m 1.032   \u001b[0m |\n"
     ]
    },
    {
     "name": "stderr",
     "output_type": "stream",
     "text": [
      "/home/jupyter-shliu/.local/lib/python3.6/site-packages/lightgbm/engine.py:153: UserWarning: Found `early_stopping_rounds` in params. Will use it instead of argument\n",
      "  warnings.warn(\"Found `{}` in params. Will use it instead of argument\".format(alias))\n",
      "/home/jupyter-shliu/.local/lib/python3.6/site-packages/lightgbm/basic.py:1236: FutureWarning: elementwise comparison failed; returning scalar instead, but in the future will perform elementwise comparison\n",
      "  if self.categorical_feature == categorical_feature:\n",
      "/home/jupyter-shliu/.local/lib/python3.6/site-packages/lightgbm/basic.py:1242: FutureWarning: elementwise comparison failed; returning scalar instead, but in the future will perform elementwise comparison\n",
      "  elif categorical_feature == 'auto':\n",
      "/home/jupyter-shliu/.local/lib/python3.6/site-packages/lightgbm/basic.py:1247: UserWarning: categorical_feature in Dataset is overridden.\n",
      "New categorical_feature is []\n",
      "  'New categorical_feature is {}'.format(sorted(list(categorical_feature))))\n",
      "/home/jupyter-shliu/.local/lib/python3.6/site-packages/lightgbm/basic.py:285: FutureWarning: elementwise comparison failed; returning scalar instead, but in the future will perform elementwise comparison\n",
      "  if categorical_feature == 'auto':  # use cat cols from DataFrame\n"
     ]
    },
    {
     "name": "stdout",
     "output_type": "stream",
     "text": [
      "Training until validation scores don't improve for 100 rounds\n",
      "[100]\ttraining's rmse: 0.937058\ttraining's cappa: 0.643976\tvalid_1's rmse: 1.00073\tvalid_1's cappa: 0.568426\n",
      "[200]\ttraining's rmse: 0.891934\ttraining's cappa: 0.684465\tvalid_1's rmse: 0.992962\tvalid_1's cappa: 0.580104\n",
      "[300]\ttraining's rmse: 0.870225\ttraining's cappa: 0.705387\tvalid_1's rmse: 0.990621\tvalid_1's cappa: 0.583158\n",
      "[400]\ttraining's rmse: 0.858766\ttraining's cappa: 0.715008\tvalid_1's rmse: 0.990428\tvalid_1's cappa: 0.584099\n",
      "Early stopping, best iteration is:\n",
      "[360]\ttraining's rmse: 0.862471\ttraining's cappa: 0.712743\tvalid_1's rmse: 0.990649\tvalid_1's cappa: 0.585103\n",
      "parameter 10 83 0.8676679263247182 0.9676336777229249 2 48.18381761098344 32.43523676652269\n",
      "score 0.9906485240061544\n",
      "| \u001b[0m 178     \u001b[0m | \u001b[0m-0.9906  \u001b[0m | \u001b[0m 0.8677  \u001b[0m | \u001b[0m 48.18   \u001b[0m | \u001b[0m 32.44   \u001b[0m | \u001b[0m 10.91   \u001b[0m | \u001b[0m 83.83   \u001b[0m | \u001b[0m 0.9676  \u001b[0m | \u001b[0m 2.94    \u001b[0m |\n"
     ]
    },
    {
     "name": "stderr",
     "output_type": "stream",
     "text": [
      "/home/jupyter-shliu/.local/lib/python3.6/site-packages/lightgbm/engine.py:153: UserWarning: Found `early_stopping_rounds` in params. Will use it instead of argument\n",
      "  warnings.warn(\"Found `{}` in params. Will use it instead of argument\".format(alias))\n",
      "/home/jupyter-shliu/.local/lib/python3.6/site-packages/lightgbm/basic.py:1236: FutureWarning: elementwise comparison failed; returning scalar instead, but in the future will perform elementwise comparison\n",
      "  if self.categorical_feature == categorical_feature:\n",
      "/home/jupyter-shliu/.local/lib/python3.6/site-packages/lightgbm/basic.py:1242: FutureWarning: elementwise comparison failed; returning scalar instead, but in the future will perform elementwise comparison\n",
      "  elif categorical_feature == 'auto':\n",
      "/home/jupyter-shliu/.local/lib/python3.6/site-packages/lightgbm/basic.py:1247: UserWarning: categorical_feature in Dataset is overridden.\n",
      "New categorical_feature is []\n",
      "  'New categorical_feature is {}'.format(sorted(list(categorical_feature))))\n",
      "/home/jupyter-shliu/.local/lib/python3.6/site-packages/lightgbm/basic.py:285: FutureWarning: elementwise comparison failed; returning scalar instead, but in the future will perform elementwise comparison\n",
      "  if categorical_feature == 'auto':  # use cat cols from DataFrame\n"
     ]
    },
    {
     "name": "stdout",
     "output_type": "stream",
     "text": [
      "Training until validation scores don't improve for 100 rounds\n",
      "[100]\ttraining's rmse: 0.940759\ttraining's cappa: 0.642569\tvalid_1's rmse: 1.00361\tvalid_1's cappa: 0.570621\n",
      "[200]\ttraining's rmse: 0.895248\ttraining's cappa: 0.684757\tvalid_1's rmse: 0.996251\tvalid_1's cappa: 0.576553\n",
      "[300]\ttraining's rmse: 0.872332\ttraining's cappa: 0.703829\tvalid_1's rmse: 0.994432\tvalid_1's cappa: 0.583858\n",
      "Early stopping, best iteration is:\n",
      "[276]\ttraining's rmse: 0.877532\ttraining's cappa: 0.6994\tvalid_1's rmse: 0.994624\tvalid_1's cappa: 0.586453\n",
      "parameter 15 99 0.9218308856207966 0.8145845237877445 2 49.505607865624555 38.0206858791565\n",
      "score 0.9946240789525824\n",
      "| \u001b[0m 179     \u001b[0m | \u001b[0m-0.9946  \u001b[0m | \u001b[0m 0.9218  \u001b[0m | \u001b[0m 49.51   \u001b[0m | \u001b[0m 38.02   \u001b[0m | \u001b[0m 15.43   \u001b[0m | \u001b[0m 99.8    \u001b[0m | \u001b[0m 0.8146  \u001b[0m | \u001b[0m 2.828   \u001b[0m |\n"
     ]
    },
    {
     "name": "stderr",
     "output_type": "stream",
     "text": [
      "/home/jupyter-shliu/.local/lib/python3.6/site-packages/lightgbm/engine.py:153: UserWarning: Found `early_stopping_rounds` in params. Will use it instead of argument\n",
      "  warnings.warn(\"Found `{}` in params. Will use it instead of argument\".format(alias))\n",
      "/home/jupyter-shliu/.local/lib/python3.6/site-packages/lightgbm/basic.py:1236: FutureWarning: elementwise comparison failed; returning scalar instead, but in the future will perform elementwise comparison\n",
      "  if self.categorical_feature == categorical_feature:\n",
      "/home/jupyter-shliu/.local/lib/python3.6/site-packages/lightgbm/basic.py:1242: FutureWarning: elementwise comparison failed; returning scalar instead, but in the future will perform elementwise comparison\n",
      "  elif categorical_feature == 'auto':\n",
      "/home/jupyter-shliu/.local/lib/python3.6/site-packages/lightgbm/basic.py:1247: UserWarning: categorical_feature in Dataset is overridden.\n",
      "New categorical_feature is []\n",
      "  'New categorical_feature is {}'.format(sorted(list(categorical_feature))))\n",
      "/home/jupyter-shliu/.local/lib/python3.6/site-packages/lightgbm/basic.py:285: FutureWarning: elementwise comparison failed; returning scalar instead, but in the future will perform elementwise comparison\n",
      "  if categorical_feature == 'auto':  # use cat cols from DataFrame\n"
     ]
    },
    {
     "name": "stdout",
     "output_type": "stream",
     "text": [
      "Training until validation scores don't improve for 100 rounds\n",
      "[100]\ttraining's rmse: 0.965221\ttraining's cappa: 0.614802\tvalid_1's rmse: 1.00339\tvalid_1's cappa: 0.570708\n",
      "[200]\ttraining's rmse: 0.924525\ttraining's cappa: 0.653082\tvalid_1's rmse: 0.992255\tvalid_1's cappa: 0.580607\n",
      "[300]\ttraining's rmse: 0.898557\ttraining's cappa: 0.678388\tvalid_1's rmse: 0.990859\tvalid_1's cappa: 0.583209\n",
      "[400]\ttraining's rmse: 0.878638\ttraining's cappa: 0.694174\tvalid_1's rmse: 0.990149\tvalid_1's cappa: 0.583907\n",
      "Early stopping, best iteration is:\n",
      "[328]\ttraining's rmse: 0.892518\ttraining's cappa: 0.682896\tvalid_1's rmse: 0.990189\tvalid_1's cappa: 0.585404\n",
      "parameter 5 98 0.9781837081712939 0.9303937060533818 2 32.63055680615009 37.99724603406516\n",
      "score 0.9901889448957178\n",
      "| \u001b[0m 180     \u001b[0m | \u001b[0m-0.9902  \u001b[0m | \u001b[0m 0.9782  \u001b[0m | \u001b[0m 32.63   \u001b[0m | \u001b[0m 38.0    \u001b[0m | \u001b[0m 5.889   \u001b[0m | \u001b[0m 98.31   \u001b[0m | \u001b[0m 0.9304  \u001b[0m | \u001b[0m 2.956   \u001b[0m |\n"
     ]
    },
    {
     "name": "stderr",
     "output_type": "stream",
     "text": [
      "/home/jupyter-shliu/.local/lib/python3.6/site-packages/lightgbm/engine.py:153: UserWarning: Found `early_stopping_rounds` in params. Will use it instead of argument\n",
      "  warnings.warn(\"Found `{}` in params. Will use it instead of argument\".format(alias))\n",
      "/home/jupyter-shliu/.local/lib/python3.6/site-packages/lightgbm/basic.py:1236: FutureWarning: elementwise comparison failed; returning scalar instead, but in the future will perform elementwise comparison\n",
      "  if self.categorical_feature == categorical_feature:\n",
      "/home/jupyter-shliu/.local/lib/python3.6/site-packages/lightgbm/basic.py:1242: FutureWarning: elementwise comparison failed; returning scalar instead, but in the future will perform elementwise comparison\n",
      "  elif categorical_feature == 'auto':\n",
      "/home/jupyter-shliu/.local/lib/python3.6/site-packages/lightgbm/basic.py:1247: UserWarning: categorical_feature in Dataset is overridden.\n",
      "New categorical_feature is []\n",
      "  'New categorical_feature is {}'.format(sorted(list(categorical_feature))))\n",
      "/home/jupyter-shliu/.local/lib/python3.6/site-packages/lightgbm/basic.py:285: FutureWarning: elementwise comparison failed; returning scalar instead, but in the future will perform elementwise comparison\n",
      "  if categorical_feature == 'auto':  # use cat cols from DataFrame\n"
     ]
    },
    {
     "name": "stdout",
     "output_type": "stream",
     "text": [
      "Training until validation scores don't improve for 100 rounds\n",
      "[100]\ttraining's rmse: 0.932827\ttraining's cappa: 0.648693\tvalid_1's rmse: 0.992704\tvalid_1's cappa: 0.57851\n",
      "[200]\ttraining's rmse: 0.875168\ttraining's cappa: 0.695725\tvalid_1's rmse: 0.988547\tvalid_1's cappa: 0.584671\n",
      "Early stopping, best iteration is:\n",
      "[158]\ttraining's rmse: 0.895365\ttraining's cappa: 0.681253\tvalid_1's rmse: 0.98782\tvalid_1's cappa: 0.583237\n",
      "parameter 12 18 0.5476430540125845 0.9859099000433449 2 0.2653564396143796 0.24881854823454574\n",
      "score 0.987819984559758\n",
      "| \u001b[0m 181     \u001b[0m | \u001b[0m-0.9878  \u001b[0m | \u001b[0m 0.5476  \u001b[0m | \u001b[0m 0.2654  \u001b[0m | \u001b[0m 0.2488  \u001b[0m | \u001b[0m 12.43   \u001b[0m | \u001b[0m 18.11   \u001b[0m | \u001b[0m 0.9859  \u001b[0m | \u001b[0m 2.892   \u001b[0m |\n"
     ]
    },
    {
     "name": "stderr",
     "output_type": "stream",
     "text": [
      "/home/jupyter-shliu/.local/lib/python3.6/site-packages/lightgbm/engine.py:153: UserWarning: Found `early_stopping_rounds` in params. Will use it instead of argument\n",
      "  warnings.warn(\"Found `{}` in params. Will use it instead of argument\".format(alias))\n",
      "/home/jupyter-shliu/.local/lib/python3.6/site-packages/lightgbm/basic.py:1236: FutureWarning: elementwise comparison failed; returning scalar instead, but in the future will perform elementwise comparison\n",
      "  if self.categorical_feature == categorical_feature:\n",
      "/home/jupyter-shliu/.local/lib/python3.6/site-packages/lightgbm/basic.py:1242: FutureWarning: elementwise comparison failed; returning scalar instead, but in the future will perform elementwise comparison\n",
      "  elif categorical_feature == 'auto':\n",
      "/home/jupyter-shliu/.local/lib/python3.6/site-packages/lightgbm/basic.py:1247: UserWarning: categorical_feature in Dataset is overridden.\n",
      "New categorical_feature is []\n",
      "  'New categorical_feature is {}'.format(sorted(list(categorical_feature))))\n",
      "/home/jupyter-shliu/.local/lib/python3.6/site-packages/lightgbm/basic.py:285: FutureWarning: elementwise comparison failed; returning scalar instead, but in the future will perform elementwise comparison\n",
      "  if categorical_feature == 'auto':  # use cat cols from DataFrame\n"
     ]
    },
    {
     "name": "stdout",
     "output_type": "stream",
     "text": [
      "Training until validation scores don't improve for 100 rounds\n",
      "[100]\ttraining's rmse: 0.974963\ttraining's cappa: 0.606236\tvalid_1's rmse: 1.00809\tvalid_1's cappa: 0.56864\n",
      "[200]\ttraining's rmse: 0.939462\ttraining's cappa: 0.635017\tvalid_1's rmse: 0.995875\tvalid_1's cappa: 0.576909\n",
      "[300]\ttraining's rmse: 0.920703\ttraining's cappa: 0.654592\tvalid_1's rmse: 0.992914\tvalid_1's cappa: 0.58141\n",
      "[400]\ttraining's rmse: 0.909132\ttraining's cappa: 0.66525\tvalid_1's rmse: 0.99205\tvalid_1's cappa: 0.580995\n",
      "Early stopping, best iteration is:\n",
      "[321]\ttraining's rmse: 0.917564\ttraining's cappa: 0.657433\tvalid_1's rmse: 0.992662\tvalid_1's cappa: 0.582657\n",
      "parameter 5 80 0.991675286562691 0.9800135723279828 2 49.62284407414146 49.59905267966901\n",
      "score 0.9926623672219803\n",
      "| \u001b[0m 182     \u001b[0m | \u001b[0m-0.9927  \u001b[0m | \u001b[0m 0.9917  \u001b[0m | \u001b[0m 49.62   \u001b[0m | \u001b[0m 49.6    \u001b[0m | \u001b[0m 5.209   \u001b[0m | \u001b[0m 80.18   \u001b[0m | \u001b[0m 0.98    \u001b[0m | \u001b[0m 2.993   \u001b[0m |\n"
     ]
    },
    {
     "name": "stderr",
     "output_type": "stream",
     "text": [
      "/home/jupyter-shliu/.local/lib/python3.6/site-packages/lightgbm/engine.py:153: UserWarning: Found `early_stopping_rounds` in params. Will use it instead of argument\n",
      "  warnings.warn(\"Found `{}` in params. Will use it instead of argument\".format(alias))\n",
      "/home/jupyter-shliu/.local/lib/python3.6/site-packages/lightgbm/basic.py:1236: FutureWarning: elementwise comparison failed; returning scalar instead, but in the future will perform elementwise comparison\n",
      "  if self.categorical_feature == categorical_feature:\n",
      "/home/jupyter-shliu/.local/lib/python3.6/site-packages/lightgbm/basic.py:1242: FutureWarning: elementwise comparison failed; returning scalar instead, but in the future will perform elementwise comparison\n",
      "  elif categorical_feature == 'auto':\n",
      "/home/jupyter-shliu/.local/lib/python3.6/site-packages/lightgbm/basic.py:1247: UserWarning: categorical_feature in Dataset is overridden.\n",
      "New categorical_feature is []\n",
      "  'New categorical_feature is {}'.format(sorted(list(categorical_feature))))\n",
      "/home/jupyter-shliu/.local/lib/python3.6/site-packages/lightgbm/basic.py:285: FutureWarning: elementwise comparison failed; returning scalar instead, but in the future will perform elementwise comparison\n",
      "  if categorical_feature == 'auto':  # use cat cols from DataFrame\n"
     ]
    },
    {
     "name": "stdout",
     "output_type": "stream",
     "text": [
      "Training until validation scores don't improve for 100 rounds\n",
      "[100]\ttraining's rmse: 0.930212\ttraining's cappa: 0.654493\tvalid_1's rmse: 0.999133\tvalid_1's cappa: 0.580861\n",
      "[200]\ttraining's rmse: 0.880555\ttraining's cappa: 0.694382\tvalid_1's rmse: 0.992531\tvalid_1's cappa: 0.579285\n",
      "Early stopping, best iteration is:\n",
      "[105]\ttraining's rmse: 0.926877\ttraining's cappa: 0.657013\tvalid_1's rmse: 0.998056\tvalid_1's cappa: 0.582829\n",
      "parameter 9 52 0.5531485411768677 0.9926034913037878 1 39.24343988254801 16.960163695511444\n",
      "score 0.998056446459597\n",
      "| \u001b[0m 183     \u001b[0m | \u001b[0m-0.9981  \u001b[0m | \u001b[0m 0.5531  \u001b[0m | \u001b[0m 39.24   \u001b[0m | \u001b[0m 16.96   \u001b[0m | \u001b[0m 9.838   \u001b[0m | \u001b[0m 52.66   \u001b[0m | \u001b[0m 0.9926  \u001b[0m | \u001b[0m 1.039   \u001b[0m |\n"
     ]
    },
    {
     "name": "stderr",
     "output_type": "stream",
     "text": [
      "/home/jupyter-shliu/.local/lib/python3.6/site-packages/lightgbm/engine.py:153: UserWarning: Found `early_stopping_rounds` in params. Will use it instead of argument\n",
      "  warnings.warn(\"Found `{}` in params. Will use it instead of argument\".format(alias))\n",
      "/home/jupyter-shliu/.local/lib/python3.6/site-packages/lightgbm/basic.py:1236: FutureWarning: elementwise comparison failed; returning scalar instead, but in the future will perform elementwise comparison\n",
      "  if self.categorical_feature == categorical_feature:\n",
      "/home/jupyter-shliu/.local/lib/python3.6/site-packages/lightgbm/basic.py:1242: FutureWarning: elementwise comparison failed; returning scalar instead, but in the future will perform elementwise comparison\n",
      "  elif categorical_feature == 'auto':\n",
      "/home/jupyter-shliu/.local/lib/python3.6/site-packages/lightgbm/basic.py:1247: UserWarning: categorical_feature in Dataset is overridden.\n",
      "New categorical_feature is []\n",
      "  'New categorical_feature is {}'.format(sorted(list(categorical_feature))))\n",
      "/home/jupyter-shliu/.local/lib/python3.6/site-packages/lightgbm/basic.py:285: FutureWarning: elementwise comparison failed; returning scalar instead, but in the future will perform elementwise comparison\n",
      "  if categorical_feature == 'auto':  # use cat cols from DataFrame\n"
     ]
    },
    {
     "name": "stdout",
     "output_type": "stream",
     "text": [
      "Training until validation scores don't improve for 100 rounds\n",
      "[100]\ttraining's rmse: 0.962556\ttraining's cappa: 0.617428\tvalid_1's rmse: 1.00137\tvalid_1's cappa: 0.572416\n",
      "[200]\ttraining's rmse: 0.923088\ttraining's cappa: 0.653963\tvalid_1's rmse: 0.991182\tvalid_1's cappa: 0.585988\n",
      "Early stopping, best iteration is:\n",
      "[188]\ttraining's rmse: 0.926574\ttraining's cappa: 0.649179\tvalid_1's rmse: 0.991829\tvalid_1's cappa: 0.58757\n",
      "parameter 5 49 0.7478760180818371 0.9276225220628951 2 36.025779579901815 0.1612349526270154\n",
      "score 0.9918293549524367\n",
      "| \u001b[0m 184     \u001b[0m | \u001b[0m-0.9918  \u001b[0m | \u001b[0m 0.7479  \u001b[0m | \u001b[0m 36.03   \u001b[0m | \u001b[0m 0.1612  \u001b[0m | \u001b[0m 5.108   \u001b[0m | \u001b[0m 49.18   \u001b[0m | \u001b[0m 0.9276  \u001b[0m | \u001b[0m 2.202   \u001b[0m |\n"
     ]
    },
    {
     "name": "stderr",
     "output_type": "stream",
     "text": [
      "/home/jupyter-shliu/.local/lib/python3.6/site-packages/lightgbm/engine.py:153: UserWarning: Found `early_stopping_rounds` in params. Will use it instead of argument\n",
      "  warnings.warn(\"Found `{}` in params. Will use it instead of argument\".format(alias))\n",
      "/home/jupyter-shliu/.local/lib/python3.6/site-packages/lightgbm/basic.py:1236: FutureWarning: elementwise comparison failed; returning scalar instead, but in the future will perform elementwise comparison\n",
      "  if self.categorical_feature == categorical_feature:\n",
      "/home/jupyter-shliu/.local/lib/python3.6/site-packages/lightgbm/basic.py:1242: FutureWarning: elementwise comparison failed; returning scalar instead, but in the future will perform elementwise comparison\n",
      "  elif categorical_feature == 'auto':\n",
      "/home/jupyter-shliu/.local/lib/python3.6/site-packages/lightgbm/basic.py:1247: UserWarning: categorical_feature in Dataset is overridden.\n",
      "New categorical_feature is []\n",
      "  'New categorical_feature is {}'.format(sorted(list(categorical_feature))))\n",
      "/home/jupyter-shliu/.local/lib/python3.6/site-packages/lightgbm/basic.py:285: FutureWarning: elementwise comparison failed; returning scalar instead, but in the future will perform elementwise comparison\n",
      "  if categorical_feature == 'auto':  # use cat cols from DataFrame\n"
     ]
    },
    {
     "name": "stdout",
     "output_type": "stream",
     "text": [
      "Training until validation scores don't improve for 100 rounds\n",
      "[100]\ttraining's rmse: 0.94864\ttraining's cappa: 0.63777\tvalid_1's rmse: 1.00535\tvalid_1's cappa: 0.569643\n",
      "[200]\ttraining's rmse: 0.898268\ttraining's cappa: 0.681144\tvalid_1's rmse: 0.996757\tvalid_1's cappa: 0.575398\n",
      "[300]\ttraining's rmse: 0.86411\ttraining's cappa: 0.709855\tvalid_1's rmse: 0.995264\tvalid_1's cappa: 0.581953\n",
      "Early stopping, best iteration is:\n",
      "[296]\ttraining's rmse: 0.865348\ttraining's cappa: 0.708754\tvalid_1's rmse: 0.994962\tvalid_1's cappa: 0.582264\n",
      "parameter 15 99 0.9209099128142175 0.43547665806246355 2 26.03516000604534 47.64806488166768\n",
      "score 0.9949619148986834\n",
      "| \u001b[0m 185     \u001b[0m | \u001b[0m-0.995   \u001b[0m | \u001b[0m 0.9209  \u001b[0m | \u001b[0m 26.04   \u001b[0m | \u001b[0m 47.65   \u001b[0m | \u001b[0m 15.71   \u001b[0m | \u001b[0m 99.92   \u001b[0m | \u001b[0m 0.4355  \u001b[0m | \u001b[0m 2.946   \u001b[0m |\n"
     ]
    },
    {
     "name": "stderr",
     "output_type": "stream",
     "text": [
      "/home/jupyter-shliu/.local/lib/python3.6/site-packages/lightgbm/engine.py:153: UserWarning: Found `early_stopping_rounds` in params. Will use it instead of argument\n",
      "  warnings.warn(\"Found `{}` in params. Will use it instead of argument\".format(alias))\n",
      "/home/jupyter-shliu/.local/lib/python3.6/site-packages/lightgbm/basic.py:1236: FutureWarning: elementwise comparison failed; returning scalar instead, but in the future will perform elementwise comparison\n",
      "  if self.categorical_feature == categorical_feature:\n",
      "/home/jupyter-shliu/.local/lib/python3.6/site-packages/lightgbm/basic.py:1242: FutureWarning: elementwise comparison failed; returning scalar instead, but in the future will perform elementwise comparison\n",
      "  elif categorical_feature == 'auto':\n",
      "/home/jupyter-shliu/.local/lib/python3.6/site-packages/lightgbm/basic.py:1247: UserWarning: categorical_feature in Dataset is overridden.\n",
      "New categorical_feature is []\n",
      "  'New categorical_feature is {}'.format(sorted(list(categorical_feature))))\n",
      "/home/jupyter-shliu/.local/lib/python3.6/site-packages/lightgbm/basic.py:285: FutureWarning: elementwise comparison failed; returning scalar instead, but in the future will perform elementwise comparison\n",
      "  if categorical_feature == 'auto':  # use cat cols from DataFrame\n"
     ]
    },
    {
     "name": "stdout",
     "output_type": "stream",
     "text": [
      "Training until validation scores don't improve for 100 rounds\n",
      "[100]\ttraining's rmse: 0.929509\ttraining's cappa: 0.652873\tvalid_1's rmse: 0.996029\tvalid_1's cappa: 0.579641\n",
      "[200]\ttraining's rmse: 0.87366\ttraining's cappa: 0.700716\tvalid_1's rmse: 0.98887\tvalid_1's cappa: 0.590163\n",
      "[300]\ttraining's rmse: 0.835143\ttraining's cappa: 0.732577\tvalid_1's rmse: 0.988845\tvalid_1's cappa: 0.587065\n",
      "Early stopping, best iteration is:\n",
      "[205]\ttraining's rmse: 0.871502\ttraining's cappa: 0.702013\tvalid_1's rmse: 0.988961\tvalid_1's cappa: 0.593116\n",
      "parameter 6 56 0.8900976413488528 0.9938198084148078 1 23.25473630893476 13.24102556416089\n",
      "score 0.9889613927518174\n",
      "| \u001b[0m 186     \u001b[0m | \u001b[0m-0.989   \u001b[0m | \u001b[0m 0.8901  \u001b[0m | \u001b[0m 23.25   \u001b[0m | \u001b[0m 13.24   \u001b[0m | \u001b[0m 6.185   \u001b[0m | \u001b[0m 56.08   \u001b[0m | \u001b[0m 0.9938  \u001b[0m | \u001b[0m 1.015   \u001b[0m |\n"
     ]
    },
    {
     "name": "stderr",
     "output_type": "stream",
     "text": [
      "/home/jupyter-shliu/.local/lib/python3.6/site-packages/lightgbm/engine.py:153: UserWarning: Found `early_stopping_rounds` in params. Will use it instead of argument\n",
      "  warnings.warn(\"Found `{}` in params. Will use it instead of argument\".format(alias))\n",
      "/home/jupyter-shliu/.local/lib/python3.6/site-packages/lightgbm/basic.py:1236: FutureWarning: elementwise comparison failed; returning scalar instead, but in the future will perform elementwise comparison\n",
      "  if self.categorical_feature == categorical_feature:\n",
      "/home/jupyter-shliu/.local/lib/python3.6/site-packages/lightgbm/basic.py:1242: FutureWarning: elementwise comparison failed; returning scalar instead, but in the future will perform elementwise comparison\n",
      "  elif categorical_feature == 'auto':\n",
      "/home/jupyter-shliu/.local/lib/python3.6/site-packages/lightgbm/basic.py:1247: UserWarning: categorical_feature in Dataset is overridden.\n",
      "New categorical_feature is []\n",
      "  'New categorical_feature is {}'.format(sorted(list(categorical_feature))))\n",
      "/home/jupyter-shliu/.local/lib/python3.6/site-packages/lightgbm/basic.py:285: FutureWarning: elementwise comparison failed; returning scalar instead, but in the future will perform elementwise comparison\n",
      "  if categorical_feature == 'auto':  # use cat cols from DataFrame\n"
     ]
    },
    {
     "name": "stdout",
     "output_type": "stream",
     "text": [
      "Training until validation scores don't improve for 100 rounds\n",
      "[100]\ttraining's rmse: 0.9133\ttraining's cappa: 0.668332\tvalid_1's rmse: 0.994478\tvalid_1's cappa: 0.577719\n",
      "[200]\ttraining's rmse: 0.850357\ttraining's cappa: 0.721127\tvalid_1's rmse: 0.98809\tvalid_1's cappa: 0.587121\n",
      "Early stopping, best iteration is:\n",
      "[145]\ttraining's rmse: 0.881386\ttraining's cappa: 0.692949\tvalid_1's rmse: 0.989064\tvalid_1's cappa: 0.590801\n",
      "parameter 8 38 0.9377427322527561 0.9673717655072813 1 12.090297187895258 49.37564695868745\n",
      "score 0.9890643365576708\n",
      "| \u001b[0m 187     \u001b[0m | \u001b[0m-0.9891  \u001b[0m | \u001b[0m 0.9377  \u001b[0m | \u001b[0m 12.09   \u001b[0m | \u001b[0m 49.38   \u001b[0m | \u001b[0m 8.107   \u001b[0m | \u001b[0m 38.28   \u001b[0m | \u001b[0m 0.9674  \u001b[0m | \u001b[0m 1.018   \u001b[0m |\n"
     ]
    },
    {
     "name": "stderr",
     "output_type": "stream",
     "text": [
      "/home/jupyter-shliu/.local/lib/python3.6/site-packages/lightgbm/engine.py:153: UserWarning: Found `early_stopping_rounds` in params. Will use it instead of argument\n",
      "  warnings.warn(\"Found `{}` in params. Will use it instead of argument\".format(alias))\n",
      "/home/jupyter-shliu/.local/lib/python3.6/site-packages/lightgbm/basic.py:1236: FutureWarning: elementwise comparison failed; returning scalar instead, but in the future will perform elementwise comparison\n",
      "  if self.categorical_feature == categorical_feature:\n",
      "/home/jupyter-shliu/.local/lib/python3.6/site-packages/lightgbm/basic.py:1242: FutureWarning: elementwise comparison failed; returning scalar instead, but in the future will perform elementwise comparison\n",
      "  elif categorical_feature == 'auto':\n",
      "/home/jupyter-shliu/.local/lib/python3.6/site-packages/lightgbm/basic.py:1247: UserWarning: categorical_feature in Dataset is overridden.\n",
      "New categorical_feature is []\n",
      "  'New categorical_feature is {}'.format(sorted(list(categorical_feature))))\n",
      "/home/jupyter-shliu/.local/lib/python3.6/site-packages/lightgbm/basic.py:285: FutureWarning: elementwise comparison failed; returning scalar instead, but in the future will perform elementwise comparison\n",
      "  if categorical_feature == 'auto':  # use cat cols from DataFrame\n"
     ]
    },
    {
     "name": "stdout",
     "output_type": "stream",
     "text": [
      "Training until validation scores don't improve for 100 rounds\n",
      "[100]\ttraining's rmse: 0.913359\ttraining's cappa: 0.666243\tvalid_1's rmse: 0.994102\tvalid_1's cappa: 0.577945\n",
      "[200]\ttraining's rmse: 0.85289\ttraining's cappa: 0.717443\tvalid_1's rmse: 0.988293\tvalid_1's cappa: 0.582988\n",
      "Early stopping, best iteration is:\n",
      "[172]\ttraining's rmse: 0.867389\ttraining's cappa: 0.703947\tvalid_1's rmse: 0.988629\tvalid_1's cappa: 0.587245\n",
      "parameter 15 35 0.675398140844268 0.978895210793133 2 18.95270427164711 0.38003113938206645\n",
      "score 0.9886285971938595\n",
      "| \u001b[0m 188     \u001b[0m | \u001b[0m-0.9886  \u001b[0m | \u001b[0m 0.6754  \u001b[0m | \u001b[0m 18.95   \u001b[0m | \u001b[0m 0.38    \u001b[0m | \u001b[0m 15.51   \u001b[0m | \u001b[0m 35.89   \u001b[0m | \u001b[0m 0.9789  \u001b[0m | \u001b[0m 2.745   \u001b[0m |\n"
     ]
    },
    {
     "name": "stderr",
     "output_type": "stream",
     "text": [
      "/home/jupyter-shliu/.local/lib/python3.6/site-packages/lightgbm/engine.py:153: UserWarning: Found `early_stopping_rounds` in params. Will use it instead of argument\n",
      "  warnings.warn(\"Found `{}` in params. Will use it instead of argument\".format(alias))\n",
      "/home/jupyter-shliu/.local/lib/python3.6/site-packages/lightgbm/basic.py:1236: FutureWarning: elementwise comparison failed; returning scalar instead, but in the future will perform elementwise comparison\n",
      "  if self.categorical_feature == categorical_feature:\n",
      "/home/jupyter-shliu/.local/lib/python3.6/site-packages/lightgbm/basic.py:1242: FutureWarning: elementwise comparison failed; returning scalar instead, but in the future will perform elementwise comparison\n",
      "  elif categorical_feature == 'auto':\n",
      "/home/jupyter-shliu/.local/lib/python3.6/site-packages/lightgbm/basic.py:1247: UserWarning: categorical_feature in Dataset is overridden.\n",
      "New categorical_feature is []\n",
      "  'New categorical_feature is {}'.format(sorted(list(categorical_feature))))\n",
      "/home/jupyter-shliu/.local/lib/python3.6/site-packages/lightgbm/basic.py:285: FutureWarning: elementwise comparison failed; returning scalar instead, but in the future will perform elementwise comparison\n",
      "  if categorical_feature == 'auto':  # use cat cols from DataFrame\n"
     ]
    },
    {
     "name": "stdout",
     "output_type": "stream",
     "text": [
      "Training until validation scores don't improve for 100 rounds\n",
      "[100]\ttraining's rmse: 0.91304\ttraining's cappa: 0.667363\tvalid_1's rmse: 0.99329\tvalid_1's cappa: 0.572162\n",
      "[200]\ttraining's rmse: 0.849003\ttraining's cappa: 0.721271\tvalid_1's rmse: 0.987624\tvalid_1's cappa: 0.58704\n",
      "[300]\ttraining's rmse: 0.803698\ttraining's cappa: 0.75967\tvalid_1's rmse: 0.98809\tvalid_1's cappa: 0.584778\n",
      "Early stopping, best iteration is:\n",
      "[224]\ttraining's rmse: 0.83684\ttraining's cappa: 0.731861\tvalid_1's rmse: 0.987366\tvalid_1's cappa: 0.589645\n",
      "parameter 15 34 0.969205823366992 0.9803346774750632 2 12.715267091847245 27.596406326303686\n",
      "score 0.9873660530010772\n",
      "| \u001b[0m 189     \u001b[0m | \u001b[0m-0.9874  \u001b[0m | \u001b[0m 0.9692  \u001b[0m | \u001b[0m 12.72   \u001b[0m | \u001b[0m 27.6    \u001b[0m | \u001b[0m 15.29   \u001b[0m | \u001b[0m 34.08   \u001b[0m | \u001b[0m 0.9803  \u001b[0m | \u001b[0m 2.324   \u001b[0m |\n"
     ]
    },
    {
     "name": "stderr",
     "output_type": "stream",
     "text": [
      "/home/jupyter-shliu/.local/lib/python3.6/site-packages/lightgbm/engine.py:153: UserWarning: Found `early_stopping_rounds` in params. Will use it instead of argument\n",
      "  warnings.warn(\"Found `{}` in params. Will use it instead of argument\".format(alias))\n",
      "/home/jupyter-shliu/.local/lib/python3.6/site-packages/lightgbm/basic.py:1236: FutureWarning: elementwise comparison failed; returning scalar instead, but in the future will perform elementwise comparison\n",
      "  if self.categorical_feature == categorical_feature:\n",
      "/home/jupyter-shliu/.local/lib/python3.6/site-packages/lightgbm/basic.py:1242: FutureWarning: elementwise comparison failed; returning scalar instead, but in the future will perform elementwise comparison\n",
      "  elif categorical_feature == 'auto':\n",
      "/home/jupyter-shliu/.local/lib/python3.6/site-packages/lightgbm/basic.py:1247: UserWarning: categorical_feature in Dataset is overridden.\n",
      "New categorical_feature is []\n",
      "  'New categorical_feature is {}'.format(sorted(list(categorical_feature))))\n",
      "/home/jupyter-shliu/.local/lib/python3.6/site-packages/lightgbm/basic.py:285: FutureWarning: elementwise comparison failed; returning scalar instead, but in the future will perform elementwise comparison\n",
      "  if categorical_feature == 'auto':  # use cat cols from DataFrame\n"
     ]
    },
    {
     "name": "stdout",
     "output_type": "stream",
     "text": [
      "Training until validation scores don't improve for 100 rounds\n",
      "[100]\ttraining's rmse: 0.742805\ttraining's cappa: 0.808063\tvalid_1's rmse: 0.998617\tvalid_1's cappa: 0.574325\n",
      "Early stopping, best iteration is:\n",
      "[45]\ttraining's rmse: 0.870574\ttraining's cappa: 0.729295\tvalid_1's rmse: 1.0086\tvalid_1's cappa: 0.578183\n",
      "parameter 15 96 0.9975112103855432 0.4955141465854494 2 0.39884570740264647 0.29247792689183105\n",
      "score 1.008595657089851\n",
      "| \u001b[0m 190     \u001b[0m | \u001b[0m-1.009   \u001b[0m | \u001b[0m 0.9975  \u001b[0m | \u001b[0m 0.3988  \u001b[0m | \u001b[0m 0.2925  \u001b[0m | \u001b[0m 15.79   \u001b[0m | \u001b[0m 96.53   \u001b[0m | \u001b[0m 0.4955  \u001b[0m | \u001b[0m 2.916   \u001b[0m |\n"
     ]
    },
    {
     "name": "stderr",
     "output_type": "stream",
     "text": [
      "/home/jupyter-shliu/.local/lib/python3.6/site-packages/lightgbm/engine.py:153: UserWarning: Found `early_stopping_rounds` in params. Will use it instead of argument\n",
      "  warnings.warn(\"Found `{}` in params. Will use it instead of argument\".format(alias))\n",
      "/home/jupyter-shliu/.local/lib/python3.6/site-packages/lightgbm/basic.py:1236: FutureWarning: elementwise comparison failed; returning scalar instead, but in the future will perform elementwise comparison\n",
      "  if self.categorical_feature == categorical_feature:\n",
      "/home/jupyter-shliu/.local/lib/python3.6/site-packages/lightgbm/basic.py:1242: FutureWarning: elementwise comparison failed; returning scalar instead, but in the future will perform elementwise comparison\n",
      "  elif categorical_feature == 'auto':\n",
      "/home/jupyter-shliu/.local/lib/python3.6/site-packages/lightgbm/basic.py:1247: UserWarning: categorical_feature in Dataset is overridden.\n",
      "New categorical_feature is []\n",
      "  'New categorical_feature is {}'.format(sorted(list(categorical_feature))))\n",
      "/home/jupyter-shliu/.local/lib/python3.6/site-packages/lightgbm/basic.py:285: FutureWarning: elementwise comparison failed; returning scalar instead, but in the future will perform elementwise comparison\n",
      "  if categorical_feature == 'auto':  # use cat cols from DataFrame\n"
     ]
    },
    {
     "name": "stdout",
     "output_type": "stream",
     "text": [
      "Training until validation scores don't improve for 100 rounds\n",
      "[100]\ttraining's rmse: 0.924052\ttraining's cappa: 0.660745\tvalid_1's rmse: 0.997594\tvalid_1's cappa: 0.572981\n",
      "[200]\ttraining's rmse: 0.862002\ttraining's cappa: 0.71254\tvalid_1's rmse: 0.991957\tvalid_1's cappa: 0.582734\n",
      "[300]\ttraining's rmse: 0.820595\ttraining's cappa: 0.749324\tvalid_1's rmse: 0.991579\tvalid_1's cappa: 0.583797\n",
      "Early stopping, best iteration is:\n",
      "[219]\ttraining's rmse: 0.853668\ttraining's cappa: 0.718772\tvalid_1's rmse: 0.991221\tvalid_1's cappa: 0.582549\n",
      "parameter 5 95 0.8924698738010306 0.980888339869004 1 6.628415709509152 0.1740114782454678\n",
      "score 0.9912206883607546\n",
      "| \u001b[0m 191     \u001b[0m | \u001b[0m-0.9912  \u001b[0m | \u001b[0m 0.8925  \u001b[0m | \u001b[0m 6.628   \u001b[0m | \u001b[0m 0.174   \u001b[0m | \u001b[0m 5.299   \u001b[0m | \u001b[0m 95.4    \u001b[0m | \u001b[0m 0.9809  \u001b[0m | \u001b[0m 1.427   \u001b[0m |\n"
     ]
    },
    {
     "name": "stderr",
     "output_type": "stream",
     "text": [
      "/home/jupyter-shliu/.local/lib/python3.6/site-packages/lightgbm/engine.py:153: UserWarning: Found `early_stopping_rounds` in params. Will use it instead of argument\n",
      "  warnings.warn(\"Found `{}` in params. Will use it instead of argument\".format(alias))\n",
      "/home/jupyter-shliu/.local/lib/python3.6/site-packages/lightgbm/basic.py:1236: FutureWarning: elementwise comparison failed; returning scalar instead, but in the future will perform elementwise comparison\n",
      "  if self.categorical_feature == categorical_feature:\n",
      "/home/jupyter-shliu/.local/lib/python3.6/site-packages/lightgbm/basic.py:1242: FutureWarning: elementwise comparison failed; returning scalar instead, but in the future will perform elementwise comparison\n",
      "  elif categorical_feature == 'auto':\n",
      "/home/jupyter-shliu/.local/lib/python3.6/site-packages/lightgbm/basic.py:1247: UserWarning: categorical_feature in Dataset is overridden.\n",
      "New categorical_feature is []\n",
      "  'New categorical_feature is {}'.format(sorted(list(categorical_feature))))\n",
      "/home/jupyter-shliu/.local/lib/python3.6/site-packages/lightgbm/basic.py:285: FutureWarning: elementwise comparison failed; returning scalar instead, but in the future will perform elementwise comparison\n",
      "  if categorical_feature == 'auto':  # use cat cols from DataFrame\n"
     ]
    },
    {
     "name": "stdout",
     "output_type": "stream",
     "text": [
      "Training until validation scores don't improve for 100 rounds\n",
      "[100]\ttraining's rmse: 0.922789\ttraining's cappa: 0.66548\tvalid_1's rmse: 1.00272\tvalid_1's cappa: 0.571442\n",
      "[200]\ttraining's rmse: 0.859554\ttraining's cappa: 0.712027\tvalid_1's rmse: 0.992818\tvalid_1's cappa: 0.582939\n",
      "[300]\ttraining's rmse: 0.819551\ttraining's cappa: 0.746966\tvalid_1's rmse: 0.993141\tvalid_1's cappa: 0.58569\n",
      "Early stopping, best iteration is:\n",
      "[258]\ttraining's rmse: 0.834609\ttraining's cappa: 0.734845\tvalid_1's rmse: 0.991982\tvalid_1's cappa: 0.585345\n",
      "parameter 5 79 0.3278419805569081 0.9838276694400592 1 0.3215581673020617 0.7309186131788449\n",
      "score 0.9919816985644138\n",
      "| \u001b[0m 192     \u001b[0m | \u001b[0m-0.992   \u001b[0m | \u001b[0m 0.3278  \u001b[0m | \u001b[0m 0.3216  \u001b[0m | \u001b[0m 0.7309  \u001b[0m | \u001b[0m 5.393   \u001b[0m | \u001b[0m 79.74   \u001b[0m | \u001b[0m 0.9838  \u001b[0m | \u001b[0m 1.283   \u001b[0m |\n"
     ]
    },
    {
     "name": "stderr",
     "output_type": "stream",
     "text": [
      "/home/jupyter-shliu/.local/lib/python3.6/site-packages/lightgbm/engine.py:153: UserWarning: Found `early_stopping_rounds` in params. Will use it instead of argument\n",
      "  warnings.warn(\"Found `{}` in params. Will use it instead of argument\".format(alias))\n",
      "/home/jupyter-shliu/.local/lib/python3.6/site-packages/lightgbm/basic.py:1236: FutureWarning: elementwise comparison failed; returning scalar instead, but in the future will perform elementwise comparison\n",
      "  if self.categorical_feature == categorical_feature:\n",
      "/home/jupyter-shliu/.local/lib/python3.6/site-packages/lightgbm/basic.py:1242: FutureWarning: elementwise comparison failed; returning scalar instead, but in the future will perform elementwise comparison\n",
      "  elif categorical_feature == 'auto':\n",
      "/home/jupyter-shliu/.local/lib/python3.6/site-packages/lightgbm/basic.py:1247: UserWarning: categorical_feature in Dataset is overridden.\n",
      "New categorical_feature is []\n",
      "  'New categorical_feature is {}'.format(sorted(list(categorical_feature))))\n",
      "/home/jupyter-shliu/.local/lib/python3.6/site-packages/lightgbm/basic.py:285: FutureWarning: elementwise comparison failed; returning scalar instead, but in the future will perform elementwise comparison\n",
      "  if categorical_feature == 'auto':  # use cat cols from DataFrame\n"
     ]
    },
    {
     "name": "stdout",
     "output_type": "stream",
     "text": [
      "Training until validation scores don't improve for 100 rounds\n",
      "[100]\ttraining's rmse: 0.907698\ttraining's cappa: 0.679505\tvalid_1's rmse: 1.00302\tvalid_1's cappa: 0.569176\n",
      "[200]\ttraining's rmse: 0.832105\ttraining's cappa: 0.735835\tvalid_1's rmse: 0.993487\tvalid_1's cappa: 0.576886\n",
      "[300]\ttraining's rmse: 0.782699\ttraining's cappa: 0.77763\tvalid_1's rmse: 0.993644\tvalid_1's cappa: 0.57884\n",
      "Early stopping, best iteration is:\n",
      "[261]\ttraining's rmse: 0.800534\ttraining's cappa: 0.762838\tvalid_1's rmse: 0.993093\tvalid_1's cappa: 0.579797\n",
      "parameter 8 99 0.37036281370058644 0.9587993295420187 1 19.663791917624646 10.068219588092798\n",
      "score 0.9930934575432332\n",
      "| \u001b[0m 193     \u001b[0m | \u001b[0m-0.9931  \u001b[0m | \u001b[0m 0.3704  \u001b[0m | \u001b[0m 19.66   \u001b[0m | \u001b[0m 10.07   \u001b[0m | \u001b[0m 8.974   \u001b[0m | \u001b[0m 99.86   \u001b[0m | \u001b[0m 0.9588  \u001b[0m | \u001b[0m 1.114   \u001b[0m |\n"
     ]
    },
    {
     "name": "stderr",
     "output_type": "stream",
     "text": [
      "/home/jupyter-shliu/.local/lib/python3.6/site-packages/lightgbm/engine.py:153: UserWarning: Found `early_stopping_rounds` in params. Will use it instead of argument\n",
      "  warnings.warn(\"Found `{}` in params. Will use it instead of argument\".format(alias))\n",
      "/home/jupyter-shliu/.local/lib/python3.6/site-packages/lightgbm/basic.py:1236: FutureWarning: elementwise comparison failed; returning scalar instead, but in the future will perform elementwise comparison\n",
      "  if self.categorical_feature == categorical_feature:\n",
      "/home/jupyter-shliu/.local/lib/python3.6/site-packages/lightgbm/basic.py:1242: FutureWarning: elementwise comparison failed; returning scalar instead, but in the future will perform elementwise comparison\n",
      "  elif categorical_feature == 'auto':\n",
      "/home/jupyter-shliu/.local/lib/python3.6/site-packages/lightgbm/basic.py:1247: UserWarning: categorical_feature in Dataset is overridden.\n",
      "New categorical_feature is []\n",
      "  'New categorical_feature is {}'.format(sorted(list(categorical_feature))))\n",
      "/home/jupyter-shliu/.local/lib/python3.6/site-packages/lightgbm/basic.py:285: FutureWarning: elementwise comparison failed; returning scalar instead, but in the future will perform elementwise comparison\n",
      "  if categorical_feature == 'auto':  # use cat cols from DataFrame\n"
     ]
    },
    {
     "name": "stdout",
     "output_type": "stream",
     "text": [
      "Training until validation scores don't improve for 100 rounds\n",
      "[100]\ttraining's rmse: 0.903069\ttraining's cappa: 0.67845\tvalid_1's rmse: 0.994459\tvalid_1's cappa: 0.580898\n",
      "[200]\ttraining's rmse: 0.834785\ttraining's cappa: 0.734275\tvalid_1's rmse: 0.990456\tvalid_1's cappa: 0.583037\n",
      "Early stopping, best iteration is:\n",
      "[159]\ttraining's rmse: 0.859969\ttraining's cappa: 0.713496\tvalid_1's rmse: 0.990615\tvalid_1's cappa: 0.585533\n",
      "parameter 6 63 0.7315731369408258 0.9629867408734849 2 0.43440823373001236 49.38582718361015\n",
      "score 0.9906147596160485\n",
      "| \u001b[0m 194     \u001b[0m | \u001b[0m-0.9906  \u001b[0m | \u001b[0m 0.7316  \u001b[0m | \u001b[0m 0.4344  \u001b[0m | \u001b[0m 49.39   \u001b[0m | \u001b[0m 6.324   \u001b[0m | \u001b[0m 63.68   \u001b[0m | \u001b[0m 0.963   \u001b[0m | \u001b[0m 2.988   \u001b[0m |\n"
     ]
    },
    {
     "name": "stderr",
     "output_type": "stream",
     "text": [
      "/home/jupyter-shliu/.local/lib/python3.6/site-packages/lightgbm/engine.py:153: UserWarning: Found `early_stopping_rounds` in params. Will use it instead of argument\n",
      "  warnings.warn(\"Found `{}` in params. Will use it instead of argument\".format(alias))\n",
      "/home/jupyter-shliu/.local/lib/python3.6/site-packages/lightgbm/basic.py:1236: FutureWarning: elementwise comparison failed; returning scalar instead, but in the future will perform elementwise comparison\n",
      "  if self.categorical_feature == categorical_feature:\n",
      "/home/jupyter-shliu/.local/lib/python3.6/site-packages/lightgbm/basic.py:1242: FutureWarning: elementwise comparison failed; returning scalar instead, but in the future will perform elementwise comparison\n",
      "  elif categorical_feature == 'auto':\n",
      "/home/jupyter-shliu/.local/lib/python3.6/site-packages/lightgbm/basic.py:1247: UserWarning: categorical_feature in Dataset is overridden.\n",
      "New categorical_feature is []\n",
      "  'New categorical_feature is {}'.format(sorted(list(categorical_feature))))\n",
      "/home/jupyter-shliu/.local/lib/python3.6/site-packages/lightgbm/basic.py:285: FutureWarning: elementwise comparison failed; returning scalar instead, but in the future will perform elementwise comparison\n",
      "  if categorical_feature == 'auto':  # use cat cols from DataFrame\n"
     ]
    },
    {
     "name": "stdout",
     "output_type": "stream",
     "text": [
      "Training until validation scores don't improve for 100 rounds\n",
      "[100]\ttraining's rmse: 0.926307\ttraining's cappa: 0.658542\tvalid_1's rmse: 1.00023\tvalid_1's cappa: 0.569547\n",
      "[200]\ttraining's rmse: 0.878139\ttraining's cappa: 0.699872\tvalid_1's rmse: 0.993479\tvalid_1's cappa: 0.582552\n",
      "[300]\ttraining's rmse: 0.860088\ttraining's cappa: 0.714502\tvalid_1's rmse: 0.992294\tvalid_1's cappa: 0.585165\n",
      "[400]\ttraining's rmse: 0.856825\ttraining's cappa: 0.717994\tvalid_1's rmse: 0.992161\tvalid_1's cappa: 0.585966\n",
      "Early stopping, best iteration is:\n",
      "[313]\ttraining's rmse: 0.858604\ttraining's cappa: 0.715684\tvalid_1's rmse: 0.992169\tvalid_1's cappa: 0.587283\n",
      "parameter 15 64 0.9111917914715426 0.9874185399636759 2 49.53901182768752 0.7691438082834471\n",
      "score 0.992168820685172\n",
      "| \u001b[0m 195     \u001b[0m | \u001b[0m-0.9922  \u001b[0m | \u001b[0m 0.9112  \u001b[0m | \u001b[0m 49.54   \u001b[0m | \u001b[0m 0.7691  \u001b[0m | \u001b[0m 15.54   \u001b[0m | \u001b[0m 64.43   \u001b[0m | \u001b[0m 0.9874  \u001b[0m | \u001b[0m 2.063   \u001b[0m |\n"
     ]
    },
    {
     "name": "stderr",
     "output_type": "stream",
     "text": [
      "/home/jupyter-shliu/.local/lib/python3.6/site-packages/lightgbm/engine.py:153: UserWarning: Found `early_stopping_rounds` in params. Will use it instead of argument\n",
      "  warnings.warn(\"Found `{}` in params. Will use it instead of argument\".format(alias))\n",
      "/home/jupyter-shliu/.local/lib/python3.6/site-packages/lightgbm/basic.py:1236: FutureWarning: elementwise comparison failed; returning scalar instead, but in the future will perform elementwise comparison\n",
      "  if self.categorical_feature == categorical_feature:\n",
      "/home/jupyter-shliu/.local/lib/python3.6/site-packages/lightgbm/basic.py:1242: FutureWarning: elementwise comparison failed; returning scalar instead, but in the future will perform elementwise comparison\n",
      "  elif categorical_feature == 'auto':\n",
      "/home/jupyter-shliu/.local/lib/python3.6/site-packages/lightgbm/basic.py:1247: UserWarning: categorical_feature in Dataset is overridden.\n",
      "New categorical_feature is []\n",
      "  'New categorical_feature is {}'.format(sorted(list(categorical_feature))))\n",
      "/home/jupyter-shliu/.local/lib/python3.6/site-packages/lightgbm/basic.py:285: FutureWarning: elementwise comparison failed; returning scalar instead, but in the future will perform elementwise comparison\n",
      "  if categorical_feature == 'auto':  # use cat cols from DataFrame\n"
     ]
    },
    {
     "name": "stdout",
     "output_type": "stream",
     "text": [
      "Training until validation scores don't improve for 100 rounds\n",
      "[100]\ttraining's rmse: 0.904915\ttraining's cappa: 0.68374\tvalid_1's rmse: 1.0038\tvalid_1's cappa: 0.570154\n",
      "[200]\ttraining's rmse: 0.836399\ttraining's cappa: 0.732762\tvalid_1's rmse: 0.993537\tvalid_1's cappa: 0.579061\n",
      "[300]\ttraining's rmse: 0.793388\ttraining's cappa: 0.766194\tvalid_1's rmse: 0.99227\tvalid_1's cappa: 0.579478\n",
      "Early stopping, best iteration is:\n",
      "[256]\ttraining's rmse: 0.810619\ttraining's cappa: 0.753683\tvalid_1's rmse: 0.99237\tvalid_1's cappa: 0.58179\n",
      "parameter 11 84 0.3681459823237852 0.9936537439949322 1 27.709850668863428 0.22984004952827436\n",
      "score 0.9923695757965788\n",
      "| \u001b[0m 196     \u001b[0m | \u001b[0m-0.9924  \u001b[0m | \u001b[0m 0.3681  \u001b[0m | \u001b[0m 27.71   \u001b[0m | \u001b[0m 0.2298  \u001b[0m | \u001b[0m 11.03   \u001b[0m | \u001b[0m 84.7    \u001b[0m | \u001b[0m 0.9937  \u001b[0m | \u001b[0m 1.027   \u001b[0m |\n"
     ]
    },
    {
     "name": "stderr",
     "output_type": "stream",
     "text": [
      "/home/jupyter-shliu/.local/lib/python3.6/site-packages/lightgbm/engine.py:153: UserWarning: Found `early_stopping_rounds` in params. Will use it instead of argument\n",
      "  warnings.warn(\"Found `{}` in params. Will use it instead of argument\".format(alias))\n",
      "/home/jupyter-shliu/.local/lib/python3.6/site-packages/lightgbm/basic.py:1236: FutureWarning: elementwise comparison failed; returning scalar instead, but in the future will perform elementwise comparison\n",
      "  if self.categorical_feature == categorical_feature:\n",
      "/home/jupyter-shliu/.local/lib/python3.6/site-packages/lightgbm/basic.py:1242: FutureWarning: elementwise comparison failed; returning scalar instead, but in the future will perform elementwise comparison\n",
      "  elif categorical_feature == 'auto':\n",
      "/home/jupyter-shliu/.local/lib/python3.6/site-packages/lightgbm/basic.py:1247: UserWarning: categorical_feature in Dataset is overridden.\n",
      "New categorical_feature is []\n",
      "  'New categorical_feature is {}'.format(sorted(list(categorical_feature))))\n",
      "/home/jupyter-shliu/.local/lib/python3.6/site-packages/lightgbm/basic.py:285: FutureWarning: elementwise comparison failed; returning scalar instead, but in the future will perform elementwise comparison\n",
      "  if categorical_feature == 'auto':  # use cat cols from DataFrame\n"
     ]
    },
    {
     "name": "stdout",
     "output_type": "stream",
     "text": [
      "Training until validation scores don't improve for 100 rounds\n",
      "[100]\ttraining's rmse: 0.942844\ttraining's cappa: 0.636068\tvalid_1's rmse: 0.999435\tvalid_1's cappa: 0.578038\n",
      "[200]\ttraining's rmse: 0.891006\ttraining's cappa: 0.683528\tvalid_1's rmse: 0.99216\tvalid_1's cappa: 0.580715\n",
      "[300]\ttraining's rmse: 0.855807\ttraining's cappa: 0.717341\tvalid_1's rmse: 0.991467\tvalid_1's cappa: 0.581706\n",
      "Early stopping, best iteration is:\n",
      "[265]\ttraining's rmse: 0.866904\ttraining's cappa: 0.707922\tvalid_1's rmse: 0.991209\tvalid_1's cappa: 0.584702\n",
      "parameter 5 25 0.95978220916989 0.9775153509416057 1 3.510866858152906 49.95440597825447\n",
      "score 0.9912093958543028\n",
      "| \u001b[0m 197     \u001b[0m | \u001b[0m-0.9912  \u001b[0m | \u001b[0m 0.9598  \u001b[0m | \u001b[0m 3.511   \u001b[0m | \u001b[0m 49.95   \u001b[0m | \u001b[0m 5.304   \u001b[0m | \u001b[0m 25.52   \u001b[0m | \u001b[0m 0.9775  \u001b[0m | \u001b[0m 1.084   \u001b[0m |\n"
     ]
    },
    {
     "name": "stderr",
     "output_type": "stream",
     "text": [
      "/home/jupyter-shliu/.local/lib/python3.6/site-packages/lightgbm/engine.py:153: UserWarning: Found `early_stopping_rounds` in params. Will use it instead of argument\n",
      "  warnings.warn(\"Found `{}` in params. Will use it instead of argument\".format(alias))\n",
      "/home/jupyter-shliu/.local/lib/python3.6/site-packages/lightgbm/basic.py:1236: FutureWarning: elementwise comparison failed; returning scalar instead, but in the future will perform elementwise comparison\n",
      "  if self.categorical_feature == categorical_feature:\n",
      "/home/jupyter-shliu/.local/lib/python3.6/site-packages/lightgbm/basic.py:1242: FutureWarning: elementwise comparison failed; returning scalar instead, but in the future will perform elementwise comparison\n",
      "  elif categorical_feature == 'auto':\n",
      "/home/jupyter-shliu/.local/lib/python3.6/site-packages/lightgbm/basic.py:1247: UserWarning: categorical_feature in Dataset is overridden.\n",
      "New categorical_feature is []\n",
      "  'New categorical_feature is {}'.format(sorted(list(categorical_feature))))\n",
      "/home/jupyter-shliu/.local/lib/python3.6/site-packages/lightgbm/basic.py:285: FutureWarning: elementwise comparison failed; returning scalar instead, but in the future will perform elementwise comparison\n",
      "  if categorical_feature == 'auto':  # use cat cols from DataFrame\n"
     ]
    },
    {
     "name": "stdout",
     "output_type": "stream",
     "text": [
      "Training until validation scores don't improve for 100 rounds\n",
      "[100]\ttraining's rmse: 0.929084\ttraining's cappa: 0.650398\tvalid_1's rmse: 0.993206\tvalid_1's cappa: 0.579355\n",
      "[200]\ttraining's rmse: 0.877027\ttraining's cappa: 0.694018\tvalid_1's rmse: 0.987544\tvalid_1's cappa: 0.585661\n",
      "[300]\ttraining's rmse: 0.840084\ttraining's cappa: 0.72957\tvalid_1's rmse: 0.987333\tvalid_1's cappa: 0.584354\n",
      "Early stopping, best iteration is:\n",
      "[211]\ttraining's rmse: 0.872074\ttraining's cappa: 0.698852\tvalid_1's rmse: 0.986824\tvalid_1's cappa: 0.588755\n",
      "parameter 14 25 0.8992201232752219 0.9931225042005585 2 16.902534320544287 0.5910489401840201\n",
      "score 0.9868242304375798\n",
      "| \u001b[95m 198     \u001b[0m | \u001b[95m-0.9868  \u001b[0m | \u001b[95m 0.8992  \u001b[0m | \u001b[95m 16.9    \u001b[0m | \u001b[95m 0.591   \u001b[0m | \u001b[95m 14.25   \u001b[0m | \u001b[95m 25.88   \u001b[0m | \u001b[95m 0.9931  \u001b[0m | \u001b[95m 2.936   \u001b[0m |\n"
     ]
    },
    {
     "name": "stderr",
     "output_type": "stream",
     "text": [
      "/home/jupyter-shliu/.local/lib/python3.6/site-packages/lightgbm/engine.py:153: UserWarning: Found `early_stopping_rounds` in params. Will use it instead of argument\n",
      "  warnings.warn(\"Found `{}` in params. Will use it instead of argument\".format(alias))\n",
      "/home/jupyter-shliu/.local/lib/python3.6/site-packages/lightgbm/basic.py:1236: FutureWarning: elementwise comparison failed; returning scalar instead, but in the future will perform elementwise comparison\n",
      "  if self.categorical_feature == categorical_feature:\n",
      "/home/jupyter-shliu/.local/lib/python3.6/site-packages/lightgbm/basic.py:1242: FutureWarning: elementwise comparison failed; returning scalar instead, but in the future will perform elementwise comparison\n",
      "  elif categorical_feature == 'auto':\n",
      "/home/jupyter-shliu/.local/lib/python3.6/site-packages/lightgbm/basic.py:1247: UserWarning: categorical_feature in Dataset is overridden.\n",
      "New categorical_feature is []\n",
      "  'New categorical_feature is {}'.format(sorted(list(categorical_feature))))\n",
      "/home/jupyter-shliu/.local/lib/python3.6/site-packages/lightgbm/basic.py:285: FutureWarning: elementwise comparison failed; returning scalar instead, but in the future will perform elementwise comparison\n",
      "  if categorical_feature == 'auto':  # use cat cols from DataFrame\n"
     ]
    },
    {
     "name": "stdout",
     "output_type": "stream",
     "text": [
      "Training until validation scores don't improve for 100 rounds\n",
      "[100]\ttraining's rmse: 0.919635\ttraining's cappa: 0.663645\tvalid_1's rmse: 0.999004\tvalid_1's cappa: 0.572415\n",
      "[200]\ttraining's rmse: 0.865206\ttraining's cappa: 0.708036\tvalid_1's rmse: 0.994129\tvalid_1's cappa: 0.577398\n",
      "[300]\ttraining's rmse: 0.835892\ttraining's cappa: 0.733076\tvalid_1's rmse: 0.993747\tvalid_1's cappa: 0.579375\n",
      "Early stopping, best iteration is:\n",
      "[282]\ttraining's rmse: 0.839856\ttraining's cappa: 0.730213\tvalid_1's rmse: 0.993638\tvalid_1's cappa: 0.580784\n",
      "parameter 11 99 0.9943637536675567 0.9181390846767743 2 39.637286808419425 1.4450322190814164\n",
      "score 0.9936376523993588\n",
      "| \u001b[0m 199     \u001b[0m | \u001b[0m-0.9936  \u001b[0m | \u001b[0m 0.9944  \u001b[0m | \u001b[0m 39.64   \u001b[0m | \u001b[0m 1.445   \u001b[0m | \u001b[0m 11.05   \u001b[0m | \u001b[0m 99.6    \u001b[0m | \u001b[0m 0.9181  \u001b[0m | \u001b[0m 2.992   \u001b[0m |\n"
     ]
    },
    {
     "name": "stderr",
     "output_type": "stream",
     "text": [
      "/home/jupyter-shliu/.local/lib/python3.6/site-packages/lightgbm/engine.py:153: UserWarning: Found `early_stopping_rounds` in params. Will use it instead of argument\n",
      "  warnings.warn(\"Found `{}` in params. Will use it instead of argument\".format(alias))\n",
      "/home/jupyter-shliu/.local/lib/python3.6/site-packages/lightgbm/basic.py:1236: FutureWarning: elementwise comparison failed; returning scalar instead, but in the future will perform elementwise comparison\n",
      "  if self.categorical_feature == categorical_feature:\n",
      "/home/jupyter-shliu/.local/lib/python3.6/site-packages/lightgbm/basic.py:1242: FutureWarning: elementwise comparison failed; returning scalar instead, but in the future will perform elementwise comparison\n",
      "  elif categorical_feature == 'auto':\n",
      "/home/jupyter-shliu/.local/lib/python3.6/site-packages/lightgbm/basic.py:1247: UserWarning: categorical_feature in Dataset is overridden.\n",
      "New categorical_feature is []\n",
      "  'New categorical_feature is {}'.format(sorted(list(categorical_feature))))\n",
      "/home/jupyter-shliu/.local/lib/python3.6/site-packages/lightgbm/basic.py:285: FutureWarning: elementwise comparison failed; returning scalar instead, but in the future will perform elementwise comparison\n",
      "  if categorical_feature == 'auto':  # use cat cols from DataFrame\n"
     ]
    },
    {
     "name": "stdout",
     "output_type": "stream",
     "text": [
      "Training until validation scores don't improve for 100 rounds\n",
      "[100]\ttraining's rmse: 0.935631\ttraining's cappa: 0.644252\tvalid_1's rmse: 0.994617\tvalid_1's cappa: 0.578656\n",
      "[200]\ttraining's rmse: 0.887007\ttraining's cappa: 0.686718\tvalid_1's rmse: 0.989256\tvalid_1's cappa: 0.582767\n",
      "[300]\ttraining's rmse: 0.853846\ttraining's cappa: 0.716807\tvalid_1's rmse: 0.988911\tvalid_1's cappa: 0.586038\n",
      "Early stopping, best iteration is:\n",
      "[293]\ttraining's rmse: 0.855943\ttraining's cappa: 0.715371\tvalid_1's rmse: 0.988981\tvalid_1's cappa: 0.588265\n",
      "parameter 13 25 0.8086279281630093 0.997751036426046 2 22.2755144322752 0.5934254234483143\n",
      "score 0.988980997431866\n",
      "| \u001b[0m 200     \u001b[0m | \u001b[0m-0.989   \u001b[0m | \u001b[0m 0.8086  \u001b[0m | \u001b[0m 22.28   \u001b[0m | \u001b[0m 0.5934  \u001b[0m | \u001b[0m 13.13   \u001b[0m | \u001b[0m 25.55   \u001b[0m | \u001b[0m 0.9978  \u001b[0m | \u001b[0m 2.855   \u001b[0m |\n",
      "=============================================================================================================\n",
      "{'target': -0.9868242304375798, 'params': {'feature_fraction': 0.8992201232752219, 'lambda_l1': 16.902534320544287, 'lambda_l2': 0.5910489401840201, 'max_depth': 14.251454256504196, 'num_leaves': 25.88298375466983, 'subsample': 0.9931225042005585, 'subsample_freq': 2.935829436589656}}\n"
     ]
    }
   ],
   "source": [
    "train = pd.read_csv('../data/preprocess/'+train_file)\n",
    "cols_to_drop = ['game_session', 'installation_id', 'timestamp', 'accuracy_group', 'timestampDate']\n",
    "y = train['accuracy_group'].copy()\n",
    "for c in cols_to_drop:\n",
    "    if c in train.columns:\n",
    "        train = train.drop(columns = c)\n",
    "X = train\n",
    "\n",
    "## 驗證集\n",
    "X_train, X_test, y_train, y_test = train_test_split(X, y, test_size=0.25, random_state=random_seed, stratify=y)\n",
    "     \n",
    "categorical_features_indices = np.where(X_train.columns.isin(category_list))[0]\n",
    "print(X_train.dtypes[categorical_features_indices])\n",
    "\n",
    "## catboost 調參\n",
    "## https://catboost.ai/docs/concepts/loss-functions-regression.html\n",
    "param_cat={\n",
    "    'loss_function':'RMSE', ##MAE\n",
    "    'eval_metric':'RMSE',\n",
    "    \n",
    "    'iterations':14000,\n",
    "    'random_seed':random_seed,\n",
    "    'thread_count':5,\n",
    "    'task_type':\"GPU\",\n",
    "    'devices':'0:1',\n",
    "#     'boosting_type':'Ordered',\n",
    "    'learning_rate':0.03,\n",
    "    'l2_leaf_reg':20,#20\n",
    "    'depth':7,\n",
    "    'bagging_temperature':0.3,\n",
    "    'random_strength':10,\n",
    "    # 'rsm':0.8,\n",
    "\n",
    "    # 'fold_permutation_block':1,\n",
    "    # 'feature_border_type':'MinEntropy',\n",
    "    # 'boosting_type':'Ordered',\n",
    "    # 'leaf_estimation_backtracking':'Armijo',\n",
    "    \n",
    "    'one_hot_max_size':200,\n",
    "#     'grow_policy':'Lossguide',\n",
    "#     'grow_policy':'Lossguide',\n",
    "}\n",
    "param_range_cat={\n",
    "#     'depth':(5,16.9),\n",
    "#     'max_leaves':(20,45),\n",
    "    'depth':(5,12.9),\n",
    "    'max_leaves':(31,31.5),\n",
    "    'l2_leaf_reg':(1,100),\n",
    "    'bagging_temperature':(0.01,5)  \n",
    "}\n",
    "\n",
    "## LGB調參\n",
    "## https://lightgbm.readthedocs.io/en/latest/pythonapi/lightgbm.LGBMRegressor.html#lightgbm.LGBMRegressor\n",
    "## https://lightgbm.readthedocs.io/en/latest/Parameters-Tuning.html\n",
    "\n",
    "param_lgb = {'n_estimators':10000,\n",
    "            'boosting_type': 'gbdt',\n",
    "            'objective': 'regression',\n",
    "            'metric': 'rmse',\n",
    "            'subsample': 0.75,\n",
    "            'subsample_freq': 1,\n",
    "            'learning_rate': 0.04,\n",
    "            'feature_fraction': 0.9,\n",
    "            'max_depth': 15,\n",
    "            'lambda_l1': 1,  \n",
    "            'lambda_l2': 1,\n",
    "            'verbose': 100,\n",
    "            'early_stopping_rounds': 100, 'eval_metric': 'cappa'\n",
    "            }\n",
    "\n",
    "param_range_lgb={\n",
    "    'max_depth': (5,16),\n",
    "    'num_leaves': (15,100),\n",
    "    'feature_fraction': (0.3,1),\n",
    "    \n",
    "    'subsample':(0.2,1),\n",
    "    'subsample_freq':(1,3),\n",
    "    'lambda_l1':(0.1,50),\n",
    "    'lambda_l2':(0.1,50),\n",
    "}\n",
    "\n",
    "\n",
    "param_clf = {}\n",
    "param_range = {}\n",
    "\n",
    "if model_type == 'catboost':\n",
    "    param_clf = param_cat\n",
    "    param_range = param_range_cat\n",
    "elif model_type == 'lgb':\n",
    "    param_clf = param_lgb\n",
    "    param_range = param_range_lgb\n",
    "elif model_type == 'xgb':\n",
    "    param_clf = param_lgb\n",
    "    param_range = param_range_lgb\n",
    "else:\n",
    "    pass\n",
    "\n",
    "def bys_train_catboost(depth,max_leaves,l2_leaf_reg,bagging_temperature):\n",
    "    param_clf['depth']=int(depth)\n",
    "    param_clf['max_leaves']=int(max_leaves)\n",
    "    param_clf['l2_leaf_reg']=l2_leaf_reg\n",
    "    param_clf['bagging_temperature']=bagging_temperature\n",
    "    \n",
    "    model = CatBoostRegressor(**param_clf)\n",
    "    model.fit(X_train, y_train,\n",
    "    cat_features=categorical_features_indices,    \n",
    "    eval_set=(X_test, y_test),\n",
    "    early_stopping_rounds=200,\n",
    "    verbose=50) \n",
    "     \n",
    "    score_max = model.get_best_score()['validation']['RMSE']\n",
    "    \n",
    "    print(int(depth),int(max_leaves),l2_leaf_reg,bagging_temperature)\n",
    "    print(score_max)\n",
    "    \n",
    "    with open(write_path+record_file,'a') as f:\n",
    "        print('depth',int(depth),file=f)\n",
    "        print('max_leaves',int(max_leaves),file=f)\n",
    "        print('l2_leaf_reg',l2_leaf_reg,file=f)\n",
    "        print('bagging_temperature',bagging_temperature,file=f)\n",
    "        print(score_max,file=f)\n",
    "        print('',file=f)\n",
    "    \n",
    "    return -score_max\n",
    "\n",
    "def bys_train_lgb(max_depth,num_leaves,feature_fraction,subsample,subsample_freq,lambda_l1,lambda_l2):\n",
    "    param_clf['max_depth']=int(max_depth)\n",
    "    param_clf['num_leaves']=int(num_leaves)\n",
    "    param_clf['feature_fraction']=feature_fraction\n",
    "    param_clf['subsample']=subsample\n",
    "    param_clf['subsample_freq']=int(subsample_freq)\n",
    "    param_clf['lambda_l1']=lambda_l1\n",
    "    param_clf['lambda_l2']=lambda_l2\n",
    "        \n",
    "    model = lgb.LGBMRegressor(**param_clf)\n",
    "    model.fit(X=X_train, y=y_train,\n",
    "              eval_set=[(X_train, y_train),(X_test, y_test)], eval_metric=eval_qwk_lgb_regr,\n",
    "              verbose=param_clf['verbose'], early_stopping_rounds=param_clf['early_stopping_rounds'],\n",
    "              categorical_feature=categorical_features_indices)\n",
    "\n",
    "    score_max = model.best_score_['valid_1']['rmse']\n",
    "    \n",
    "    print(\"parameter\",int(max_depth),int(num_leaves),feature_fraction,subsample,int(subsample_freq),lambda_l1,lambda_l2)\n",
    "    print(\"score\",score_max)\n",
    "    \n",
    "    with open(write_path+record_file,'a') as f:\n",
    "        print('max_depth',int(max_depth),file=f)\n",
    "        print('num_leaves',int(num_leaves),file=f)\n",
    "        print('feature_fraction',feature_fraction,file=f)\n",
    "        print('subsample',subsample,file=f)\n",
    "        print('subsample_freq',int(subsample_freq),file=f)\n",
    "        print('lambda_l1',lambda_l1,file=f)\n",
    "        print('lambda_l2',lambda_l2,file=f)\n",
    "        print(score_max,file=f)\n",
    "        print('',file=f)\n",
    "    \n",
    "    return -score_max\n",
    "\n",
    "def main(write_path='./BayesOpt_result/',record_file='Bayes_result.txt',iteration=5,init_it=5):\n",
    "    print(iteration)\n",
    "    with open(write_path+record_file,'a') as f:\n",
    "        print('\\n{}'.format(train_file),file=f)\n",
    "        \n",
    "    if model_type == 'catboost':\n",
    "        Bys_opt = BayesianOptimization(bys_train_catboost,param_range)#, acq=\"ucb\", kappa=1) \n",
    "    elif model_type == 'lgb':\n",
    "        Bys_opt = BayesianOptimization(bys_train_lgb,param_range)#, acq=\"ucb\", kappa=1) \n",
    "    elif model_type == 'xgb':\n",
    "        Bys_opt = BayesianOptimization(bys_train_lgb,param_range)#, acq=\"ucb\", kappaand=1) \n",
    "    else:\n",
    "        pass\n",
    "    \n",
    "    Bys_opt.maximize(n_iter=iteration, init_points=init_it)\n",
    "    print(Bys_opt.max)\n",
    "    \n",
    "    with open(write_path+record_file,'a') as f:\n",
    "        print('Max para',Bys_opt.max,file=f)\n",
    "\n",
    "main(write_path=write_path, record_file=record_file, iteration=iteration,init_it=init_it)\n"
   ]
  },
  {
   "cell_type": "markdown",
   "metadata": {},
   "source": [
    "## 原理理解\n",
    "## https://github.com/fmfn/BayesianOptimization/blob/master/examples/visualization.ipynb\n",
    "\n",
    "\n",
    "#### init step越多，越不容易卡在local mini\n",
    "#### Kappa決定confidence interval範圍\n",
    "#### 不了解kappa, GP的過程 唉"
   ]
  }
 ],
 "metadata": {
  "kernelspec": {
   "display_name": "Python 3",
   "language": "python",
   "name": "python3"
  },
  "language_info": {
   "codemirror_mode": {
    "name": "ipython",
    "version": 3
   },
   "file_extension": ".py",
   "mimetype": "text/x-python",
   "name": "python",
   "nbconvert_exporter": "python",
   "pygments_lexer": "ipython3",
   "version": "3.6.7"
  }
 },
 "nbformat": 4,
 "nbformat_minor": 2
}
