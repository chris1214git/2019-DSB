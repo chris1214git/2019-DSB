{
 "cells": [
  {
   "cell_type": "code",
   "execution_count": null,
   "metadata": {},
   "outputs": [],
   "source": [
    "import numpy as np\n",
    "import pandas as pd\n",
    "from IPython.display import display\n",
    "\n",
    "import matplotlib.pyplot as plt\n",
    "%matplotlib inline\n",
    "\n",
    "from utils import kaggle_util"
   ]
  },
  {
   "cell_type": "code",
   "execution_count": null,
   "metadata": {},
   "outputs": [],
   "source": [
    "# https://www.kaggle.com/robikscube/2019-data-science-bowl-an-introduction\n",
    "\n",
    "import seaborn as sns\n",
    "sns.set_style(\"whitegrid\")\n",
    "my_pal = sns.color_palette(n_colors=10)\n",
    "\n",
    "## https://pandas.pydata.org/pandas-docs/stable/reference/api/pandas.get_option.html#pandas.get_option\n",
    "pd.set_option('display.max_columns',100)\n",
    "pd.set_option('display.max_rows',100)\n"
   ]
  },
  {
   "cell_type": "code",
   "execution_count": null,
   "metadata": {
    "scrolled": true
   },
   "outputs": [],
   "source": [
    "%%time\n",
    "\n",
    "# read data\n",
    "train, test, train_labels, specs, sample_submission = kaggle_util.read_data()\n",
    "train2, test2, train_labels2 = train.copy(), test.copy(), train_labels.copy()\n",
    "\n",
    "# get usefull dict with maping encode, we implement \"label encoding\" on category features\n",
    "train2, test2, train_labels2, win_code, list_of_user_activities, list_of_event_code,\\\n",
    "activities_labels, assess_titles, list_of_event_id, all_title_event_code = kaggle_util.encode_title(train2, test2, train_labels2)\n",
    "\n",
    "# tranform function to get the train and test set\n",
    "reduce_train, reduce_test, categoricals = kaggle_util.get_train_and_test(train2, test2, win_code, list_of_user_activities, list_of_event_code,\\\n",
    "activities_labels, assess_titles, list_of_event_id, all_title_event_code)\n"
   ]
  },
  {
   "cell_type": "code",
   "execution_count": null,
   "metadata": {},
   "outputs": [],
   "source": [
    "reduce_train"
   ]
  },
  {
   "cell_type": "code",
   "execution_count": null,
   "metadata": {},
   "outputs": [],
   "source": [
    "# reduce_train.to_csv('../data/preprocess/'+'train895.csv', index=False)\n",
    "# reduce_test.to_csv('../data/preprocess/'+'test895.csv', index=False)\n",
    "reduce_train.to_csv('../data/preprocess/'+'train_1225_2.csv', index=False)\n",
    "reduce_test.to_csv('../data/preprocess/'+'test_1225_2.csv', index=False)\n"
   ]
  },
  {
   "cell_type": "code",
   "execution_count": null,
   "metadata": {},
   "outputs": [],
   "source": [
    "reduce_train.isnull().sum().sum()"
   ]
  }
 ],
 "metadata": {
  "kernelspec": {
   "display_name": "Python 3",
   "language": "python",
   "name": "python3"
  },
  "language_info": {
   "codemirror_mode": {
    "name": "ipython",
    "version": 3
   },
   "file_extension": ".py",
   "mimetype": "text/x-python",
   "name": "python",
   "nbconvert_exporter": "python",
   "pygments_lexer": "ipython3",
   "version": "3.6.7"
  }
 },
 "nbformat": 4,
 "nbformat_minor": 2
}
