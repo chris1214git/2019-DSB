{
 "cells": [
  {
   "cell_type": "markdown",
   "metadata": {},
   "source": [
    "# Exploratory data analysis\n",
    "for SAS project"
   ]
  },
  {
   "cell_type": "code",
   "execution_count": null,
   "metadata": {},
   "outputs": [],
   "source": [
    "import numpy as np\n",
    "import pandas as pd\n",
    "from IPython.display import display\n",
    "\n",
    "import matplotlib.pyplot as plt\n",
    "%matplotlib inline\n",
    "\n",
    "from utils import kaggle_util"
   ]
  },
  {
   "cell_type": "code",
   "execution_count": null,
   "metadata": {},
   "outputs": [],
   "source": [
    "# https://www.kaggle.com/robikscube/2019-data-science-bowl-an-introduction\n",
    "\n",
    "import seaborn as sns\n",
    "sns.set_style(\"whitegrid\")\n",
    "my_pal = sns.color_palette(n_colors=10)\n",
    "\n",
    "## https://pandas.pydata.org/pandas-docs/stable/reference/api/pandas.get_option.html#pandas.get_option\n",
    "pd.set_option('display.max_columns',100)\n",
    "pd.set_option('display.max_rows',100)\n"
   ]
  },
  {
   "cell_type": "code",
   "execution_count": null,
   "metadata": {
    "scrolled": false
   },
   "outputs": [],
   "source": [
    "%%time\n",
    "\n",
    "# read data\n",
    "train, test, train_labels, specs, sample_submission = kaggle_util.read_data()\n",
    "train2, test2, train_labels2 = train.copy(), test.copy(), train_labels.copy()\n",
    "\n",
    "# get usefull dict with maping encode, we implement \"label encoding\" on category features\n",
    "train2, test2, train_labels2, win_code, list_of_user_activities, list_of_event_code,\\\n",
    "activities_labels, assess_titles, list_of_event_id, all_title_event_code = kaggle_util.encode_title(train2, test2, train_labels2)\n",
    "\n",
    "# tranform function to get the train and test set\n",
    "reduce_train, reduce_test, categoricals = kaggle_util.get_train_and_test(train2, test2, win_code, list_of_user_activities, list_of_event_code,\\\n",
    "activities_labels, assess_titles, list_of_event_id, all_title_event_code)\n"
   ]
  },
  {
   "cell_type": "code",
   "execution_count": null,
   "metadata": {
    "scrolled": true
   },
   "outputs": [],
   "source": [
    "# a glimps in these files\n",
    "\n",
    "print(train.dtypes)\n",
    "display(train)\n",
    "display(train2)\n",
    "display(train_labels)\n",
    "display(reduce_train)\n",
    "display(specs)"
   ]
  },
  {
   "cell_type": "code",
   "execution_count": null,
   "metadata": {},
   "outputs": [],
   "source": [
    "train_labels"
   ]
  },
  {
   "cell_type": "markdown",
   "metadata": {},
   "source": [
    "## raw feature\n",
    "histgram"
   ]
  },
  {
   "cell_type": "code",
   "execution_count": null,
   "metadata": {},
   "outputs": [],
   "source": [
    "reduce_train.to_csv(\"../data/train_1225.csv\")\n",
    "reduce_test.to_csv(\"../data/test_1225.csv\")\n"
   ]
  },
  {
   "cell_type": "code",
   "execution_count": null,
   "metadata": {
    "scrolled": true
   },
   "outputs": [],
   "source": [
    "print(train.shape)\n",
    "print(test.shape)\n",
    "print(train_labels.shape)\n",
    "print(specs.shape)\n",
    "\n",
    "print(train.head())\n",
    "print(train_labels.head())\n",
    "print(specs.head())"
   ]
  },
  {
   "cell_type": "code",
   "execution_count": null,
   "metadata": {},
   "outputs": [],
   "source": [
    "train.timestamp"
   ]
  },
  {
   "cell_type": "code",
   "execution_count": null,
   "metadata": {},
   "outputs": [],
   "source": [
    "# print(train.timestamp.min())\n",
    "# print(train.timestamp.max())\n",
    "# print(test.timestamp.min())\n",
    "# print(test.timestamp.max())\n",
    "\n",
    "train['timestamp_weekday'] = pd.DatetimeIndex(train.timestamp).weekday\n",
    "train['timestamp_daytime'] = pd.DatetimeIndex(train.timestamp).hour*60 + pd.DatetimeIndex(train.timestamp).minute"
   ]
  },
  {
   "cell_type": "code",
   "execution_count": null,
   "metadata": {},
   "outputs": [],
   "source": []
  },
  {
   "cell_type": "markdown",
   "metadata": {},
   "source": [
    "## Compare distribution between train and test"
   ]
  },
  {
   "cell_type": "code",
   "execution_count": null,
   "metadata": {},
   "outputs": [],
   "source": [
    "def count_nunique(df: pd.DataFrame):\n",
    "    for c in df.columns:\n",
    "        if c!= 'timestamp' or c!= 'event_data':\n",
    "            print(c,df[c].nunique())"
   ]
  },
  {
   "cell_type": "code",
   "execution_count": null,
   "metadata": {
    "scrolled": false
   },
   "outputs": [],
   "source": [
    "print(train.shape)\n",
    "print(test.shape)\n",
    "\n",
    "print(\"\\nTraining data unique value count\")\n",
    "print(count_nunique(train[['installation_id','game_session']]))\n",
    "  \n",
    "print(\"\\nTesting data unique value count\")\n",
    "print(count_nunique(test[['installation_id','game_session']]))"
   ]
  },
  {
   "cell_type": "markdown",
   "metadata": {},
   "source": [
    "## Plot raw feature"
   ]
  },
  {
   "cell_type": "code",
   "execution_count": null,
   "metadata": {},
   "outputs": [],
   "source": [
    "ax = train_labels['accuracy_group'].hist()\n",
    "ax.set_xlabel(\"accuracy group\")\n",
    "plt.savefig('target_histgram.png')\n",
    "plt.show()"
   ]
  },
  {
   "cell_type": "code",
   "execution_count": null,
   "metadata": {},
   "outputs": [],
   "source": [
    "from sklearn import preprocessing\n",
    "le = preprocessing.LabelEncoder()\n",
    "x = le.fit_transform(train2.event_id)\n",
    "# plt.hist(x,bins=train2.event_id.nunique())\n",
    "plt.hist(x,bins=100)\n",
    "plt.xlabel('event_id')\n",
    "plt.title('{} unique value'.format(train2.event_id.nunique()))\n",
    "plt.savefig('eventid_hist.png')\n",
    "plt.show()"
   ]
  },
  {
   "cell_type": "code",
   "execution_count": null,
   "metadata": {},
   "outputs": [],
   "source": [
    "ax = train.event_code.hist(bins=train.event_code.nunique())\n",
    "ax.set_xlabel('event_code')\n",
    "ax.set_title('{} unique value'.format(train2.event_code.nunique()))\n",
    "plt.savefig(\"eventcode_hist.png\")\n",
    "plt.show()"
   ]
  },
  {
   "cell_type": "code",
   "execution_count": null,
   "metadata": {},
   "outputs": [],
   "source": [
    "ax = train2.title.hist(bins=train2.title.nunique())\n",
    "ax.set_xlabel('title')\n",
    "ax.set_title('{} unique value'.format(train2.title.nunique()))\n",
    "plt.savefig(\"title_hist.png\")\n",
    "plt.show()"
   ]
  },
  {
   "cell_type": "code",
   "execution_count": null,
   "metadata": {},
   "outputs": [],
   "source": [
    "ax = train2.type.hist(bins=train2.type.nunique())\n",
    "ax.set_xlabel('type')\n",
    "ax.set_title('{} unique value'.format(train2.type.nunique()))\n",
    "plt.savefig(\"type_hist.png\")\n",
    "plt.show()"
   ]
  },
  {
   "cell_type": "code",
   "execution_count": null,
   "metadata": {},
   "outputs": [],
   "source": [
    "ax = train.world.hist(bins=train2.world.nunique())\n",
    "ax.set_xlabel('world')\n",
    "ax.set_title('{} unique value'.format(train2.world.nunique()))\n",
    "plt.savefig(\"world_hist.png\")\n",
    "plt.show()"
   ]
  },
  {
   "cell_type": "code",
   "execution_count": null,
   "metadata": {},
   "outputs": [],
   "source": [
    "id_gs_cnt = train.groupby(['installation_id'])['game_session'].nunique()\n",
    "print(id_gs_cnt.sort_values().iloc[-5:])\n",
    "ax = id_gs_cnt.hist(bins=100)\n",
    "ax.set_xlabel('id_gamesession cnt')\n",
    "plt.savefig('id_gamesession.png')\n",
    "plt.show()\n",
    "\n",
    "id_gs_cnt = id_gs_cnt[id_gs_cnt<100]\n",
    "ax = id_gs_cnt.hist(bins=100)\n",
    "ax.set_xlabel('id_gamesession modified cnt')\n",
    "plt.savefig('id_gamesession2.png')\n",
    "plt.show()\n",
    "\n",
    "id_title_cnt = train.groupby(['installation_id'])['title'].nunique()\n",
    "ax = id_title_cnt.hist(bins=100)\n",
    "ax.set_xlabel('id_title cnt')\n",
    "plt.savefig('id_title_cnt.png')\n",
    "plt.show()"
   ]
  },
  {
   "cell_type": "code",
   "execution_count": null,
   "metadata": {},
   "outputs": [],
   "source": [
    "\n",
    "print(\"First train\",train['timestamp'].min())\n",
    "print(\"Last train\",train['timestamp'].max())\n",
    "print(\"First test\",test['timestamp'].min())\n",
    "print(\"Last test\",test['timestamp'].max())\n"
   ]
  },
  {
   "cell_type": "code",
   "execution_count": null,
   "metadata": {},
   "outputs": [],
   "source": [
    "train2['timestamp_daytime']\n",
    "train2['timestamp_weekday']\n"
   ]
  },
  {
   "cell_type": "code",
   "execution_count": null,
   "metadata": {},
   "outputs": [],
   "source": [
    "reduce_train['timestamp_weekday'].hist(bins=7)\n",
    "plt.savefig('weekday_gs.png')\n",
    "plt.show()\n",
    "ax = ((reduce_train['timestamp_daytime'])//60).hist(bins=24,color='orange')\n",
    "# ax.set_xticks(xticks=range(24))\n",
    "plt.savefig('daytime_gs.png')\n",
    "plt.show()"
   ]
  },
  {
   "cell_type": "code",
   "execution_count": null,
   "metadata": {},
   "outputs": [],
   "source": [
    "import matplotlib.pyplot as plt\n",
    "%matplotlib inline\n",
    "\n",
    "reduce_train.groupby(['timestamp_weekday'])['duration_world_1'].apply(lambda s:s.shape[0]).reset()\n",
    "plt.savefig('weekday_gs.png')\n",
    "plt.show()\n",
    "reduce_train.groupby(['timestamp_daytime'])['duration_world_1'].apply(lambda s:s.shape[0]).hist(bins=24)\n",
    "plt.savefig('daytime_gs.png')\n",
    "plt.show()\n"
   ]
  },
  {
   "cell_type": "code",
   "execution_count": null,
   "metadata": {},
   "outputs": [],
   "source": [
    "reduce_train.groupby['installation_id']['assessment_duration_mean'].last().hist()\n",
    "plt.savefig('duration_mean.png')\n",
    "plt.show()"
   ]
  },
  {
   "cell_type": "code",
   "execution_count": null,
   "metadata": {},
   "outputs": [],
   "source": []
  },
  {
   "cell_type": "code",
   "execution_count": null,
   "metadata": {},
   "outputs": [],
   "source": []
  },
  {
   "cell_type": "code",
   "execution_count": null,
   "metadata": {},
   "outputs": [],
   "source": [
    "train['world'].unique()"
   ]
  },
  {
   "cell_type": "code",
   "execution_count": null,
   "metadata": {},
   "outputs": [],
   "source": [
    "reduce_train.columns"
   ]
  },
  {
   "cell_type": "code",
   "execution_count": null,
   "metadata": {
    "scrolled": true
   },
   "outputs": [],
   "source": [
    "id_gs_cnt = reduce_train.groupby(['installation_id']).apply(lambda s:s.shape[0])\n",
    "id_gs_cnt = id_gs_cnt[id_gs_cnt<20]\n",
    "id_gs_cnt.hist(bins=100)\n",
    "# ax.set_xlabel('id_gamesession cnt')\n",
    "plt.show()"
   ]
  },
  {
   "cell_type": "code",
   "execution_count": null,
   "metadata": {},
   "outputs": [],
   "source": [
    "id_gs_cnt = test.groupby(['installation_id','game_session'])['type'].apply(lambda s:s[s=='Assessment'].shape[0])\n",
    "# id_gs_cnt = id_gs_cnt[id_gs_cnt<20]\n",
    "id_gs_cnt.hist(bins=100)\n",
    "# ax.set_xlabel('id_gamesession cnt')\n",
    "plt.show()"
   ]
  },
  {
   "cell_type": "code",
   "execution_count": null,
   "metadata": {},
   "outputs": [],
   "source": [
    "id_gs_cnt = reduce_test.groupby(['installation_id'])['duration_world_0'].count()\n",
    "id_gs_cnt.hist(bins=100)\n",
    "# ax.set_xlabel('id_gamesession cnt')\n",
    "plt.show()"
   ]
  },
  {
   "cell_type": "code",
   "execution_count": null,
   "metadata": {},
   "outputs": [],
   "source": [
    "id_train = train['installation_id'].unique()\n",
    "print('different id cnt',id_train.shape[0])\n",
    "\n",
    "id_event_cnt = train.groupby(['installation_id']).apply(lambda s: s.shape[0])\n",
    "print(id_event_cnt.sort_values())\n",
    "id_event_cnt.hist(bins=100)\n",
    "plt.show()\n",
    "\n",
    "id_gs_cnt = train.groupby(['installation_id'])['game_session'].nunique()\n",
    "print(id_gs_cnt.sort_values()[-5:0])\n",
    "id_gs_cnt.hist(bins=100)\n",
    "ax.set_xlabel('id_gamesession cnt')\n",
    "plt.show()\n",
    "\n",
    "id_title_cnt = train.groupby(['installation_id'])['title'].nunique()\n",
    "print(id_title_cnt.sort_values())\n",
    "ax = id_title_cnt.hist(bins=100)\n",
    "ax.set_xlabel('id_title cnt')\n",
    "plt.show()\n",
    "\n",
    "id_type_cnt = train.groupby(['installation_id'])['type'].nunique()\n",
    "print(id_type_cnt.sort_values())\n",
    "id_type_cnt.hist(bins=4)\n",
    "plt.show()\n",
    "\n",
    "id_w_cnt = train.groupby(['installation_id'])['world'].nunique()\n",
    "print(id_w_cnt.sort_values())\n",
    "id_w_cnt.hist(bins=4)\n",
    "plt.show()"
   ]
  },
  {
   "cell_type": "code",
   "execution_count": null,
   "metadata": {},
   "outputs": [],
   "source": []
  },
  {
   "cell_type": "code",
   "execution_count": null,
   "metadata": {},
   "outputs": [],
   "source": []
  },
  {
   "cell_type": "code",
   "execution_count": null,
   "metadata": {},
   "outputs": [],
   "source": []
  },
  {
   "cell_type": "code",
   "execution_count": null,
   "metadata": {},
   "outputs": [],
   "source": [
    "def describe_category(s: pd.Series):\n",
    "    print('{} kinds of category'.format(s.nunique()))\n",
    "    \n",
    "    # plot histgram\n",
    "    s.hist(bins=s.nunique())\n",
    "    plt.savefig(\"filename.png\")\n",
    "    plt.show()\n",
    "    plt.clf()"
   ]
  },
  {
   "cell_type": "code",
   "execution_count": null,
   "metadata": {
    "scrolled": true
   },
   "outputs": [],
   "source": [
    "describe_category(train2.event_id)\n",
    "describe_category(train.event_code)\n",
    "describe_category(train2.title)\n",
    "describe_category(train.type)\n",
    "describe_category(train.world)"
   ]
  },
  {
   "cell_type": "code",
   "execution_count": null,
   "metadata": {},
   "outputs": [],
   "source": [
    "def describe_category2(s: pd.Series):\n",
    "    print('{} kinds of category'.format(s.nunique()))\n",
    "    # how many s in one category, numeric version of histgram\n",
    "    print(s.value_counts().value_counts())\n",
    "    \n",
    "    s.value_counts().hist(bins=100)\n",
    "    plt.show()\n",
    "    plt.clf()"
   ]
  },
  {
   "cell_type": "code",
   "execution_count": null,
   "metadata": {
    "scrolled": true
   },
   "outputs": [],
   "source": [
    "## most game_session has less than 500 rows\n",
    "describe_category2(train.game_session)\n",
    "\n",
    "## most installation_id has less than 5 rows\n",
    "describe_category2(train.installation_id)"
   ]
  },
  {
   "cell_type": "code",
   "execution_count": null,
   "metadata": {},
   "outputs": [],
   "source": [
    "## timestamp\n",
    "\n",
    "## 時間線上每天的使用量/正確率\n",
    "## 一周每天的使用量/正確率\n",
    "\n",
    "## 一天每分鐘的使用量/正確率"
   ]
  },
  {
   "cell_type": "code",
   "execution_count": null,
   "metadata": {},
   "outputs": [],
   "source": [
    "train[(train['event_id']=='77261ab5')]['event_code']\n",
    "train[(train['installation_id']=='0001e90f') & (train['event_id']=='77261ab5')]\n",
    "a = train.groupby(['event_id'])['event_code'].nunique()\n",
    "a[a!=1]"
   ]
  },
  {
   "cell_type": "code",
   "execution_count": null,
   "metadata": {},
   "outputs": [],
   "source": [
    "train"
   ]
  },
  {
   "cell_type": "code",
   "execution_count": null,
   "metadata": {},
   "outputs": [],
   "source": []
  },
  {
   "cell_type": "code",
   "execution_count": null,
   "metadata": {},
   "outputs": [],
   "source": [
    "## 看title對應其他特徵的關係\n",
    "\n",
    "## check title's world respectively\n",
    "titles = train_labels.title.unique()\n",
    "for title in titles:\n",
    "    print(title,train[train['title']==title]['world'].unique())\n",
    "    \n",
    "## check title's event_code respectively\n",
    "for title in titles:\n",
    "    print(title,train[train['title']==title]['event_code'].unique())\n",
    "\n",
    "## check the number of user in each title\n",
    "for title in titles:\n",
    "    print(title,train[train['title']==title]['installation_id'].nunique())"
   ]
  },
  {
   "cell_type": "markdown",
   "metadata": {},
   "source": [
    "## TODO\n",
    "Plot!!!!!!"
   ]
  },
  {
   "cell_type": "code",
   "execution_count": null,
   "metadata": {},
   "outputs": [],
   "source": [
    "reduce_train.head()"
   ]
  },
  {
   "cell_type": "code",
   "execution_count": null,
   "metadata": {},
   "outputs": [],
   "source": [
    "id_train = train['installation_id'].unique()\n",
    "print('different id cnt',id_train.shape[0])\n",
    "\n",
    "id_event_cnt = train.groupby(['installation_id']).apply(lambda s: s.shape[0])\n",
    "print(id_event_cnt.sort_values())\n",
    "id_event_cnt.hist(bins=100)\n",
    "plt.show()\n",
    "\n",
    "id_gs_cnt = train.groupby(['installation_id'])['game_session'].nunique()\n",
    "print(id_gs_cnt.sort_values())\n",
    "id_gs_cnt.hist(bins=100)\n",
    "plt.show()\n",
    "\n",
    "id_title_cnt = train.groupby(['installation_id'])['title'].nunique()\n",
    "print(id_title_cnt.sort_values())\n",
    "id_title_cnt.hist(bins=100)\n",
    "plt.show()\n",
    "\n",
    "id_type_cnt = train.groupby(['installation_id'])['type'].nunique()\n",
    "print(id_type_cnt.sort_values())\n",
    "id_type_cnt.hist(bins=4)\n",
    "plt.show()\n",
    "\n",
    "id_w_cnt = train.groupby(['installation_id'])['world'].nunique()\n",
    "print(id_w_cnt.sort_values())\n",
    "id_w_cnt.hist(bins=4)\n",
    "plt.show()"
   ]
  },
  {
   "cell_type": "code",
   "execution_count": null,
   "metadata": {},
   "outputs": [],
   "source": [
    "a = train.groupby(['game_session'])['title'].nunique()\n",
    "print(a)\n",
    "print(a[a!=1])"
   ]
  },
  {
   "cell_type": "code",
   "execution_count": null,
   "metadata": {},
   "outputs": [],
   "source": [
    "test"
   ]
  },
  {
   "cell_type": "code",
   "execution_count": null,
   "metadata": {
    "scrolled": true
   },
   "outputs": [],
   "source": [
    "test_id_gs_cnt = test.groupby(['installation_id'])['game_session'].nunique()\n",
    "print(test_id_gs_cnt)\n",
    "\n",
    "test[(test['installation_id']=='01242218') & (test['type']=='Assessment')]['game_session'].unique()\n",
    "test[(test['installation_id']=='01bc6cb6') & (test['type']=='Assessment')]['game_session'].unique()\n"
   ]
  },
  {
   "cell_type": "code",
   "execution_count": null,
   "metadata": {},
   "outputs": [],
   "source": [
    "test[(test['installation_id']=='01242218') & (test['type']=='Assessment')]\n",
    "test[(test['installation_id']=='01bc6cb6') & (test['type']=='Assessment')]\n",
    "test[(test['installation_id']=='01bc6cb6')]"
   ]
  },
  {
   "cell_type": "markdown",
   "metadata": {},
   "source": [
    "test只預測1000筆結果，誤差應該會很大\n",
    "目標是test的使用者最後一次Assessment的結果\n",
    "但很多test的使用者並沒有超過一次的Assessment歷史，而train有(代表test應該有偏差性的刪除)\n",
    "在訓練的時候，應避免用過多的Assessment歷史來訓練，多用clip/game的歷史來抽取特徵\n",
    "\n",
    "* 觀察train/test各種特徵的不均衡/分布不同，避免訓練偏差\n",
    "* 要怎麼切validation??可以Kfold?\n",
    "\n",
    "\n"
   ]
  },
  {
   "cell_type": "code",
   "execution_count": null,
   "metadata": {},
   "outputs": [],
   "source": []
  },
  {
   "cell_type": "markdown",
   "metadata": {},
   "source": [
    "## FE plot"
   ]
  },
  {
   "cell_type": "code",
   "execution_count": null,
   "metadata": {},
   "outputs": [],
   "source": [
    "reduce_train"
   ]
  },
  {
   "cell_type": "code",
   "execution_count": null,
   "metadata": {},
   "outputs": [],
   "source": [
    "reduce_test"
   ]
  },
  {
   "cell_type": "markdown",
   "metadata": {},
   "source": [
    "## Feature engineering\n",
    "* base on accumulate events(features)?\n",
    "* and then?"
   ]
  },
  {
   "cell_type": "code",
   "execution_count": null,
   "metadata": {},
   "outputs": [],
   "source": [
    "## 計算一個session的總時間\n",
    "## 不一照推薦順序使用的使用者 https://www.kaggle.com/c/data-science-bowl-2019/discussion/117019\n",
    "## 同樣的Assessment玩了幾次\n",
    "## 平均看clip/activity的時間/"
   ]
  },
  {
   "cell_type": "code",
   "execution_count": null,
   "metadata": {},
   "outputs": [],
   "source": [
    "## share device問題\n",
    "## train應該去掉一些data，像test的作法一樣\n"
   ]
  },
  {
   "cell_type": "code",
   "execution_count": null,
   "metadata": {},
   "outputs": [],
   "source": [
    "assess_titles"
   ]
  },
  {
   "cell_type": "markdown",
   "metadata": {},
   "source": [
    "## How to perform regression & optimize threshold?"
   ]
  },
  {
   "cell_type": "code",
   "execution_count": null,
   "metadata": {},
   "outputs": [],
   "source": [
    "a = train.groupby(['event_id'])['event_code'].nunique()\n",
    "print(a)\n",
    "a[a!=1]"
   ]
  },
  {
   "cell_type": "markdown",
   "metadata": {},
   "source": [
    "## 記錄"
   ]
  },
  {
   "cell_type": "markdown",
   "metadata": {},
   "source": [
    "一個game session對應到一個type\n",
    "\n",
    "計算同一個world的歷史紀錄\n",
    "\n",
    "分析使用者在不同world的表現相關性(Assessment表現)\n",
    "分析使用者在不同world的歷史記錄相關性(是否\n",
    "分析gametime對於使用者表現的影響\n",
    "                      \n",
    "                      \n",
    "找event_data中是否有適合做成特徵工程的資訊(kernel中有把event_code全部取出，用event_code當所有含意)\n",
    "\n",
    "不同world的記錄對"
   ]
  },
  {
   "cell_type": "markdown",
   "metadata": {},
   "source": [
    "##EDA\n",
    "##整理\n",
    "https://www.kaggle.com/c/data-science-bowl-2019/discussion/122039\n",
    "    \n",
    "https://www.kaggle.com/c/data-science-bowl-2019/discussion/122767\n",
    "    \n",
    "##FE\n",
    "https://www.kaggle.com/c/data-science-bowl-2019/discussion/122146"
   ]
  },
  {
   "cell_type": "markdown",
   "metadata": {},
   "source": [
    "## media_sequence.csv\n",
    "https://www.kaggle.com/c/data-science-bowl-2019/discussion/121215"
   ]
  },
  {
   "cell_type": "code",
   "execution_count": null,
   "metadata": {},
   "outputs": [],
   "source": [
    "set(list(train.installation_id.unique())).intersection(set(list(test.installation_id.unique())))"
   ]
  },
  {
   "cell_type": "code",
   "execution_count": null,
   "metadata": {},
   "outputs": [],
   "source": [
    "## semisupervise learning~\n"
   ]
  },
  {
   "cell_type": "markdown",
   "metadata": {},
   "source": [
    "## Testing codes~"
   ]
  },
  {
   "cell_type": "code",
   "execution_count": null,
   "metadata": {},
   "outputs": [],
   "source": [
    "from collections import Counter\n",
    "Counter(train[(train['installation_id']=='0006a69f') & (train['game_session']=='2b9d5af79bcdb79f')]['event_code'])"
   ]
  },
  {
   "cell_type": "code",
   "execution_count": null,
   "metadata": {},
   "outputs": [],
   "source": []
  },
  {
   "cell_type": "code",
   "execution_count": null,
   "metadata": {},
   "outputs": [],
   "source": []
  },
  {
   "cell_type": "code",
   "execution_count": null,
   "metadata": {
    "scrolled": true
   },
   "outputs": [],
   "source": [
    "import plotly.express as px\n",
    "fig = px.histogram(reduce_train, x=\"accuracy_group\", histnorm='probability density',nbins=5)\n",
    "fig.show()"
   ]
  },
  {
   "cell_type": "code",
   "execution_count": null,
   "metadata": {},
   "outputs": [],
   "source": []
  },
  {
   "cell_type": "code",
   "execution_count": null,
   "metadata": {},
   "outputs": [],
   "source": [
    "## 所有clip都是1個event##所有clip都是1個event\n",
    "## 檢查那些clip沒有看完?? \n",
    "\n",
    "display(train[train['type']=='Clip'].iloc[:1000])\n",
    "x= train[train['type']=='Clip'].groupby(['game_session'])['world'].count()\n",
    "print(x)\n",
    "x[x!=1]"
   ]
  },
  {
   "cell_type": "code",
   "execution_count": null,
   "metadata": {},
   "outputs": [],
   "source": [
    "## 可以看出game time很長的很可能是因為app沒關，造成長時間的遊戲記錄\n",
    "## 遊戲的時間應該以event count作為衡量\n",
    "train[train['game_session']=='194b68e5cbb35397']"
   ]
  },
  {
   "cell_type": "code",
   "execution_count": null,
   "metadata": {},
   "outputs": [],
   "source": [
    "## 依據各title計算平均的game time,去掉極端值\n",
    "\n",
    "title_time={title:[] for title in train['title'].unique()}\n",
    "\n",
    "x = train.groupby(['game_session'])['title','game_time'].last()\n",
    "print(x)\n",
    "for i in range(x.shape[0]):\n",
    "    title_time[x.iloc[i,0]].append(x.iloc[i,1])\n",
    "#     if x.iloc[i,1]>60*60*1000:\n",
    "#         print(x.iloc[i])\n",
    "\n",
    "## 計算80%結果，看極端值影響多大\n",
    "title_time2 = title_time.copy()\n",
    "for k in title_time.keys():\n",
    "    title_time[k].sort()\n",
    "    title_time2[k] = np.mean(title_time[k][:len(title_time[k])*4//5])\n",
    "    title_time[k] = np.mean(title_time[k])\n",
    "\n",
    "print(title_time)\n",
    "print(title_time2)\n",
    "\n",
    "## 小於10秒的應該都會是雜訊\n",
    "\n",
    "x = pd.Series(title_time)/1000\n",
    "x.plot()\n",
    "print(x)\n",
    "\n",
    "x = pd.Series(title_time2)/1000\n",
    "x.plot()\n",
    "print(x)"
   ]
  },
  {
   "cell_type": "code",
   "execution_count": null,
   "metadata": {},
   "outputs": [],
   "source": []
  }
 ],
 "metadata": {
  "kernelspec": {
   "display_name": "Python 3",
   "language": "python",
   "name": "python3"
  },
  "language_info": {
   "codemirror_mode": {
    "name": "ipython",
    "version": 3
   },
   "file_extension": ".py",
   "mimetype": "text/x-python",
   "name": "python",
   "nbconvert_exporter": "python",
   "pygments_lexer": "ipython3",
   "version": "3.6.7"
  }
 },
 "nbformat": 4,
 "nbformat_minor": 2
}
